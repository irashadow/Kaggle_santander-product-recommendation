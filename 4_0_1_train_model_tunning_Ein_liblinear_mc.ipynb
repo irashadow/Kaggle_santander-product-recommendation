{
 "cells": [
  {
   "cell_type": "code",
   "execution_count": 1,
   "metadata": {
    "collapsed": true
   },
   "outputs": [],
   "source": [
    "import os\n",
    "import csv\n",
    "import sys\n",
    "import random\n",
    "import scipy\n",
    "import numpy as np\n",
    "\n",
    "\n",
    "\n",
    "workspace_path = '/home/irashadow/python_workspace/Kaggle_Comp/Santander/'\n",
    "month_dict_inv = dict()\n",
    "month_dict_inv[0] = '2015-01'\n",
    "month_dict_inv[1] = '2015-02'\n",
    "month_dict_inv[2] = '2015-03'\n",
    "month_dict_inv[3] = '2015-04'\n",
    "month_dict_inv[4] = '2015-05'\n",
    "month_dict_inv[5] = '2015-06'\n",
    "month_dict_inv[6] = '2015-07'\n",
    "month_dict_inv[7] = '2015-08'\n",
    "month_dict_inv[8] = '2015-09'\n",
    "month_dict_inv[9] = '2015-10'\n",
    "month_dict_inv[10] = '2015-11'\n",
    "month_dict_inv[11] = '2015-12'\n",
    "month_dict_inv[12] = '2016-01'\n",
    "month_dict_inv[13] = '2016-02'\n",
    "month_dict_inv[14] = '2016-03'\n",
    "month_dict_inv[15] = '2016-04'\n",
    "month_dict_inv[16] = '2016-05'\n",
    "month_dict_inv[17] = '2016-06'"
   ]
  },
  {
   "cell_type": "code",
   "execution_count": 3,
   "metadata": {
    "collapsed": false
   },
   "outputs": [
    {
     "name": "stdout",
     "output_type": "stream",
     "text": [
      "36710\n"
     ]
    }
   ],
   "source": [
    "cust_2_labels_dict = dict()\n",
    "\n",
    "pos_case_dict = dict()\n",
    "neg_case_dict = dict()\n",
    "\n",
    "\n",
    "train_write = open(workspace_path + '/train/cust_product_mc.train', 'w')\n",
    "\n",
    "\n",
    "feat_data = [open(workspace_path + '/L4_feat_added/4_7_cust_date_nominal_prod_L4_'+str(month_dict_inv[5])+'_Model.feat', 'r')]\n",
    "for date_index_major in [9,11,12,13,15,16]:\n",
    "#for date_index_major in range(6,17):\n",
    "    target_date = month_dict_inv[date_index_major]\n",
    "    feat_data.append(open(workspace_path + '/L4_feat_added/4_7_cust_date_nominal_prod_L4_'+str(target_date)+'_Model.feat', 'r'))\n",
    "feat_data.append(open(workspace_path + '/L4_feat_added/4_7_cust_date_nominal_prod_L4_'+str(month_dict_inv[5])+'_Model.feat', 'r'))\n",
    " \n",
    "check_line_count = 0    \n",
    "for feat_file in feat_data:\n",
    "    for line in feat_file:\n",
    "\n",
    "        line = line.strip()\n",
    "        check_line_count += 1\n",
    "\n",
    "        if len(line.split('|')) < 6:\n",
    "\n",
    "           print line \n",
    "\n",
    "        cust_id = line.split('|')[0]\n",
    "        date_note = line.split('|')[1]\n",
    "        label_tokens = line.split('|')[2]\n",
    "        \n",
    "        get_label = np.zeros(30)\n",
    "\n",
    "        for label_item in label_tokens.split(','):\n",
    "\n",
    "            if len(label_item) > 0:\n",
    "\n",
    "                prod_id = int(label_item)\n",
    "                get_label[prod_id] = 1\n",
    "\n",
    "\n",
    "        if True:\n",
    "\n",
    "           for j in range(1,25):\n",
    "\n",
    "               if get_label[j] == 1:\n",
    "\n",
    "                    \n",
    "                    prt_line = str(j-1) + ' ' \n",
    "                    for fi in range(3,8):\n",
    "                        if len(line.split('|')[fi]) > 0:\n",
    "                           prt_line += line.split('|')[fi] + ' ' \n",
    "\n",
    "                    train_write.write(prt_line[:-1]+'\\n') \n",
    "                    \n",
    "               \n",
    "print check_line_count    \n"
   ]
  },
  {
   "cell_type": "code",
   "execution_count": 3,
   "metadata": {
    "collapsed": false
   },
   "outputs": [],
   "source": [
    "#train_read = open(workspace_path + '/train/model_pf02/cust_product_'+str(model_no)+'.train', 'r')\n",
    "#Ein_read = open(workspace_path + '../liblinear-2.1/output/cust_product_'+str(model_no)+'_inv.Ein', 'r')\n",
    "\n",
    "model_no = 19\n",
    "#if True:\n",
    "\n",
    "#train_data_path = './train/model_comb/cust_product_'+str(model_no)+'.train'\n",
    "train_data_path = './train/cust_product_mc.train'\n",
    "model_path = '../liblinear-2.1/model_save/cust_product_lib_mc.model'\n",
    "Ein_path = '../liblinear-2.1/output/cust_product_lib_mc.Ein'\n",
    "\n",
    "train_command = '../liblinear-2.1/./train -s 6 -c 2'\n",
    "predi_command = '../liblinear-2.1/./predict -b 1'\n",
    "\n",
    "\n",
    "#print os.system(\"pwd\");\n",
    "os.system(train_command +' '+ train_data_path +' '+ model_path);\n",
    "os.system(predi_command +' '+ train_data_path +' '+ model_path +' '+ Ein_path);"
   ]
  },
  {
   "cell_type": "code",
   "execution_count": 1,
   "metadata": {
    "collapsed": false
   },
   "outputs": [
    {
     "data": {
      "text/plain": [
       "0"
      ]
     },
     "execution_count": 1,
     "metadata": {},
     "output_type": "execute_result"
    }
   ],
   "source": [
    "import os\n",
    "os.system('ls')"
   ]
  },
  {
   "cell_type": "code",
   "execution_count": 12,
   "metadata": {
    "collapsed": false
   },
   "outputs": [
    {
     "name": "stdout",
     "output_type": "stream",
     "text": [
      "1\n"
     ]
    }
   ],
   "source": []
  },
  {
   "cell_type": "code",
   "execution_count": 8,
   "metadata": {
    "collapsed": false
   },
   "outputs": [
    {
     "name": "stdout",
     "output_type": "stream",
     "text": [
      "0_1_data_loading.ipynb\n",
      "1_1_cust_product_dict.ipynb\n",
      "1_2_cust_product_review.ipynb\n",
      "1_3_cust_features_range.ipynb\n",
      "2_1_gen_product_features.ipynb\n",
      "2_2_gen_product_features-backward.ipynb\n",
      "3_1_0_model_build_product_features_2015Janto2016June.ipynb\n",
      "3_2_0_model_build_product_features_lastMonth_inverse.ipynb\n",
      "4_0_0_train_model_tunning_Ein.ipynb\n",
      "4_1_0_train_model_evaluaiton_Ein.ipynb\n",
      "Clustering_analysis.ipynb\n",
      "dict\n",
      "feat\n",
      "input\n",
      "output\n",
      "sample_submission.csv (1).zip\n",
      "test_ver2.csv.zip\n",
      "train\n",
      "train_ver2.csv.zip\n"
     ]
    }
   ],
   "source": []
  },
  {
   "cell_type": "code",
   "execution_count": null,
   "metadata": {
    "collapsed": true
   },
   "outputs": [],
   "source": []
  }
 ],
 "metadata": {
  "kernelspec": {
   "display_name": "Python 2",
   "language": "python",
   "name": "python2"
  },
  "language_info": {
   "codemirror_mode": {
    "name": "ipython",
    "version": 2
   },
   "file_extension": ".py",
   "mimetype": "text/x-python",
   "name": "python",
   "nbconvert_exporter": "python",
   "pygments_lexer": "ipython2",
   "version": "2.7.5"
  }
 },
 "nbformat": 4,
 "nbformat_minor": 0
}
