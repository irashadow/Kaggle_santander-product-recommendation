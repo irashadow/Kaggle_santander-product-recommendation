{
 "cells": [
  {
   "cell_type": "code",
   "execution_count": 1,
   "metadata": {
    "collapsed": false
   },
   "outputs": [],
   "source": [
    "import os\n",
    "import csv\n",
    "import sys\n",
    "import random\n",
    "import scipy\n",
    "import numpy as np\n",
    "\n",
    "\n",
    "workspace_path = '/home/irashadow/python_workspace/Kaggle_Comp/Santander/'\n",
    "\n",
    "label_dict = dict()\n",
    "label_dict[1] = 'ind_ahor_fin_ult1'\n",
    "label_dict[2] = 'ind_aval_fin_ult1'\n",
    "label_dict[3] = 'ind_cco_fin_ult1'\n",
    "label_dict[4] = 'ind_cder_fin_ult1'\n",
    "label_dict[5] = 'ind_cno_fin_ult1'\n",
    "label_dict[6] = 'ind_ctju_fin_ult1'\n",
    "label_dict[7] = 'ind_ctma_fin_ult1'\n",
    "label_dict[8] = 'ind_ctop_fin_ult1'\n",
    "label_dict[9] = 'ind_ctpp_fin_ult1'\n",
    "label_dict[10] = 'ind_deco_fin_ult1'\n",
    "label_dict[11] = 'ind_deme_fin_ult1'\n",
    "label_dict[12] = 'ind_dela_fin_ult1'\n",
    "label_dict[13] = 'ind_ecue_fin_ult1'\n",
    "label_dict[14] = 'ind_fond_fin_ult1'\n",
    "label_dict[15] = 'ind_hip_fin_ult1'\n",
    "label_dict[16] = 'ind_plan_fin_ult1'\n",
    "label_dict[17] = 'ind_pres_fin_ult1'\n",
    "label_dict[18] = 'ind_reca_fin_ult1'\n",
    "label_dict[19] = 'ind_tjcr_fin_ult1'\n",
    "label_dict[20] = 'ind_valo_fin_ult1'\n",
    "label_dict[21] = 'ind_viv_fin_ult1'\n",
    "label_dict[22] = 'ind_nomina_ult1'\n",
    "label_dict[23] = 'ind_nom_pens_ult1'\n",
    "label_dict[24] = 'ind_recibo_ult1'\n",
    "\n",
    "label_weight = dict() \n",
    "label_weight['ind_ahor_fin_ult1']=0\n",
    "label_weight['ind_aval_fin_ult1']=0\n",
    "label_weight['ind_cco_fin_ult1']=0.0096681\n",
    "label_weight['ind_cder_fin_ult1']=0.000009\n",
    "label_weight['ind_cno_fin_ult1']=0.0017839\n",
    "label_weight['ind_ctju_fin_ult1']=0.0000502\n",
    "label_weight['ind_ctma_fin_ult1']=0.0004488\n",
    "label_weight['ind_ctop_fin_ult1']=0.0001949\n",
    "label_weight['ind_ctpp_fin_ult1']=0.0001142\n",
    "label_weight['ind_deco_fin_ult1']=0\n",
    "label_weight['ind_deme_fin_ult1']=0\n",
    "label_weight['ind_dela_fin_ult1']=0\n",
    "label_weight['ind_ecue_fin_ult1']=0.0019961\n",
    "label_weight['ind_fond_fin_ult1']=0.000104\n",
    "label_weight['ind_hip_fin_ult1']=0.0000161\n",
    "label_weight['ind_plan_fin_ult1']=0.0000126\n",
    "label_weight['ind_pres_fin_ult1']=0.0000054\n",
    "label_weight['ind_reca_fin_ult1']=0.0032092\n",
    "label_weight['ind_tjcr_fin_ult1']=0.0041178\n",
    "label_weight['ind_valo_fin_ult1']=0.000278\n",
    "label_weight['ind_viv_fin_ult1']=0\n",
    "label_weight['ind_nomina_ult1']=0.0021478\n",
    "label_weight['ind_nom_pens_ult1']=0.0021801\n",
    "label_weight['ind_recibo_ult1']=0.0086845\n",
    "summation = 0.0350207\n",
    "#print cust_dict_tr\n",
    "\n",
    "base_num = 60\n",
    "\n",
    "#features_count = 16 * (30(pos) + 30(neg))\n",
    "features_count = (16+1) * base_num"
   ]
  },
  {
   "cell_type": "code",
   "execution_count": 22,
   "metadata": {
    "collapsed": false
   },
   "outputs": [
    {
     "name": "stdout",
     "output_type": "stream",
     "text": [
      "929615\n"
     ]
    }
   ],
   "source": [
    "submit_read = open(workspace_path + '/output/submission_Nov25-1.csv', 'r')\n",
    "\n",
    "\n",
    "\n",
    "submit_read.readline()\n",
    "products_submitted_dict = dict()\n",
    "\n",
    "check_line_count = 0\n",
    "\n",
    "#for i in range(0,10000):\n",
    "    #line = dict_read.readline().strip()\n",
    "\n",
    "for line in submit_read:\n",
    "    line = line.strip()\n",
    "    \n",
    "    check_line_count += 1\n",
    "    \n",
    "    user_id = line.split(',')[0]\n",
    "    submitted_products = line.split(',')[1]\n",
    "    \n",
    "    for prod_item in submitted_products.split(' '):\n",
    "        \n",
    "        if prod_item not in products_submitted_dict:\n",
    "           products_submitted_dict[prod_item] = 1 \n",
    "        else:\n",
    "           products_submitted_dict[prod_item] += 1  \n",
    "        \n",
    "print check_line_count        "
   ]
  },
  {
   "cell_type": "code",
   "execution_count": 23,
   "metadata": {
    "collapsed": false
   },
   "outputs": [
    {
     "name": "stdout",
     "output_type": "stream",
     "text": [
      "#1 ind_ahor_fin_ult1 : 0.00 / 0.00\n",
      "#2 ind_aval_fin_ult1 : 0.00 / 0.00\n",
      "#3  ind_cco_fin_ult1 : 5.49 / 27.61\n",
      "#4 ind_cder_fin_ult1 : 0.02 / 0.03\n",
      "#5  ind_cno_fin_ult1 : 12.01 / 5.09\n",
      "#6 ind_ctju_fin_ult1 : 0.09 / 0.14\n",
      "#7 ind_ctma_fin_ult1 : 0.87 / 1.28\n",
      "#8 ind_ctop_fin_ult1 : 0.95 / 0.56\n",
      "#9 ind_ctpp_fin_ult1 : 0.49 / 0.33\n",
      "#10 ind_deco_fin_ult1 : 0.06 / 0.00\n",
      "#11 ind_deme_fin_ult1 : 0.03 / 0.00\n",
      "#12 ind_dela_fin_ult1 : 5.58 / 0.00\n",
      "#13 ind_ecue_fin_ult1 : 11.79 / 5.70\n",
      "#14 ind_fond_fin_ult1 : 0.67 / 0.30\n",
      "#15  ind_hip_fin_ult1 : 0.03 / 0.05\n",
      "#16 ind_plan_fin_ult1 : 0.29 / 0.04\n",
      "#17 ind_pres_fin_ult1 : 0.02 / 0.02\n",
      "#18 ind_reca_fin_ult1 : 12.58 / 9.16\n",
      "#19 ind_tjcr_fin_ult1 : 11.32 / 11.76\n",
      "#20 ind_valo_fin_ult1 : 1.60 / 0.79\n",
      "#21  ind_viv_fin_ult1 : 0.02 / 0.00\n",
      "#22   ind_nomina_ult1 : 11.25 / 6.13\n",
      "#23 ind_nom_pens_ult1 : 12.40 / 6.23\n",
      "#24   ind_recibo_ult1 : 12.42 / 24.80\n",
      "totally:99.99\n"
     ]
    }
   ],
   "source": [
    "percent_sum = 0.0\n",
    "\n",
    "for i in range(1,25):\n",
    "    \n",
    "    prod_item = label_dict[i]\n",
    "    \n",
    "    if prod_item in products_submitted_dict:\n",
    "      pred_sub_weight = products_submitted_dict[prod_item]/float(check_line_count)*100.0/7.0\n",
    "    else:\n",
    "      pred_sub_weight = 0  \n",
    "    \n",
    "    real_sub_weight = label_weight[prod_item]/float(summation)*100.0\n",
    "    \n",
    "    percent_sum += pred_sub_weight\n",
    "    \n",
    "    print '#'+str(i)+'%18s : %.2f / %.2f'%(prod_item,pred_sub_weight,real_sub_weight)\n",
    "    \n",
    "\n",
    "print 'totally:%.2f'%(percent_sum)    "
   ]
  },
  {
   "cell_type": "code",
   "execution_count": 24,
   "metadata": {
    "collapsed": false
   },
   "outputs": [
    {
     "name": "stdout",
     "output_type": "stream",
     "text": [
      "{'ind_cco_fin_ult1': 357005, 'ind_nom_pens_ult1': 806789, 'ind_ctju_fin_ult1': 6132, 'ind_valo_fin_ult1': 104163, 'ind_reca_fin_ult1': 818729, 'ind_cder_fin_ult1': 1493, 'ind_plan_fin_ult1': 18698, 'ind_fond_fin_ult1': 43481, 'ind_aval_fin_ult1': 7, 'ind_hip_fin_ult1': 1993, 'ind_pres_fin_ult1': 1340, 'ind_nomina_ult1': 732272, 'ind_cno_fin_ult1': 781846, 'ind_ctpp_fin_ult1': 31891, 'ind_ahor_fin_ult1': 7, 'ind_dela_fin_ult1': 362898, 'ind_ecue_fin_ult1': 767152, 'ind_deme_fin_ult1': 2165, 'ind_recibo_ult1': 808520, 'ind_deco_fin_ult1': 3694, 'ind_tjcr_fin_ult1': 736869, 'ind_ctop_fin_ult1': 61705, 'ind_viv_fin_ult1': 1158, 'ind_ctma_fin_ult1': 56909}\n"
     ]
    }
   ],
   "source": [
    "print products_submitted_dict"
   ]
  },
  {
   "cell_type": "code",
   "execution_count": 23,
   "metadata": {
    "collapsed": false
   },
   "outputs": [],
   "source": [
    "#submit_read = open(workspace_path + '/output/submission_Nov23-3.csv', 'r')\n",
    "submit_read = open(workspace_path + '/output/submission_Nov25-3.csv', 'r')\n",
    "#submit_read = open(workspace_path + '/output/TheLastFourRecord_1stProd.eout', 'r')\n",
    "\n",
    "submit_read.readline()\n",
    "products_submitted_dict = dict()\n",
    "\n",
    "check_line_count = 0\n",
    "model_head_count_dict = dict()\n",
    "for i in range(1,25):\n",
    "    model_head_count_dict[i] = 0 \n",
    "\n",
    "#for i in range(0,10000):\n",
    "    #line = dict_read.readline().strip()\n",
    "\n",
    "for line in submit_read:\n",
    "    line = line.strip()\n",
    "    \n",
    "    check_line_count += 1\n",
    "    \n",
    "    user_id = line.split(',')[0]\n",
    "    submitted_products = line.split(',')[1].split(' ')\n",
    "    \n",
    "    for i in range(1,25):\n",
    "        if len(submitted_products) > 0:\n",
    "           if submitted_products[0] == label_dict[i]: \n",
    "              model_head_count_dict[i] += 1 \n",
    "        \n",
    "        "
   ]
  },
  {
   "cell_type": "code",
   "execution_count": 24,
   "metadata": {
    "collapsed": false
   },
   "outputs": [
    {
     "name": "stdout",
     "output_type": "stream",
     "text": [
      "929615\n",
      " ind_ahor_fin_ult1 : 0.00\n",
      " ind_aval_fin_ult1 : 0.00\n",
      "  ind_cco_fin_ult1 : 33.05\n",
      " ind_cder_fin_ult1 : 0.00\n",
      "  ind_cno_fin_ult1 : 0.54\n",
      " ind_ctju_fin_ult1 : 0.05\n",
      " ind_ctma_fin_ult1 : 0.06\n",
      " ind_ctop_fin_ult1 : 0.27\n",
      " ind_ctpp_fin_ult1 : 0.07\n",
      " ind_deco_fin_ult1 : 0.00\n",
      " ind_deme_fin_ult1 : 0.00\n",
      " ind_dela_fin_ult1 : 0.00\n",
      " ind_ecue_fin_ult1 : 0.95\n",
      " ind_fond_fin_ult1 : 0.04\n",
      "  ind_hip_fin_ult1 : 0.00\n",
      " ind_plan_fin_ult1 : 0.01\n",
      " ind_pres_fin_ult1 : 0.01\n",
      " ind_reca_fin_ult1 : 3.94\n",
      " ind_tjcr_fin_ult1 : 3.14\n",
      " ind_valo_fin_ult1 : 0.16\n",
      "  ind_viv_fin_ult1 : 0.00\n",
      "   ind_nomina_ult1 : 0.22\n",
      " ind_nom_pens_ult1 : 3.68\n",
      "   ind_recibo_ult1 : 53.80\n"
     ]
    }
   ],
   "source": [
    "print check_line_count  \n",
    "for i in range(1,25):\n",
    "    print '%18s : %.2f'%(label_dict[i],model_head_count_dict[i]/float(929615.0)*100.0)"
   ]
  },
  {
   "cell_type": "code",
   "execution_count": null,
   "metadata": {
    "collapsed": false
   },
   "outputs": [],
   "source": [
    "print '#18@24-5 1st: 21,806'\n",
    "print '#18@23-3 1st: 36,417'   \n",
    "print '#24@24-5 1st: 505,534'\n",
    "print '#24@23-3 1st: 497,888' \n",
    "print '#03@24-5 1st: 345,173'\n",
    "print '#03@23-3 1st: 305,486'"
   ]
  },
  {
   "cell_type": "code",
   "execution_count": 12,
   "metadata": {
    "collapsed": false
   },
   "outputs": [
    {
     "name": "stdout",
     "output_type": "stream",
     "text": [
      "929615\n",
      "39716\n"
     ]
    }
   ],
   "source": [
    "#submit_read = open(workspace_path + '/output/submission_Nov24-5.csv', 'r')\n",
    "submit_read = open(workspace_path + '/output/submission_Nov23-3.csv', 'r')\n",
    "\n",
    "\n",
    "submit_read.readline()\n",
    "products_submitted_dict = dict()\n",
    "\n",
    "check_line_count = 0\n",
    "model_concern_count = 0\n",
    "\n",
    "#for i in range(0,10000):\n",
    "    #line = dict_read.readline().strip()\n",
    "\n",
    "for line in submit_read:\n",
    "    line = line.strip()\n",
    "    \n",
    "    check_line_count += 1\n",
    "    \n",
    "    user_id = line.split(',')[0]\n",
    "    submitted_products = line.split(',')[1].split(' ')\n",
    "    \n",
    "   \n",
    "    if submitted_products[0] == label_dict[24] and submitted_products[1] == label_dict[18]: \n",
    "        model_concern_count += 1 \n",
    "        \n",
    "print check_line_count\n",
    "print model_concern_count        "
   ]
  },
  {
   "cell_type": "code",
   "execution_count": 57,
   "metadata": {
    "collapsed": false
   },
   "outputs": [
    {
     "data": {
      "text/plain": [
       "(1, 19)"
      ]
     },
     "execution_count": 57,
     "metadata": {},
     "output_type": "execute_result"
    }
   ],
   "source": [
    "np.shape(temp_inx)"
   ]
  },
  {
   "cell_type": "code",
   "execution_count": 58,
   "metadata": {
    "collapsed": false
   },
   "outputs": [
    {
     "name": "stdout",
     "output_type": "stream",
     "text": [
      "<type 'list'>\n"
     ]
    }
   ],
   "source": [
    "print type(temp_inx)"
   ]
  },
  {
   "cell_type": "code",
   "execution_count": 60,
   "metadata": {
    "collapsed": false
   },
   "outputs": [
    {
     "name": "stdout",
     "output_type": "stream",
     "text": [
      "[array([ 1,  2,  3,  4,  5,  6,  7,  8,  9, 10, 11, 12, 13, 14, 15, 16, 17,\n",
      "       18, 19])]\n"
     ]
    }
   ],
   "source": [
    "print temp_inx"
   ]
  },
  {
   "cell_type": "code",
   "execution_count": 64,
   "metadata": {
    "collapsed": false
   },
   "outputs": [
    {
     "name": "stdout",
     "output_type": "stream",
     "text": [
      "1\n",
      "2\n",
      "3\n",
      "4\n",
      "5\n",
      "6\n",
      "7\n",
      "8\n",
      "9\n",
      "10\n",
      "11\n",
      "12\n",
      "13\n",
      "14\n",
      "15\n",
      "16\n",
      "17\n",
      "18\n",
      "19\n"
     ]
    }
   ],
   "source": [
    "for item in temp_inx[0]:\n",
    "    \n",
    "    print item"
   ]
  },
  {
   "cell_type": "code",
   "execution_count": 4,
   "metadata": {
    "collapsed": false
   },
   "outputs": [
    {
     "data": {
      "text/plain": [
       "960"
      ]
     },
     "execution_count": 4,
     "metadata": {},
     "output_type": "execute_result"
    }
   ],
   "source": [
    "16*60"
   ]
  },
  {
   "cell_type": "code",
   "execution_count": null,
   "metadata": {
    "collapsed": true
   },
   "outputs": [],
   "source": []
  }
 ],
 "metadata": {
  "kernelspec": {
   "display_name": "Python 2",
   "language": "python",
   "name": "python2"
  },
  "language_info": {
   "codemirror_mode": {
    "name": "ipython",
    "version": 2
   },
   "file_extension": ".py",
   "mimetype": "text/x-python",
   "name": "python",
   "nbconvert_exporter": "python",
   "pygments_lexer": "ipython2",
   "version": "2.7.5"
  }
 },
 "nbformat": 4,
 "nbformat_minor": 0
}
