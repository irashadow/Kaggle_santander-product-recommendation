{
 "cells": [
  {
   "cell_type": "code",
   "execution_count": 2,
   "metadata": {
    "collapsed": false
   },
   "outputs": [
    {
     "name": "stderr",
     "output_type": "stream",
     "text": [
      "/home/irashadow/env_TensorFlow/lib/python2.7/site-packages/ipykernel/__main__.py:7: DeprecationWarning: the sets module is deprecated\n"
     ]
    }
   ],
   "source": [
    "import os\n",
    "import csv\n",
    "import sys\n",
    "import random\n",
    "import scipy\n",
    "import numpy as np\n",
    "from sets import Set\n",
    "\n",
    "\n",
    "workspace_path = '/home/irashadow/python_workspace/Kaggle_Comp/Santander/'\n",
    "\n",
    "\n",
    "#print cust_dict_tr\n",
    "\n",
    "def prod_change(prev_items_str, pres_items_str):\n",
    "    \n",
    "    pres_items = Set(pres_items_str.split(','))\n",
    "    prev_items = Set(prev_items_str.split(','))\n",
    "\n",
    "    #print pres_items\n",
    "    #print pres_items.difference(prev_items)\n",
    "    #print prev_items.difference(pres_items)\n",
    "    \n",
    "    return_line = ''\n",
    "    \n",
    "    if pres_items_str != '':    \n",
    "       for item in pres_items.difference(prev_items):    \n",
    "           return_line += '+' + item + ','\n",
    "        \n",
    "    if prev_items_str != '':    \n",
    "       for item in prev_items.difference(pres_items):\n",
    "           return_line += '-' + item + ','   \n",
    "        \n",
    "    if len(return_line) > 0:\n",
    "        \n",
    "       return_line = return_line[:-1] \n",
    "    \n",
    "    return return_line\n",
    "    "
   ]
  },
  {
   "cell_type": "code",
   "execution_count": null,
   "metadata": {
    "collapsed": false
   },
   "outputs": [],
   "source": []
  },
  {
   "cell_type": "code",
   "execution_count": 3,
   "metadata": {
    "collapsed": false
   },
   "outputs": [
    {
     "name": "stdout",
     "output_type": "stream",
     "text": [
      "956645\n"
     ]
    }
   ],
   "source": [
    "#loading products item as features\n",
    "dict_read = open(workspace_path + '/dict/cust_product.csv', 'r')\n",
    "\n",
    "cust_date_products_dict = dict()\n",
    "line_count = 0\n",
    "\n",
    "#for i in range(0,100):\n",
    "    #line = dict_read.readline().strip()\n",
    "    \n",
    "\n",
    "for line in dict_read:\n",
    "    line = line.strip()\n",
    "    \n",
    "    line_count += 1\n",
    "    \n",
    "    if len(line.split(':')) != 2: \n",
    "       print line \n",
    "    \n",
    "    cust_id = int(line.split(':')[0])\n",
    "    \n",
    "    cust_items = line.split(':')[1]\n",
    "    \n",
    "    \n",
    "    if cust_id not in cust_date_products_dict:\n",
    "        \n",
    "       cust_date_products_dict[cust_id] = dict() \n",
    "    \n",
    "    for prod_item in cust_items.split(';'):\n",
    "        \n",
    "        if len(prod_item.split('|')) == 2:   \n",
    "        \n",
    "            date_item = prod_item.split('|')[0]\n",
    "            pres_items_get = prod_item.split('|')[1]\n",
    "            cust_date_products_dict[cust_id][date_item] = pres_items_get   \n",
    "            \n",
    "            \n",
    "        else:\n",
    "            \n",
    "            print line\n",
    "            print prod_item\n",
    "            \n",
    "print line_count \n",
    "dict_read.close()"
   ]
  },
  {
   "cell_type": "code",
   "execution_count": 11,
   "metadata": {
    "collapsed": false
   },
   "outputs": [
    {
     "name": "stdout",
     "output_type": "stream",
     "text": [
      "956645\n"
     ]
    }
   ],
   "source": [
    "print len(cust_date_products_dict)"
   ]
  },
  {
   "cell_type": "code",
   "execution_count": null,
   "metadata": {
    "collapsed": false
   },
   "outputs": [],
   "source": []
  },
  {
   "cell_type": "code",
   "execution_count": 4,
   "metadata": {
    "collapsed": false
   },
   "outputs": [
    {
     "name": "stdout",
     "output_type": "stream",
     "text": [
      "956645\n",
      "616757\n"
     ]
    }
   ],
   "source": [
    "import datetime as dt\n",
    "\n",
    "dict_write = open(workspace_path + '/dict/cust_product_added_prods_check_for_2015June.csv', 'w')\n",
    "\n",
    "#for i in range(0,10):\n",
    "    #line = dict_read.readline().strip()\n",
    "\n",
    "line_count = 0    \n",
    "line_count_sp = 0\n",
    "    \n",
    "for cust_id in cust_date_products_dict:\n",
    "    \n",
    "    line_count += 1\n",
    "    \n",
    "    prt_line = str(cust_id) + ':'\n",
    "    \n",
    "    item_1 = ''\n",
    "    if '2015-05' in cust_date_products_dict[cust_id]:\n",
    "        item_1 = cust_date_products_dict[cust_id]['2015-05']\n",
    "    elif '2015-04' in cust_date_products_dict[cust_id]:   \n",
    "        item_1 = cust_date_products_dict[cust_id]['2015-04']\n",
    "    elif '2015-03' in cust_date_products_dict[cust_id]:   \n",
    "        item_1 = cust_date_products_dict[cust_id]['2015-03']\n",
    "    elif '2015-02' in cust_date_products_dict[cust_id]:   \n",
    "        item_1 = cust_date_products_dict[cust_id]['2015-02']\n",
    "    elif '2015-01' in cust_date_products_dict[cust_id]:   \n",
    "        item_1 = cust_date_products_dict[cust_id]['2015-01']    \n",
    "        \n",
    "        \n",
    "    item_2 = ''\n",
    "    if '2015-06' in cust_date_products_dict[cust_id]:\n",
    "        item_2 = cust_date_products_dict[cust_id]['2015-06']\n",
    "        \n",
    "    if len(item_2) > 0:\n",
    "       line_count_sp += 1  \n",
    "    \n",
    "    prt_line_added = item_1 + '|' + item_2 + '|'\n",
    "    \n",
    "    #prt_line_added += prod_change(item_1, item_2)\n",
    "    \n",
    "    for sub_item in item_2.split(','): \n",
    "        if sub_item not in item_1.split(','):   \n",
    "           if sub_item != '':  \n",
    "              prt_line_added += '+'+sub_item + ','\n",
    "            \n",
    "            \n",
    "    \n",
    "    if len(prt_line_added) > 0:\n",
    "       dict_write.write(prt_line+prt_line_added+'\\n')  \n",
    "    else:    \n",
    "       dict_write.write(prt_line+'\\n')  \n",
    "    \n",
    "    \n",
    "print line_count\n",
    "print line_count_sp \n",
    "dict_write.close()    "
   ]
  },
  {
   "cell_type": "code",
   "execution_count": 5,
   "metadata": {
    "collapsed": false
   },
   "outputs": [
    {
     "name": "stdout",
     "output_type": "stream",
     "text": [
      "35970\n",
      "42552\n"
     ]
    }
   ],
   "source": [
    "dict_read = open(workspace_path + '/dict/cust_product_added_prods_check_for_2015June.csv', 'r')\n",
    "\n",
    "line_count = 0\n",
    "items_count = 0\n",
    "\n",
    "for line in dict_read:\n",
    "    \n",
    "    line = line.strip()\n",
    "    \n",
    "    prod_items = line.split('|')[2]\n",
    "    \n",
    "    for sub_item in prod_items:\n",
    "        \n",
    "        if sub_item == '+':\n",
    "           items_count += 1 \n",
    "    \n",
    "    \n",
    "    \n",
    "    if '+' in line:\n",
    "    \n",
    "       line_count += 1\n",
    "        \n",
    "print line_count  \n",
    "print items_count"
   ]
  },
  {
   "cell_type": "code",
   "execution_count": null,
   "metadata": {
    "collapsed": true
   },
   "outputs": [],
   "source": []
  }
 ],
 "metadata": {
  "kernelspec": {
   "display_name": "Python 2",
   "language": "python",
   "name": "python2"
  },
  "language_info": {
   "codemirror_mode": {
    "name": "ipython",
    "version": 2
   },
   "file_extension": ".py",
   "mimetype": "text/x-python",
   "name": "python",
   "nbconvert_exporter": "python",
   "pygments_lexer": "ipython2",
   "version": "2.7.5"
  }
 },
 "nbformat": 4,
 "nbformat_minor": 0
}
