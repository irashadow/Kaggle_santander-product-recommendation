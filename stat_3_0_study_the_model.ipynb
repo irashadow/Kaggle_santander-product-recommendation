{
 "cells": [
  {
   "cell_type": "code",
   "execution_count": 21,
   "metadata": {
    "collapsed": false
   },
   "outputs": [],
   "source": [
    "import os\n",
    "import csv\n",
    "import sys\n",
    "import random\n",
    "import scipy\n",
    "import numpy as np\n",
    "import math\n",
    "\n",
    "\n",
    "workspace_path = '/home/irashadow/python_workspace/Kaggle_Comp/liblinear-2.1/model_save/'\n",
    "\n"
   ]
  },
  {
   "cell_type": "code",
   "execution_count": 22,
   "metadata": {
    "collapsed": false
   },
   "outputs": [
    {
     "name": "stdout",
     "output_type": "stream",
     "text": [
      "14601\n",
      "1\n",
      "14601\n",
      "2\n",
      "14601\n",
      "3\n",
      "14601\n",
      "4\n",
      "14601\n",
      "5\n",
      "14601\n",
      "6\n",
      "14601\n",
      "7\n",
      "14601\n",
      "8\n"
     ]
    }
   ],
   "source": [
    "features_weights_dict = dict()\n",
    "features_org_weights_dict = dict()\n",
    "\n",
    "for i in [3,24,19,18,23,22,13,5]:\n",
    "    submit_read = open(workspace_path + '/cust_product_'+str(i)+'.model', 'r')\n",
    "    submit_read.readline()\n",
    "    submit_read.readline()\n",
    "    submit_read.readline()\n",
    "    submit_read.readline()\n",
    "    submit_read.readline()\n",
    "    submit_read.readline()\n",
    "    features_weights_dict[i] = dict()\n",
    "    features_org_weights_dict[i] = dict()\n",
    "\n",
    "    feat_inx = 1\n",
    "\n",
    "    for line in submit_read:\n",
    "        line = line.strip()\n",
    "\n",
    "        if line != '0':\n",
    "           features_weights_dict[i][feat_inx] = math.fabs(float(line))\n",
    "           features_org_weights_dict[i][feat_inx] = float(line)\n",
    "\n",
    "        feat_inx += 1\n",
    "\n",
    "\n",
    "\n",
    "    print feat_inx    \n",
    "    submit_read.close()\n",
    "\n",
    "    print len(features_weights_dict)\n",
    "    "
   ]
  },
  {
   "cell_type": "code",
   "execution_count": 23,
   "metadata": {
    "collapsed": false
   },
   "outputs": [
    {
     "name": "stdout",
     "output_type": "stream",
     "text": [
      "3324|6.2209204444\n",
      "12095|-6.01980292781\n",
      "12065|-5.92128331955\n",
      "13995|-5.88437925895\n",
      "11777|-5.24809484255\n",
      "11254|-5.09649638546\n",
      "11844|-5.07935744653\n",
      "12610|-4.60142452954\n",
      "11116|4.56295473305\n",
      "12265|4.42096762556\n",
      "10086|-4.40813975221\n",
      "12119|-4.04927678603\n",
      "14586|-3.93890149029\n",
      "5120|3.85480780671\n",
      "5280|-3.83269732562\n",
      "13002|3.80199245011\n",
      "11843|-3.80088086041\n",
      "10547|-3.73557052959\n",
      "12163|-3.67639732854\n",
      "12768|3.32964163086\n"
     ]
    }
   ],
   "source": [
    "import operator\n",
    "i = 24\n",
    "sorted_x = sorted(features_weights_dict[i].items(), key=operator.itemgetter(1), reverse=True)\n",
    "for key, item in sorted_x[0:20]:\n",
    "\n",
    "    print str(key) + '|' + str(features_org_weights_dict[i][key])    "
   ]
  },
  {
   "cell_type": "code",
   "execution_count": 24,
   "metadata": {
    "collapsed": false
   },
   "outputs": [
    {
     "name": "stdout",
     "output_type": "stream",
     "text": [
      "[10328, 10174, 8026, 8025, 10217]\n",
      "# 3     #24    #19    #18    #23    #22    #13    # 5\n",
      "10328    3324   13153   14565   13146   10948   14448   10748\n",
      "10174    12095   10218   5042   10948   3322   8025   2305\n",
      "8026    12065   3319   10501   11865   11865   12240   10066\n",
      "8025    13995   13162   14579   12286   13165   8026   10026\n",
      "10217    11777   10268   10777   13633   12173   14586   8026\n",
      "10125    11254   11007   10531   14250   13633   10308   9242\n",
      "13997    11844   10463   10961   12617   14269   8024   12312\n",
      "10924    12610   11097   5120   3323   12286   2007   1145\n",
      "14319    11116   10649   10237   11313   11069   3313   10062\n",
      "13231    12265   10296   10494   12111   8039   1343   10034\n",
      "10601    10086   11622   13165   13244   10312   12124   2335\n",
      "8024    12119   10722   14286   10066   13244   11940   8025\n",
      "12615    14586   10130   10742   10991   10241   5161   9442\n",
      "11681    5120   10126   10045   12496   10066   9022   9205\n",
      "12610    5280   13140   13629   11102   10344   10104   10187\n",
      "11283    13002   11077   13008   12656   11491   9443   10623\n",
      "10123    11843   10655   10599   11478   12496   10238   5239\n",
      "13223    10547   12375   3318   12191   11489   13795   5274\n",
      "10504    12163   10206   5327   10344   10724   9254   12089\n",
      "12081    12768   13708   10563   13911   11102   1313   3305\n",
      "10280    11674   13801   12523   14411   10991   3306   10090\n",
      "10050    10518   13387   11059   12885   2322   11311   10279\n",
      "10540    12325   12902   5331   2110   10553   9413   10011\n",
      "12525    2145   10550   10753   3322   11651   2243   11478\n",
      "11865    10145   10018   5419   5239   13403   3004   9235\n",
      "10563    12245   9249   13596   10479   12885   2107   1235\n",
      "1303    10124   5120   10352   9450   9409   9717   13215\n",
      "13136    10033   10478   11066   9249   12595   5185   11841\n",
      "10761    10692   9220   5385   5074   11313   5002   8024\n",
      "10033    12286   5175   10204   10075   2352   9507   11693\n",
      "10646    12180   5336   11070   9022   5237   5117   10022\n",
      "10602    13997   10528   13249   11639   14389   1235   5074\n",
      "11475    13659   10036   2116   2106   8037   11504   11244\n",
      "11476    10022   13717   10270   5245   10719   10478   5237\n",
      "10234    10271   14474   12663   10117   5239   10170   1335\n",
      "10279    5248   10659   10262   9453   11267   5232   9331\n",
      "13221    10938   5233   10082   13403   12111   10322   12049\n",
      "13295    10308   11092   10277   8024   10062   10196   1034\n",
      "12588    13638   2110   10044   5299   5074   9343   12332\n",
      "11122    11782   10112   12134   11097   12990   13666   9249\n",
      "13403    1324   10177   10083   14574   10271   11182   11262\n",
      "1333    10078   10464   12365   10259   10179   5182   12424\n",
      "10271    10116   8039   11279   1034   11126   12942   10057\n",
      "11329    10182   10488   14279   5004   8038   2239   8048\n",
      "10136    12042   10354   11253   1153   14179   5153   10079\n",
      "10269    10605   10263   10129   12705   12705   1107   10150\n",
      "10085    12983   5147   10313   9452   5299   12852   11843\n",
      "10075    13226   10019   5435   10083   14181   12148   5392\n",
      "1351    8025   10616   10034   9409   2110   5075   2333\n",
      "3303    8026   10995   9517   11859   11501   3206   1347\n"
     ]
    }
   ],
   "source": [
    "import operator\n",
    "\n",
    "sorted_x = dict()\n",
    "sorted_x_details = dict()\n",
    "\n",
    "\n",
    "for i in [3,24,19,18,23,22,13,5]:\n",
    "\n",
    "    sorted_x_details[i] = sorted(features_weights_dict[i].items(), key=operator.itemgetter(1), reverse=True)\n",
    "    sorted_x_temp = sorted(features_weights_dict[i].items(), key=operator.itemgetter(1), reverse=True)\n",
    "    res_list = [x[0] for x in sorted_x_temp] \n",
    "    sorted_x[i] = res_list\n",
    "    \n",
    "    \n",
    "    #for key, item in sorted_x:\n",
    "\n",
    "        #print str(key) + '|' + str(item)\n",
    "        \n",
    "features_freq = dict()        \n",
    "\n",
    "print sorted_x[3][0:5]\n",
    "print '#%2d     #%2d    #%2d    #%2d    #%2d    #%2d    #%2d    #%2d'%(3,24,19,18,23,22,13,5)\n",
    "for j in range(0,50):\n",
    "    print '%d    %d   %d   %d   %d   %d   %d   %d'%(sorted_x[3][j],sorted_x[24][j],sorted_x[19][j],sorted_x[18][j],sorted_x[23][j],sorted_x[22][j],sorted_x[13][j],sorted_x[5][j])\n",
    "    \n",
    "    for i in [3,24,19,18,23,22,13,5]:\n",
    "        \n",
    "        if sorted_x[i][j] not in features_freq:\n",
    "            \n",
    "           features_freq[sorted_x[i][j]] = 1\n",
    "        \n",
    "        else:\n",
    "           \n",
    "           features_freq[sorted_x[i][j]] += 1\n",
    "    "
   ]
  },
  {
   "cell_type": "code",
   "execution_count": 12,
   "metadata": {
    "collapsed": false
   },
   "outputs": [
    {
     "name": "stdout",
     "output_type": "stream",
     "text": [
      "[(3323, 5.054797234197149), (3322, 4.135615403220212), (9254, 3.12632396154447), (1353, 2.90426174752097), (5239, 2.740051688505397), (1110, 2.581364380687852), (5074, 2.561378171347471), (5004, 2.463275831235508), (5245, 2.308518500547968), (5299, 2.185169738872063), (9517, 2.159838728125501), (5002, 2.012987471850014), (8024, 1.987025596138444), (1107, 1.975527454458905), (9418, 1.95268344627791), (9022, 1.916255192590896), (1007, 1.900693514647217), (9238, 1.894699066310272), (2350, 1.849725029554256), (9454, 1.815708483627589)]\n"
     ]
    }
   ],
   "source": [
    "print sorted_x_details[23][0:20]"
   ]
  },
  {
   "cell_type": "code",
   "execution_count": 13,
   "metadata": {
    "collapsed": false
   },
   "outputs": [
    {
     "name": "stdout",
     "output_type": "stream",
     "text": [
      "[(0, 0), (2, 1)]\n"
     ]
    }
   ],
   "source": [
    "import operator\n",
    "x = {1: 2, 3: 4, 4: 3, 2: 1, 0: 0}\n",
    "sorted_x = sorted(x.items(), key=operator.itemgetter(1))\n",
    "\n",
    "print sorted_x[0:2]"
   ]
  },
  {
   "cell_type": "code",
   "execution_count": 15,
   "metadata": {
    "collapsed": false
   },
   "outputs": [
    {
     "name": "stdout",
     "output_type": "stream",
     "text": [
      "243\n"
     ]
    }
   ],
   "source": [
    "sorted_x = sorted(features_freq.items(), key=operator.itemgetter(1), reverse = True)\n",
    "\n",
    "print len(sorted_x)\n",
    "\n",
    "nominal_feat_collection = []\n",
    "\n",
    "for item in sorted_x:\n",
    "    \n",
    "    #print str(item)\n",
    "\n",
    "    \n",
    "    if str(item[0])[0] == '9':\n",
    "        \n",
    "       nominal_feat_collection.append(str(item[0])) \n"
   ]
  },
  {
   "cell_type": "code",
   "execution_count": 16,
   "metadata": {
    "collapsed": false
   },
   "outputs": [
    {
     "name": "stdout",
     "output_type": "stream",
     "text": [
      "['9254', '9235', '9233', '9433', '9218', '9238', '9442', '9454', '9022', '9216', '9223', '9224', '9317', '9351', '9418', '9409', '9438', '9449', '9453', '9435', '9517', '9536', '9618', '9408', '9219', '9237', '9240', '9242', '9253', '9311', '9243', '9507', '9403', '9405', '9331', '9239', '9249', '9420', '9422', '9443', '9452', '9531', '9315', '9203', '9717', '9718']\n",
      "46\n"
     ]
    }
   ],
   "source": [
    "print nominal_feat_collection\n",
    "print len(nominal_feat_collection)"
   ]
  },
  {
   "cell_type": "code",
   "execution_count": 17,
   "metadata": {
    "collapsed": false
   },
   "outputs": [],
   "source": [
    "workspace_path = '/home/irashadow/python_workspace/Kaggle_Comp/Santander/'\n",
    "feat2index_write = open(workspace_path + '/dict/best_nominal_features.txt', 'w')\n",
    "\n",
    "\n",
    "feat_inx = 1\n",
    "for item1 in nominal_feat_collection:\n",
    "    for item2 in nominal_feat_collection:\n",
    "        \n",
    "        if item1 != item2:\n",
    "            \n",
    "           print_line = item1+'|'+item2+'|'+str(feat_inx)\n",
    "           feat_inx += 1\n",
    "            \n",
    "           feat2index_write.write(print_line+'\\n') \n",
    "    \n",
    "    \n",
    "feat2index_write.close()\n",
    "\n",
    "\n",
    "\n",
    "\n",
    "\n",
    "\n"
   ]
  },
  {
   "cell_type": "code",
   "execution_count": null,
   "metadata": {
    "collapsed": false
   },
   "outputs": [],
   "source": []
  },
  {
   "cell_type": "code",
   "execution_count": null,
   "metadata": {
    "collapsed": false
   },
   "outputs": [],
   "source": []
  },
  {
   "cell_type": "code",
   "execution_count": null,
   "metadata": {
    "collapsed": false
   },
   "outputs": [],
   "source": []
  },
  {
   "cell_type": "code",
   "execution_count": null,
   "metadata": {
    "collapsed": false
   },
   "outputs": [],
   "source": []
  },
  {
   "cell_type": "code",
   "execution_count": null,
   "metadata": {
    "collapsed": false
   },
   "outputs": [],
   "source": []
  },
  {
   "cell_type": "code",
   "execution_count": null,
   "metadata": {
    "collapsed": false
   },
   "outputs": [],
   "source": []
  },
  {
   "cell_type": "code",
   "execution_count": null,
   "metadata": {
    "collapsed": true
   },
   "outputs": [],
   "source": []
  }
 ],
 "metadata": {
  "kernelspec": {
   "display_name": "Python 2",
   "language": "python",
   "name": "python2"
  },
  "language_info": {
   "codemirror_mode": {
    "name": "ipython",
    "version": 2
   },
   "file_extension": ".py",
   "mimetype": "text/x-python",
   "name": "python",
   "nbconvert_exporter": "python",
   "pygments_lexer": "ipython2",
   "version": "2.7.5"
  }
 },
 "nbformat": 4,
 "nbformat_minor": 0
}
