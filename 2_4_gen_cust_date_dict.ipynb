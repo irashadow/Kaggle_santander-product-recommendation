{
 "cells": [
  {
   "cell_type": "code",
   "execution_count": 1,
   "metadata": {
    "collapsed": false
   },
   "outputs": [
    {
     "name": "stderr",
     "output_type": "stream",
     "text": [
      "/home/irashadow/env_TensorFlow/lib/python2.7/site-packages/ipykernel/__main__.py:7: DeprecationWarning: the sets module is deprecated\n"
     ]
    }
   ],
   "source": [
    "import os\n",
    "import csv\n",
    "import sys\n",
    "import random\n",
    "import scipy\n",
    "import numpy as np\n",
    "from sets import Set\n",
    "\n",
    "\n",
    "workspace_path = '/home/irashadow/python_workspace/Kaggle_Comp/Santander/'"
   ]
  },
  {
   "cell_type": "code",
   "execution_count": 2,
   "metadata": {
    "collapsed": false
   },
   "outputs": [],
   "source": [
    "month_dict = dict()\n",
    "month_dict['2015-01'] = 0\n",
    "month_dict['2015-02'] = 1\n",
    "month_dict['2015-03'] = 2\n",
    "month_dict['2015-04'] = 3\n",
    "month_dict['2015-05'] = 4\n",
    "month_dict['2015-06'] = 5\n",
    "month_dict['2015-07'] = 6\n",
    "month_dict['2015-08'] = 7\n",
    "month_dict['2015-09'] = 8\n",
    "month_dict['2015-10'] = 9\n",
    "month_dict['2015-11'] = 10\n",
    "month_dict['2015-12'] = 11\n",
    "month_dict['2016-01'] = 12\n",
    "month_dict['2016-02'] = 13\n",
    "month_dict['2016-03'] = 14\n",
    "month_dict['2016-04'] = 15\n",
    "month_dict['2016-05'] = 16\n",
    "month_dict_inv = dict()\n",
    "month_dict_inv[0] = '2015-01'\n",
    "month_dict_inv[1] = '2015-02'\n",
    "month_dict_inv[2] = '2015-03'\n",
    "month_dict_inv[3] = '2015-04'\n",
    "month_dict_inv[4] = '2015-05'\n",
    "month_dict_inv[5] = '2015-06'\n",
    "month_dict_inv[6] = '2015-07'\n",
    "month_dict_inv[7] = '2015-08'\n",
    "month_dict_inv[8] = '2015-09'\n",
    "month_dict_inv[9] = '2015-10'\n",
    "month_dict_inv[10] = '2015-11'\n",
    "month_dict_inv[11] = '2015-12'\n",
    "month_dict_inv[12] = '2016-01'\n",
    "month_dict_inv[13] = '2016-02'\n",
    "month_dict_inv[14] = '2016-03'\n",
    "month_dict_inv[15] = '2016-04'\n",
    "month_dict_inv[16] = '2016-05'\n"
   ]
  },
  {
   "cell_type": "code",
   "execution_count": 3,
   "metadata": {
    "collapsed": false
   },
   "outputs": [
    {
     "name": "stdout",
     "output_type": "stream",
     "text": [
      "\"fecha_dato\",\"ncodpers\",\"ind_empleado\",\"pais_residencia\",\"sexo\",\"age\",\"fecha_alta\",\"ind_nuevo\",\"antiguedad\",\"indrel\",\"ult_fec_cli_1t\",\"indrel_1mes\",\"tiprel_1mes\",\"indresi\",\"indext\",\"conyuemp\",\"canal_entrada\",\"indfall\",\"tipodom\",\"cod_prov\",\"nomprov\",\"ind_actividad_cliente\",\"renta\",\"segmento\",\"ind_ahor_fin_ult1\",\"ind_aval_fin_ult1\",\"ind_cco_fin_ult1\",\"ind_cder_fin_ult1\",\"ind_cno_fin_ult1\",\"ind_ctju_fin_ult1\",\"ind_ctma_fin_ult1\",\"ind_ctop_fin_ult1\",\"ind_ctpp_fin_ult1\",\"ind_deco_fin_ult1\",\"ind_deme_fin_ult1\",\"ind_dela_fin_ult1\",\"ind_ecue_fin_ult1\",\"ind_fond_fin_ult1\",\"ind_hip_fin_ult1\",\"ind_plan_fin_ult1\",\"ind_pres_fin_ult1\",\"ind_reca_fin_ult1\",\"ind_tjcr_fin_ult1\",\"ind_valo_fin_ult1\",\"ind_viv_fin_ult1\",\"ind_nomina_ult1\",\"ind_nom_pens_ult1\",\"ind_recibo_ult1\"\n",
      "13647309\n"
     ]
    }
   ],
   "source": [
    "cust_features_nominal_date = dict()\n",
    "cust_features_nominal_date_encode = dict()\n",
    "data_read = open(workspace_path +  'input/train_ver2.csv', 'r')\n",
    "headline = data_read.readline().strip()\n",
    "print headline\n",
    "\n",
    "cust_features_nominal_date_write = open(workspace_path + '/dict/cust_date_records.txt', 'w')\n",
    "\n",
    "line_count = 0\n",
    "\n",
    "for line in data_read:\n",
    "    \n",
    "    line = line.strip().split(',')\n",
    "    \n",
    "    line_count += 1\n",
    "    \n",
    "    \n",
    "    cust_id = int(line[1])\n",
    "    item_date = line[0][:-3]\n",
    "    \n",
    "    if item_date == '':\n",
    "        \n",
    "       print line \n",
    "    \n",
    "    if cust_id not in cust_features_nominal_date:\n",
    "        \n",
    "       cust_features_nominal_date[cust_id] = Set([item_date]) \n",
    "    \n",
    "       cust_features_nominal_date_encode[cust_id] = [month_dict[item_date]]\n",
    "    \n",
    "    else:\n",
    "       \n",
    "       cust_features_nominal_date[cust_id].add(item_date)\n",
    "        \n",
    "       cust_features_nominal_date_encode[cust_id].append(month_dict[item_date]) \n",
    "        \n",
    "        \n",
    "for item in cust_features_nominal_date:\n",
    "    \n",
    "    prt_line = str(item) + '|'\n",
    "    \n",
    "    max_date_encode = max(cust_features_nominal_date_encode[item])\n",
    "    \n",
    "    \n",
    "    max_date_item = month_dict_inv[max_date_encode]\n",
    "    \n",
    "    prt_line += max_date_item + '|'\n",
    "    \n",
    "    for date_item in sorted(cust_features_nominal_date[item],reverse=True):\n",
    "        \n",
    "        prt_line += date_item + ','\n",
    "\n",
    "    cust_features_nominal_date_write.write(prt_line[:-1]+'\\n')    \n",
    "\n",
    "cust_features_nominal_date_write.close()\n",
    "data_read.close()\n",
    "\n",
    "print line_count"
   ]
  },
  {
   "cell_type": "code",
   "execution_count": 7,
   "metadata": {
    "collapsed": false
   },
   "outputs": [
    {
     "name": "stdout",
     "output_type": "stream",
     "text": [
      "956645\n"
     ]
    }
   ],
   "source": [
    "cust_last_date = dict()\n",
    "\n",
    "dict_read = open(workspace_path + '/dict/cust_date_records.txt', 'r')\n",
    "\n",
    "line_count = 0\n",
    "for line in dict_read:\n",
    "    \n",
    "    line = line.strip()\n",
    "    line_count += 1\n",
    "    \n",
    "    cust_id = line.split('|')[0]\n",
    "    item_date = line.split('|')[1]\n",
    "    \n",
    "    cust_last_date[cust_id] = item_date\n",
    "    \n",
    "print line_count    "
   ]
  },
  {
   "cell_type": "code",
   "execution_count": 18,
   "metadata": {
    "collapsed": false
   },
   "outputs": [
    {
     "name": "stdout",
     "output_type": "stream",
     "text": [
      "date1 later than date2\n",
      "731 days, 0:00:00\n"
     ]
    }
   ],
   "source": [
    "import datetime as dt\n",
    "\n",
    "date1 = dt.datetime.strptime('2016-05', '%Y-%m')\n",
    "date2 = dt.datetime.strptime('2014-05', '%Y-%m')\n",
    "\n",
    "if date2 < date1:\n",
    "    \n",
    "   print 'date1 later than date2' \n",
    "   print date1 - date2\n",
    "\n",
    "else:\n",
    "    \n",
    "   print 'date2 early than date1' \n",
    "   print date2 - date1 \n",
    "    "
   ]
  },
  {
   "cell_type": "code",
   "execution_count": 10,
   "metadata": {
    "collapsed": false
   },
   "outputs": [
    {
     "name": "stdout",
     "output_type": "stream",
     "text": [
      "956645\n"
     ]
    }
   ],
   "source": []
  },
  {
   "cell_type": "code",
   "execution_count": null,
   "metadata": {
    "collapsed": true
   },
   "outputs": [],
   "source": []
  }
 ],
 "metadata": {
  "kernelspec": {
   "display_name": "Python 2",
   "language": "python",
   "name": "python2"
  },
  "language_info": {
   "codemirror_mode": {
    "name": "ipython",
    "version": 2
   },
   "file_extension": ".py",
   "mimetype": "text/x-python",
   "name": "python",
   "nbconvert_exporter": "python",
   "pygments_lexer": "ipython2",
   "version": "2.7.5"
  }
 },
 "nbformat": 4,
 "nbformat_minor": 0
}
