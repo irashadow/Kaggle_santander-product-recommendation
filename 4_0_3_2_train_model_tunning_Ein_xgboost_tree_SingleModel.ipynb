{
 "cells": [
  {
   "cell_type": "code",
   "execution_count": 16,
   "metadata": {
    "collapsed": false
   },
   "outputs": [],
   "source": [
    "import os\n",
    "import csv\n",
    "import sys\n",
    "import random\n",
    "import scipy\n",
    "import numpy as np\n",
    "import xgboost as xgb\n",
    "# read in data\n",
    "\n",
    "\n",
    "workspace_path = '/home/irashadow/python_workspace/Kaggle_Comp/Santander/'\n",
    "month_dict_inv = dict()\n",
    "month_dict_inv[0] = '2015-01'\n",
    "month_dict_inv[1] = '2015-02'\n",
    "month_dict_inv[2] = '2015-03'\n",
    "month_dict_inv[3] = '2015-04'\n",
    "month_dict_inv[4] = '2015-05'\n",
    "month_dict_inv[5] = '2015-06'\n",
    "month_dict_inv[6] = '2015-07'\n",
    "month_dict_inv[7] = '2015-08'\n",
    "month_dict_inv[8] = '2015-09'\n",
    "month_dict_inv[9] = '2015-10'\n",
    "month_dict_inv[10] = '2015-11'\n",
    "month_dict_inv[11] = '2015-12'\n",
    "month_dict_inv[12] = '2016-01'\n",
    "month_dict_inv[13] = '2016-02'\n",
    "month_dict_inv[14] = '2016-03'\n",
    "month_dict_inv[15] = '2016-04'\n",
    "month_dict_inv[16] = '2016-05'\n",
    "month_dict_inv[17] = '2016-06'"
   ]
  },
  {
   "cell_type": "code",
   "execution_count": null,
   "metadata": {
    "collapsed": false
   },
   "outputs": [],
   "source": []
  },
  {
   "cell_type": "code",
   "execution_count": 157,
   "metadata": {
    "collapsed": false
   },
   "outputs": [
    {
     "name": "stdout",
     "output_type": "stream",
     "text": [
      "Data:2015-06 in processing..\n",
      "Data:2016-04 in processing..\n",
      "65417\n"
     ]
    }
   ],
   "source": [
    "cust_2_labels_dict = dict()\n",
    "\n",
    "pos_case_dict = dict()\n",
    "neg_case_dict = dict()\n",
    "\n",
    "\n",
    "model_eval = 23\n",
    "\n",
    "\n",
    "train_write = open(workspace_path + '/train/model_val/cust_product_m'+str(model_eval)+'_xgb.train', 'w')\n",
    "\n",
    "valid_write = open(workspace_path + '/train/model_val/cust_product_m'+str(model_eval)+'_xgb.valid', 'w')\n",
    "\n",
    "check_line_count = 0   \n",
    "#data 5[2016June] for model #18\n",
    "#data 16[2016May] for model #13\n",
    "#data 12[2016Jan] for model #20\n",
    "#data 11[2015Dec] for model #3\n",
    "#data 9[2015Oct] for model #3\n",
    "#----------------------------------\n",
    "#try data 12[2016Jan] for model #5\n",
    "#----------------------------------\n",
    "\n",
    "for date_index_major in [5,15]:\n",
    "    print 'Data:'+str(month_dict_inv[date_index_major])+' in processing..'\n",
    "    \n",
    "    feat_file = open(workspace_path + '/L4_feat_max/4_7_cust_date_nominal_prod_L4_'+str(month_dict_inv[date_index_major])+'_Model.feat', 'r')\n",
    "    \n",
    "    for line in feat_file:\n",
    "\n",
    "        line = line.strip()\n",
    "        check_line_count += 1\n",
    "\n",
    "        if len(line.split('|')) < 6:\n",
    "\n",
    "           print line \n",
    "\n",
    "        cust_id = line.split('|')[0]\n",
    "        date_note = line.split('|')[1]\n",
    "        label_tokens = line.split('|')[2]\n",
    "        \n",
    "        get_label = np.zeros(30)\n",
    "\n",
    "        for label_item in label_tokens.split(','):\n",
    "\n",
    "            if len(label_item) > 0:\n",
    "\n",
    "                prod_id = int(label_item)\n",
    "                get_label[prod_id] = 1\n",
    "\n",
    "#-------\n",
    "        if date_index_major in [5]:\n",
    "\n",
    "           for j in range(1,25):\n",
    "               \n",
    "               if j not in [1,2,10,11,12,21]: \n",
    "                \n",
    "                  if get_label[j] == 1 and j == model_eval:\n",
    " \n",
    "                     prt_line = str(1) + ' ' \n",
    "                     for fi in range(3,9):\n",
    "                         if len(line.split('|')[fi]) > 0:\n",
    "                            prt_line += line.split('|')[fi] + ' ' \n",
    "\n",
    "                     train_write.write(prt_line[:-1]+'\\n') \n",
    "                    \n",
    "                  elif get_label[j] == 1 and j != model_eval:\n",
    " \n",
    "                     prt_line = str(0) + ' ' \n",
    "                     for fi in range(3,9):\n",
    "                         if len(line.split('|')[fi]) > 0:\n",
    "                            prt_line += line.split('|')[fi] + ' ' \n",
    "\n",
    "                     train_write.write(prt_line[:-1]+'\\n')   \n",
    "                    \n",
    "           \n",
    "#-------\n",
    "        if date_index_major in [15]:\n",
    "\n",
    "           for j in range(1,25):\n",
    "               \n",
    "               if j not in [1,2,10,11,12,21]: \n",
    "                \n",
    "                  if get_label[j] == 1 and j == model_eval:\n",
    " \n",
    "                     prt_line = str(1) + ' ' \n",
    "                     for fi in range(3,9):\n",
    "                         if len(line.split('|')[fi]) > 0:\n",
    "                            prt_line += line.split('|')[fi] + ' ' \n",
    "\n",
    "                     valid_write.write(prt_line[:-1]+'\\n') \n",
    "                    \n",
    "                  elif get_label[j] == 1 and j != model_eval:\n",
    " \n",
    "                     prt_line = str(0) + ' ' \n",
    "                     for fi in range(3,9):\n",
    "                         if len(line.split('|')[fi]) > 0:\n",
    "                            prt_line += line.split('|')[fi] + ' ' \n",
    "\n",
    "                     valid_write.write(prt_line[:-1]+'\\n') \n",
    "                                         \n",
    "\n",
    "\n",
    "    feat_file.close()           \n",
    " \n",
    "train_write.close()  \n",
    "valid_write.close()\n",
    "print check_line_count    "
   ]
  },
  {
   "cell_type": "code",
   "execution_count": null,
   "metadata": {
    "collapsed": false
   },
   "outputs": [],
   "source": []
  },
  {
   "cell_type": "code",
   "execution_count": 158,
   "metadata": {
    "collapsed": false
   },
   "outputs": [
    {
     "name": "stdout",
     "output_type": "stream",
     "text": [
      "(44055, 2)\n"
     ]
    }
   ],
   "source": [
    "train_data_path = './train/model_val/cust_product_m'+str(model_eval)+'_xgb.train'\n",
    "\n",
    "dtrain = xgb.DMatrix(train_data_path)\n",
    "\n",
    "# specify parameters via map\n",
    "param ={\"objective\" : \"multi:softprob\",    # multiclass classification \n",
    "              \"num_class\" : 2,    # number of classes \n",
    "              \"eval_metric\" : \"mlogloss\",    # evaluation metric \n",
    "              \"nthread\" : 6,   # number of threads to be used \n",
    "              \"max_depth\" : 14,    # maximum depth of tree \n",
    "              \"eta\" : 0.5,    # step size shrinkage \n",
    "              \"subsample\" : 0.8,    # part of data instances to grow tree \n",
    "              \"colsample_bytree\" : 0.8  # subsample ratio of columns when constructing each tree \n",
    "       }\n",
    "\n",
    "num_round = 50\n",
    "bst = xgb.train(param, dtrain, num_round)\n",
    "# make prediction\n",
    "preds = bst.predict(dtrain)\n",
    "\n",
    "print preds.shape"
   ]
  },
  {
   "cell_type": "code",
   "execution_count": 159,
   "metadata": {
    "collapsed": false
   },
   "outputs": [
    {
     "name": "stdout",
     "output_type": "stream",
     "text": [
      "(44055, 2)\n",
      "[[0 1]\n",
      " [0 1]\n",
      " [1 0]\n",
      " ..., \n",
      " [0 1]\n",
      " [0 1]\n",
      " [0 1]]\n",
      "44055\n",
      "2\n"
     ]
    }
   ],
   "source": [
    "preds_sort = np.argsort(preds, axis=1)\n",
    "print preds_sort.shape\n",
    "preds_top7 = np.fliplr(preds_sort)[:,:7]\n",
    "print preds_top7\n",
    "\n",
    "#----------------------------------------------------\n",
    "dtrain_label = dtrain.get_label().astype(int)\n",
    "\n",
    "print dtrain_label.shape[0]\n",
    "\n",
    "label_train_dict = dict()\n",
    "for i in range(0,dtrain_label.shape[0]):\n",
    "#for i in range(0,100):\n",
    "    \n",
    "    top_product = dtrain_label.astype(int)[i]\n",
    "    #print top_product\n",
    "    \n",
    "    if top_product not in label_train_dict:\n",
    "       label_train_dict[top_product]  = 1\n",
    "    else:\n",
    "       label_train_dict[top_product]  += 1\n",
    "    \n",
    "print len(label_train_dict)    "
   ]
  },
  {
   "cell_type": "code",
   "execution_count": 160,
   "metadata": {
    "collapsed": false
   },
   "outputs": [
    {
     "name": "stdout",
     "output_type": "stream",
     "text": [
      "train distribution\n",
      "label #0 :81.32\n",
      "label #1 :18.68\n"
     ]
    }
   ],
   "source": [
    "print 'train distribution'\n",
    "\n",
    "for item in label_train_dict:\n",
    "    \n",
    "    print 'label #' + str(item) + ' :%.2f'%(label_train_dict[item]/float(dtrain_label.shape[0])*100.0) \n",
    "    #print 'label #' + str(item)\n"
   ]
  },
  {
   "cell_type": "code",
   "execution_count": 161,
   "metadata": {
    "collapsed": false
   },
   "outputs": [
    {
     "name": "stdout",
     "output_type": "stream",
     "text": [
      "accuracy:0.875\n",
      "precision:0.721\n",
      "recall:0.536\n",
      "TP_count:4414\n",
      "FP_count:1706\n",
      "FN_count:3815\n",
      "TN_count:34120\n"
     ]
    }
   ],
   "source": [
    "correct_count = 0\n",
    "TP_count = 0\n",
    "FP_count = 0\n",
    "TN_count = 0\n",
    "FN_count = 0\n",
    "\n",
    "for i in range(0,len(dtrain_label)):\n",
    "    \n",
    "    if preds_top7[i,0] == dtrain_label[i]:\n",
    "\n",
    "       correct_count += 1 \n",
    "    \n",
    "       if preds_top7[i,0] == 1 and dtrain_label[i] == 1:\n",
    "            \n",
    "          TP_count += 1  \n",
    "    \n",
    "       elif preds_top7[i,0] == 0 and dtrain_label[i] == 0:\n",
    "            \n",
    "          TN_count += 1  \n",
    "    \n",
    "    else:\n",
    "        \n",
    "       if preds_top7[i,0] == 1 and dtrain_label[i] == 0:\n",
    "            \n",
    "          FP_count += 1  \n",
    "    \n",
    "       elif preds_top7[i,0] == 0 and dtrain_label[i] == 1:\n",
    "            \n",
    "          FN_count += 1   \n",
    " \n",
    "\n",
    "print 'accuracy:%.3f'%(correct_count/float(len(dtrain_label)))\n",
    "\n",
    "print 'precision:%.3f'%(TP_count/float(TP_count+FP_count))\n",
    "print 'recall:%.3f'%(TP_count/float(TP_count+FN_count))\n",
    "\n",
    "print 'TP_count:'+str(TP_count)\n",
    "print 'FP_count:'+str(FP_count)\n",
    "print 'FN_count:'+str(FN_count)\n",
    "print 'TN_count:'+str(TN_count)"
   ]
  },
  {
   "cell_type": "code",
   "execution_count": 162,
   "metadata": {
    "collapsed": false
   },
   "outputs": [],
   "source": [
    "valid_data_path = './train/model_val/cust_product_m'+str(model_eval)+'_xgb.valid'\n",
    "dvalid = xgb.DMatrix(valid_data_path)\n",
    "dvalid_label = dvalid.get_label().astype(int)\n",
    "preds = bst.predict(dvalid)\n",
    "\n"
   ]
  },
  {
   "cell_type": "code",
   "execution_count": 163,
   "metadata": {
    "collapsed": false
   },
   "outputs": [
    {
     "name": "stdout",
     "output_type": "stream",
     "text": [
      "(35125, 2)\n",
      "[[0 1]\n",
      " [0 1]\n",
      " [0 1]\n",
      " ..., \n",
      " [0 1]\n",
      " [0 1]\n",
      " [0 1]]\n"
     ]
    }
   ],
   "source": [
    "preds_sort = np.argsort(preds, axis=1)\n",
    "print preds_sort.shape\n",
    "preds_top7 = np.fliplr(preds_sort)[:,:15]\n",
    "print preds_top7\n",
    "\n",
    "label_submit_dict = dict()\n",
    "for i in range(0,preds_sort.shape[0]):\n",
    "#for i in range(0,100):\n",
    "    \n",
    "    top_product = preds_top7[i,0]\n",
    "    \n",
    "    if top_product not in label_submit_dict:\n",
    "       label_submit_dict[top_product]  = 1\n",
    "    else:\n",
    "       label_submit_dict[top_product]  += 1\n",
    "    "
   ]
  },
  {
   "cell_type": "code",
   "execution_count": 164,
   "metadata": {
    "collapsed": false
   },
   "outputs": [
    {
     "name": "stdout",
     "output_type": "stream",
     "text": [
      "validation distribution\n",
      "label #1 :94.56\n",
      "label #2 :5.44\n"
     ]
    }
   ],
   "source": [
    "print 'validation distribution'\n",
    "\n",
    "for item in label_submit_dict:\n",
    "    \n",
    "    print 'label #' + str(item+1) + ' :%.2f'%(label_submit_dict[item]/float(preds_sort.shape[0])*100.0) \n",
    "    #print 'label #' + str(item)\n"
   ]
  },
  {
   "cell_type": "code",
   "execution_count": 165,
   "metadata": {
    "collapsed": false
   },
   "outputs": [
    {
     "name": "stdout",
     "output_type": "stream",
     "text": [
      "accuracy:0.884\n",
      "precision:0.602\n",
      "recall:0.257\n",
      "TP_count:1151\n",
      "FP_count:761\n",
      "FN_count:3323\n",
      "TN_count:29890\n"
     ]
    }
   ],
   "source": [
    "correct_count = 0\n",
    "TP_count = 0\n",
    "FP_count = 0\n",
    "TN_count = 0\n",
    "FN_count = 0\n",
    "\n",
    "for i in range(0,len(dvalid_label)):\n",
    "    \n",
    "    if preds_top7[i,0] == dvalid_label[i]:\n",
    "\n",
    "       correct_count += 1 \n",
    "    \n",
    "       if preds_top7[i,0] == 1 and dvalid_label[i] == 1:\n",
    "            \n",
    "          TP_count += 1  \n",
    "    \n",
    "       elif preds_top7[i,0] == 0 and dvalid_label[i] == 0:\n",
    "            \n",
    "          TN_count += 1  \n",
    "    \n",
    "    else:\n",
    "        \n",
    "       if preds_top7[i,0] == 1 and dvalid_label[i] == 0:\n",
    "            \n",
    "          FP_count += 1  \n",
    "    \n",
    "       elif preds_top7[i,0] == 0 and dvalid_label[i] == 1:\n",
    "            \n",
    "          FN_count += 1   \n",
    " \n",
    "\n",
    "print 'accuracy:%.3f'%(correct_count/float(len(dvalid_label)))\n",
    "\n",
    "print 'precision:%.3f'%(TP_count/float(TP_count+FP_count))\n",
    "print 'recall:%.3f'%(TP_count/float(TP_count+FN_count))\n",
    "\n",
    "print 'TP_count:'+str(TP_count)\n",
    "print 'FP_count:'+str(FP_count)\n",
    "print 'FN_count:'+str(FN_count)\n",
    "print 'TN_count:'+str(TN_count)"
   ]
  },
  {
   "cell_type": "code",
   "execution_count": null,
   "metadata": {
    "collapsed": false
   },
   "outputs": [],
   "source": []
  },
  {
   "cell_type": "code",
   "execution_count": null,
   "metadata": {
    "collapsed": false
   },
   "outputs": [],
   "source": []
  },
  {
   "cell_type": "code",
   "execution_count": 12,
   "metadata": {
    "collapsed": false
   },
   "outputs": [],
   "source": [
    "test_data_path = './test/5_4_cust_date_prod_L4_max.test'\n",
    "dtest = xgb.DMatrix(test_data_path)\n",
    "preds = bst.predict(dtest)"
   ]
  },
  {
   "cell_type": "code",
   "execution_count": 13,
   "metadata": {
    "collapsed": true
   },
   "outputs": [],
   "source": [
    "label_dict = dict()\n",
    "label_dict[1] = 'ind_ahor_fin_ult1'\n",
    "label_dict[2] = 'ind_aval_fin_ult1'\n",
    "label_dict[3] = 'ind_cco_fin_ult1'\n",
    "label_dict[4] = 'ind_cder_fin_ult1'\n",
    "label_dict[5] = 'ind_cno_fin_ult1'\n",
    "label_dict[6] = 'ind_ctju_fin_ult1'\n",
    "label_dict[7] = 'ind_ctma_fin_ult1'\n",
    "label_dict[8] = 'ind_ctop_fin_ult1'\n",
    "label_dict[9] = 'ind_ctpp_fin_ult1'\n",
    "label_dict[10] = 'ind_deco_fin_ult1'\n",
    "label_dict[11] = 'ind_deme_fin_ult1'\n",
    "label_dict[12] = 'ind_dela_fin_ult1'\n",
    "label_dict[13] = 'ind_ecue_fin_ult1'\n",
    "label_dict[14] = 'ind_fond_fin_ult1'\n",
    "label_dict[15] = 'ind_hip_fin_ult1'\n",
    "label_dict[16] = 'ind_plan_fin_ult1'\n",
    "label_dict[17] = 'ind_pres_fin_ult1'\n",
    "label_dict[18] = 'ind_reca_fin_ult1'\n",
    "label_dict[19] = 'ind_tjcr_fin_ult1'\n",
    "label_dict[20] = 'ind_valo_fin_ult1'\n",
    "label_dict[21] = 'ind_viv_fin_ult1'\n",
    "label_dict[22] = 'ind_nomina_ult1'\n",
    "label_dict[23] = 'ind_nom_pens_ult1'\n",
    "label_dict[24] = 'ind_recibo_ult1'"
   ]
  },
  {
   "cell_type": "code",
   "execution_count": 14,
   "metadata": {
    "collapsed": false
   },
   "outputs": [
    {
     "name": "stdout",
     "output_type": "stream",
     "text": [
      "(929615, 2)\n",
      "(929615, 2)\n"
     ]
    }
   ],
   "source": [
    "preds_sort = np.argsort(preds, axis=1)\n",
    "print preds_sort.shape\n",
    "preds_top7 = np.fliplr(preds_sort)[:,:7]\n",
    "print preds_top7.shape\n",
    "\n",
    "label_submit_dict = dict()\n",
    "for i in range(0,preds_sort.shape[0]):\n",
    "#for i in range(0,100):\n",
    "    \n",
    "    top_product = preds_top7[i,0]\n",
    "    \n",
    "    if top_product not in label_submit_dict:\n",
    "       label_submit_dict[top_product]  = 1\n",
    "    else:\n",
    "       label_submit_dict[top_product]  += 1\n",
    "\n",
    "    "
   ]
  },
  {
   "cell_type": "code",
   "execution_count": 15,
   "metadata": {
    "collapsed": false
   },
   "outputs": [
    {
     "name": "stdout",
     "output_type": "stream",
     "text": [
      "submission distribution\n",
      "label #0 :96.35\n",
      "label #1 :3.65\n"
     ]
    }
   ],
   "source": [
    "print 'submission distribution'\n",
    "\n",
    "for item in label_submit_dict:\n",
    "    \n",
    "    print 'label #' + str(item) + ' :%.2f'%(label_submit_dict[item]/float(preds_sort.shape[0])*100.0) \n",
    "    #print 'label #' + str(item)\n"
   ]
  },
  {
   "cell_type": "code",
   "execution_count": 74,
   "metadata": {
    "collapsed": false
   },
   "outputs": [
    {
     "name": "stdout",
     "output_type": "stream",
     "text": [
      "929615\n"
     ]
    }
   ],
   "source": [
    "Eout_write = open('./output/TheLastFourRecord_pred_Dec08_xgb_m18.eout', 'w')  \n",
    "\n",
    "feat_data_path = workspace_path + '/input/test_ver2.csv'\n",
    "\n",
    "test_read = open(feat_data_path, 'r')\n",
    "headline = test_read.readline().strip()\n",
    "\n",
    "line_count = 0\n",
    "for line in test_read:\n",
    "    \n",
    "    line = line.strip().split(',')\n",
    "    cust_id = int(line[1].replace(' ',''))\n",
    "    \n",
    "    prt_line_temp = ''\n",
    "    \n",
    "    \n",
    "    product_index = preds_top7[line_count,0]\n",
    "    \n",
    "    if product_index == 1:\n",
    "    \n",
    "       prt_line = str(cust_id) + '|' + label_dict[18]  + '\\n'\n",
    "    \n",
    "    else:\n",
    "        \n",
    "       prt_line = str(cust_id) + '|\\n' \n",
    "    \n",
    "    line_count += 1\n",
    "    \n",
    "    Eout_write.write(prt_line)\n",
    "   \n",
    "print line_count \n",
    "Eout_write.close()"
   ]
  },
  {
   "cell_type": "code",
   "execution_count": 43,
   "metadata": {
    "collapsed": false
   },
   "outputs": [
    {
     "name": "stdout",
     "output_type": "stream",
     "text": [
      "956645\n"
     ]
    }
   ],
   "source": [
    "dict_read = open(workspace_path + '/dict/cust_last_prods.txt', 'r')\n",
    "\n",
    "cust_end_products_dict = dict()\n",
    "\n",
    "line_count = 0\n",
    "for line in dict_read:  \n",
    "    line = line.strip()\n",
    "    \n",
    "    line_count += 1\n",
    "    \n",
    "    cust_id = int(line.split('|')[0])\n",
    "    last_prod_date = line.split('|')[1]\n",
    "    label_tokens_get = line.split('|')[2]\n",
    "\n",
    "    \n",
    "    if cust_id not in cust_end_products_dict:\n",
    "       cust_end_products_dict[cust_id] = [] \n",
    "    \n",
    "    if len(label_tokens_get) > 0 and last_prod_date == '2016-05': \n",
    "    \n",
    "        for feat_item in label_tokens_get.split(','):\n",
    "            \n",
    "            prod_id = int(feat_item)\n",
    "            cust_end_products_dict[cust_id].append(label_dict[prod_id])\n",
    "        \n",
    "print line_count \n",
    "dict_read.close()"
   ]
  },
  {
   "cell_type": "code",
   "execution_count": 44,
   "metadata": {
    "collapsed": false
   },
   "outputs": [
    {
     "name": "stdout",
     "output_type": "stream",
     "text": [
      "929615\n",
      "2\n"
     ]
    }
   ],
   "source": [
    "Eout_dict_read = open('./output/TheLastFourRecord_pred_Dec08_xgb_m18.eout', 'r')  \n",
    "id_2_prod_dict = dict()\n",
    "\n",
    "for line in Eout_dict_read:\n",
    "    line = line.strip()\n",
    "    \n",
    "    if len(line.split('|')) != 2:\n",
    "       print 'error_line:'+line\n",
    "    else:\n",
    "       cust_id  = int(line.split('|')[0])\n",
    "       products = line.split('|')[1]\n",
    "        \n",
    "       id_2_prod_dict[cust_id] = products \n",
    "\n",
    "    \n",
    "sample_submission_read = open('./output/sample_submission.csv', 'r')\n",
    "\n",
    "head_line = 'ncodpers,added_products' + '\\n'\n",
    "submission_write = open('./output/submission_Dec08-2_m8.csv', 'w')  \n",
    "submission_write.write(head_line)\n",
    "\n",
    "check_line_count = 0\n",
    "\n",
    "duplicated_items_count = 0\n",
    "#for i in range(0,10000):    \n",
    "    #line = sample_submission_read.readline().strip()\n",
    "    \n",
    "for line in sample_submission_read:\n",
    "    line = line.strip()    \n",
    "    \n",
    "    if 'ncodpers' not in line:\n",
    "    \n",
    "        cust_id  = int(line.split(',')[0])\n",
    "\n",
    "        prt_line = str(cust_id) + ','\n",
    "        \n",
    "        pruned_line = False\n",
    "        \n",
    "        added_items_count = 0\n",
    "\n",
    "        if cust_id in id_2_prod_dict:\n",
    "            \n",
    "           \n",
    "           #print cust_end_products_dict[cust_id]\n",
    "           #print 'predict:'+ str(id_2_prod_dict[cust_id])  \n",
    "           \n",
    "           for prod_name_item in id_2_prod_dict[cust_id].split(' '):\n",
    "            \n",
    "               \n",
    "               if cust_id in cust_end_products_dict:\n",
    "                   if prod_name_item not in cust_end_products_dict[cust_id]:\n",
    "                        \n",
    "                         if added_items_count < 7:\n",
    "                            \n",
    "                            prt_line += prod_name_item + ' '\n",
    "                        \n",
    "                            added_items_count += 1\n",
    "\n",
    "                            pruned_line = True\n",
    "\n",
    "                   else: \n",
    "\n",
    "                     #print '->' + prod_name_item    \n",
    "\n",
    "                        duplicated_items_count += 1\n",
    "\n",
    "        check_line_count += 1\n",
    "        \n",
    "        if pruned_line:\n",
    "           submission_write.write(prt_line[:-1]+'\\n')\n",
    "        else:\n",
    "           submission_write.write(prt_line+'\\n')  \n",
    "\n",
    "print check_line_count \n",
    "print duplicated_items_count\n",
    "    \n",
    "submission_write.close() \n",
    "sample_submission_read.close() \n",
    "Eout_dict_read.close() "
   ]
  },
  {
   "cell_type": "code",
   "execution_count": null,
   "metadata": {
    "collapsed": true
   },
   "outputs": [],
   "source": []
  }
 ],
 "metadata": {
  "kernelspec": {
   "display_name": "Python 2",
   "language": "python",
   "name": "python2"
  },
  "language_info": {
   "codemirror_mode": {
    "name": "ipython",
    "version": 2
   },
   "file_extension": ".py",
   "mimetype": "text/x-python",
   "name": "python",
   "nbconvert_exporter": "python",
   "pygments_lexer": "ipython2",
   "version": "2.7.5"
  }
 },
 "nbformat": 4,
 "nbformat_minor": 0
}
