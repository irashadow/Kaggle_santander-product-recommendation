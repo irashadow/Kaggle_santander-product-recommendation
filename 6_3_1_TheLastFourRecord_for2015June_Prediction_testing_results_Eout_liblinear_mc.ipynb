{
 "cells": [
  {
   "cell_type": "code",
   "execution_count": 4,
   "metadata": {
    "collapsed": false
   },
   "outputs": [],
   "source": [
    "import os\n",
    "import csv\n",
    "import sys\n",
    "import random\n",
    "import scipy\n",
    "import numpy as np\n",
    "from itertools import izip\n",
    "\n",
    "\n",
    "model_no = 19\n",
    "\n",
    "workspace_path = '/home/irashadow/python_workspace/Kaggle_Comp/Santander/'\n",
    "\n",
    "label_dict = dict()\n",
    "label_dict[1] = 'ind_ahor_fin_ult1'\n",
    "label_dict[2] = 'ind_aval_fin_ult1'\n",
    "label_dict[3] = 'ind_cco_fin_ult1'\n",
    "label_dict[4] = 'ind_cder_fin_ult1'\n",
    "label_dict[5] = 'ind_cno_fin_ult1'\n",
    "label_dict[6] = 'ind_ctju_fin_ult1'\n",
    "label_dict[7] = 'ind_ctma_fin_ult1'\n",
    "label_dict[8] = 'ind_ctop_fin_ult1'\n",
    "label_dict[9] = 'ind_ctpp_fin_ult1'\n",
    "label_dict[10] = 'ind_deco_fin_ult1'\n",
    "label_dict[11] = 'ind_deme_fin_ult1'\n",
    "label_dict[12] = 'ind_dela_fin_ult1'\n",
    "label_dict[13] = 'ind_ecue_fin_ult1'\n",
    "label_dict[14] = 'ind_fond_fin_ult1'\n",
    "label_dict[15] = 'ind_hip_fin_ult1'\n",
    "label_dict[16] = 'ind_plan_fin_ult1'\n",
    "label_dict[17] = 'ind_pres_fin_ult1'\n",
    "label_dict[18] = 'ind_reca_fin_ult1'\n",
    "label_dict[19] = 'ind_tjcr_fin_ult1'\n",
    "label_dict[20] = 'ind_valo_fin_ult1'\n",
    "label_dict[21] = 'ind_viv_fin_ult1'\n",
    "label_dict[22] = 'ind_nomina_ult1'\n",
    "label_dict[23] = 'ind_nom_pens_ult1'\n",
    "label_dict[24] = 'ind_recibo_ult1'\n"
   ]
  },
  {
   "cell_type": "code",
   "execution_count": 5,
   "metadata": {
    "collapsed": false
   },
   "outputs": [],
   "source": [
    "#train_read = open(workspace_path + '/train/model_pf02/cust_product_'+str(model_no)+'.train', 'r')\n",
    "#Ein_read = open(workspace_path + '../liblinear-2.1/output/cust_product_'+str(model_no)+'_inv.Ein', 'r')\n",
    "\n",
    "\n",
    "\n",
    "test_data_path = './test/5_4_cust_date_prod_L4.test'\n",
    "model_path = '../liblinear-2.1/model_save/cust_product_lib_mc.model'\n",
    "Eout_path = '../liblinear-2.1/EoutOutput/cust_product_lib_mc.Eout'\n",
    "\n",
    "\n",
    "predi_command = '../liblinear-2.1/./predict -b 1'\n",
    "#print os.system(\"pwd\");\n",
    "os.system(predi_command +' '+ test_data_path +' '+ model_path +' '+ Eout_path);\n",
    "\n"
   ]
  },
  {
   "cell_type": "code",
   "execution_count": null,
   "metadata": {
    "collapsed": true
   },
   "outputs": [],
   "source": [
    "Eout_results_id_2_prod = dict()\n",
    "\n",
    "feat_data_path = workspace_path + '/input/test_ver2.csv'\n",
    "Eout_path = '../liblinear-2.1/EoutOutput/cust_product_lib_mc.Eout'\n",
    "\n",
    "test_read = open(feat_data_path, 'r')\n",
    "headline = test_read.readline().strip()\n",
    "Eout_read = open(Eout_path, 'r')\n",
    "pred_headline = Eout_read.readline().strip().split(' ')\n",
    "head_labels = []\n",
    "for item in pred_headline:\n",
    "    head_labels.append(item) \n",
    "        \n",
    "\n",
    "print pred_headline\n",
    "\n",
    "check_line_count = 0\n",
    "\n",
    "with test_read as test_data, Eout_read as predict_label: \n",
    "     for line1, line2 in izip(test_data, predict_label):\n",
    "         line1 = line1.strip().split(',')\n",
    "         line2 = line2.strip().split(' ')\n",
    "\n",
    "         check_line_count += 1\n",
    "\n",
    "         prob_dict = dict()\n",
    "         for i in range(0,len(head_labels)):\n",
    "             prob_dict[head_labels[i]] = line2[i]\n",
    "        \n",
    "         #get the cust_id\n",
    "         cust_id = ''   \n",
    "         cust_id = int(line1[1].replace(' ',''))\n",
    "\n",
    "         if cust_id not in Eout_results_id_2_prod:\n",
    "            Eout_results_id_2_prod[cust_id] = []    \n",
    "\n",
    "         for i in range(1,25):   \n",
    "             if str(i) in prob_dict:\n",
    "                Eout_results_id_2_prod[cust_id].append(float(prob_dict[str(i)])) \n",
    "             else:\n",
    "                Eout_results_id_2_prod[cust_id].append(0.0)    \n",
    "        \n",
    "\n",
    "test_read.close()\n",
    "Eout_read.close()\n",
    "\n",
    "print check_line_count  "
   ]
  },
  {
   "cell_type": "code",
   "execution_count": 8,
   "metadata": {
    "collapsed": false
   },
   "outputs": [
    {
     "name": "stdout",
     "output_type": "stream",
     "text": [
      "[0.0, 0.0, 0.161476, 1.64275e-05, 2.3677e-05, 1.02854e-05, 3.83894e-05, 2.81665e-05, 2.22421e-05, 7.02262e-07, 0.111058, 1.49482e-05, 0.0289322, 0.0107736, 3.48536e-05, 0.000107691, 7.64546e-05, 0.0524915, 0.593837, 0.000284369, 2.82413e-05, 0.0361052, 0.00434111, 0.000298627]\n"
     ]
    }
   ],
   "source": [
    "print Eout_results_id_2_prod[15906] "
   ]
  },
  {
   "cell_type": "code",
   "execution_count": 7,
   "metadata": {
    "collapsed": true
   },
   "outputs": [],
   "source": [
    "#K = [4, 5, 1, 6, 2, 5, 2, 10]  \n",
    "#print np.argsort(K)[::-1][:3]    \n",
    "#print np.argsort(Eout_results_id_2_prod['15906'])    \n",
    "\n",
    "Eout_results_id_2_prod_write = dict()\n",
    "for item in Eout_results_id_2_prod:\n",
    "    \n",
    "    #select the largest 7 product items for output\n",
    "    largest_7_prob_products = np.argsort(Eout_results_id_2_prod[item])[::-1][:15] \n",
    "    \n",
    "    prt_line = ''\n",
    "    \n",
    "    for product_index in largest_7_prob_products:\n",
    "        \n",
    "        prt_line += label_dict[product_index+1] + ' '\n",
    "        \n",
    "    Eout_results_id_2_prod_write[item] = prt_line[:-1]    \n",
    "        \n",
    "        "
   ]
  },
  {
   "cell_type": "code",
   "execution_count": 9,
   "metadata": {
    "collapsed": false
   },
   "outputs": [
    {
     "name": "stdout",
     "output_type": "stream",
     "text": [
      "ind_tjcr_fin_ult1 ind_cco_fin_ult1 ind_deme_fin_ult1 ind_reca_fin_ult1 ind_nomina_ult1 ind_ecue_fin_ult1 ind_fond_fin_ult1 ind_nom_pens_ult1 ind_recibo_ult1 ind_valo_fin_ult1 ind_plan_fin_ult1 ind_pres_fin_ult1 ind_ctma_fin_ult1 ind_hip_fin_ult1 ind_viv_fin_ult1\n"
     ]
    }
   ],
   "source": [
    "print Eout_results_id_2_prod_write[15906]    "
   ]
  },
  {
   "cell_type": "code",
   "execution_count": 6,
   "metadata": {
    "collapsed": false
   },
   "outputs": [
    {
     "name": "stdout",
     "output_type": "stream",
     "text": [
      "ind_tjcr_fin_ult1 ind_reca_fin_ult1 ind_cco_fin_ult1 ind_fond_fin_ult1 ind_nomina_ult1 ind_ecue_fin_ult1 ind_valo_fin_ult1 ind_hip_fin_ult1 ind_nom_pens_ult1 ind_ctma_fin_ult1 ind_plan_fin_ult1 ind_deme_fin_ult1 ind_dela_fin_ult1 ind_ctop_fin_ult1 ind_cno_fin_ult1\n"
     ]
    }
   ],
   "source": [
    "print Eout_results_id_2_prod_write[15906]    \n",
    "        "
   ]
  },
  {
   "cell_type": "code",
   "execution_count": 10,
   "metadata": {
    "collapsed": false
   },
   "outputs": [],
   "source": [
    "Eout_write = open('./output/TheLastFourRecord_pred_Nov29.eout', 'w')  \n",
    "\n",
    "prt_line = ''    \n",
    "for item in Eout_results_id_2_prod_write:\n",
    "\n",
    "    prt_line = str(item) + '|' + Eout_results_id_2_prod_write[item] + '\\n'\n",
    "    \n",
    "    Eout_write.write(prt_line)\n",
    "   \n",
    "Eout_write.close()"
   ]
  },
  {
   "cell_type": "code",
   "execution_count": 11,
   "metadata": {
    "collapsed": false
   },
   "outputs": [
    {
     "name": "stdout",
     "output_type": "stream",
     "text": [
      "956645\n"
     ]
    }
   ],
   "source": [
    "dict_read = open(workspace_path + '/dict/cust_last_prods.txt', 'r')\n",
    "\n",
    "cust_end_products_dict = dict()\n",
    "\n",
    "line_count = 0\n",
    "for line in dict_read:  \n",
    "    line = line.strip()\n",
    "    \n",
    "    line_count += 1\n",
    "    \n",
    "    cust_id = int(line.split('|')[0])\n",
    "    last_prod_date = line.split('|')[1]\n",
    "    label_tokens_get = line.split('|')[2]\n",
    "\n",
    "    \n",
    "    if cust_id not in cust_end_products_dict:\n",
    "       cust_end_products_dict[cust_id] = [] \n",
    "    \n",
    "    if len(label_tokens_get) > 0 and last_prod_date == '2016-05': \n",
    "    \n",
    "        for feat_item in label_tokens_get.split(','):\n",
    "            \n",
    "            prod_id = int(feat_item)\n",
    "            cust_end_products_dict[cust_id].append(label_dict[prod_id])\n",
    "        \n",
    "print line_count \n",
    "dict_read.close()"
   ]
  },
  {
   "cell_type": "code",
   "execution_count": null,
   "metadata": {
    "collapsed": false
   },
   "outputs": [],
   "source": []
  },
  {
   "cell_type": "code",
   "execution_count": 9,
   "metadata": {
    "collapsed": false
   },
   "outputs": [
    {
     "name": "stdout",
     "output_type": "stream",
     "text": [
      "['ind_cco_fin_ult1', 'ind_ctpp_fin_ult1', 'ind_tjcr_fin_ult1', 'ind_valo_fin_ult1']\n"
     ]
    }
   ],
   "source": [
    "print cust_end_products_dict[15889]"
   ]
  },
  {
   "cell_type": "code",
   "execution_count": 12,
   "metadata": {
    "collapsed": false
   },
   "outputs": [
    {
     "name": "stdout",
     "output_type": "stream",
     "text": [
      "929615\n",
      "1050070\n"
     ]
    }
   ],
   "source": [
    "Eout_dict_read = open('./output/TheLastFourRecord_pred_Nov29.eout', 'r')  \n",
    "id_2_prod_dict = dict()\n",
    "\n",
    "for line in Eout_dict_read:\n",
    "    line = line.strip()\n",
    "    \n",
    "    if len(line.split('|')) != 2:\n",
    "       print 'error_line:'+line\n",
    "    else:\n",
    "       cust_id  = int(line.split('|')[0])\n",
    "       products = line.split('|')[1]\n",
    "        \n",
    "       id_2_prod_dict[cust_id] = products \n",
    "\n",
    "    \n",
    "sample_submission_read = open('./output/sample_submission.csv', 'r')\n",
    "\n",
    "head_line = 'ncodpers,added_products' + '\\n'\n",
    "submission_write = open('./output/submission_Nov29-1.csv', 'w')  \n",
    "submission_write.write(head_line)\n",
    "\n",
    "check_line_count = 0\n",
    "\n",
    "duplicated_items_count = 0\n",
    "#for i in range(0,10000):    \n",
    "    #line = sample_submission_read.readline().strip()\n",
    "    \n",
    "for line in sample_submission_read:\n",
    "    line = line.strip()    \n",
    "    \n",
    "    if 'ncodpers' not in line:\n",
    "    \n",
    "        cust_id  = int(line.split(',')[0])\n",
    "\n",
    "        prt_line = str(cust_id) + ','\n",
    "        \n",
    "        pruned_line = False\n",
    "        \n",
    "        added_items_count = 0\n",
    "\n",
    "        if cust_id in id_2_prod_dict:\n",
    "            \n",
    "           \n",
    "           #print cust_end_products_dict[cust_id]\n",
    "           #print 'predict:'+ str(id_2_prod_dict[cust_id])  \n",
    "           \n",
    "           for prod_name_item in id_2_prod_dict[cust_id].split(' '):\n",
    "            \n",
    "               \n",
    "               if cust_id in cust_end_products_dict:\n",
    "                   if prod_name_item not in cust_end_products_dict[cust_id]:\n",
    "                        \n",
    "                         if added_items_count < 7:\n",
    "                            \n",
    "                            prt_line += prod_name_item + ' '\n",
    "                        \n",
    "                            added_items_count += 1\n",
    "\n",
    "                            pruned_line = True\n",
    "\n",
    "                   else: \n",
    "\n",
    "                     #print '->' + prod_name_item    \n",
    "\n",
    "                        duplicated_items_count += 1\n",
    "\n",
    "        check_line_count += 1\n",
    "        \n",
    "        if pruned_line:\n",
    "           submission_write.write(prt_line[:-1]+'\\n')\n",
    "        else:\n",
    "           submission_write.write(prt_line+'\\n')  \n",
    "\n",
    "print check_line_count \n",
    "print duplicated_items_count\n",
    "    \n",
    "submission_write.close() \n",
    "sample_submission_read.close() \n",
    "Eout_dict_read.close() "
   ]
  },
  {
   "cell_type": "code",
   "execution_count": 4,
   "metadata": {
    "collapsed": false
   },
   "outputs": [
    {
     "name": "stdout",
     "output_type": "stream",
     "text": [
      "TP = 8728\n",
      "FP = 4856\n",
      "TN = 224378\n",
      "FN = 2571\n",
      "precison = 0.64\n",
      "recall = 0.77\n",
      "accuracy = 0.97\n"
     ]
    }
   ],
   "source": []
  },
  {
   "cell_type": "code",
   "execution_count": null,
   "metadata": {
    "collapsed": true
   },
   "outputs": [],
   "source": []
  }
 ],
 "metadata": {
  "kernelspec": {
   "display_name": "Python 2",
   "language": "python",
   "name": "python2"
  },
  "language_info": {
   "codemirror_mode": {
    "name": "ipython",
    "version": 2
   },
   "file_extension": ".py",
   "mimetype": "text/x-python",
   "name": "python",
   "nbconvert_exporter": "python",
   "pygments_lexer": "ipython2",
   "version": "2.7.5"
  }
 },
 "nbformat": 4,
 "nbformat_minor": 0
}
