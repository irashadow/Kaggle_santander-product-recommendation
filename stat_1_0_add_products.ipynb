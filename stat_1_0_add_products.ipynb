{
 "cells": [
  {
   "cell_type": "code",
   "execution_count": 2,
   "metadata": {
    "collapsed": true
   },
   "outputs": [],
   "source": [
    "import os\n",
    "import csv\n",
    "import sys\n",
    "import random\n",
    "import scipy\n",
    "import numpy as np\n",
    "\n",
    "\n",
    "workspace_path = '/home/irashadow/python_workspace/Kaggle_Comp/Santander/'\n",
    "\n",
    "month_dict = dict()\n",
    "\n",
    "month_dict['2015-01'] = 0\n",
    "month_dict['2015-02'] = 1\n",
    "month_dict['2015-03'] = 2\n",
    "month_dict['2015-04'] = 3\n",
    "month_dict['2015-05'] = 4\n",
    "month_dict['2015-06'] = 5\n",
    "month_dict['2015-07'] = 6\n",
    "month_dict['2015-08'] = 7\n",
    "month_dict['2015-09'] = 8\n",
    "month_dict['2015-10'] = 9\n",
    "month_dict['2015-11'] = 10\n",
    "month_dict['2015-12'] = 11\n",
    "month_dict['2016-01'] = 12\n",
    "month_dict['2016-02'] = 13\n",
    "month_dict['2016-03'] = 14\n",
    "month_dict['2016-04'] = 15\n",
    "month_dict['2016-05'] = 16\n",
    "#month_dict['2016-06'] = 17\n",
    "\n",
    "#print cust_dict_tr\n",
    "\n",
    "base_num = 60\n",
    "\n",
    "#features_count = 16 * (30(pos) + 30(neg))\n",
    "features_count = (16+1) * base_num"
   ]
  },
  {
   "cell_type": "code",
   "execution_count": 5,
   "metadata": {
    "collapsed": false
   },
   "outputs": [
    {
     "name": "stdout",
     "output_type": "stream",
     "text": [
      "956645\n"
     ]
    }
   ],
   "source": [
    "dict_read = open(workspace_path + '/dict/cust_product_added_lastmonth.csv', 'r')\n",
    "\n",
    "#stat_write = open(workspace_path + '/stat/stat_added_products.feat', 'w')\n",
    "\n",
    "date_added_products_dict = dict()\n",
    "\n",
    "date_added_products_sum_dict = dict()\n",
    "\n",
    "products_added_cust_sum_dict = dict()\n",
    "\n",
    "check_line_count = 0\n",
    "\n",
    "#for i in range(0,10000):\n",
    "    #line = dict_read.readline().strip()\n",
    "\n",
    "for line in dict_read:\n",
    "    line = line.strip()\n",
    "    \n",
    "    check_line_count += 1\n",
    "    \n",
    "    #if len(line.split(':')) != 2: \n",
    "       #print line \n",
    "    \n",
    "    cust_id = line.split(':')[0]\n",
    "    \n",
    "    cust_items = line.split(':')[1]\n",
    "    \n",
    "    if len(cust_items) > 0:\n",
    "    \n",
    "        for prod_item in cust_items.split(';'):\n",
    "\n",
    "            date_item = prod_item.split('|')[0]\n",
    "            pres_items_get = prod_item.split('|')[1]\n",
    "\n",
    "\n",
    "\n",
    "            if date_item not in date_added_products_dict:\n",
    "               date_added_products_dict[date_item] = dict() \n",
    "               date_added_products_sum_dict[date_item] = 0\n",
    "               products_added_cust_sum_dict[date_item] = 0\n",
    "\n",
    "\n",
    "            if len(pres_items_get) > 1:\n",
    "\n",
    "               if '+' in pres_items_get:   \n",
    "\n",
    "                  products_added_cust_sum_dict[date_item] += 1\n",
    "\n",
    "               for items_sub in pres_items_get.split(','):\n",
    "\n",
    "                   if items_sub[0] == '+': \n",
    "                        \n",
    "                      date_added_products_sum_dict[date_item] += 1\n",
    "  \n",
    "                      if items_sub not in date_added_products_dict[date_item]:\n",
    "\n",
    "                         date_added_products_dict[date_item][items_sub] = 1\n",
    "                         \n",
    "                      else: \n",
    "\n",
    "                         date_added_products_dict[date_item][items_sub] += 1\n",
    "                         \n",
    "\n",
    "\n",
    "                   #elif items_sub[0] == '-': \n",
    "                      #index_correct = abs(int(items_sub)) + 30\n",
    "\n",
    "\n",
    "     \n",
    "    \n",
    "print check_line_count    "
   ]
  },
  {
   "cell_type": "code",
   "execution_count": 3,
   "metadata": {
    "collapsed": false
   },
   "outputs": [
    {
     "name": "stdout",
     "output_type": "stream",
     "text": [
      "54268\n"
     ]
    }
   ],
   "source": [
    "print date_added_products_sum_dict['2015-06']\n"
   ]
  },
  {
   "cell_type": "code",
   "execution_count": 11,
   "metadata": {
    "collapsed": false
   },
   "outputs": [
    {
     "name": "stdout",
     "output_type": "stream",
     "text": [
      "2015-01\n",
      "2015-02\n",
      "2015-03\n",
      "2015-04\n",
      "2015-05\n",
      "2015-06\n",
      "2015-07\n",
      "2015-08\n",
      "2015-09\n",
      "2015-10\n",
      "2015-11\n",
      "2015-12\n",
      "2016-01\n",
      "2016-02\n",
      "2016-03\n",
      "2016-04\n",
      "2016-05\n"
     ]
    }
   ],
   "source": [
    "stat_write = open(workspace_path + '/stat/stat_added_products.feat', 'w')\n",
    "\n",
    "head_line = 'Date---|Count|   #1,   #2,   #3,   #4,   #5,   #6,   #7,   #8,   #9,  #10,  #11,  #12,  #13,  #14,  #15,  #16,  #17,  #18,  #19,  #20,  #21,  #22,  #23,  #24'\n",
    "\n",
    "stat_write.write(head_line+'\\n')  \n",
    "for item in sorted(date_added_products_sum_dict.keys()):\n",
    "    print item\n",
    "    if item != '2015-01':\n",
    "        prt_line = item + '|%5d'%(date_added_products_sum_dict[item]) + '|' \n",
    "\n",
    "        for inx in range(1,25):\n",
    "\n",
    "            sub_item = '+' + str(inx)\n",
    "\n",
    "            if sub_item in date_added_products_dict[item]:\n",
    "\n",
    "               prt_line += '%5d,'%(date_added_products_dict[item][sub_item])\n",
    "            else:\n",
    "               prt_line += '    0,' \n",
    "\n",
    "        \n",
    "        stat_write.write(prt_line[:-1]+'\\n')    \n",
    "    \n",
    "stat_write.close()    "
   ]
  },
  {
   "cell_type": "code",
   "execution_count": 12,
   "metadata": {
    "collapsed": false
   },
   "outputs": [],
   "source": [
    "stat_write = open(workspace_path + '/stat/stat_added_products_percent.feat', 'w')\n",
    "\n",
    "head_line = 'Date---|Count| #1, #2, #3, #4, #5, #6, #7, #8, #9,#10,#11,#12,#13,#14,#15,#16,#17,#18,#19,#20,#21,#22,#23,#24'\n",
    "\n",
    "stat_write.write(head_line+'\\n')  \n",
    "for item in sorted(date_added_products_sum_dict.keys()):\n",
    "    if item != '2015-01':\n",
    "    \n",
    "        prt_line = item + '|%5d'%(date_added_products_sum_dict[item]) + '|' \n",
    "\n",
    "        for inx in range(1,25):\n",
    "\n",
    "            sub_item = '+' + str(inx)\n",
    "\n",
    "            if sub_item in date_added_products_dict[item]:\n",
    "\n",
    "               prt_line += '%3d,'%(int(date_added_products_dict[item][sub_item]/float(date_added_products_sum_dict[item])*100.0))\n",
    "            else:\n",
    "               prt_line += '  0,' \n",
    "\n",
    "\n",
    "        stat_write.write(prt_line[:-1]+'\\n')    \n",
    "    \n",
    "stat_write.close()  "
   ]
  },
  {
   "cell_type": "code",
   "execution_count": 6,
   "metadata": {
    "collapsed": false
   },
   "outputs": [
    {
     "name": "stdout",
     "output_type": "stream",
     "text": [
      "2015-02|34152\n",
      "2015-03|31007\n",
      "2015-04|31330\n",
      "2015-05|31920\n",
      "2015-06|39314\n",
      "2015-07|33811\n",
      "2015-08|32864\n",
      "2015-09|36715\n",
      "2015-10|44297\n",
      "2015-11|41135\n",
      "2015-12|47087\n",
      "2016-01|36238\n",
      "2016-02|48580\n",
      "2016-03|40862\n",
      "2016-04|37064\n",
      "2016-05|39758\n"
     ]
    }
   ],
   "source": [
    "for item in sorted(products_added_cust_sum_dict.keys()):\n",
    "    \n",
    "    print item + '|' + str(products_added_cust_sum_dict[item])\n",
    "    "
   ]
  },
  {
   "cell_type": "code",
   "execution_count": 5,
   "metadata": {
    "collapsed": false
   },
   "outputs": [
    {
     "name": "stdout",
     "output_type": "stream",
     "text": [
      "2015-02|34152\n",
      "2015-03|31007\n",
      "2015-04|31330\n",
      "2015-05|31920\n",
      "2015-06|39314\n",
      "2015-07|33811\n",
      "2015-08|32864\n",
      "2015-09|36715\n",
      "2015-10|44297\n",
      "2015-11|41135\n",
      "2015-12|47087\n",
      "2016-01|36238\n",
      "2016-02|48580\n",
      "2016-03|40862\n",
      "2016-04|37064\n",
      "2016-05|39758\n"
     ]
    }
   ],
   "source": [
    "for item in sorted(products_added_cust_sum_dict.keys()):\n",
    "    \n",
    "    print item + '|' + str(products_added_cust_sum_dict[item])\n",
    "    "
   ]
  },
  {
   "cell_type": "code",
   "execution_count": 7,
   "metadata": {
    "collapsed": false
   },
   "outputs": [
    {
     "ename": "KeyError",
     "evalue": "'+25'",
     "output_type": "error",
     "traceback": [
      "\u001b[1;31m---------------------------------------------------------------------------\u001b[0m",
      "\u001b[1;31mKeyError\u001b[0m                                  Traceback (most recent call last)",
      "\u001b[1;32m<ipython-input-7-b27490f526b4>\u001b[0m in \u001b[0;36m<module>\u001b[1;34m()\u001b[0m\n\u001b[1;32m----> 1\u001b[1;33m \u001b[1;32mprint\u001b[0m \u001b[0mdate_added_products_dict\u001b[0m\u001b[1;33m[\u001b[0m\u001b[0mdate_item\u001b[0m\u001b[1;33m]\u001b[0m\u001b[1;33m[\u001b[0m\u001b[1;34m'+25'\u001b[0m\u001b[1;33m]\u001b[0m\u001b[1;33m\u001b[0m\u001b[0m\n\u001b[0m",
      "\u001b[1;31mKeyError\u001b[0m: '+25'"
     ]
    }
   ],
   "source": [
    "print date_added_products_dict[date_item]['+25'] "
   ]
  },
  {
   "cell_type": "code",
   "execution_count": 7,
   "metadata": {
    "collapsed": false
   },
   "outputs": [
    {
     "name": "stdout",
     "output_type": "stream",
     "text": [
      "36710\n",
      "45679\n"
     ]
    }
   ],
   "source": [
    "dict_read = open(workspace_path + '/dict/cust_product_added_lastmonth.csv', 'r')\n",
    "\n",
    "\n",
    "added_product_person_count = dict()\n",
    "added_products_count = 0\n",
    "\n",
    "submitted_record = dict()\n",
    "\n",
    "#for i in range(0,1000):\n",
    "    #line = dict_read.readline().strip()\n",
    "for line in dict_read:\n",
    "    line = line.strip()\n",
    "    \n",
    "    cust_id = line.split(':')[0]\n",
    "    cust_items = line.split(':')[1]\n",
    "    \n",
    "    if len(cust_items) > 0:\n",
    "    \n",
    "        for prod_item in cust_items.split(';'):\n",
    "            \n",
    "            if len(prod_item.split('|')) < 2:\n",
    "               print prod_item \n",
    "\n",
    "            date_item = prod_item.split('|')[0]\n",
    "            pres_items_get = prod_item.split('|')[1]\n",
    " \n",
    "                        \n",
    "            if date_item == '2015-06' and  '+' in pres_items_get:\n",
    "               added_product_person_count[cust_id] = True\n",
    "               #print prod_item\n",
    "            \n",
    "               added_records = np.zeros(30)\n",
    "               for items_sub in pres_items_get.split(','):\n",
    "\n",
    "                   if items_sub[0] == '+':\n",
    "                      added_products_count += 1   \n",
    "                      added_records[int(items_sub)] = 1\n",
    "                        \n",
    "               added_records2string = str(list(np.where(added_records == 1))[0])\n",
    "               \n",
    "               if added_records2string not in submitted_record:\n",
    "                  submitted_record[added_records2string] = 1   \n",
    "               else:\n",
    "                  submitted_record[added_records2string] += 1\n",
    "                    \n",
    "        \n",
    "    \n",
    "print len(added_product_person_count)   \n",
    "print added_products_count "
   ]
  },
  {
   "cell_type": "code",
   "execution_count": 1,
   "metadata": {
    "collapsed": false
   },
   "outputs": [],
   "source": [
    "#print submitted_record.keys()\n",
    "\n",
    "#from operator import itemgetter\n",
    "#for k, v in sorted(submitted_record.items(), key=itemgetter(1)):\n",
    "    #print str(k) + ':' + str(v)\n",
    "\n"
   ]
  },
  {
   "cell_type": "code",
   "execution_count": 60,
   "metadata": {
    "collapsed": false
   },
   "outputs": [
    {
     "name": "stdout",
     "output_type": "stream",
     "text": [
      "[array([ 1,  2,  3,  4,  5,  6,  7,  8,  9, 10, 11, 12, 13, 14, 15, 16, 17,\n",
      "       18, 19])]\n"
     ]
    }
   ],
   "source": [
    "print temp_inx"
   ]
  },
  {
   "cell_type": "code",
   "execution_count": 64,
   "metadata": {
    "collapsed": false
   },
   "outputs": [
    {
     "name": "stdout",
     "output_type": "stream",
     "text": [
      "1\n",
      "2\n",
      "3\n",
      "4\n",
      "5\n",
      "6\n",
      "7\n",
      "8\n",
      "9\n",
      "10\n",
      "11\n",
      "12\n",
      "13\n",
      "14\n",
      "15\n",
      "16\n",
      "17\n",
      "18\n",
      "19\n"
     ]
    }
   ],
   "source": [
    "for item in temp_inx[0]:\n",
    "    \n",
    "    print item"
   ]
  },
  {
   "cell_type": "code",
   "execution_count": 4,
   "metadata": {
    "collapsed": false
   },
   "outputs": [
    {
     "data": {
      "text/plain": [
       "960"
      ]
     },
     "execution_count": 4,
     "metadata": {},
     "output_type": "execute_result"
    }
   ],
   "source": [
    "16*60"
   ]
  },
  {
   "cell_type": "code",
   "execution_count": 3,
   "metadata": {
    "collapsed": false
   },
   "outputs": [
    {
     "name": "stdout",
     "output_type": "stream",
     "text": [
      "74766\n",
      "85767\n",
      "73681\n"
     ]
    }
   ],
   "source": [
    "dict_read = open(workspace_path + '/dict/cust_product_added_lastmonth.csv', 'r')\n",
    "\n",
    "#stat_write = open(workspace_path + '/stat/stat_added_products.feat', 'w')\n",
    "\n",
    "\n",
    "count1 = 0\n",
    "count2 = 0\n",
    "count3 = 0\n",
    "\n",
    "#for i in range(0,10000):\n",
    "    #line = dict_read.readline().strip()\n",
    "\n",
    "for line in dict_read:\n",
    "    line = line.strip()\n",
    "    \n",
    "\n",
    "    cust_id = line.split(':')[0]\n",
    "    \n",
    "    cust_items = line.split(':')[1]\n",
    "    \n",
    "    if len(cust_items) > 0:\n",
    "    \n",
    "        for prod_item in cust_items.split(';'):\n",
    "\n",
    "            date_item = prod_item.split('|')[0]\n",
    "            pres_items_get = prod_item.split('|')[1]\n",
    "\n",
    "\n",
    "            if '+22' in pres_items_get and date_item != '2015-01':    \n",
    "               count1 += 1\n",
    "                \n",
    "            if '+23' in pres_items_get and date_item != '2015-01':    \n",
    "               count2 += 1    \n",
    "\n",
    "            if '+22' in pres_items_get and '+23' in pres_items_get and date_item != '2015-01':    \n",
    "               count3 += 1\n",
    "\n",
    "                  \n",
    "\n",
    "print count1\n",
    "print count2\n",
    "print count3\n",
    "     \n",
    "    \n",
    "   "
   ]
  },
  {
   "cell_type": "code",
   "execution_count": null,
   "metadata": {
    "collapsed": true
   },
   "outputs": [],
   "source": []
  }
 ],
 "metadata": {
  "kernelspec": {
   "display_name": "Python 2",
   "language": "python",
   "name": "python2"
  },
  "language_info": {
   "codemirror_mode": {
    "name": "ipython",
    "version": 2
   },
   "file_extension": ".py",
   "mimetype": "text/x-python",
   "name": "python",
   "nbconvert_exporter": "python",
   "pygments_lexer": "ipython2",
   "version": "2.7.5"
  }
 },
 "nbformat": 4,
 "nbformat_minor": 0
}
