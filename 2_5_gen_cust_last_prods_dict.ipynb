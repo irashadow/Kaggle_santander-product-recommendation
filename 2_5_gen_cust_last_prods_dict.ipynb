{
 "cells": [
  {
   "cell_type": "code",
   "execution_count": 1,
   "metadata": {
    "collapsed": false
   },
   "outputs": [
    {
     "name": "stderr",
     "output_type": "stream",
     "text": [
      "/home/irashadow/env_TensorFlow/lib/python2.7/site-packages/ipykernel/__main__.py:7: DeprecationWarning: the sets module is deprecated\n"
     ]
    }
   ],
   "source": [
    "import os\n",
    "import csv\n",
    "import sys\n",
    "import random\n",
    "import scipy\n",
    "import numpy as np\n",
    "from sets import Set\n",
    "\n",
    "\n",
    "workspace_path = '/home/irashadow/python_workspace/Kaggle_Comp/Santander/'"
   ]
  },
  {
   "cell_type": "code",
   "execution_count": 2,
   "metadata": {
    "collapsed": false
   },
   "outputs": [],
   "source": [
    "month_dict = dict()\n",
    "month_dict['2015-01'] = 0\n",
    "month_dict['2015-02'] = 1\n",
    "month_dict['2015-03'] = 2\n",
    "month_dict['2015-04'] = 3\n",
    "month_dict['2015-05'] = 4\n",
    "month_dict['2015-06'] = 5\n",
    "month_dict['2015-07'] = 6\n",
    "month_dict['2015-08'] = 7\n",
    "month_dict['2015-09'] = 8\n",
    "month_dict['2015-10'] = 9\n",
    "month_dict['2015-11'] = 10\n",
    "month_dict['2015-12'] = 11\n",
    "month_dict['2016-01'] = 12\n",
    "month_dict['2016-02'] = 13\n",
    "month_dict['2016-03'] = 14\n",
    "month_dict['2016-04'] = 15\n",
    "month_dict['2016-05'] = 16\n",
    "month_dict_inv = dict()\n",
    "month_dict_inv[0] = '2015-01'\n",
    "month_dict_inv[1] = '2015-02'\n",
    "month_dict_inv[2] = '2015-03'\n",
    "month_dict_inv[3] = '2015-04'\n",
    "month_dict_inv[4] = '2015-05'\n",
    "month_dict_inv[5] = '2015-06'\n",
    "month_dict_inv[6] = '2015-07'\n",
    "month_dict_inv[7] = '2015-08'\n",
    "month_dict_inv[8] = '2015-09'\n",
    "month_dict_inv[9] = '2015-10'\n",
    "month_dict_inv[10] = '2015-11'\n",
    "month_dict_inv[11] = '2015-12'\n",
    "month_dict_inv[12] = '2016-01'\n",
    "month_dict_inv[13] = '2016-02'\n",
    "month_dict_inv[14] = '2016-03'\n",
    "month_dict_inv[15] = '2016-04'\n",
    "month_dict_inv[16] = '2016-05'\n"
   ]
  },
  {
   "cell_type": "code",
   "execution_count": 3,
   "metadata": {
    "collapsed": false
   },
   "outputs": [
    {
     "name": "stdout",
     "output_type": "stream",
     "text": [
      "956645\n"
     ]
    }
   ],
   "source": [
    "#loading products item as features\n",
    "dict_read = open(workspace_path + '/dict/cust_product.csv', 'r')\n",
    "\n",
    "cust_date_products_dict = dict()\n",
    "line_count = 0\n",
    "\n",
    "#for i in range(0,100):\n",
    "    #line = dict_read.readline().strip()\n",
    "    \n",
    "\n",
    "for line in dict_read:\n",
    "    line = line.strip()\n",
    "    \n",
    "    line_count += 1\n",
    "    \n",
    "    cust_id = int(line.split(':')[0])\n",
    "    \n",
    "    cust_items = line.split(':')[1]\n",
    "    \n",
    "    if cust_id not in cust_date_products_dict:\n",
    "        \n",
    "       cust_date_products_dict[cust_id] = dict() \n",
    "    \n",
    "    for prod_item in cust_items.split(';'):\n",
    "        \n",
    "        if len(prod_item.split('|')) == 2:   \n",
    "        \n",
    "            date_item = prod_item.split('|')[0]\n",
    "            pres_items_get = prod_item.split('|')[1]\n",
    "            cust_date_products_dict[cust_id][date_item] = pres_items_get  \n",
    "            \n",
    "\n",
    "        else:\n",
    "            \n",
    "            print line\n",
    "            print prod_item\n",
    "        \n",
    "        \n",
    "    \n",
    "print line_count \n",
    "dict_read.close() "
   ]
  },
  {
   "cell_type": "code",
   "execution_count": 4,
   "metadata": {
    "collapsed": false
   },
   "outputs": [
    {
     "name": "stdout",
     "output_type": "stream",
     "text": [
      "956645\n",
      "111925\n"
     ]
    }
   ],
   "source": [
    "dict_read = open(workspace_path + '/dict/cust_date_records.txt', 'r')\n",
    "\n",
    "dict_write = open(workspace_path + '/dict/cust_last_prods.txt', 'w')\n",
    "\n",
    "line_count = 0\n",
    "prod24_count = 0\n",
    "\n",
    "#for i in range(0,10000):\n",
    "    #line = dict_read.readline().strip()\n",
    "for line in dict_read:  \n",
    "    line = line.strip()\n",
    "    \n",
    "    \n",
    "    line_count += 1\n",
    "    \n",
    "    cust_id = int(line.split('|')[0])\n",
    "    last_date = line.split('|')[1]\n",
    "        \n",
    "    #if last_date not in cust_date_products_dict[cust_id]: \n",
    "       #print cust_date_products_dict[cust_id] \n",
    "    \n",
    "    if ',24' in cust_date_products_dict[cust_id][last_date]:  \n",
    "       #print cust_date_products_dict[cust_id]     \n",
    "       prod24_count += 1 \n",
    "        \n",
    "      \n",
    "    prt_line = str(cust_id) + '|' + last_date + '|' + str(cust_date_products_dict[cust_id][last_date]) + '\\n'\n",
    "    dict_write.write(prt_line)\n",
    " \n",
    "print line_count\n",
    "print prod24_count\n",
    "dict_read.close()\n",
    "dict_write.close()"
   ]
  },
  {
   "cell_type": "code",
   "execution_count": 7,
   "metadata": {
    "collapsed": false
   },
   "outputs": [
    {
     "name": "stdout",
     "output_type": "stream",
     "text": [
      "956645\n",
      "25192\n"
     ]
    }
   ],
   "source": [
    "dict_read = open(workspace_path + '/dict/cust_date_records.txt', 'r')\n",
    "\n",
    "\n",
    "line_count = 0\n",
    "prod24_count = 0\n",
    "not16May_count = 0 \n",
    "\n",
    "#for i in range(0,10000):\n",
    "    #line = dict_read.readline().strip()\n",
    "for line in dict_read:  \n",
    "    line = line.strip()\n",
    "    \n",
    "    \n",
    "    line_count += 1\n",
    "    \n",
    "    cust_id = int(line.split('|')[0])\n",
    "    last_date = line.split('|')[1] \n",
    "    \n",
    "    #print last_date\n",
    "    \n",
    "    if last_date != '2016-05':\n",
    "        \n",
    "       not16May_count += 1 \n",
    "    \n",
    "print line_count    \n",
    "print not16May_count    "
   ]
  },
  {
   "cell_type": "code",
   "execution_count": null,
   "metadata": {
    "collapsed": true
   },
   "outputs": [],
   "source": []
  },
  {
   "cell_type": "code",
   "execution_count": null,
   "metadata": {
    "collapsed": false
   },
   "outputs": [],
   "source": []
  },
  {
   "cell_type": "code",
   "execution_count": null,
   "metadata": {
    "collapsed": true
   },
   "outputs": [],
   "source": [
    "             "
   ]
  },
  {
   "cell_type": "code",
   "execution_count": null,
   "metadata": {
    "collapsed": false
   },
   "outputs": [],
   "source": []
  },
  {
   "cell_type": "code",
   "execution_count": null,
   "metadata": {
    "collapsed": false
   },
   "outputs": [],
   "source": []
  },
  {
   "cell_type": "code",
   "execution_count": null,
   "metadata": {
    "collapsed": false
   },
   "outputs": [],
   "source": []
  },
  {
   "cell_type": "code",
   "execution_count": null,
   "metadata": {
    "collapsed": false
   },
   "outputs": [],
   "source": []
  },
  {
   "cell_type": "code",
   "execution_count": null,
   "metadata": {
    "collapsed": false
   },
   "outputs": [],
   "source": []
  },
  {
   "cell_type": "code",
   "execution_count": null,
   "metadata": {
    "collapsed": true
   },
   "outputs": [],
   "source": []
  }
 ],
 "metadata": {
  "kernelspec": {
   "display_name": "Python 2",
   "language": "python",
   "name": "python2"
  },
  "language_info": {
   "codemirror_mode": {
    "name": "ipython",
    "version": 2
   },
   "file_extension": ".py",
   "mimetype": "text/x-python",
   "name": "python",
   "nbconvert_exporter": "python",
   "pygments_lexer": "ipython2",
   "version": "2.7.5"
  }
 },
 "nbformat": 4,
 "nbformat_minor": 0
}
