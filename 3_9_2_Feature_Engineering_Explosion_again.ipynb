{
 "cells": [
  {
   "cell_type": "code",
   "execution_count": 1,
   "metadata": {
    "collapsed": false
   },
   "outputs": [
    {
     "name": "stderr",
     "output_type": "stream",
     "text": [
      "/home/irashadow/env_TensorFlow/lib/python2.7/site-packages/ipykernel/__main__.py:8: DeprecationWarning: the sets module is deprecated\n"
     ]
    }
   ],
   "source": [
    "import os\n",
    "import csv\n",
    "import sys\n",
    "import random\n",
    "import scipy\n",
    "import numpy as np\n",
    "\n",
    "from sets import Set\n",
    "\n",
    "\n",
    "workspace_path = '/home/irashadow/python_workspace/Kaggle_Comp/Santander/'"
   ]
  },
  {
   "cell_type": "code",
   "execution_count": 2,
   "metadata": {
    "collapsed": true
   },
   "outputs": [],
   "source": [
    "month_dict = dict()\n",
    "month_dict['2015-01'] = 0\n",
    "month_dict['2015-02'] = 1\n",
    "month_dict['2015-03'] = 2\n",
    "month_dict['2015-04'] = 3\n",
    "month_dict['2015-05'] = 4\n",
    "month_dict['2015-06'] = 5\n",
    "month_dict['2015-07'] = 6\n",
    "month_dict['2015-08'] = 7\n",
    "month_dict['2015-09'] = 8\n",
    "month_dict['2015-10'] = 9\n",
    "month_dict['2015-11'] = 10\n",
    "month_dict['2015-12'] = 11\n",
    "month_dict['2016-01'] = 12\n",
    "month_dict['2016-02'] = 13\n",
    "month_dict['2016-03'] = 14\n",
    "month_dict['2016-04'] = 15\n",
    "month_dict['2016-05'] = 16\n",
    "month_dict['2016-06'] = 17\n",
    "month_dict_inv = dict()\n",
    "month_dict_inv[0] = '2015-01'\n",
    "month_dict_inv[1] = '2015-02'\n",
    "month_dict_inv[2] = '2015-03'\n",
    "month_dict_inv[3] = '2015-04'\n",
    "month_dict_inv[4] = '2015-05'\n",
    "month_dict_inv[5] = '2015-06'\n",
    "month_dict_inv[6] = '2015-07'\n",
    "month_dict_inv[7] = '2015-08'\n",
    "month_dict_inv[8] = '2015-09'\n",
    "month_dict_inv[9] = '2015-10'\n",
    "month_dict_inv[10] = '2015-11'\n",
    "month_dict_inv[11] = '2015-12'\n",
    "month_dict_inv[12] = '2016-01'\n",
    "month_dict_inv[13] = '2016-02'\n",
    "month_dict_inv[14] = '2016-03'\n",
    "month_dict_inv[15] = '2016-04'\n",
    "month_dict_inv[16] = '2016-05'\n",
    "month_dict_inv[17] = '2016-06'\n"
   ]
  },
  {
   "cell_type": "code",
   "execution_count": 3,
   "metadata": {
    "collapsed": false
   },
   "outputs": [
    {
     "name": "stdout",
     "output_type": "stream",
     "text": [
      "406776\n",
      "20163\n"
     ]
    }
   ],
   "source": [
    "features_index = dict()\n",
    "features_freq = dict()\n",
    "feat_inx = 1\n",
    "\n",
    "check_line_count = 0\n",
    "feat_data = []\n",
    "#for date_index_major in [9,11,12,13,15,16]:\n",
    "for date_index_major in range(5,16):\n",
    "    target_date = month_dict_inv[date_index_major]\n",
    "    feat_data.append(open(workspace_path + '/L4_feat_standard/4_7_cust_date_nominal_prod_L4_'+str(target_date)+'_Model.feat', 'r'))\n",
    " \n",
    "for feat_file in feat_data:\n",
    "    for line in feat_file:\n",
    "\n",
    "        line = line.strip()\n",
    "        check_line_count += 1\n",
    "\n",
    "        if len(line.split('|')) < 7:\n",
    "           print line \n",
    "\n",
    "        cust_id = line.split('|')[0]\n",
    "        date_note = line.split('|')[1]\n",
    "        label_tokens = line.split('|')[2]\n",
    "        added_lastmonth_product_features = line.split('|')[3]\n",
    "        added_lastexist_product_features = line.split('|')[4]\n",
    "        product_features = line.split('|')[5]\n",
    "        nominal_features_pres = line.split('|')[6]\n",
    "        real_features_pres = line.split('|')[7]\n",
    "        \n",
    "\n",
    "        if nominal_features_pres not in features_index:\n",
    "           features_index[nominal_features_pres] = feat_inx\n",
    "           features_freq[nominal_features_pres] = 1\n",
    "           feat_inx += 1\n",
    "        else:\n",
    "           features_freq[nominal_features_pres] += 1 \n",
    "        #----------------------------------------------------------------------------------    \n",
    "                 \n",
    "                                   \n",
    "   \n",
    "print check_line_count    \n",
    "print feat_inx"
   ]
  },
  {
   "cell_type": "code",
   "execution_count": 5,
   "metadata": {
    "collapsed": false
   },
   "outputs": [
    {
     "name": "stdout",
     "output_type": "stream",
     "text": [
      "46\n"
     ]
    }
   ],
   "source": [
    "updated_prod_feat = ['9254', '9235', '9233', '9433', '9218', '9238', '9442', '9454', '9022', '9216', '9223', '9224', '9317', '9351', '9418', '9409', '9438', '9449', '9453', '9435', '9517', '9536', '9618', '9408', '9219', '9237', '9240', '9242', '9253', '9311', '9243', '9507', '9403', '9405', '9331', '9239', '9249', '9420', '9422', '9443', '9452', '9531', '9315', '9203', '9717', '9718']\n",
    "\n",
    "print len(updated_prod_feat)"
   ]
  },
  {
   "cell_type": "code",
   "execution_count": 8,
   "metadata": {
    "collapsed": false
   },
   "outputs": [],
   "source": [
    "import operator\n",
    "from operator import itemgetter\n",
    "features_index_selected = dict()\n",
    "feat_inx = 1\n",
    "sorted_x = sorted(features_freq.items(), key=operator.itemgetter(1), reverse = True)\n",
    "\n",
    "for item in sorted_x[0:300]:\n",
    "    \n",
    "    nominal_features_selected = str(item[0])\n",
    "        \n",
    "    \n",
    "    if nominal_features_selected not in features_index_selected:\n",
    "       features_index_selected[nominal_features_selected] = dict() \n",
    "       for sub_item in updated_prod_feat: \n",
    "           features_index_selected[nominal_features_selected][sub_item] = feat_inx\n",
    "           feat_inx += 1 \n"
   ]
  },
  {
   "cell_type": "code",
   "execution_count": 9,
   "metadata": {
    "collapsed": false
   },
   "outputs": [
    {
     "name": "stdout",
     "output_type": "stream",
     "text": [
      "300\n",
      "13801\n"
     ]
    }
   ],
   "source": [
    "print len(features_index_selected)\n",
    "print feat_inx"
   ]
  },
  {
   "cell_type": "code",
   "execution_count": null,
   "metadata": {
    "collapsed": false
   },
   "outputs": [],
   "source": [
    "\n",
    "\n"
   ]
  },
  {
   "cell_type": "code",
   "execution_count": 10,
   "metadata": {
    "collapsed": false
   },
   "outputs": [
    {
     "name": "stdout",
     "output_type": "stream",
     "text": [
      "436493\n",
      "237676\n",
      "165886\n"
     ]
    }
   ],
   "source": [
    "check_line_count = 0\n",
    "count_line1 = 0\n",
    "count_line2 = 0 \n",
    "\n",
    "feat_data = []\n",
    "for date_index_major in range(5,17):\n",
    "    feat_data_read = open(workspace_path + '/L4_feat_standard/4_7_cust_date_nominal_prod_L4_'+str(month_dict_inv[date_index_major])+'_Model.feat', 'r')\n",
    "    feat_data_write = open(workspace_path + '/L4_feat_exp/4_7_cust_date_nominal_prod_L4_'+str(month_dict_inv[date_index_major])+'_Model.feat', 'w')\n",
    "      \n",
    "\n",
    "    for line in feat_data_read:\n",
    "    \n",
    "        line = line.strip()\n",
    "        check_line_count += 1\n",
    "\n",
    "        if len(line.split('|')) < 6:\n",
    "           print line \n",
    "        \n",
    "        cust_id = int(line.split('|')[0])\n",
    "        date_note = line.split('|')[1]\n",
    "        label_tokens = line.split('|')[2]\n",
    "        added_lastmonth_product_features = line.split('|')[3]\n",
    "        added_lastexist_product_features = line.split('|')[4]\n",
    "        product_features = line.split('|')[5]\n",
    "        nominal_features_pres = line.split('|')[6]\n",
    "        real_features_pres = line.split('|')[7]\n",
    "        realvalue_features_pres = line.split('|')[8]\n",
    "    \n",
    "        expand_features = np.zeros(feat_inx)    \n",
    "        if nominal_features_pres in features_index_selected:\n",
    "           count_line1 += 1 \n",
    "           for realvalue_feat_item in realvalue_features_pres.split(' '):\n",
    "                \n",
    "               if realvalue_feat_item.split(':')[0] in features_index_selected[nominal_features_pres]:\n",
    "                  get_index = features_index_selected[nominal_features_pres][realvalue_feat_item.split(':')[0]] \n",
    "                  expand_features[get_index] = float(realvalue_feat_item.split(':')[1]) \n",
    "                  \n",
    "    \n",
    "        expand_features_line = '' \n",
    "        for inx_item in list(np.where(expand_features > 0))[0]:\n",
    "            expand_features_line += str(10000+inx_item) + ':%.2f '%float(expand_features[inx_item])\n",
    "\n",
    "        prt_line = ''\n",
    "        if len(expand_features_line) > 0:\n",
    "           count_line2 += 1  \n",
    "           prt_line = line + ' ' + expand_features_line[:-1] + '\\n'   \n",
    "        else:\n",
    "           prt_line = line  + '\\n' \n",
    "\n",
    "        feat_data_write.write(prt_line)\n",
    "        \n",
    "        \n",
    "    feat_data_read.close()\n",
    "    feat_data_write.close()\n",
    "\n",
    "        \n",
    "        \n",
    "print check_line_count \n",
    "print count_line1\n",
    "print count_line2"
   ]
  },
  {
   "cell_type": "code",
   "execution_count": null,
   "metadata": {
    "collapsed": false
   },
   "outputs": [],
   "source": []
  },
  {
   "cell_type": "code",
   "execution_count": null,
   "metadata": {
    "collapsed": false
   },
   "outputs": [],
   "source": []
  },
  {
   "cell_type": "code",
   "execution_count": 12,
   "metadata": {
    "collapsed": false
   },
   "outputs": [
    {
     "name": "stdout",
     "output_type": "stream",
     "text": [
      "lines# after processed:50000\n",
      "lines# after processed:100000\n",
      "lines# after processed:150000\n",
      "lines# after processed:200000\n",
      "lines# after processed:250000\n",
      "lines# after processed:300000\n",
      "lines# after processed:350000\n",
      "lines# after processed:400000\n",
      "lines# after processed:450000\n",
      "lines# after processed:500000\n",
      "lines# after processed:550000\n",
      "lines# after processed:600000\n",
      "lines# after processed:650000\n",
      "lines# after processed:700000\n",
      "lines# after processed:750000\n",
      "lines# after processed:800000\n",
      "lines# after processed:850000\n",
      "lines# after processed:900000\n",
      "929615\n",
      "193202\n"
     ]
    }
   ],
   "source": [
    "check_line_count = 0\n",
    "added_line_count = 0\n",
    "\n",
    "\n",
    "feat_read = open(workspace_path + '/test/5_4_cust_date_prod_L4_standard.test', 'r')\n",
    "feat_write = open(workspace_path + '/test/5_5_cust_date_prod_L4_expand.test', 'w')\n",
    "\n",
    "for line in feat_read:\n",
    "    \n",
    "    line = line.strip()\n",
    "    check_line_count += 1\n",
    "    \n",
    "    if check_line_count % 50000 == 0:\n",
    "        \n",
    "       print 'lines# after processed:' + str(check_line_count) \n",
    "    \n",
    "    feat_set = line.split(' ')[1:]\n",
    "    \n",
    "                \n",
    "    nominal_features_pres = ''  \n",
    "    realvalue_features_pres = ''\n",
    "    for feat_item in feat_set:\n",
    "        if feat_item[0] == '5':\n",
    "           nominal_features_pres += feat_item + ' '\n",
    "\n",
    "        if feat_item[0] == '9':\n",
    "           realvalue_features_pres += feat_item + ' '    \n",
    "        \n",
    "    expand_features = np.zeros(feat_inx)    \n",
    "    if nominal_features_pres[:-1] in features_index_selected:\n",
    "       added_line_count += 1 \n",
    "       for realvalue_feat_item in realvalue_features_pres[:-1].split(' '):\n",
    "           if realvalue_feat_item.split(':')[0] in features_index_selected[nominal_features_pres[:-1]]:\n",
    "              get_index = features_index_selected[nominal_features_pres[:-1]][realvalue_feat_item.split(':')[0]] \n",
    "              expand_features[get_index] = float(realvalue_feat_item.split(':')[1])     \n",
    "                        \n",
    "    expand_features_line = '' \n",
    "    for inx_item in list(np.where(expand_features > 0))[0]:\n",
    "        expand_features_line += str(10000+inx_item) + ':%.2f '%float(expand_features[inx_item])\n",
    "\n",
    "    prt_line = ''\n",
    "    if len(expand_features_line) > 0:\n",
    "        \n",
    "       prt_line = line + ' ' + expand_features_line[:-1] + '\\n'   \n",
    "    else:\n",
    "       prt_line = line  + '\\n' \n",
    "\n",
    "    feat_write.write(prt_line)\n",
    "        \n",
    "print check_line_count \n",
    "print added_line_count\n",
    "feat_read.close() \n",
    "feat_write.close()\n"
   ]
  },
  {
   "cell_type": "code",
   "execution_count": null,
   "metadata": {
    "collapsed": true
   },
   "outputs": [],
   "source": []
  }
 ],
 "metadata": {
  "kernelspec": {
   "display_name": "Python 2",
   "language": "python",
   "name": "python2"
  },
  "language_info": {
   "codemirror_mode": {
    "name": "ipython",
    "version": 2
   },
   "file_extension": ".py",
   "mimetype": "text/x-python",
   "name": "python",
   "nbconvert_exporter": "python",
   "pygments_lexer": "ipython2",
   "version": "2.7.5"
  }
 },
 "nbformat": 4,
 "nbformat_minor": 0
}
