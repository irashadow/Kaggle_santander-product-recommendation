{
 "cells": [
  {
   "cell_type": "code",
   "execution_count": 1,
   "metadata": {
    "collapsed": false
   },
   "outputs": [
    {
     "name": "stderr",
     "output_type": "stream",
     "text": [
      "/home/irashadow/env_TensorFlow/lib/python2.7/site-packages/sklearn/cross_validation.py:44: DeprecationWarning: This module was deprecated in version 0.18 in favor of the model_selection module into which all the refactored classes and functions are moved. Also note that the interface of the new CV iterators are different from that of this module. This module will be removed in 0.20.\n",
      "  \"This module will be removed in 0.20.\", DeprecationWarning)\n"
     ]
    }
   ],
   "source": [
    "import os\n",
    "import csv\n",
    "import sys\n",
    "import random\n",
    "import scipy\n",
    "import numpy as np\n",
    "import xgboost as xgb\n",
    "# read in data\n",
    "\n",
    "\n",
    "workspace_path = '/home/irashadow/python_workspace/Kaggle_Comp/Santander/'\n",
    "month_dict_inv = dict()\n",
    "month_dict_inv[0] = '2015-01'\n",
    "month_dict_inv[1] = '2015-02'\n",
    "month_dict_inv[2] = '2015-03'\n",
    "month_dict_inv[3] = '2015-04'\n",
    "month_dict_inv[4] = '2015-05'\n",
    "month_dict_inv[5] = '2015-06'\n",
    "month_dict_inv[6] = '2015-07'\n",
    "month_dict_inv[7] = '2015-08'\n",
    "month_dict_inv[8] = '2015-09'\n",
    "month_dict_inv[9] = '2015-10'\n",
    "month_dict_inv[10] = '2015-11'\n",
    "month_dict_inv[11] = '2015-12'\n",
    "month_dict_inv[12] = '2016-01'\n",
    "month_dict_inv[13] = '2016-02'\n",
    "month_dict_inv[14] = '2016-03'\n",
    "month_dict_inv[15] = '2016-04'\n",
    "month_dict_inv[16] = '2016-05'\n",
    "month_dict_inv[17] = '2016-06'"
   ]
  },
  {
   "cell_type": "code",
   "execution_count": null,
   "metadata": {
    "collapsed": false
   },
   "outputs": [],
   "source": []
  },
  {
   "cell_type": "code",
   "execution_count": 4,
   "metadata": {
    "collapsed": false
   },
   "outputs": [
    {
     "name": "stdout",
     "output_type": "stream",
     "text": [
      "436493\n"
     ]
    }
   ],
   "source": [
    "cust_2_labels_dict = dict()\n",
    "\n",
    "pos_case_dict = dict()\n",
    "neg_case_dict = dict()\n",
    "\n",
    "\n",
    "model_eval = 23\n",
    "\n",
    "\n",
    "train_write = open(workspace_path + '/train/model_val/cust_product_m'+str(model_eval)+'_xgb.train', 'w')\n",
    "\n",
    "valid_write = open(workspace_path + '/train/model_val/cust_product_m'+str(model_eval)+'_xgb.valid', 'w')\n",
    "\n",
    "check_line_count = 0   \n",
    "#data 5[2016June] for model #18\n",
    "#data 16[2016May] for model #13\n",
    "#data 12[2016Jan] for model #20\n",
    "#data 11[2015Dec] for model #3\n",
    "#data 9[2015Oct] for model #3\n",
    "#----------------------------------\n",
    "#try data 12[2016Jan] for model #5\n",
    "#----------------------------------\n",
    "\n",
    "\n",
    "feat_file = open(workspace_path + '/feat/4_9_cust_date_nominal_prod_L4_expand.feat', 'r')\n",
    "\n",
    "for line in feat_file:\n",
    "\n",
    "    line = line.strip()\n",
    "    check_line_count += 1\n",
    "\n",
    "    if len(line.split('|')) < 6:\n",
    "\n",
    "       print line \n",
    "\n",
    "    cust_id = line.split('|')[0]\n",
    "    date_note = line.split('|')[1]\n",
    "    label_tokens = line.split('|')[2]\n",
    "\n",
    "    if True:\n",
    "\n",
    "        get_label = np.zeros(30) \n",
    "\n",
    "        for label_item in label_tokens.split(','):\n",
    "\n",
    "            if len(label_item) > 0:\n",
    "\n",
    "                prod_id = int(label_item)\n",
    "                get_label[prod_id] = 1\n",
    "\n",
    "#-------\n",
    "        if date_note == month_dict_inv[5]:\n",
    "\n",
    "           for j in range(1,25):\n",
    "\n",
    "               if j not in [1,2,10,11,12,21]: \n",
    "\n",
    "                  if get_label[j] == 1 and j == model_eval:\n",
    "\n",
    "                     prt_line = str(1) + ' ' \n",
    "                     for fi in range(3,9):\n",
    "                         if len(line.split('|')[fi]) > 0:\n",
    "                            prt_line += line.split('|')[fi] + ' ' \n",
    "\n",
    "                     train_write.write(prt_line[:-1]+'\\n') \n",
    "\n",
    "                  elif get_label[j] == 1 and j != model_eval:\n",
    "\n",
    "                     prt_line = str(0) + ' ' \n",
    "                     for fi in range(3,9):\n",
    "                         if len(line.split('|')[fi]) > 0:\n",
    "                            prt_line += line.split('|')[fi] + ' ' \n",
    "\n",
    "                     train_write.write(prt_line[:-1]+'\\n')   \n",
    "\n",
    "\n",
    "#-------\n",
    "        if date_note == month_dict_inv[16]:\n",
    "\n",
    "           for j in range(1,25):\n",
    "\n",
    "               if j not in [1,2,10,11,12,21]: \n",
    "\n",
    "                  if get_label[j] == 1 and j == model_eval:\n",
    "\n",
    "                     prt_line = str(1) + ' ' \n",
    "                     for fi in range(3,9):\n",
    "                         if len(line.split('|')[fi]) > 0:\n",
    "                            prt_line += line.split('|')[fi] + ' ' \n",
    "\n",
    "                     valid_write.write(prt_line[:-1]+'\\n') \n",
    "\n",
    "                  elif get_label[j] == 1 and j != model_eval:\n",
    "\n",
    "                     prt_line = str(0) + ' ' \n",
    "                     for fi in range(3,9):\n",
    "                         if len(line.split('|')[fi]) > 0:\n",
    "                            prt_line += line.split('|')[fi] + ' ' \n",
    "\n",
    "                     valid_write.write(prt_line[:-1]+'\\n') \n",
    "\n",
    "\n",
    "\n",
    "feat_file.close()           \n",
    " \n",
    "train_write.close()  \n",
    "valid_write.close()\n",
    "print check_line_count    "
   ]
  },
  {
   "cell_type": "code",
   "execution_count": null,
   "metadata": {
    "collapsed": false
   },
   "outputs": [],
   "source": []
  },
  {
   "cell_type": "code",
   "execution_count": 9,
   "metadata": {
    "collapsed": false
   },
   "outputs": [
    {
     "name": "stdout",
     "output_type": "stream",
     "text": [
      "(44055, 2)\n"
     ]
    }
   ],
   "source": [
    "train_data_path = './train/model_val/cust_product_m'+str(model_eval)+'_xgb.train'\n",
    "\n",
    "dtrain = xgb.DMatrix(train_data_path)\n",
    "\n",
    "# specify parameters via map\n",
    "param ={\"objective\" : \"multi:softprob\",    # multiclass classification \n",
    "              \"num_class\" : 2,    # number of classes \n",
    "              \"eval_metric\" : \"mlogloss\",    # evaluation metric \n",
    "              \"nthread\" : 6,   # number of threads to be used \n",
    "              \"max_depth\" : 16,    # maximum depth of tree \n",
    "              \"eta\" : 0.5,    # step size shrinkage \n",
    "              \"subsample\" : 0.7,    # part of data instances to grow tree \n",
    "              \"colsample_bytree\" : 0.7  # subsample ratio of columns when constructing each tree \n",
    "       }\n",
    "\n",
    "num_round = 50\n",
    "bst = xgb.train(param, dtrain, num_round)\n",
    "# make prediction\n",
    "preds = bst.predict(dtrain)\n",
    "\n",
    "print preds.shape"
   ]
  },
  {
   "cell_type": "code",
   "execution_count": 10,
   "metadata": {
    "collapsed": false
   },
   "outputs": [
    {
     "name": "stdout",
     "output_type": "stream",
     "text": [
      "(44055, 2)\n",
      "[[0 1]\n",
      " [0 1]\n",
      " [1 0]\n",
      " ..., \n",
      " [0 1]\n",
      " [0 1]\n",
      " [0 1]]\n",
      "44055\n",
      "2\n"
     ]
    }
   ],
   "source": [
    "preds_sort = np.argsort(preds, axis=1)\n",
    "print preds_sort.shape\n",
    "preds_top7 = np.fliplr(preds_sort)[:,:7]\n",
    "print preds_top7\n",
    "\n",
    "#----------------------------------------------------\n",
    "dtrain_label = dtrain.get_label().astype(int)\n",
    "\n",
    "print dtrain_label.shape[0]\n",
    "\n",
    "label_train_dict = dict()\n",
    "for i in range(0,dtrain_label.shape[0]):\n",
    "#for i in range(0,100):\n",
    "    \n",
    "    top_product = dtrain_label.astype(int)[i]\n",
    "    #print top_product\n",
    "    \n",
    "    if top_product not in label_train_dict:\n",
    "       label_train_dict[top_product]  = 1\n",
    "    else:\n",
    "       label_train_dict[top_product]  += 1\n",
    "    \n",
    "print len(label_train_dict)    "
   ]
  },
  {
   "cell_type": "code",
   "execution_count": 11,
   "metadata": {
    "collapsed": false
   },
   "outputs": [
    {
     "name": "stdout",
     "output_type": "stream",
     "text": [
      "train distribution\n",
      "label #0 :81.32\n",
      "label #1 :18.68\n"
     ]
    }
   ],
   "source": [
    "print 'train distribution'\n",
    "\n",
    "for item in label_train_dict:\n",
    "    \n",
    "    print 'label #' + str(item) + ' :%.2f'%(label_train_dict[item]/float(dtrain_label.shape[0])*100.0) \n",
    "    #print 'label #' + str(item)\n"
   ]
  },
  {
   "cell_type": "code",
   "execution_count": 12,
   "metadata": {
    "collapsed": false
   },
   "outputs": [
    {
     "name": "stdout",
     "output_type": "stream",
     "text": [
      "accuracy:0.874\n",
      "precision:0.719\n",
      "recall:0.537\n",
      "TP_count:4422\n",
      "FP_count:1732\n",
      "FN_count:3807\n",
      "TN_count:34094\n"
     ]
    }
   ],
   "source": [
    "correct_count = 0\n",
    "TP_count = 0\n",
    "FP_count = 0\n",
    "TN_count = 0\n",
    "FN_count = 0\n",
    "\n",
    "for i in range(0,len(dtrain_label)):\n",
    "    \n",
    "    if preds_top7[i,0] == dtrain_label[i]:\n",
    "\n",
    "       correct_count += 1 \n",
    "    \n",
    "       if preds_top7[i,0] == 1 and dtrain_label[i] == 1:\n",
    "            \n",
    "          TP_count += 1  \n",
    "    \n",
    "       elif preds_top7[i,0] == 0 and dtrain_label[i] == 0:\n",
    "            \n",
    "          TN_count += 1  \n",
    "    \n",
    "    else:\n",
    "        \n",
    "       if preds_top7[i,0] == 1 and dtrain_label[i] == 0:\n",
    "            \n",
    "          FP_count += 1  \n",
    "    \n",
    "       elif preds_top7[i,0] == 0 and dtrain_label[i] == 1:\n",
    "            \n",
    "          FN_count += 1   \n",
    " \n",
    "\n",
    "print 'accuracy:%.3f'%(correct_count/float(len(dtrain_label)))\n",
    "\n",
    "print 'precision:%.3f'%(TP_count/float(TP_count+FP_count))\n",
    "print 'recall:%.3f'%(TP_count/float(TP_count+FN_count))\n",
    "\n",
    "print 'TP_count:'+str(TP_count)\n",
    "print 'FP_count:'+str(FP_count)\n",
    "print 'FN_count:'+str(FN_count)\n",
    "print 'TN_count:'+str(TN_count)"
   ]
  },
  {
   "cell_type": "code",
   "execution_count": 15,
   "metadata": {
    "collapsed": false
   },
   "outputs": [],
   "source": [
    "valid_data_path = './train/model_val/cust_product_m'+str(model_eval)+'_xgb.valid'\n",
    "dvalid = xgb.DMatrix(valid_data_path)\n",
    "dvalid_label = dvalid.get_label().astype(int)\n",
    "preds = bst.predict(dvalid)\n",
    "\n"
   ]
  },
  {
   "cell_type": "code",
   "execution_count": 40,
   "metadata": {
    "collapsed": false
   },
   "outputs": [
    {
     "name": "stdout",
     "output_type": "stream",
     "text": [
      "(37843, 2)\n",
      "[[0 1]\n",
      " [0 1]\n",
      " [0 1]\n",
      " ..., \n",
      " [0 1]\n",
      " [0 1]\n",
      " [0 1]]\n"
     ]
    }
   ],
   "source": [
    "preds_sort = np.argsort(preds, axis=1)\n",
    "print preds_sort.shape\n",
    "preds_top7 = np.fliplr(preds_sort)[:,:15]\n",
    "print preds_top7\n",
    "\n",
    "label_submit_dict = dict()\n",
    "for i in range(0,preds_sort.shape[0]):\n",
    "#for i in range(0,100):\n",
    "    \n",
    "    top_product = preds_top7[i,0]\n",
    "    \n",
    "    if top_product not in label_submit_dict:\n",
    "       label_submit_dict[top_product]  = 1\n",
    "    else:\n",
    "       label_submit_dict[top_product]  += 1\n",
    "    "
   ]
  },
  {
   "cell_type": "code",
   "execution_count": 41,
   "metadata": {
    "collapsed": false
   },
   "outputs": [
    {
     "name": "stdout",
     "output_type": "stream",
     "text": [
      "validation distribution\n",
      "label #1 :91.88\n",
      "label #2 :8.12\n"
     ]
    }
   ],
   "source": [
    "print 'validation distribution'\n",
    "\n",
    "for item in label_submit_dict:\n",
    "    \n",
    "    print 'label #' + str(item+1) + ' :%.2f'%(label_submit_dict[item]/float(preds_sort.shape[0])*100.0) \n",
    "    #print 'label #' + str(item)\n"
   ]
  },
  {
   "cell_type": "code",
   "execution_count": 42,
   "metadata": {
    "collapsed": false
   },
   "outputs": [
    {
     "name": "stdout",
     "output_type": "stream",
     "text": [
      "accuracy:0.846\n",
      "precision:0.455\n",
      "recall:0.252\n",
      "TP_count:1397\n",
      "FP_count:1675\n",
      "FN_count:4144\n",
      "TN_count:30627\n"
     ]
    }
   ],
   "source": [
    "correct_count = 0\n",
    "TP_count = 0\n",
    "FP_count = 0\n",
    "TN_count = 0\n",
    "FN_count = 0\n",
    "\n",
    "for i in range(0,len(dvalid_label)):\n",
    "    \n",
    "    if preds_top7[i,0] == dvalid_label[i]:\n",
    "\n",
    "       correct_count += 1 \n",
    "    \n",
    "       if preds_top7[i,0] == 1 and dvalid_label[i] == 1:\n",
    "            \n",
    "          TP_count += 1  \n",
    "    \n",
    "       elif preds_top7[i,0] == 0 and dvalid_label[i] == 0:\n",
    "            \n",
    "          TN_count += 1  \n",
    "    \n",
    "    else:\n",
    "        \n",
    "       if preds_top7[i,0] == 1 and dvalid_label[i] == 0:\n",
    "            \n",
    "          FP_count += 1  \n",
    "    \n",
    "       elif preds_top7[i,0] == 0 and dvalid_label[i] == 1:\n",
    "            \n",
    "          FN_count += 1   \n",
    " \n",
    "\n",
    "print 'accuracy:%.3f'%(correct_count/float(len(dvalid_label)))\n",
    "\n",
    "print 'precision:%.3f'%(TP_count/float(TP_count+FP_count))\n",
    "print 'recall:%.3f'%(TP_count/float(TP_count+FN_count))\n",
    "\n",
    "print 'TP_count:'+str(TP_count)\n",
    "print 'FP_count:'+str(FP_count)\n",
    "print 'FN_count:'+str(FN_count)\n",
    "print 'TN_count:'+str(TN_count)"
   ]
  },
  {
   "cell_type": "code",
   "execution_count": null,
   "metadata": {
    "collapsed": false
   },
   "outputs": [],
   "source": []
  },
  {
   "cell_type": "code",
   "execution_count": null,
   "metadata": {
    "collapsed": false
   },
   "outputs": [],
   "source": []
  },
  {
   "cell_type": "code",
   "execution_count": null,
   "metadata": {
    "collapsed": false
   },
   "outputs": [],
   "source": []
  },
  {
   "cell_type": "code",
   "execution_count": null,
   "metadata": {
    "collapsed": true
   },
   "outputs": [],
   "source": []
  },
  {
   "cell_type": "code",
   "execution_count": null,
   "metadata": {
    "collapsed": true
   },
   "outputs": [],
   "source": []
  }
 ],
 "metadata": {
  "kernelspec": {
   "display_name": "Python 2",
   "language": "python",
   "name": "python2"
  },
  "language_info": {
   "codemirror_mode": {
    "name": "ipython",
    "version": 2
   },
   "file_extension": ".py",
   "mimetype": "text/x-python",
   "name": "python",
   "nbconvert_exporter": "python",
   "pygments_lexer": "ipython2",
   "version": "2.7.5"
  }
 },
 "nbformat": 4,
 "nbformat_minor": 0
}
