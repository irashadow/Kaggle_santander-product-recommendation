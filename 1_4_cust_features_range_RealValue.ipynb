{
 "cells": [
  {
   "cell_type": "code",
   "execution_count": 1,
   "metadata": {
    "collapsed": false
   },
   "outputs": [
    {
     "name": "stderr",
     "output_type": "stream",
     "text": [
      "/home/irashadow/env_TensorFlow/lib/python2.7/site-packages/ipykernel/__main__.py:7: DeprecationWarning: the sets module is deprecated\n"
     ]
    }
   ],
   "source": [
    "import os\n",
    "import csv\n",
    "import sys\n",
    "import random\n",
    "import scipy\n",
    "import numpy as np\n",
    "from sets import Set\n",
    "import math\n",
    "\n",
    "workspace_path = '/home/irashadow/python_workspace/Kaggle_Comp/Santander/'"
   ]
  },
  {
   "cell_type": "code",
   "execution_count": 2,
   "metadata": {
    "collapsed": true
   },
   "outputs": [],
   "source": [
    "month_dict = dict()\n",
    "month_dict['2015-01'] = 0\n",
    "month_dict['2015-02'] = 1\n",
    "month_dict['2015-03'] = 2\n",
    "month_dict['2015-04'] = 3\n",
    "month_dict['2015-05'] = 4\n",
    "month_dict['2015-06'] = 5\n",
    "month_dict['2015-07'] = 6\n",
    "month_dict['2015-08'] = 7\n",
    "month_dict['2015-09'] = 8\n",
    "month_dict['2015-10'] = 9\n",
    "month_dict['2015-11'] = 10\n",
    "month_dict['2015-12'] = 11\n",
    "month_dict['2016-01'] = 12\n",
    "month_dict['2016-02'] = 13\n",
    "month_dict['2016-03'] = 14\n",
    "month_dict['2016-04'] = 15\n",
    "month_dict['2016-05'] = 16\n",
    "month_dict['2016-06'] = 17"
   ]
  },
  {
   "cell_type": "code",
   "execution_count": 3,
   "metadata": {
    "collapsed": false
   },
   "outputs": [],
   "source": [
    "def isfloat(value):\n",
    "  try:\n",
    "    float(value)\n",
    "    return True\n",
    "  except ValueError:\n",
    "    return False"
   ]
  },
  {
   "cell_type": "code",
   "execution_count": 10,
   "metadata": {
    "collapsed": false
   },
   "outputs": [
    {
     "name": "stdout",
     "output_type": "stream",
     "text": [
      "13647309\n",
      "0\n"
     ]
    }
   ],
   "source": [
    "data_train = open(workspace_path + 'input/train_ver2.csv')\n",
    "#test_train = open(workspace_path + 'input/test_ver2.csv')\n",
    "\n",
    "input_data = [data_train]\n",
    "input_data.append(test_train)\n",
    "\n",
    "\n",
    "line_count = 0\n",
    "line_skip = 0\n",
    "\n",
    "cust_feat_dict_tr = dict()\n",
    "\n",
    "#holdon for featurs:f5, f8, f22(f23 in feat_inx_2)\n",
    "feat_inx_1 = [5,8,10,22]\n",
    "\n",
    "feat_inx_2 = [5,8,10,23]\n",
    "\n",
    "#for i in range(0,100000):\n",
    "    #line = data_train.readline().strip().split(',')\n",
    "\n",
    "    \n",
    "for data_file in input_data:\n",
    "    \n",
    "    headline = data_file.readline().strip()    \n",
    "    for line in data_file:\n",
    "        line = line.strip().split(',')\n",
    "\n",
    "        line_count += 1    \n",
    "\n",
    "        if len(line) == 48:\n",
    "\n",
    "            cust_id = int(line[1])\n",
    "\n",
    "            fecha_dato = line[0][:-3]\n",
    "\n",
    "            for feat_inx in feat_inx_1:\n",
    "\n",
    "                line_item = line[feat_inx].replace(' ','')\n",
    "\n",
    "                if line_item != '' and line_item != 'NA':\n",
    "\n",
    "                    if feat_inx == 5:\n",
    "                       line_item = int(int(line_item)/6)\n",
    "                    if feat_inx == 8:\n",
    "                       line_item = int(int(line_item)/20)\n",
    "                    if feat_inx == 10:\n",
    "                       line_item = month_dict[line_item[:-3]]-month_dict[fecha_dato]\n",
    "                    if feat_inx == 22 and isfloat(line_item):\n",
    "                       line_item = int(math.log(float(line_item),10))\n",
    "\n",
    "\n",
    "                if feat_inx not in cust_feat_dict_tr:\n",
    "\n",
    "                   cust_feat_dict_tr[feat_inx] = Set([line_item])\n",
    "\n",
    "                else:\n",
    "\n",
    "                   cust_feat_dict_tr[feat_inx].add(line_item) \n",
    "\n",
    "                   #if feat_inx == 21 and line_item == 'NA':    \n",
    "                      #print 'f'+str(feat_inx) + '|' + line_item\n",
    "\n",
    "\n",
    "\n",
    "        else:\n",
    "\n",
    "            cust_id = int(line[1])\n",
    "\n",
    "            fecha_dato = line[0][:-3]\n",
    "\n",
    "            for feat_inx in feat_inx_2:\n",
    "\n",
    "                line_item = line[feat_inx].replace(' ','')\n",
    "\n",
    "                if line_item != '' and line_item != 'NA':\n",
    "\n",
    "                    if feat_inx == 5:\n",
    "                       line_item = int(int(line_item)/6)\n",
    "                    if feat_inx == 8:\n",
    "                       line_item = int(int(line_item)/20)\n",
    "                    if feat_inx == 10:\n",
    "                       line_item = month_dict[line_item[:-3]]-month_dict[fecha_dato]\n",
    "                    if feat_inx == 23 and isfloat(line_item):\n",
    "                       line_item = int(math.log(float(line_item),10))\n",
    "\n",
    "\n",
    "\n",
    "                if feat_inx < 21: \n",
    "                   cust_feat_dict_tr[feat_inx].add(line_item) \n",
    "                elif feat_inx > 21:  \n",
    "                   cust_feat_dict_tr[feat_inx-1].add(line_item) \n",
    "\n",
    "\n",
    "\n",
    "    \n",
    "print(line_count)  \n",
    "print(line_skip) \n"
   ]
  },
  {
   "cell_type": "code",
   "execution_count": 11,
   "metadata": {
    "collapsed": false
   },
   "outputs": [],
   "source": [
    "#print cust_feat_dict_tr\n",
    "dict_write = open(workspace_path + '/dict/cust_feat_range_real.csv', 'w')\n",
    "\n",
    "for item in cust_feat_dict_tr:\n",
    "    \n",
    "    print_line = 'f'+str(item) + ':' \n",
    "    \n",
    "    for item_sub in cust_feat_dict_tr[item]:\n",
    "        \n",
    "        print_line += str(item_sub) + ','\n",
    "    \n",
    "    #print>>dict_write, print_line[:-1]\n",
    "    \n",
    "    dict_write.write(print_line[:-1] + '\\n')\n",
    " \n",
    "dict_write.close()\n"
   ]
  },
  {
   "cell_type": "code",
   "execution_count": 12,
   "metadata": {
    "collapsed": false
   },
   "outputs": [],
   "source": [
    "dict_read = open(workspace_path + '/dict/cust_feat_range_real.csv', 'r')\n",
    "\n",
    "fitems2index_write = open(workspace_path + '/dict/fitems2index_real.txt', 'w')\n",
    "\n",
    "features_index = 1\n",
    "\n",
    "fitems_to_index_dict = dict()\n",
    "\n",
    "index_to_fitems_dict = dict()\n",
    "\n",
    "for line in dict_read:\n",
    "    \n",
    "    line = line.strip()\n",
    "    \n",
    "    feature_id = line.split(':')[0]\n",
    "    feature_items = line.split(':')[1]\n",
    "    \n",
    "    if feature_id not in fitems_to_index_dict:\n",
    "        \n",
    "       fitems_to_index_dict[feature_id] = dict()\n",
    "    \n",
    "    for item in feature_items.split(','):\n",
    "        \n",
    "        fitems_to_index_dict[feature_id][item] = features_index\n",
    "        index_to_fitems_dict[features_index] = feature_id + '|' + item\n",
    "        \n",
    "        prt_line = str(features_index) + '|' + feature_id + '|' + item + '\\n'\n",
    "        fitems2index_write.write(prt_line)\n",
    "        \n",
    "        \n",
    "        features_index += 1\n",
    "    \n",
    "    \n",
    " \n",
    "dict_read.close()\n",
    "fitems2index_write.close()"
   ]
  },
  {
   "cell_type": "code",
   "execution_count": 6,
   "metadata": {
    "collapsed": false
   },
   "outputs": [
    {
     "data": {
      "text/plain": [
       "4"
      ]
     },
     "execution_count": 6,
     "metadata": {},
     "output_type": "execute_result"
    }
   ],
   "source": [
    "import math\n",
    "\n",
    "int(math.log(29180.1,10))"
   ]
  },
  {
   "cell_type": "code",
   "execution_count": 28,
   "metadata": {
    "collapsed": false
   },
   "outputs": [
    {
     "name": "stdout",
     "output_type": "stream",
     "text": [
      "['6', '35', '35', '35', '35', '35', '35', '35', '35', '35', '35', '35', '35', '35', '35', '35', '35', '35', '35', '35', '35', '35', '35', '35', '35', '35', '35', '35', '35', '35', '35', '35', '35', '35', '35', '35', '35', '35', '35', '35', '35', '35', '35', '35', '35', '35', '35', '35', '35', '35', '35', '35', '35', '35', '35', '35', '35', '35', '35', '35', '35', '35', '35', '35', '35', '35', '35', '35', '35', '35', '35', '35', '35', '35', '35', '35', '35', '35', '35', '35', '35', '35', '35', '35', '35', '35', '35', '35', '35', '35', '35', '35', '35', '35', '35', '35', '35', '35', '35', '35']\n"
     ]
    }
   ],
   "source": [
    "print cust_feat_dict_tr[8][:100]"
   ]
  },
  {
   "cell_type": "code",
   "execution_count": 29,
   "metadata": {
    "collapsed": false
   },
   "outputs": [
    {
     "name": "stdout",
     "output_type": "stream",
     "text": [
      "['', '', '', '', '', '', '', '', '', '', '', '', '', '', '', '', '', '', '', '', '', '', '', '', '', '', '', '', '', '', '', '', '', '', '', '', '', '', '', '', '', '', '', '', '', '', '', '', '', '', '', '', '', '', '', '', '', '', '', '', '', '', '', '', '', '', '', '', '', '', '', '', '', '', '', '', '', '', '', '', '', '', '', '', '', '', '', '', '', '', '', '', '', '', '', '', '', '', '', '']\n"
     ]
    }
   ],
   "source": [
    "print cust_feat_dict_tr[10][:100]"
   ]
  },
  {
   "cell_type": "code",
   "execution_count": null,
   "metadata": {
    "collapsed": true
   },
   "outputs": [],
   "source": []
  }
 ],
 "metadata": {
  "kernelspec": {
   "display_name": "Python 2",
   "language": "python",
   "name": "python2"
  },
  "language_info": {
   "codemirror_mode": {
    "name": "ipython",
    "version": 2
   },
   "file_extension": ".py",
   "mimetype": "text/x-python",
   "name": "python",
   "nbconvert_exporter": "python",
   "pygments_lexer": "ipython2",
   "version": "2.7.5"
  }
 },
 "nbformat": 4,
 "nbformat_minor": 0
}
