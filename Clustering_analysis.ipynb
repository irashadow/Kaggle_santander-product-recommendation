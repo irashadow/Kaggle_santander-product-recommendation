{
 "cells": [
  {
   "cell_type": "code",
   "execution_count": 14,
   "metadata": {
    "collapsed": false
   },
   "outputs": [
    {
     "name": "stdout",
     "output_type": "stream",
     "text": [
      "0_1_data_loading.ipynb\n",
      "Clustering_analysis.ipynb\n",
      "dict\n",
      "sample_submission.csv (1).zip\n",
      "test_ver2.csv\n",
      "test_ver2.csv.zip\n",
      "train_ver2.csv\n",
      "train_ver2.csv.zip\n",
      "\n"
     ]
    }
   ],
   "source": [
    "from PIL import Image\n",
    "%matplotlib inline\n",
    "#%matplotlib qt\n",
    "\n",
    "# This Python 3 environment comes with many helpful analytics libraries installed\n",
    "# It is defined by the kaggle/python docker image: https://github.com/kaggle/docker-python\n",
    "# For example, here's several helpful packages to load in \n",
    "\n",
    "import numpy as np # linear algebra\n",
    "import pandas as pd # data processing, CSV file I/O (e.g. pd.read_csv)\n",
    "import random\n",
    "\n",
    "# Input data files are available in the \"../input/\" directory.\n",
    "# For example, running this (by clicking run or pressing Shift+Enter) will list the files in the input directory\n",
    "\n",
    "from subprocess import check_output\n",
    "print(check_output([\"ls\", \"../Santander\"]).decode(\"utf8\"))\n",
    "\n",
    "# Any results you write to the current directory are saved as output."
   ]
  },
  {
   "cell_type": "code",
   "execution_count": 4,
   "metadata": {
    "collapsed": false
   },
   "outputs": [
    {
     "name": "stdout",
     "output_type": "stream",
     "text": [
      "13647309\n"
     ]
    }
   ],
   "source": [
    "N_ROWS = 1000\n",
    "filename = \"../Santander/train_ver2.csv\"\n",
    "\n",
    "#n = sum(1 for line in open(filename)) - 1 #number of records in file (excludes header)\n",
    "n = 13647309 #number of records in train_ver2.csv\n",
    "print(n)\n",
    "skip = sorted(random.sample(range(1,n+1),n-N_ROWS)) #the 0-indexed header will not be included in the skip list"
   ]
  },
  {
   "cell_type": "code",
   "execution_count": 5,
   "metadata": {
    "collapsed": false
   },
   "outputs": [
    {
     "name": "stdout",
     "output_type": "stream",
     "text": [
      "(1000, 48)\n"
     ]
    }
   ],
   "source": [
    "df = pd.read_csv(filename, skiprows=skip)\n",
    "print(df.shape)"
   ]
  },
  {
   "cell_type": "code",
   "execution_count": 6,
   "metadata": {
    "collapsed": true
   },
   "outputs": [],
   "source": [
    "df['fecha_dato'] = pd.to_datetime(df['fecha_dato'])\n",
    "df['fecha_alta'] = pd.to_datetime(df['fecha_alta'])"
   ]
  },
  {
   "cell_type": "code",
   "execution_count": 8,
   "metadata": {
    "collapsed": false
   },
   "outputs": [
    {
     "name": "stdout",
     "output_type": "stream",
     "text": [
      "['ind_ahor_fin_ult1', 'ind_aval_fin_ult1', 'ind_cco_fin_ult1', 'ind_cder_fin_ult1', 'ind_cno_fin_ult1', 'ind_ctju_fin_ult1', 'ind_ctma_fin_ult1', 'ind_ctop_fin_ult1', 'ind_ctpp_fin_ult1', 'ind_deco_fin_ult1', 'ind_deme_fin_ult1', 'ind_dela_fin_ult1', 'ind_ecue_fin_ult1', 'ind_fond_fin_ult1', 'ind_hip_fin_ult1', 'ind_plan_fin_ult1', 'ind_pres_fin_ult1', 'ind_reca_fin_ult1', 'ind_tjcr_fin_ult1', 'ind_valo_fin_ult1', 'ind_viv_fin_ult1', 'ind_nomina_ult1', 'ind_nom_pens_ult1', 'ind_recibo_ult1', 'ncodpers']\n"
     ]
    }
   ],
   "source": [
    "import re \n",
    "\n",
    "pattern = re.compile(\"ind_.*_ult1\")\n",
    "\n",
    "prod_cols = [ x for x in df.columns if re.match(pattern,x) ]\n",
    "prod_cols.append(\"ncodpers\")\n",
    "print(prod_cols)"
   ]
  },
  {
   "cell_type": "code",
   "execution_count": 10,
   "metadata": {
    "collapsed": false
   },
   "outputs": [],
   "source": [
    "df_dummiesed = pd.get_dummies(df)\n",
    "df_dummiesed = df_dummiesed.drop_duplicates(subset=\"ncodpers\",keep=\"last\")\n",
    "df_dummiesed[\"fecha_alta\"] = pd.to_numeric(df_dummiesed[\"fecha_alta\"])\n",
    "df_dummiesed[\"fecha_dato\"] = pd.to_numeric(df_dummiesed[\"fecha_dato\"])\n",
    "#df_dummiesed = df_dummiesed.drop(\"conyuemp\",axis=1).fillna(df_dummiesed.mean())\n",
    "df_dummiesed = df_dummiesed.drop(\"conyuemp\",axis=1).dropna()\n",
    "\n",
    "#print(df_dummiesed.describe())"
   ]
  },
  {
   "cell_type": "code",
   "execution_count": 16,
   "metadata": {
    "collapsed": false
   },
   "outputs": [
    {
     "data": {
      "image/png": "[encoded data removed]",
      "text/plain": [
       "<matplotlib.figure.Figure at 0x1b0c2b10>"
      ]
     },
     "metadata": {},
     "output_type": "display_data"
    }
   ],
   "source": [
    "from sklearn.cluster import KMeans\n",
    "from sklearn.metrics import silhouette_score\n",
    "import seaborn as sns\n",
    "import matplotlib.pyplot as plt\n",
    "\n",
    "s = []\n",
    "for n_clusters in range(2,20):\n",
    "    kmeans = KMeans(n_clusters=n_clusters)\n",
    "    kmeans.fit(df_dummiesed)\n",
    "\n",
    "    labels = kmeans.labels_\n",
    "    centroids = kmeans.cluster_centers_\n",
    "\n",
    "    s.append(silhouette_score(df_dummiesed, labels, metric='euclidean'))\n",
    "\n",
    "plt.plot(s)\n",
    "plt.ylabel(\"Silouette\")\n",
    "plt.xlabel(\"k\")\n",
    "plt.title(\"Silouette for K-means cell's behaviour\")\n",
    "sns.despine()"
   ]
  },
  {
   "cell_type": "code",
   "execution_count": 17,
   "metadata": {
    "collapsed": false
   },
   "outputs": [
    {
     "name": "stdout",
     "output_type": "stream",
     "text": [
      "[ 0 10 10 10  5  5  5  5  5  5  4  4  4  4  4  4  4  0  0  0  0  0  0  8  7\n",
      "  8  8  8  8  6  1  1  9  9  7  7  7  7  9  9  9  2  2  2  1  1  1  1  1  1\n",
      "  6  8  3  3  3  0  8  8  8  8  8  8  0  0  0  4  4  4  4  4  5  5  5  5  5\n",
      "  5  5  5  5 10  0 10 10 10 10  7  7  3  9  9  9  2  2  1  1  6  8  8  0  0\n",
      "  0  0  0  0  4  4  4  4  4  4  4 10 10  5  0  0 10 10 10  7  3  3  3  7  3\n",
      "  9  9  2  2  2  2  2  2  1  1  1  6  6  6  8  8  8  8  8  0  0  0  4  4  4\n",
      "  4  4  5  5 10  5 10 10 10 10  4 10 10  0  0 10 10 10  5  5  5  5  5  4  4\n",
      "  4  0  0  0  0  8  8  6  6  6  6  6  3  1  1  1  2  2  2  2  2  9  9  9  9\n",
      "  3  3  9  7  7  2  7 10 10  5  5  5  5  5  5 10 10 10  5  4  4  4  0  0  0\n",
      "  0  4  0  0  8  8  3  3  3  8  6  6  6  1  9  9  7  7  7  2  7  7  2  2  2\n",
      "  7  7  7  7  5  5  9  2  9  9  1  1  6  8  6  1  3  3  0 10 10 10 10  0 10\n",
      "  5  5 10  4  4  4  4  4  0  0  0  4  5  5  5  5  4  9  9  9  9  9  9  5  5\n",
      "  7  7  7  7  3  2  2  2  5  7  4  4  4  4  4  4 10  0  0  0  1  1  1  1  6\n",
      "  6  8  3  3  8  8  7  7  7  7  3  3  3  3  5  5  5  5  5  2  6  1  1  1  6\n",
      "  8  8  8  9  8  8  8  3  4  4  0  0  0  0  2  2  2  2  2  4  4  9  4  4 10\n",
      " 10 10 10  5  0 10  0  0 10 10 10  4  4  4  4  4  0  0  0  0 10 10 10  0  0\n",
      "  0  5  5  5 10  4  4  4  4  4  4  4  4  4  4  0  0  4  4  4  4  8  8  8  8\n",
      "  3  8  3  8  8  6  6  6  1  6  1  1  1  9  9  9  5  9  5  7  2  2  2  2  2\n",
      "  3  3  7  3  8  3  8  2  2  2  7  7  2  4  4  8  8  1  2  1  6  1  1  0  0\n",
      "  0  4  4  5  9  5  5 10 10 10 10 10 10 10 10  5 10 10 10 10  5  5  5  5  9\n",
      "  9  9  5  5  5  5  5  4  4  0  4  4  0 10  0  0  0  0  0  8  8  8  7  1  2\n",
      "  2  7  7  7  4  4  4  4  4  4  4  4  4  4  1  4  4  4  4  6  6  6  6  1  8\n",
      "  1  1  4  4  4  4  4  4  4  4  4  0  0  9  9  9  9  9  2  2  2  5  9  5  7\n",
      "  7  3  7 10 10  8  8  8  8  8  3  3  3 10  5  5 10 10  4  4  0  0  4  4  3\n",
      "  3  3  3  2  2  2  7  7  7  7  7  1  1  8  6  3  6  6  1 10 10 10 10 10 10\n",
      " 10 10 10  0  0  9  9  9  9  4  4  4  4  4  4  4  4  4  4  4  4  4  4  4  4\n",
      "  4  1  8  6  1  6  6  3  8  3  3  8  8  8  8  8  8  8  9  9  9  9  2  2  9\n",
      "  5  5  7  7  7  3  7  2  7 10 10  0  0  0  0  0  5 10  5  5 10 10 10 10 10\n",
      "  4  2  2  2  7  7  7  7  5  9  9  6  6  1  1  1  1  1  1  1  3  3  3  3  8\n",
      " 10 10  5  5  5 10 10 10 10 10  5  4  4  4  4  4  4  4  4  4  4  5  2  2  2\n",
      "  2  7  7  7  7  7  7  9  9  9  9  1  1  1  6  6  1  8  3  7  3  8  8  8  8\n",
      "  8  4  4  4  4  4  4  4  4  4  4 10 10  5  5  5  5 10  7  0  0  0  0]\n"
     ]
    },
    {
     "data": {
      "text/plain": [
       "(array([  84.,   56.,   59.,   49.,  143.,   85.,   39.,   63.,   71.,  149.]),\n",
       " array([  0.,   1.,   2.,   3.,   4.,   5.,   6.,   7.,   8.,   9.,  10.]),\n",
       " <a list of 10 Patch objects>)"
      ]
     },
     "execution_count": 17,
     "metadata": {},
     "output_type": "execute_result"
    },
    {
     "data": {
      "image/png": "[encoded data removed]",
      "text/plain": [
       "<matplotlib.figure.Figure at 0x1b166290>"
      ]
     },
     "metadata": {},
     "output_type": "display_data"
    }
   ],
   "source": [
    "N_CLUSTERS = 11\n",
    "kmeans = KMeans(n_clusters=N_CLUSTERS)\n",
    "kmeans.fit(df_dummiesed)\n",
    "\n",
    "print(kmeans.labels_)\n",
    "plt.hist(kmeans.labels_,bins=N_CLUSTERS-1)"
   ]
  },
  {
   "cell_type": "code",
   "execution_count": 19,
   "metadata": {
    "collapsed": false
   },
   "outputs": [],
   "source": [
    "from sklearn.metrics.pairwise import cosine_similarity\n",
    "\n",
    "sim = cosine_similarity(df_dummiesed,dense_output=False)\n",
    "df_sim = pd.DataFrame(sim,columns=df_dummiesed['ncodpers'],index=df_dummiesed['ncodpers'])\n",
    "\n",
    "#print(df_sim)"
   ]
  },
  {
   "cell_type": "code",
   "execution_count": null,
   "metadata": {
    "collapsed": true
   },
   "outputs": [],
   "source": []
  }
 ],
 "metadata": {
  "kernelspec": {
   "display_name": "Python 2",
   "language": "python",
   "name": "python2"
  },
  "language_info": {
   "codemirror_mode": {
    "name": "ipython",
    "version": 2
   },
   "file_extension": ".py",
   "mimetype": "text/x-python",
   "name": "python",
   "nbconvert_exporter": "python",
   "pygments_lexer": "ipython2",
   "version": "2.7.5"
  }
 },
 "nbformat": 4,
 "nbformat_minor": 0
}
