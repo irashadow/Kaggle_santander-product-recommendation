{
 "cells": [
  {
   "cell_type": "code",
   "execution_count": 2,
   "metadata": {
    "collapsed": false
   },
   "outputs": [
    {
     "name": "stderr",
     "output_type": "stream",
     "text": [
      "/home/irashadow/env_TensorFlow/lib/python2.7/site-packages/ipykernel/__main__.py:7: DeprecationWarning: the sets module is deprecated\n"
     ]
    }
   ],
   "source": [
    "import os\n",
    "import csv\n",
    "import sys\n",
    "import random\n",
    "import scipy\n",
    "import numpy as np\n",
    "from sets import Set\n",
    "\n",
    "\n",
    "workspace_path = '/home/irashadow/python_workspace/Kaggle_Comp/Santander/'"
   ]
  },
  {
   "cell_type": "code",
   "execution_count": 2,
   "metadata": {
    "collapsed": false
   },
   "outputs": [],
   "source": [
    "month_dict_inv = dict()\n",
    "month_dict_inv[0] = '2015-01'\n",
    "month_dict_inv[1] = '2015-02'\n",
    "month_dict_inv[2] = '2015-03'\n",
    "month_dict_inv[3] = '2015-04'\n",
    "month_dict_inv[4] = '2015-05'\n",
    "month_dict_inv[5] = '2015-06'\n",
    "month_dict_inv[6] = '2015-07'\n",
    "month_dict_inv[7] = '2015-08'\n",
    "month_dict_inv[8] = '2015-09'\n",
    "month_dict_inv[9] = '2015-10'\n",
    "month_dict_inv[10] = '2015-11'\n",
    "month_dict_inv[11] = '2015-12'\n",
    "month_dict_inv[12] = '2016-01'\n",
    "month_dict_inv[13] = '2016-02'\n",
    "month_dict_inv[14] = '2016-03'\n",
    "month_dict_inv[15] = '2016-04'\n",
    "month_dict_inv[16] = '2016-05'\n",
    "month_dict_inv[17] = '2016-06'"
   ]
  },
  {
   "cell_type": "code",
   "execution_count": null,
   "metadata": {
    "collapsed": false
   },
   "outputs": [],
   "source": []
  },
  {
   "cell_type": "code",
   "execution_count": 4,
   "metadata": {
    "collapsed": false
   },
   "outputs": [
    {
     "name": "stdout",
     "output_type": "stream",
     "text": [
      "sub-model_3\n",
      "Pos. Rate:0.3250\n",
      "Neg. Rate:0.6750\n",
      "neg_sampling_rate:0.6750\n",
      "sub-model_24\n",
      "Pos. Rate:0.2780\n",
      "Neg. Rate:0.7220\n",
      "neg_sampling_rate:0.7220\n",
      "sub-model_19\n",
      "Pos. Rate:0.1195\n",
      "Neg. Rate:0.8805\n",
      "neg_sampling_rate:0.5986\n",
      "sub-model_18\n",
      "Pos. Rate:0.0175\n",
      "Neg. Rate:0.9825\n",
      "neg_sampling_rate:0.0882\n",
      "sub-model_23\n",
      "Pos. Rate:0.1520\n",
      "Neg. Rate:0.8480\n",
      "neg_sampling_rate:0.7604\n",
      "sub-model_22\n",
      "Pos. Rate:0.1336\n",
      "Neg. Rate:0.8664\n",
      "neg_sampling_rate:0.6686\n",
      "sub-model_13\n",
      "Pos. Rate:0.0470\n",
      "Neg. Rate:0.9530\n",
      "neg_sampling_rate:0.2361\n",
      "sub-model_5\n",
      "Pos. Rate:0.0695\n",
      "Neg. Rate:0.9305\n",
      "neg_sampling_rate:0.3462\n",
      "sub-model_7\n",
      "Pos. Rate:0.0189\n",
      "Neg. Rate:0.9811\n",
      "neg_sampling_rate:0.0952\n",
      "sub-model_20\n",
      "Pos. Rate:0.0092\n",
      "Neg. Rate:0.9908\n",
      "neg_sampling_rate:0.1857\n",
      "sub-model_8\n",
      "Pos. Rate:0.0064\n",
      "Neg. Rate:0.9936\n",
      "neg_sampling_rate:0.1283\n",
      "sub-model_9\n",
      "Pos. Rate:0.0040\n",
      "Neg. Rate:0.9960\n",
      "neg_sampling_rate:0.0807\n",
      "sub-model_14\n",
      "Pos. Rate:0.0041\n",
      "Neg. Rate:0.9959\n",
      "neg_sampling_rate:0.0827\n",
      "sub-model_6\n",
      "Pos. Rate:0.0023\n",
      "Neg. Rate:0.9977\n",
      "neg_sampling_rate:0.0448\n",
      "sub-model_15\n",
      "Pos. Rate:0.0001\n",
      "Neg. Rate:0.9999\n",
      "neg_sampling_rate:0.0024\n",
      "sub-model_16\n",
      "Pos. Rate:0.0013\n",
      "Neg. Rate:0.9987\n",
      "neg_sampling_rate:0.0250\n",
      "sub-model_4\n",
      "Pos. Rate:0.0002\n",
      "Neg. Rate:0.9998\n",
      "neg_sampling_rate:0.0042\n",
      "sub-model_17\n",
      "Pos. Rate:0.0002\n",
      "Neg. Rate:0.9998\n",
      "neg_sampling_rate:0.0043\n"
     ]
    }
   ],
   "source": [
    "import random\n",
    "\n",
    "\n",
    "\n",
    "for i in [3,24,19,18,23,22,13,5,7,20,8,9,14,6,15,16,4,17]:\n",
    "#for i in [3]:\n",
    "       \n",
    "    \n",
    "    train_read = open(workspace_path + '/train/model_exp/cust_product_'+str(i)+'.train', 'r')\n",
    "    \n",
    "    pos_count = 0\n",
    "    neg_count = 0\n",
    "    \n",
    "    print 'sub-model_' + str(i)\n",
    "    \n",
    "    for line in train_read:\n",
    "        \n",
    "        line = line.strip()\n",
    "        \n",
    "        if line[0:2] == '+1':\n",
    "            \n",
    "           pos_count += 1\n",
    "        \n",
    "        elif line[0:2] == '-1':\n",
    "            \n",
    "           neg_count += 1 \n",
    "        \n",
    "        \n",
    "    pos_rate = pos_count/float(pos_count+neg_count)\n",
    "    neg_rate = neg_count/float(pos_count+neg_count)\n",
    "    \n",
    "    print 'Pos. Rate:%.4f'%(pos_rate)\n",
    "    print 'Neg. Rate:%.4f'%(neg_rate)\n",
    "    \n",
    "    train_read = open(workspace_path + '/train/model_exp/cust_product_'+str(i)+'.train', 'r')\n",
    "    train_write = open(workspace_path + '/train/model_balance/cust_product_'+str(i)+'.train', 'w')\n",
    "    \n",
    "    neg_sampling_count = 0\n",
    "    \n",
    "    for line in train_read:\n",
    "        \n",
    "        line = line.strip()\n",
    "        \n",
    "        if line[0:2] == '+1':\n",
    "            \n",
    "           train_write.write(line+'\\n')\n",
    "        \n",
    "        elif line[0:2] == '-1':\n",
    "            \n",
    "           if pos_rate >= 0.01:\n",
    "            \n",
    "              sampling_rate = (pos_rate*5)/float(neg_rate)\n",
    "                \n",
    "           else:\n",
    "            \n",
    "              sampling_rate = (pos_rate*20)/float(neg_rate)\n",
    "            \n",
    "        \n",
    "           if random.random() < sampling_rate:\n",
    "            \n",
    "              neg_sampling_count += 1\n",
    "              train_write.write(line+'\\n')  \n",
    "        \n",
    "        \n",
    "    neg_sampling_rate = neg_sampling_count/float(pos_count+neg_count)\n",
    "    \n",
    "    print 'neg_sampling_rate:%.4f'%(neg_sampling_rate)\n",
    "    \n",
    "    train_read.close()\n",
    "    train_write.close()\n",
    "            \n",
    "            "
   ]
  },
  {
   "cell_type": "code",
   "execution_count": null,
   "metadata": {
    "collapsed": false
   },
   "outputs": [],
   "source": [
    "for model_no in [3,24,19,18,23,22,13,5,7,20,8,9,14,6,15,16,4,17]:\n",
    "\n",
    "    train_data_path = './train/model_balance/cust_product_'+str(model_no)+'.train'\n",
    "    #train_data_path = './train/model_exp/cust_product_'+str(model_no)+'.train'\n",
    "    model_path = '../liblinear-2.1/model_save/cust_product_'+str(model_no)+'.model'\n",
    "    Ein_path = '../liblinear-2.1/output/cust_product_'+str(model_no)+'.Ein'\n",
    "\n",
    "    train_command = '../liblinear-2.1/./train -s 7 -c 2'\n",
    "    predi_command = '../liblinear-2.1/./predict'\n",
    "\n",
    "\n",
    "    #print os.system(\"pwd\");\n",
    "    os.system(train_command +' '+ train_data_path +' '+ model_path);\n",
    "    os.system(predi_command +' '+ train_data_path +' '+ model_path +' '+ Ein_path);\n",
    "    \n"
   ]
  },
  {
   "cell_type": "code",
   "execution_count": null,
   "metadata": {
    "collapsed": true
   },
   "outputs": [],
   "source": []
  }
 ],
 "metadata": {
  "kernelspec": {
   "display_name": "Python 2",
   "language": "python",
   "name": "python2"
  },
  "language_info": {
   "codemirror_mode": {
    "name": "ipython",
    "version": 2
   },
   "file_extension": ".py",
   "mimetype": "text/x-python",
   "name": "python",
   "nbconvert_exporter": "python",
   "pygments_lexer": "ipython2",
   "version": "2.7.5"
  }
 },
 "nbformat": 4,
 "nbformat_minor": 0
}
