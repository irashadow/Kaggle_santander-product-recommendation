{
 "cells": [
  {
   "cell_type": "code",
   "execution_count": 1,
   "metadata": {
    "collapsed": false
   },
   "outputs": [
    {
     "name": "stderr",
     "output_type": "stream",
     "text": [
      "/home/irashadow/env_TensorFlow/lib/python2.7/site-packages/ipykernel/__main__.py:7: DeprecationWarning: the sets module is deprecated\n"
     ]
    }
   ],
   "source": [
    "import os\n",
    "import csv\n",
    "import sys\n",
    "import random\n",
    "import scipy\n",
    "import numpy as np\n",
    "from sets import Set\n",
    "\n",
    "\n",
    "workspace_path = '/home/irashadow/python_workspace/Kaggle_Comp/Santander/'"
   ]
  },
  {
   "cell_type": "code",
   "execution_count": 2,
   "metadata": {
    "collapsed": false
   },
   "outputs": [
    {
     "name": "stdout",
     "output_type": "stream",
     "text": [
      "['f2', 'f3', 'f4', 'f20', 'f7', 'f9', 'f21', 'f23', 'f18', 'f19', 'f12', 'f13', 'f11', 'f16', 'f17', 'f14', 'f15']\n"
     ]
    }
   ],
   "source": [
    "fitems2index_read = open(workspace_path + '/dict/fitems2index.txt', 'r')\n",
    "\n",
    "\n",
    "fitems_to_index_dict = dict()\n",
    "\n",
    "\n",
    "for line in fitems2index_read:\n",
    "    \n",
    "    line = line.strip()\n",
    "    \n",
    "    features_index = int(line.split('|')[0])\n",
    "    feature_id = line.split('|')[1]\n",
    "    feature_item = line.split('|')[2]\n",
    "    \n",
    "    if feature_id not in fitems_to_index_dict:\n",
    "        \n",
    "       fitems_to_index_dict[feature_id] = dict()\n",
    "    \n",
    "       \n",
    "    fitems_to_index_dict[feature_id][feature_item] = features_index\n",
    "       \n",
    " \n",
    "\n",
    "fitems2index_read.close()\n",
    "\n",
    "\n",
    "print fitems_to_index_dict.keys()"
   ]
  },
  {
   "cell_type": "code",
   "execution_count": null,
   "metadata": {
    "collapsed": false
   },
   "outputs": [],
   "source": [
    "data_train = open(workspace_path + 'input/train_ver2.csv')\n",
    "test_train = open(workspace_path + 'input/test_ver2.csv')\n",
    "\n",
    "input_data = [data_train]\n",
    "input_data.append(test_train)\n",
    "\n",
    "\n",
    "feat_write = open(workspace_path + '/feat/3_1_cust_nominal.feat', 'w')\n",
    "\n",
    "line_count = 0\n",
    "line_skip = 0\n",
    "\n",
    "cust_feat_dict_tr = dict()\n",
    "\n",
    "#holdon for featurs:f5, f8, f22(f23 in feat_inx_2)\n",
    "feat_inx_1 = [2,3,4,7,9,11,12,13,14,15,16,17,18,19,20,21,23]\n",
    "\n",
    "feat_inx_2 = [2,3,4,7,9,11,12,13,14,15,16,17,18,19,20,22,24]\n",
    "\n",
    "#for i in range(0,100000):\n",
    "    #line = data_train.readline().strip().split(',')\n",
    "for data_file in input_data:\n",
    "    \n",
    "    headline = data_file.readline().strip()\n",
    "    \n",
    "    for line in data_file:\n",
    "        line = line.strip().split(',')\n",
    "\n",
    "        line_count += 1    \n",
    "\n",
    "        prt_line = ''\n",
    "\n",
    "        if len(line) == 48 or len(line) == 24:\n",
    "\n",
    "            cust_id = int(line[1])\n",
    "\n",
    "            fecha_dato = line[0][:-3]\n",
    "\n",
    "            prt_line = str(cust_id) + '|' + fecha_dato + '|'\n",
    "\n",
    "            for feat_inx in feat_inx_1:\n",
    "\n",
    "                line_item = line[feat_inx].replace(' ','')\n",
    "\n",
    "                if feat_inx == 10:\n",
    "                   line_item = line[feat_inx][:-3] \n",
    "\n",
    "                if line_item in fitems_to_index_dict['f'+str(feat_inx)]:\n",
    "                   feat_inx_get = fitems_to_index_dict['f'+str(feat_inx)][line_item]\n",
    "                   prt_line += str(feat_inx_get) + ':1 '\n",
    "\n",
    "\n",
    "        elif len(line) == 49 or len(line) == 25:\n",
    "\n",
    "            cust_id = int(line[1])\n",
    "\n",
    "            fecha_dato = line[0][:-3]\n",
    "\n",
    "            prt_line = str(cust_id) + '|' + fecha_dato + '|'\n",
    "\n",
    "            for feat_inx in feat_inx_2:\n",
    "\n",
    "                line_item = line[feat_inx].replace(' ','')\n",
    "\n",
    "                if feat_inx == 10:\n",
    "                   line_item = line[feat_inx][:-3] \n",
    "\n",
    "                if feat_inx == 20:\n",
    "\n",
    "                    line_item = line[20] + '_' + line[21]\n",
    "\n",
    "                if feat_inx < 21: \n",
    "                      if line_item in fitems_to_index_dict['f'+str(feat_inx)]:\n",
    "                         feat_inx_get = fitems_to_index_dict['f'+str(feat_inx)][line_item]\n",
    "                         prt_line += str(feat_inx_get) + ':1 '  \n",
    "\n",
    "                else:     \n",
    "                      if line_item in fitems_to_index_dict['f'+str(feat_inx-1)]:\n",
    "                         feat_inx_get = fitems_to_index_dict['f'+str(feat_inx-1)][line_item]\n",
    "                         prt_line += str(feat_inx_get) + ':1 '\n",
    "\n",
    "        feat_write.write(prt_line[:-1] +'\\n')           \n",
    "\n",
    "\n",
    "\n",
    "\n",
    "\n",
    "print(line_count)  \n",
    "print(line_skip)  \n"
   ]
  },
  {
   "cell_type": "code",
   "execution_count": 3,
   "metadata": {
    "collapsed": true
   },
   "outputs": [],
   "source": [
    "month_dict = dict()\n",
    "month_dict['2015-01'] = 0\n",
    "month_dict['2015-02'] = 1\n",
    "month_dict['2015-03'] = 2\n",
    "month_dict['2015-04'] = 3\n",
    "month_dict['2015-05'] = 4\n",
    "month_dict['2015-06'] = 5\n",
    "month_dict['2015-07'] = 6\n",
    "month_dict['2015-08'] = 7\n",
    "month_dict['2015-09'] = 8\n",
    "month_dict['2015-10'] = 9\n",
    "month_dict['2015-11'] = 10\n",
    "month_dict['2015-12'] = 11\n",
    "month_dict['2016-01'] = 12\n",
    "month_dict['2016-02'] = 13\n",
    "month_dict['2016-03'] = 14\n",
    "month_dict['2016-04'] = 15\n",
    "month_dict['2016-05'] = 16\n",
    "month_dict_inv = dict()\n",
    "month_dict_inv[0] = '2015-01'\n",
    "month_dict_inv[1] = '2015-02'\n",
    "month_dict_inv[2] = '2015-03'\n",
    "month_dict_inv[3] = '2015-04'\n",
    "month_dict_inv[4] = '2015-05'\n",
    "month_dict_inv[5] = '2015-06'\n",
    "month_dict_inv[6] = '2015-07'\n",
    "month_dict_inv[7] = '2015-08'\n",
    "month_dict_inv[8] = '2015-09'\n",
    "month_dict_inv[9] = '2015-10'\n",
    "month_dict_inv[10] = '2015-11'\n",
    "month_dict_inv[11] = '2015-12'\n",
    "month_dict_inv[12] = '2016-01'\n",
    "month_dict_inv[13] = '2016-02'\n",
    "month_dict_inv[14] = '2016-03'\n",
    "month_dict_inv[15] = '2016-04'\n",
    "month_dict_inv[16] = '2016-05'\n"
   ]
  },
  {
   "cell_type": "code",
   "execution_count": 6,
   "metadata": {
    "collapsed": false
   },
   "outputs": [
    {
     "name": "stdout",
     "output_type": "stream",
     "text": [
      "13647309\n"
     ]
    }
   ],
   "source": [
    "cust_features_nominal_date = dict()\n",
    "cust_features_nominal_date_encode = dict()\n",
    "feat_read = open(workspace_path + '/feat/3_cust_nominal.feat', 'r')\n",
    "\n",
    "cust_features_nominal_date_write = open(workspace_path + '/dict/fnome_date_records.txt', 'w')\n",
    "\n",
    "line_count = 0\n",
    "\n",
    "for line in feat_read:\n",
    "    \n",
    "    line = line.strip()\n",
    "    \n",
    "    line_count += 1\n",
    "    \n",
    "    if len(line.split('|')) < 2:\n",
    "        \n",
    "        print line\n",
    "    \n",
    "    cust_id = line.split('|')[0]\n",
    "    item_date = line.split('|')[1]\n",
    "    \n",
    "    \n",
    "    \n",
    "    if cust_id not in cust_features_nominal_date:\n",
    "        \n",
    "       cust_features_nominal_date[cust_id] = Set([item_date]) \n",
    "    \n",
    "       cust_features_nominal_date_encode[cust_id] = [month_dict[item_date]]\n",
    "    \n",
    "    else:\n",
    "       \n",
    "       cust_features_nominal_date[cust_id].add(item_date)\n",
    "        \n",
    "       cust_features_nominal_date_encode[cust_id].append(month_dict[item_date]) \n",
    "        \n",
    "        \n",
    "for item in cust_features_nominal_date:\n",
    "    \n",
    "    prt_line = item + '|'\n",
    "    \n",
    "    max_date_encode = max(cust_features_nominal_date_encode[item])\n",
    "    \n",
    "    \n",
    "    max_date_item = month_dict_inv[max_date_encode]\n",
    "    \n",
    "    prt_line += max_date_item + '|'\n",
    "    \n",
    "    for date_item in cust_features_nominal_date[item]:\n",
    "        \n",
    "        prt_line += date_item + ','\n",
    "\n",
    "    cust_features_nominal_date_write.write(prt_line[:-1]+'\\n')    \n",
    "\n",
    "cust_features_nominal_date_write.close()\n",
    "fitems2index_read.close()\n",
    "\n",
    "print line_count"
   ]
  },
  {
   "cell_type": "code",
   "execution_count": 7,
   "metadata": {
    "collapsed": false
   },
   "outputs": [
    {
     "name": "stdout",
     "output_type": "stream",
     "text": [
      "956645\n"
     ]
    }
   ],
   "source": [
    "cust_last_date = dict()\n",
    "\n",
    "dict_read = open(workspace_path + '/dict/fnome_date_records.txt', 'r')\n",
    "\n",
    "line_count = 0\n",
    "for line in dict_read:\n",
    "    \n",
    "    line = line.strip()\n",
    "    line_count += 1\n",
    "    \n",
    "    cust_id = line.split('|')[0]\n",
    "    item_date = line.split('|')[1]\n",
    "    \n",
    "    cust_last_date[cust_id] = item_date\n",
    "    \n",
    "print line_count    "
   ]
  },
  {
   "cell_type": "code",
   "execution_count": 9,
   "metadata": {
    "collapsed": false
   },
   "outputs": [],
   "source": [
    "cust_features_nominal = dict()\n",
    "\n",
    "feat_read = open(workspace_path + '/feat/3_cust_nominal.feat', 'r')\n",
    "\n",
    "line_count = 0\n",
    "\n",
    "#for i in range(0,100000):\n",
    "    #line = feat_read.readline().strip()\n",
    "\n",
    "\n",
    "for line in feat_read:\n",
    "    line = line.strip()\n",
    "    \n",
    "    line_count += 1\n",
    "\n",
    "\n",
    "    cust_id = line.split('|')[0]\n",
    "    item_date = line.split('|')[1]\n",
    "    features = line.split('|')[2]\n",
    "    \n",
    "    last_date = cust_last_date[cust_id]\n",
    "    last_date_inx = int(month_dict[last_date])  \n",
    "    pres_date_inx = int(month_dict[item_date]) \n",
    "    \n",
    "    diff_inx = pres_date_inx - last_date_inx\n",
    "    \n",
    "    if cust_id not in cust_features_nominal:\n",
    "        \n",
    "       cust_features_nominal[cust_id] = np.zeros(500*17)\n",
    "\n",
    "    else:\n",
    "       \n",
    "       for feat_item in features.split(' '):\n",
    "            \n",
    "           feat_inx_temp = int(feat_item.split(':')[0])\n",
    "           inv_index = diff_inx * 500 + feat_inx_temp\n",
    "           cust_features_nominal[cust_id][inv_index] = 1\n",
    "            \n",
    "print line_count           \n",
    "feat_read.close()        "
   ]
  },
  {
   "cell_type": "code",
   "execution_count": 10,
   "metadata": {
    "collapsed": false
   },
   "outputs": [
    {
     "name": "stdout",
     "output_type": "stream",
     "text": [
      "956645\n"
     ]
    }
   ],
   "source": [
    "feat_write = open(workspace_path + '/feat/4_cust_features_nominal.feat', 'w')\n",
    "base_index = 10000\n",
    "\n",
    "item_count = 0\n",
    "for item in cust_features_nominal_date:\n",
    "    \n",
    "    prt_line = item + '|'\n",
    "    \n",
    "    item_count += 1\n",
    "    \n",
    "    feat_vector = cust_features_nominal[item]\n",
    "    \n",
    "    for inx_item in list(np.where(feat_vector == 1))[0]:\n",
    "                        \n",
    "        prt_line += str(base_index+inx_item) + ':1 '\n",
    "    \n",
    "    feat_write.write(prt_line+'\\n')\n",
    "    \n",
    "print item_count    \n",
    "feat_write.close()    "
   ]
  },
  {
   "cell_type": "code",
   "execution_count": null,
   "metadata": {
    "collapsed": true
   },
   "outputs": [],
   "source": []
  }
 ],
 "metadata": {
  "kernelspec": {
   "display_name": "Python 2",
   "language": "python",
   "name": "python2"
  },
  "language_info": {
   "codemirror_mode": {
    "name": "ipython",
    "version": 2
   },
   "file_extension": ".py",
   "mimetype": "text/x-python",
   "name": "python",
   "nbconvert_exporter": "python",
   "pygments_lexer": "ipython2",
   "version": "2.7.5"
  }
 },
 "nbformat": 4,
 "nbformat_minor": 0
}
