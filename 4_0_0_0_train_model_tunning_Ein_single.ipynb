{
 "cells": [
  {
   "cell_type": "code",
   "execution_count": 2,
   "metadata": {
    "collapsed": true
   },
   "outputs": [],
   "source": [
    "import os\n",
    "import csv\n",
    "import sys\n",
    "import random\n",
    "import scipy\n",
    "import numpy as np\n",
    "\n",
    "\n",
    "\n",
    "workspace_path = '/home/irashadow/python_workspace/Kaggle_Comp/Santander/'"
   ]
  },
  {
   "cell_type": "code",
   "execution_count": 3,
   "metadata": {
    "collapsed": true
   },
   "outputs": [],
   "source": [
    "month_dict_inv = dict()\n",
    "month_dict_inv[0] = '2015-01'\n",
    "month_dict_inv[1] = '2015-02'\n",
    "month_dict_inv[2] = '2015-03'\n",
    "month_dict_inv[3] = '2015-04'\n",
    "month_dict_inv[4] = '2015-05'\n",
    "month_dict_inv[5] = '2015-06'\n",
    "month_dict_inv[6] = '2015-07'\n",
    "month_dict_inv[7] = '2015-08'\n",
    "month_dict_inv[8] = '2015-09'\n",
    "month_dict_inv[9] = '2015-10'\n",
    "month_dict_inv[10] = '2015-11'\n",
    "month_dict_inv[11] = '2015-12'\n",
    "month_dict_inv[12] = '2016-01'\n",
    "month_dict_inv[13] = '2016-02'\n",
    "month_dict_inv[14] = '2016-03'\n",
    "month_dict_inv[15] = '2016-04'\n",
    "month_dict_inv[16] = '2016-05'\n",
    "month_dict_inv[17] = '2016-06'"
   ]
  },
  {
   "cell_type": "code",
   "execution_count": 4,
   "metadata": {
    "collapsed": false
   },
   "outputs": [],
   "source": [
    "best_nominal_features = dict()\n",
    "\n",
    "feat2index_read = open(workspace_path + '/dict/best_nominal_features.txt', 'r')\n",
    "\n",
    "for line in feat2index_read:\n",
    "    \n",
    "    line = line.strip()\n",
    "    \n",
    "    item1 = line.split('|')[0]\n",
    "    item2 = line.split('|')[1]\n",
    "    index = int(line.split('|')[2])\n",
    "    \n",
    "    if item1 not in best_nominal_features:\n",
    "       best_nominal_features[item1] = dict()  \n",
    "    if item2 not in best_nominal_features:\n",
    "       best_nominal_features[item2] = dict() \n",
    "       \n",
    "    best_nominal_features[item1][item2] = index \n",
    "    best_nominal_features[item2][item1] = index\n",
    "        \n",
    "        "
   ]
  },
  {
   "cell_type": "code",
   "execution_count": 24,
   "metadata": {
    "collapsed": false
   },
   "outputs": [
    {
     "name": "stdout",
     "output_type": "stream",
     "text": [
      "1\n",
      "2\n",
      "67041\n"
     ]
    }
   ],
   "source": [
    "pos_case_dict = dict()\n",
    "neg_case_dict = dict()\n",
    "\n",
    "for i in range(1,25): pos_case_dict[i] = 0 \n",
    "for i in range(1,25): neg_case_dict[i] = 0    \n",
    "    \n",
    "model_specif = 18\n",
    "\n",
    "#data 5[2016July] for model 18\n",
    "#data 16[2016May] for model 13\n",
    "#data 12[2016Jan] for model 20\n",
    "#--------------------------------------\n",
    "\n",
    "\n",
    "train_write_set = open(workspace_path + '/train/model_max/cust_product_'+str(model_specif)+'.train', 'w')\n",
    "\n",
    "check_line_count = 0\n",
    "\n",
    "\n",
    "feat_data = []\n",
    "for date_index_major in [5,12]:\n",
    "    feat_data.append(open(workspace_path + '/L4_feat_standard/4_7_cust_date_nominal_prod_L4_'+str(month_dict_inv[date_index_major])+'_Model.feat', 'r'))\n",
    "\n",
    "file_inx = 0    \n",
    "for feat_file in feat_data:\n",
    "    \n",
    "    file_inx += 1 \n",
    "    print file_inx\n",
    "    \n",
    "    for line in feat_file:\n",
    "\n",
    "        line = line.strip()\n",
    "        check_line_count += 1\n",
    "\n",
    "        if len(line.split('|')) < 6:\n",
    "\n",
    "           print line \n",
    "\n",
    "        cust_id = line.split('|')[0]\n",
    "        date_note = line.split('|')[1]\n",
    "        label_tokens = line.split('|')[2]\n",
    "        added_product_features_lm = line.split('|')[3]\n",
    "        added_product_features_le = line.split('|')[4]\n",
    "        product_features = line.split('|')[5]\n",
    "        nominal_features_pres = line.split('|')[6]\n",
    "        real_features_pres = line.split('|')[7]\n",
    "    \n",
    "        #----------------------------------------------------------------------------------\n",
    "        nominal_features_temp = []\n",
    "        nominal_features_exp = np.zeros(10000)\n",
    "        for feat_item in nominal_features_pres.split(' '):\n",
    "            feat_inx_temp = feat_item.split(':')[0]\n",
    "            nominal_features_temp.append(feat_inx_temp)\n",
    "            \n",
    "        for item1 in nominal_features_temp:\n",
    "            for item2 in nominal_features_temp:\n",
    "                if item1 != item2:\n",
    "                   if item1 in best_nominal_features and item2 in best_nominal_features[item1]:\n",
    "                      get_index = best_nominal_features[item1][item2]  \n",
    "                      nominal_features_exp[get_index] = 1  \n",
    "        \n",
    "        nominal_features_exp_str = ''\n",
    "        for inx_item in list(np.where(nominal_features_exp == 1))[0]:\n",
    "            nominal_features_exp_str += str(10000+inx_item) + ':1 '\n",
    "        #----------------------------------------------------------------------------------    \n",
    "\n",
    "        get_label = np.zeros(30)\n",
    "\n",
    "        for label_item in label_tokens.split(','):\n",
    "\n",
    "            if len(label_item) > 0:\n",
    "\n",
    "                prod_id = int(label_item)\n",
    "                get_label[prod_id] = 1\n",
    "\n",
    "\n",
    "        if True:\n",
    "\n",
    "           for j in range(model_specif,model_specif+1):\n",
    "\n",
    "               if get_label[j] == 1:\n",
    "\n",
    "                    prt_line = '1' + ' '\n",
    "                    #prt_line = '+1' + ' ' \n",
    "                    for fi in range(3,10):\n",
    "                        if len(line.split('|')[fi]) > 0:\n",
    "                           prt_line += line.split('|')[fi] + ' ' \n",
    "\n",
    "                        \n",
    "                    #if len(nominal_features_exp_str) > 0:\n",
    "                       #prt_line += nominal_features_exp_str \n",
    "                    \n",
    "                        \n",
    "                    train_write_set.write(prt_line[:-1]+'\\n') \n",
    "                    pos_case_dict[j] += 1 \n",
    "\n",
    "               elif get_label[j] == 0:\n",
    "\n",
    "                    prt_line = '0' + ' '\n",
    "                    #prt_line = '+1' + ' ' \n",
    "                    for fi in range(3,10):\n",
    "                        if len(line.split('|')[fi]) > 0:\n",
    "                           prt_line += line.split('|')[fi] + ' ' \n",
    "                        \n",
    "                    #if len(nominal_features_exp_str) > 0:\n",
    "                    #prt_line += nominal_features_exp_str \n",
    "                    if file_inx == 1:\n",
    "                       train_write_set.write(prt_line[:-1]+'\\n')  \n",
    "                       neg_case_dict[j] += 1 \n",
    "    \n",
    "   \n",
    "print check_line_count    \n",
    "train_write_set.close() "
   ]
  },
  {
   "cell_type": "code",
   "execution_count": null,
   "metadata": {
    "collapsed": false
   },
   "outputs": [],
   "source": []
  },
  {
   "cell_type": "code",
   "execution_count": null,
   "metadata": {
    "collapsed": false
   },
   "outputs": [],
   "source": []
  },
  {
   "cell_type": "code",
   "execution_count": 25,
   "metadata": {
    "collapsed": false
   },
   "outputs": [],
   "source": [
    "#train_read = open(workspace_path + '/train/model_pf02/cust_product_'+str(model_no)+'.train', 'r')\n",
    "#Ein_read = open(workspace_path + '../liblinear-2.1/output/cust_product_'+str(model_no)+'_inv.Ein', 'r')\n",
    "\n",
    "model_no = 18\n",
    "\n",
    "train_data_path = './train/model_max/cust_product_'+str(model_no)+'.train'\n",
    "#train_data_path = './train/model_exp/cust_product_'+str(model_no)+'.train'\n",
    "model_path = '../liblinear-2.1/model_save/cust_product_'+str(model_no)+'.model'\n",
    "Ein_path = '../liblinear-2.1/output/cust_product_'+str(model_no)+'.Ein'\n",
    "\n",
    "train_command = '../liblinear-2.1/./train -s 6 -c 2'\n",
    "predi_command = '../liblinear-2.1/./predict'\n",
    "\n",
    "\n",
    "#print os.system(\"pwd\");\n",
    "os.system(train_command +' '+ train_data_path +' '+ model_path);\n",
    "os.system(predi_command +' '+ train_data_path +' '+ model_path +' '+ Ein_path);\n",
    "\n"
   ]
  },
  {
   "cell_type": "code",
   "execution_count": null,
   "metadata": {
    "collapsed": true
   },
   "outputs": [],
   "source": []
  }
 ],
 "metadata": {
  "kernelspec": {
   "display_name": "Python 2",
   "language": "python",
   "name": "python2"
  },
  "language_info": {
   "codemirror_mode": {
    "name": "ipython",
    "version": 2
   },
   "file_extension": ".py",
   "mimetype": "text/x-python",
   "name": "python",
   "nbconvert_exporter": "python",
   "pygments_lexer": "ipython2",
   "version": "2.7.5"
  }
 },
 "nbformat": 4,
 "nbformat_minor": 0
}
