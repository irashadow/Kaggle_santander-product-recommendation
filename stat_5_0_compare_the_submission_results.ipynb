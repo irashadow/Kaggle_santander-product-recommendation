{
 "cells": [
  {
   "cell_type": "code",
   "execution_count": 1,
   "metadata": {
    "collapsed": true
   },
   "outputs": [],
   "source": [
    "import os\n",
    "import csv\n",
    "import sys\n",
    "import random\n",
    "import scipy\n",
    "import numpy as np\n",
    "import math\n",
    "\n",
    "\n",
    "workspace_path = '/home/irashadow/python_workspace/Kaggle_Comp/Santander/'"
   ]
  },
  {
   "cell_type": "code",
   "execution_count": 2,
   "metadata": {
    "collapsed": true
   },
   "outputs": [],
   "source": [
    "label_dict = dict()\n",
    "label_dict[1] = 'ind_ahor_fin_ult1'\n",
    "label_dict[2] = 'ind_aval_fin_ult1'\n",
    "label_dict[3] = 'ind_cco_fin_ult1'\n",
    "label_dict[4] = 'ind_cder_fin_ult1'\n",
    "label_dict[5] = 'ind_cno_fin_ult1'\n",
    "label_dict[6] = 'ind_ctju_fin_ult1'\n",
    "label_dict[7] = 'ind_ctma_fin_ult1'\n",
    "label_dict[8] = 'ind_ctop_fin_ult1'\n",
    "label_dict[9] = 'ind_ctpp_fin_ult1'\n",
    "label_dict[10] = 'ind_deco_fin_ult1'\n",
    "label_dict[11] = 'ind_deme_fin_ult1'\n",
    "label_dict[12] = 'ind_dela_fin_ult1'\n",
    "label_dict[13] = 'ind_ecue_fin_ult1'\n",
    "label_dict[14] = 'ind_fond_fin_ult1'\n",
    "label_dict[15] = 'ind_hip_fin_ult1'\n",
    "label_dict[16] = 'ind_plan_fin_ult1'\n",
    "label_dict[17] = 'ind_pres_fin_ult1'\n",
    "label_dict[18] = 'ind_reca_fin_ult1'\n",
    "label_dict[19] = 'ind_tjcr_fin_ult1'\n",
    "label_dict[20] = 'ind_valo_fin_ult1'\n",
    "label_dict[21] = 'ind_viv_fin_ult1'\n",
    "label_dict[22] = 'ind_nomina_ult1'\n",
    "label_dict[23] = 'ind_nom_pens_ult1'\n",
    "label_dict[24] = 'ind_recibo_ult1'"
   ]
  },
  {
   "cell_type": "code",
   "execution_count": 66,
   "metadata": {
    "collapsed": false
   },
   "outputs": [
    {
     "name": "stdout",
     "output_type": "stream",
     "text": [
      "929615\n",
      "929615\n",
      "0\n",
      "928489\n"
     ]
    }
   ],
   "source": [
    "from itertools import izip\n",
    "feat_read_1 = open(workspace_path + '/output/submission_theBest.csv', 'r')\n",
    "feat_read_2 = open(workspace_path + '/output/submission_Dec14-4.csv', 'r')\n",
    "#feat_read = open(workspace_path + '/feat/3_2_cust_real.feat', 'r')\n",
    "\n",
    "\n",
    "line_count = 0\n",
    "\n",
    "impt_count1 = 0\n",
    "\n",
    "impt_count2 = 0\n",
    "\n",
    "impt_count3 = 0\n",
    "\n",
    "get_item = 1\n",
    "\n",
    "sub_1_dist = dict()\n",
    "sub_2_dist = dict()\n",
    "\n",
    "with feat_read_1 as textfile1, feat_read_2 as textfile2: \n",
    "    \n",
    "     textfile1.readline()\n",
    "     textfile2.readline()   \n",
    "     \n",
    "    \n",
    "     for x, y in izip(textfile1, textfile2):\n",
    "         line_count += 1   \n",
    "         line1 = x.strip()\n",
    "         line2 = y.strip()\n",
    "    \n",
    "         cust_id = int(line1.split(',')[0])\n",
    "         sub_items_1 = line1.split(',')[1].split(' ')\n",
    "         sub_items_2 = line2.split(',')[1].split(' ')\n",
    "        \n",
    "         if len(sub_items_1) == 7 and len(sub_items_2) == 7:\n",
    "            impt_count3 += 1    \n",
    "                \n",
    "        \n",
    "            if sub_items_1[get_item] not in sub_1_dist:\n",
    "                sub_1_dist[sub_items_1[get_item]] = 1\n",
    "            else:   \n",
    "                sub_1_dist[sub_items_1[get_item]] += 1\n",
    "\n",
    "            if sub_items_2[get_item] not in sub_2_dist:\n",
    "                sub_2_dist[sub_items_2[get_item]] = 1\n",
    "            else:   \n",
    "                sub_2_dist[sub_items_2[get_item]] += 1\n",
    "            \n",
    "        \n",
    "         if sub_items_1[0]  == sub_items_2[0]:\n",
    "            impt_count1 += 1\n",
    "         else:\n",
    "            \n",
    "            #if sub_items_1[0] == label_dict[3]:\n",
    "                \n",
    "               if sub_items_2[0] == label_dict[18] or sub_items_2[0] == label_dict[19]:\n",
    "                  impt_count2 += 1\n",
    "            \n",
    "    \n",
    "           \n",
    "    \n",
    "      \n",
    "            \n",
    "print line_count           \n",
    "print impt_count1\n",
    "print impt_count2\n",
    "print impt_count3   \n",
    "\n"
   ]
  },
  {
   "cell_type": "code",
   "execution_count": 67,
   "metadata": {
    "collapsed": false
   },
   "outputs": [
    {
     "name": "stdout",
     "output_type": "stream",
     "text": [
      "ind_cno_fin_ult1:0.25\n",
      "ind_ecue_fin_ult1:0.22\n",
      "ind_nom_pens_ult1:0.13\n",
      "ind_recibo_ult1:0.11\n",
      "ind_reca_fin_ult1:0.07\n",
      "ind_nomina_ult1:0.07\n",
      "ind_tjcr_fin_ult1:0.05\n",
      "ind_ctop_fin_ult1:0.05\n",
      "ind_cco_fin_ult1:0.01\n",
      "ind_valo_fin_ult1:0.01\n",
      "ind_ctpp_fin_ult1:0.01\n",
      "ind_ctma_fin_ult1:0.00\n",
      "ind_fond_fin_ult1:0.00\n",
      "ind_plan_fin_ult1:0.00\n",
      "ind_pres_fin_ult1:0.00\n",
      "ind_ctju_fin_ult1:0.00\n",
      "ind_cder_fin_ult1:0.00\n",
      "ind_hip_fin_ult1:0.00\n"
     ]
    }
   ],
   "source": [
    "import operator\n",
    "sorted_1_temp = sorted(sub_1_dist.items(), key=operator.itemgetter(1), reverse=True)\n",
    "sorted_2_temp = sorted(sub_2_dist.items(), key=operator.itemgetter(1), reverse=True)\n",
    "\n",
    "\n",
    "for item in sorted_1_temp:\n",
    "    \n",
    "    print item[0] + ':%.2f'%(item[1]/float(929615))"
   ]
  },
  {
   "cell_type": "code",
   "execution_count": 68,
   "metadata": {
    "collapsed": false
   },
   "outputs": [
    {
     "name": "stdout",
     "output_type": "stream",
     "text": [
      "ind_recibo_ult1:0.19\n",
      "ind_cno_fin_ult1:0.18\n",
      "ind_reca_fin_ult1:0.17\n",
      "ind_nom_pens_ult1:0.13\n",
      "ind_tjcr_fin_ult1:0.12\n",
      "ind_nomina_ult1:0.07\n",
      "ind_ecue_fin_ult1:0.07\n",
      "ind_ctop_fin_ult1:0.03\n",
      "ind_cco_fin_ult1:0.02\n",
      "ind_valo_fin_ult1:0.01\n",
      "ind_ctpp_fin_ult1:0.00\n",
      "ind_ctma_fin_ult1:0.00\n",
      "ind_plan_fin_ult1:0.00\n",
      "ind_fond_fin_ult1:0.00\n",
      "ind_pres_fin_ult1:0.00\n",
      "ind_ctju_fin_ult1:0.00\n",
      "ind_hip_fin_ult1:0.00\n",
      "ind_cder_fin_ult1:0.00\n"
     ]
    }
   ],
   "source": [
    "for item in sorted_2_temp:\n",
    "    \n",
    "    print item[0] + ':%.2f'%(item[1]/float(929615))"
   ]
  },
  {
   "cell_type": "code",
   "execution_count": 33,
   "metadata": {
    "collapsed": true
   },
   "outputs": [],
   "source": [
    "label_dict_rk = dict()\n",
    "\n",
    "label_dict_rk['ind_cco_fin_ult1'] = 9\n",
    "label_dict_rk['ind_recibo_ult1'] = 8\n",
    "label_dict_rk['ind_tjcr_fin_ult1'] = 7\n",
    "label_dict_rk['ind_reca_fin_ult1'] = 6\n",
    "label_dict_rk['ind_nom_pens_ult1'] = 5\n",
    "label_dict_rk['ind_nomina_ult1'] = 5\n",
    "label_dict_rk['ind_ecue_fin_ult1'] = 4\n",
    "label_dict_rk['ind_cno_fin_ult1'] = 3\n",
    "label_dict_rk['ind_valo_fin_ult1'] = 2\n",
    "\n"
   ]
  },
  {
   "cell_type": "code",
   "execution_count": 69,
   "metadata": {
    "collapsed": false
   },
   "outputs": [
    {
     "name": "stdout",
     "output_type": "stream",
     "text": [
      "230314\n"
     ]
    }
   ],
   "source": [
    "feat_read = open(workspace_path + '/output/submission_theBest.csv', 'r')\n",
    "feat_write = open(workspace_path + '/output/submission_Dec14-4.csv', 'w')\n",
    "\n",
    "head_line = feat_read.readline().strip()\n",
    "\n",
    "feat_write.write(head_line+'\\n')   \n",
    "\n",
    "impt_count1 = 0\n",
    " \n",
    "\n",
    "for line in feat_read:\n",
    "        \n",
    "    line = line.strip()\n",
    "         \n",
    "    cust_id = int(line.split(',')[0])\n",
    "    sub_items = line.split(',')[1].split(' ')\n",
    "    \n",
    "    if len(sub_items) == 7:\n",
    "        \n",
    "        item1_rank = 0\n",
    "        item2_rank = 0\n",
    "        \n",
    "        if sub_items[1] in label_dict_rk:\n",
    "           item1_rank = label_dict_rk[sub_items[1]] \n",
    "        if sub_items[2] in label_dict_rk:\n",
    "           item2_rank = label_dict_rk[sub_items[2]]  \n",
    "    \n",
    "        if item2_rank > item1_rank and item1_rank < 5 and item2_rank > 5: \n",
    "           prt_line = str(cust_id) + ','\n",
    "           prt_line += sub_items[0] + ' ' + sub_items[2] + ' ' + sub_items[1]  + ' '\n",
    "           impt_count1 += 1  \n",
    "            \n",
    "        else:\n",
    "           prt_line = str(cust_id) + ','\n",
    "           prt_line += sub_items[0] + ' ' + sub_items[1] + ' ' + sub_items[2]  + ' '\n",
    "        for i in range(3,7):\n",
    "            prt_line += sub_items[i] + ' '\n",
    "\n",
    "\n",
    "        feat_write.write(prt_line[:-1]+'\\n')     \n",
    "        \n",
    "    else:    \n",
    "        feat_write.write(line+'\\n')     \n",
    "\n",
    "feat_read_1.close()\n",
    "feat_write.close()\n",
    "print impt_count1"
   ]
  },
  {
   "cell_type": "code",
   "execution_count": null,
   "metadata": {
    "collapsed": true
   },
   "outputs": [],
   "source": []
  }
 ],
 "metadata": {
  "kernelspec": {
   "display_name": "Python 2",
   "language": "python",
   "name": "python2"
  },
  "language_info": {
   "codemirror_mode": {
    "name": "ipython",
    "version": 2
   },
   "file_extension": ".py",
   "mimetype": "text/x-python",
   "name": "python",
   "nbconvert_exporter": "python",
   "pygments_lexer": "ipython2",
   "version": "2.7.5"
  }
 },
 "nbformat": 4,
 "nbformat_minor": 0
}
