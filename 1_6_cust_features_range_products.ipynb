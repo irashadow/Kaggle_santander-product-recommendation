{
 "cells": [
  {
   "cell_type": "code",
   "execution_count": 2,
   "metadata": {
    "collapsed": false
   },
   "outputs": [
    {
     "name": "stderr",
     "output_type": "stream",
     "text": [
      "/home/irashadow/env_TensorFlow/lib/python2.7/site-packages/ipykernel/__main__.py:7: DeprecationWarning: the sets module is deprecated\n"
     ]
    }
   ],
   "source": [
    "import os\n",
    "import csv\n",
    "import sys\n",
    "import random\n",
    "import scipy\n",
    "import numpy as np\n",
    "from sets import Set\n",
    "\n",
    "\n",
    "workspace_path = '/home/irashadow/python_workspace/Kaggle_Comp/Santander/'"
   ]
  },
  {
   "cell_type": "code",
   "execution_count": null,
   "metadata": {
    "collapsed": true
   },
   "outputs": [],
   "source": []
  },
  {
   "cell_type": "code",
   "execution_count": 3,
   "metadata": {
    "collapsed": false
   },
   "outputs": [],
   "source": [
    "def isfloat(value):\n",
    "  try:\n",
    "    float(value)\n",
    "    return True\n",
    "  except ValueError:\n",
    "    return False"
   ]
  },
  {
   "cell_type": "code",
   "execution_count": 4,
   "metadata": {
    "collapsed": false
   },
   "outputs": [
    {
     "name": "stdout",
     "output_type": "stream",
     "text": [
      "\"fecha_dato\",\"ncodpers\",\"ind_empleado\",\"pais_residencia\",\"sexo\",\"age\",\"fecha_alta\",\"ind_nuevo\",\"antiguedad\",\"indrel\",\"ult_fec_cli_1t\",\"indrel_1mes\",\"tiprel_1mes\",\"indresi\",\"indext\",\"conyuemp\",\"canal_entrada\",\"indfall\",\"tipodom\",\"cod_prov\",\"nomprov\",\"ind_actividad_cliente\",\"renta\",\"segmento\",\"ind_ahor_fin_ult1\",\"ind_aval_fin_ult1\",\"ind_cco_fin_ult1\",\"ind_cder_fin_ult1\",\"ind_cno_fin_ult1\",\"ind_ctju_fin_ult1\",\"ind_ctma_fin_ult1\",\"ind_ctop_fin_ult1\",\"ind_ctpp_fin_ult1\",\"ind_deco_fin_ult1\",\"ind_deme_fin_ult1\",\"ind_dela_fin_ult1\",\"ind_ecue_fin_ult1\",\"ind_fond_fin_ult1\",\"ind_hip_fin_ult1\",\"ind_plan_fin_ult1\",\"ind_pres_fin_ult1\",\"ind_reca_fin_ult1\",\"ind_tjcr_fin_ult1\",\"ind_valo_fin_ult1\",\"ind_viv_fin_ult1\",\"ind_nomina_ult1\",\"ind_nom_pens_ult1\",\"ind_recibo_ult1\"\n",
      "13647309\n",
      "0\n"
     ]
    }
   ],
   "source": [
    "data_train = open(workspace_path + 'input/train_ver2.csv')\n",
    "headline = data_train.readline().strip()\n",
    "print headline\n",
    "\n",
    "line_count = 0\n",
    "line_skip = 0\n",
    "\n",
    "cust_feat_dict_tr = dict()\n",
    "\n",
    "#holdon for featurs:f5, f8, f22(f23 in feat_inx_2)\n",
    "feat_inx_1 = [5,8,10,22]\n",
    "\n",
    "feat_inx_2 = [5,8,10,23]\n",
    "\n",
    "#for i in range(0,100000):\n",
    "    #line = data_train.readline().strip().split(',')\n",
    "\n",
    "for line in data_train:\n",
    "    line = line.strip().split(',')\n",
    "\n",
    "    line_count += 1    \n",
    "    \n",
    "    if len(line) == 48:\n",
    "\n",
    "        cust_id = int(line[1])\n",
    "\n",
    "        fecha_dato = line[0][:-3]\n",
    "\n",
    "        for feat_inx in range(24,48):\n",
    "            \n",
    "            line_item = line[feat_inx].replace(' ','')\n",
    "            \n",
    "            \n",
    "            if feat_inx not in cust_feat_dict_tr:\n",
    "                \n",
    "               cust_feat_dict_tr[feat_inx] = Set([line_item])\n",
    "            \n",
    "            else:\n",
    "            \n",
    "               cust_feat_dict_tr[feat_inx].add(line_item) \n",
    "                \n",
    "            \n",
    "                   \n",
    "         \n",
    "    else:\n",
    "        \n",
    "        cust_id = int(line[1])\n",
    "\n",
    "        fecha_dato = line[0][:-3]\n",
    "\n",
    "        for feat_inx in range(25,49):\n",
    "            \n",
    "            line_item = line[feat_inx].replace(' ','')\n",
    "            \n",
    "            \n",
    "            cust_feat_dict_tr[feat_inx-1].add(line_item) \n",
    "\n",
    "\n",
    "        \n",
    "    \n",
    "print(line_count)  \n",
    "print(line_skip) \n"
   ]
  },
  {
   "cell_type": "code",
   "execution_count": 5,
   "metadata": {
    "collapsed": false
   },
   "outputs": [],
   "source": [
    "#print cust_feat_dict_tr\n",
    "dict_write = open(workspace_path + '/dict/cust_feat_range_prods.csv', 'w')\n",
    "\n",
    "for item in cust_feat_dict_tr:\n",
    "    \n",
    "    print_line = 'f'+str(item) + ':' \n",
    "    \n",
    "    for item_sub in cust_feat_dict_tr[item]:\n",
    "        \n",
    "        print_line += str(item_sub) + ','\n",
    "    \n",
    "    #print>>dict_write, print_line[:-1]\n",
    "    \n",
    "    dict_write.write(print_line[:-1] + '\\n')\n",
    " \n",
    "dict_write.close()\n"
   ]
  },
  {
   "cell_type": "code",
   "execution_count": 12,
   "metadata": {
    "collapsed": false
   },
   "outputs": [],
   "source": []
  },
  {
   "cell_type": "code",
   "execution_count": 6,
   "metadata": {
    "collapsed": false
   },
   "outputs": [
    {
     "data": {
      "text/plain": [
       "4"
      ]
     },
     "execution_count": 6,
     "metadata": {},
     "output_type": "execute_result"
    }
   ],
   "source": [
    "import math\n",
    "\n",
    "int(math.log(29180.1,10))"
   ]
  },
  {
   "cell_type": "code",
   "execution_count": 28,
   "metadata": {
    "collapsed": false
   },
   "outputs": [
    {
     "name": "stdout",
     "output_type": "stream",
     "text": [
      "['6', '35', '35', '35', '35', '35', '35', '35', '35', '35', '35', '35', '35', '35', '35', '35', '35', '35', '35', '35', '35', '35', '35', '35', '35', '35', '35', '35', '35', '35', '35', '35', '35', '35', '35', '35', '35', '35', '35', '35', '35', '35', '35', '35', '35', '35', '35', '35', '35', '35', '35', '35', '35', '35', '35', '35', '35', '35', '35', '35', '35', '35', '35', '35', '35', '35', '35', '35', '35', '35', '35', '35', '35', '35', '35', '35', '35', '35', '35', '35', '35', '35', '35', '35', '35', '35', '35', '35', '35', '35', '35', '35', '35', '35', '35', '35', '35', '35', '35', '35']\n"
     ]
    }
   ],
   "source": [
    "print cust_feat_dict_tr[8][:100]"
   ]
  },
  {
   "cell_type": "code",
   "execution_count": 29,
   "metadata": {
    "collapsed": false
   },
   "outputs": [
    {
     "name": "stdout",
     "output_type": "stream",
     "text": [
      "['', '', '', '', '', '', '', '', '', '', '', '', '', '', '', '', '', '', '', '', '', '', '', '', '', '', '', '', '', '', '', '', '', '', '', '', '', '', '', '', '', '', '', '', '', '', '', '', '', '', '', '', '', '', '', '', '', '', '', '', '', '', '', '', '', '', '', '', '', '', '', '', '', '', '', '', '', '', '', '', '', '', '', '', '', '', '', '', '', '', '', '', '', '', '', '', '', '', '', '']\n"
     ]
    }
   ],
   "source": [
    "print cust_feat_dict_tr[10][:100]"
   ]
  },
  {
   "cell_type": "code",
   "execution_count": null,
   "metadata": {
    "collapsed": true
   },
   "outputs": [],
   "source": []
  }
 ],
 "metadata": {
  "kernelspec": {
   "display_name": "Python 2",
   "language": "python",
   "name": "python2"
  },
  "language_info": {
   "codemirror_mode": {
    "name": "ipython",
    "version": 2
   },
   "file_extension": ".py",
   "mimetype": "text/x-python",
   "name": "python",
   "nbconvert_exporter": "python",
   "pygments_lexer": "ipython2",
   "version": "2.7.5"
  }
 },
 "nbformat": 4,
 "nbformat_minor": 0
}
