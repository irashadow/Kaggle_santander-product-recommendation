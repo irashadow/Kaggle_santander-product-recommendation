{
 "cells": [
  {
   "cell_type": "code",
   "execution_count": 4,
   "metadata": {
    "collapsed": false
   },
   "outputs": [
    {
     "name": "stdout",
     "output_type": "stream",
     "text": [
      "1020\n"
     ]
    }
   ],
   "source": [
    "import os\n",
    "import csv\n",
    "import sys\n",
    "import random\n",
    "import scipy\n",
    "import numpy as np\n",
    "\n",
    "\n",
    "workspace_path = '/home/irashadow/python_workspace/Kaggle_Comp/Santander/'\n",
    "\n",
    "\n",
    "#print cust_dict_tr\n",
    "\n",
    "base_num = 60\n",
    "\n",
    "#features_count = 16 * (30(pos) + 30(neg))\n",
    "features_count = (16+1) * base_num\n",
    "\n",
    "print features_count"
   ]
  },
  {
   "cell_type": "code",
   "execution_count": 5,
   "metadata": {
    "collapsed": false
   },
   "outputs": [
    {
     "name": "stdout",
     "output_type": "stream",
     "text": [
      "895614\n"
     ]
    }
   ],
   "source": [
    "feat_read = open(workspace_path + '/feat/2_cust_product_inv.feat', 'r')\n",
    "  \n",
    "\n",
    "test_write = open(workspace_path + '/test/cust_product_inv.test', 'w')\n",
    "\n",
    "check_line_count = 0\n",
    "\n",
    "\n",
    "for line in feat_read:\n",
    "    line = line.strip()\n",
    "    \n",
    "\n",
    "#for i in range(0,1000):    \n",
    "    #line = feat_read.readline().strip()\n",
    "    \n",
    "    check_line_count += 1\n",
    "    \n",
    "    cust_id = ''\n",
    "    feat_items = ''\n",
    "    \n",
    "    if len(line.split('|')) != 2:\n",
    "       print 'error_line:'+line\n",
    "        \n",
    "    else:\n",
    "    \n",
    "       cust_id = line.split('|')[0]\n",
    "       feat_items = line.split('|')[1]\n",
    "    \n",
    "    features = np.zeros(features_count)\n",
    "    \n",
    "    isPrint = False\n",
    "    \n",
    "    feats_line_save = ''\n",
    "    \n",
    "    if True > 0: \n",
    "        \n",
    "        if len(feat_items.split('$')) != 2:\n",
    "           print line\n",
    "         \n",
    "        label_tokens_get = feat_items.split('$')[0]\n",
    "        feeat_tokens_get = feat_items.split('$')[1]\n",
    "        \n",
    "        if len(label_tokens_get) > 0: \n",
    "            for feat_item in label_tokens_get.split(' '):\n",
    "\n",
    "                prod_id = int(feat_item.split(':')[0])\n",
    "                #shift the prod index: +60\n",
    "                if prod_id +60 < 1020:\n",
    "                   features[prod_id+60] = 1\n",
    "            \n",
    "        if len(feeat_tokens_get) > 0:     \n",
    "            for feat_item in feeat_tokens_get.split(' '):\n",
    "\n",
    "                prod_id = int(feat_item.split(':')[0])\n",
    "                #shift the prod index: +60\n",
    "                if prod_id +60 < 1020:\n",
    "                   features[prod_id+60] = 1    \n",
    "        \n",
    "        \n",
    "    feat_express = ''    \n",
    "    if sum(features) > 0:\n",
    "            \n",
    "           for inx_item in list(np.where(features == 1))[0]:\n",
    "                        \n",
    "               feat_express += str(inx_item) + ':1 '\n",
    "    \n",
    "    #prt_line = str(cust_id)   \n",
    "   \n",
    "    #prt_line = str(cust_id)+'|0 '+feat_express[:-1]+'\\n'     \n",
    "    \n",
    "    prt_line = '+1 '+feat_express[:-1]+'\\n'   \n",
    "   \n",
    "    test_write.write(prt_line)\n",
    "    #print>>test_write,prt_line \n",
    " \n",
    "feat_read.close()\n",
    "test_write.close()\n",
    "\n",
    "print check_line_count    "
   ]
  },
  {
   "cell_type": "code",
   "execution_count": 16,
   "metadata": {
    "collapsed": false
   },
   "outputs": [
    {
     "name": "stdout",
     "output_type": "stream",
     "text": [
      "{1: 3, 2: 2, 3: 31699, 4: 40, 5: 12546, 6: 389, 7: 1372, 8: 3863, 9: 1801, 10: 24, 11: 37, 12: 7232, 13: 15409, 14: 1836, 15: 190, 16: 463, 17: 138, 18: 5987, 19: 13640, 20: 2641, 21: 126, 22: 19840, 23: 22543, 24: 0}\n",
      "{1: 243146, 2: 243147, 3: 211450, 4: 243109, 5: 230603, 6: 242760, 7: 241777, 8: 239286, 9: 241348, 10: 243125, 11: 243112, 12: 235917, 13: 227740, 14: 241313, 15: 242959, 16: 242686, 17: 243011, 18: 237162, 19: 229509, 20: 240508, 21: 243023, 22: 223309, 23: 220606, 24: 243149}\n"
     ]
    }
   ],
   "source": [
    "print pos_case_dict\n",
    "print neg_case_dict"
   ]
  },
  {
   "cell_type": "code",
   "execution_count": 16,
   "metadata": {
    "collapsed": false
   },
   "outputs": [
    {
     "data": {
      "text/plain": [
       "0.9103812316715543"
      ]
     },
     "execution_count": 16,
     "metadata": {},
     "output_type": "execute_result"
    }
   ],
   "source": [
    "1.0-5348/(5348.0+54327.0)"
   ]
  },
  {
   "cell_type": "code",
   "execution_count": 7,
   "metadata": {
    "collapsed": true
   },
   "outputs": [],
   "source": [
    "feat_temp = np.zeros(60)"
   ]
  },
  {
   "cell_type": "code",
   "execution_count": 26,
   "metadata": {
    "collapsed": false
   },
   "outputs": [
    {
     "name": "stdout",
     "output_type": "stream",
     "text": [
      "60\n"
     ]
    }
   ],
   "source": [
    "print len(feat_temp)\n"
   ]
  },
  {
   "cell_type": "code",
   "execution_count": 56,
   "metadata": {
    "collapsed": false
   },
   "outputs": [],
   "source": [
    "feat_temp[1:10] = 1\n",
    "feat_temp[1:20] = 1\n",
    "temp_inx = list(np.where(feat_temp == 1))"
   ]
  },
  {
   "cell_type": "code",
   "execution_count": 57,
   "metadata": {
    "collapsed": false
   },
   "outputs": [
    {
     "data": {
      "text/plain": [
       "(1, 19)"
      ]
     },
     "execution_count": 57,
     "metadata": {},
     "output_type": "execute_result"
    }
   ],
   "source": [
    "np.shape(temp_inx)"
   ]
  },
  {
   "cell_type": "code",
   "execution_count": 58,
   "metadata": {
    "collapsed": false
   },
   "outputs": [
    {
     "name": "stdout",
     "output_type": "stream",
     "text": [
      "<type 'list'>\n"
     ]
    }
   ],
   "source": [
    "print type(temp_inx)"
   ]
  },
  {
   "cell_type": "code",
   "execution_count": 60,
   "metadata": {
    "collapsed": false
   },
   "outputs": [
    {
     "name": "stdout",
     "output_type": "stream",
     "text": [
      "[array([ 1,  2,  3,  4,  5,  6,  7,  8,  9, 10, 11, 12, 13, 14, 15, 16, 17,\n",
      "       18, 19])]\n"
     ]
    }
   ],
   "source": [
    "print temp_inx"
   ]
  },
  {
   "cell_type": "code",
   "execution_count": 64,
   "metadata": {
    "collapsed": false
   },
   "outputs": [
    {
     "name": "stdout",
     "output_type": "stream",
     "text": [
      "1\n",
      "2\n",
      "3\n",
      "4\n",
      "5\n",
      "6\n",
      "7\n",
      "8\n",
      "9\n",
      "10\n",
      "11\n",
      "12\n",
      "13\n",
      "14\n",
      "15\n",
      "16\n",
      "17\n",
      "18\n",
      "19\n"
     ]
    }
   ],
   "source": [
    "for item in temp_inx[0]:\n",
    "    \n",
    "    print item"
   ]
  },
  {
   "cell_type": "code",
   "execution_count": 2,
   "metadata": {
    "collapsed": false
   },
   "outputs": [
    {
     "data": {
      "text/plain": [
       "1020"
      ]
     },
     "execution_count": 2,
     "metadata": {},
     "output_type": "execute_result"
    }
   ],
   "source": [
    "17*60"
   ]
  },
  {
   "cell_type": "code",
   "execution_count": 6,
   "metadata": {
    "collapsed": false
   },
   "outputs": [
    {
     "name": "stdout",
     "output_type": "stream",
     "text": [
      "{1: 0, 2: 0, 3: 0, 4: 0, 5: 0, 6: 0, 7: 0, 8: 0, 9: 0, 10: 0, 11: 0, 12: 0, 13: 0, 14: 0, 15: 0, 16: 0, 17: 0, 18: 0, 19: 0, 20: 0, 21: 0, 22: 0, 23: 0, 24: 0}\n"
     ]
    }
   ],
   "source": [
    "pos_case_dict = dict()\n",
    "neg_case_dict = dict()\n",
    "\n",
    "\n",
    "\n",
    "    \n",
    "print pos_case_dict\n"
   ]
  },
  {
   "cell_type": "code",
   "execution_count": null,
   "metadata": {
    "collapsed": true
   },
   "outputs": [],
   "source": []
  }
 ],
 "metadata": {
  "kernelspec": {
   "display_name": "Python 2",
   "language": "python",
   "name": "python2"
  },
  "language_info": {
   "codemirror_mode": {
    "name": "ipython",
    "version": 2
   },
   "file_extension": ".py",
   "mimetype": "text/x-python",
   "name": "python",
   "nbconvert_exporter": "python",
   "pygments_lexer": "ipython2",
   "version": "2.7.5"
  }
 },
 "nbformat": 4,
 "nbformat_minor": 0
}
