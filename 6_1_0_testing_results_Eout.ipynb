{
 "cells": [
  {
   "cell_type": "code",
   "execution_count": 1,
   "metadata": {
    "collapsed": false
   },
   "outputs": [],
   "source": [
    "import os\n",
    "import csv\n",
    "import sys\n",
    "import random\n",
    "import scipy\n",
    "import numpy as np\n",
    "from itertools import izip\n",
    "\n",
    "\n",
    "model_no = 19\n",
    "\n",
    "workspace_path = '/home/irashadow/python_workspace/Kaggle_Comp/Santander/'\n",
    "\n",
    "label_dict = dict()\n",
    "\n",
    "label_dict[1] = 'ind_ahor_fin_ult1'\n",
    "label_dict[2] = 'ind_aval_fin_ult1'\n",
    "label_dict[3] = 'ind_cco_fin_ult1'\n",
    "label_dict[4] = 'ind_cder_fin_ult1'\n",
    "label_dict[5] = 'ind_cno_fin_ult1'\n",
    "label_dict[6] = 'ind_ctju_fin_ult1'\n",
    "label_dict[7] = 'ind_ctma_fin_ult1'\n",
    "label_dict[8] = 'ind_ctop_fin_ult1'\n",
    "label_dict[9] = 'ind_ctpp_fin_ult1'\n",
    "label_dict[10] = 'ind_deco_fin_ult1'\n",
    "label_dict[11] = 'ind_deme_fin_ult1'\n",
    "label_dict[12] = 'ind_dela_fin_ult1'\n",
    "label_dict[13] = 'ind_ecue_fin_ult1'\n",
    "label_dict[14] = 'ind_fond_fin_ult1'\n",
    "label_dict[15] = 'ind_hip_fin_ult1'\n",
    "label_dict[16] = 'ind_plan_fin_ult1'\n",
    "label_dict[17] = 'ind_pres_fin_ult1'\n",
    "label_dict[18] = 'ind_reca_fin_ult1'\n",
    "label_dict[19] = 'ind_tjcr_fin_ult1'\n",
    "label_dict[20] = 'ind_valo_fin_ult1'\n",
    "label_dict[21] = 'ind_viv_fin_ult1'\n",
    "label_dict[22] = 'ind_nomina_ult1'\n",
    "label_dict[23] = 'ind_nom_pens_ult1'\n",
    "label_dict[24] = 'ind_recibo_ult1'\n"
   ]
  },
  {
   "cell_type": "code",
   "execution_count": 3,
   "metadata": {
    "collapsed": true
   },
   "outputs": [],
   "source": [
    "#train_read = open(workspace_path + '/train/model_pf02/cust_product_'+str(model_no)+'.train', 'r')\n",
    "#Ein_read = open(workspace_path + '../liblinear-2.1/output/cust_product_'+str(model_no)+'_inv.Ein', 'r')\n",
    "\n",
    "model_no = 19\n",
    "\n",
    "for model_no in range(1, 25):\n",
    "\n",
    "    test_data_path = './test/cust_product_inv.test'\n",
    "    model_path = '../liblinear-2.1/model_save/cust_product_'+str(model_no)+'_inv.model'\n",
    "    Eout_path = '../liblinear-2.1/output/cust_product_'+str(model_no)+'_inv.Eout'\n",
    "\n",
    "    \n",
    "    predi_command = '../liblinear-2.1/./predict'\n",
    "    #print os.system(\"pwd\");\n",
    "    os.system(predi_command +' '+ test_data_path +' '+ model_path +' '+ Eout_path);\n",
    "\n"
   ]
  },
  {
   "cell_type": "code",
   "execution_count": null,
   "metadata": {
    "collapsed": true
   },
   "outputs": [],
   "source": [
    "Eout_results_id_2_prod = dict()\n",
    "\n",
    "\n",
    "\n",
    "\n",
    "for model_no in range(1, 25):\n",
    "\n",
    "    feat_data_path = './feat/2_cust_product_inv.feat'\n",
    "    Eout_path = '../liblinear-2.1/output/cust_product_'+str(model_no)+'_inv.Eout'\n",
    "\n",
    "    test_read = open(feat_data_path, 'r')\n",
    "    Eout_read = open(Eout_path, 'r')\n",
    "    \n",
    "    check_line_count = 0\n",
    "    \n",
    "    with test_read as test_data, Eout_read as predict_label: \n",
    "         for line1, line2 in izip(test_data, predict_label):\n",
    "             line1 = line1.strip()\n",
    "             line2 = line2.strip()\n",
    "    \n",
    "             check_line_count += 1\n",
    "    \n",
    "             #get the cust_id\n",
    "             cust_id = ''   \n",
    "             if len(line1.split('|')) != 2:\n",
    "                print 'error_line:'+line1\n",
    "             else:\n",
    "                cust_id = line1.split('|')[0]\n",
    "                \n",
    "             if cust_id not in Eout_results_id_2_prod:\n",
    "                Eout_results_id_2_prod[cust_id] = ''    \n",
    "               \n",
    "             if line2 == '1':\n",
    "                Eout_results_id_2_prod[cust_id] += label_dict[model_no] + ' '  \n",
    "                \n",
    "                 \n",
    "    test_read.close()\n",
    "    Eout_read.close()\n",
    "\n",
    "    print check_line_count  \n",
    "    \n",
    "Eout_write = open('./output/Cust2Prod_pred_Nov16.eout', 'w')  \n",
    "\n",
    "for item in Eout_results_id_2_prod:\n",
    "    \n",
    "    prt_line = item + '|' + Eout_results_id_2_prod[item][:-1] + '\\n'\n",
    "    \n",
    "    Eout_write.write(prt_line)\n",
    "   \n",
    "Eout_write.close()"
   ]
  },
  {
   "cell_type": "code",
   "execution_count": null,
   "metadata": {
    "collapsed": true
   },
   "outputs": [],
   "source": [
    "feat_read = open(workspace_path + '/feat/2_cust_product_inv.feat', 'r')\n",
    "\n",
    "cust_end_products_dict = dict()\n",
    "\n",
    "check_line_count = 0\n",
    "\n",
    "for line in feat_read:\n",
    "    line = line.strip()\n",
    "    \n",
    "#for i in range(0,10000):    \n",
    "    #line = feat_read.readline().strip()\n",
    "    \n",
    "    check_line_count += 1\n",
    "    \n",
    "    cust_id = ''\n",
    "    feat_items = ''\n",
    "    \n",
    "    if len(line.split('|')) != 2:\n",
    "       print 'error_line:'+line\n",
    "        \n",
    "    else:\n",
    "    \n",
    "       cust_id = line.split('|')[0]\n",
    "       feat_items = line.split('|')[1]\n",
    "    \n",
    "    if cust_id not in cust_end_products_dict:\n",
    "       cust_end_products_dict[cust_id] = [] \n",
    "    \n",
    "    if len(feat_items) > 1: \n",
    "        \n",
    "        if len(feat_items.split('$')) != 2:\n",
    "           print line\n",
    "    \n",
    "        label_tokens_get = feat_items.split('$')[0]\n",
    "        \n",
    "        for feat_item in label_tokens_get.split(' '):\n",
    "            \n",
    "            prod_id = int(feat_item.split(':')[0])\n",
    "            \n",
    "            if prod_id < 25:\n",
    "               cust_end_products_dict[cust_id].append(label_dict[prod_id])\n",
    "        \n",
    "print check_line_count        "
   ]
  },
  {
   "cell_type": "code",
   "execution_count": 9,
   "metadata": {
    "collapsed": false
   },
   "outputs": [
    {
     "name": "stdout",
     "output_type": "stream",
     "text": [
      "['ind_nom_pens_ult1', 'ind_nomina_ult1']\n"
     ]
    }
   ],
   "source": [
    "print cust_end_products_dict['15998']"
   ]
  },
  {
   "cell_type": "code",
   "execution_count": 20,
   "metadata": {
    "collapsed": false
   },
   "outputs": [
    {
     "name": "stdout",
     "output_type": "stream",
     "text": [
      "929615\n",
      "13845\n"
     ]
    }
   ],
   "source": [
    "Eout_dict_read = open('./output/Cust2Prod_pred_Nov16.eout', 'r')  \n",
    "id_2_prod_dict = dict()\n",
    "\n",
    "for line in Eout_dict_read:\n",
    "    line = line.strip()\n",
    "    \n",
    "    if len(line.split('|')) != 2:\n",
    "       print 'error_line:'+line\n",
    "    else:\n",
    "       cust_id  = line.split('|')[0]\n",
    "       products = line.split('|')[1]\n",
    "        \n",
    "       id_2_prod_dict[cust_id] = products \n",
    "\n",
    "    \n",
    "sample_submission_read = open('./output/sample_submission.csv', 'r')\n",
    "\n",
    "head_line = 'ncodpers,added_products' + '\\n'\n",
    "submission_write = open('./output/submission_Nov18.csv', 'w')  \n",
    "submission_write.write(head_line)\n",
    "\n",
    "check_line_count = 0\n",
    "\n",
    "duplicated_items_count = 0\n",
    "#for i in range(0,10000):    \n",
    "    #line = sample_submission_read.readline().strip()\n",
    "    \n",
    "for line in sample_submission_read:\n",
    "    line = line.strip()    \n",
    "    \n",
    "    if 'ncodpers' not in line:\n",
    "    \n",
    "        cust_id  = line.split(',')[0]\n",
    "\n",
    "        prt_line = cust_id + ','\n",
    "        \n",
    "        pruned_line = False\n",
    "\n",
    "        if cust_id in id_2_prod_dict:\n",
    "            \n",
    "           \n",
    "           #print cust_end_products_dict[cust_id]\n",
    "           #print 'predict:'+ str(id_2_prod_dict[cust_id])  \n",
    "           \n",
    "           for prod_name_item in id_2_prod_dict[cust_id].split(' '):\n",
    "            \n",
    "               if prod_name_item not in cust_end_products_dict[cust_id]:\n",
    "\n",
    "                  prt_line += prod_name_item + ' '\n",
    "                \n",
    "                  pruned_line = True\n",
    "                \n",
    "               else: \n",
    "                 \n",
    "                 #print '->' + prod_name_item    \n",
    "                 \n",
    "                 duplicated_items_count += 1\n",
    "\n",
    "        check_line_count += 1\n",
    "        \n",
    "        if pruned_line:\n",
    "           submission_write.write(prt_line[:-1]+'\\n')\n",
    "        else:\n",
    "           submission_write.write(prt_line+'\\n')  \n",
    "\n",
    "print check_line_count \n",
    "print duplicated_items_count\n",
    "    \n",
    "submission_write.close() \n",
    "sample_submission_read.close() \n",
    "Eout_dict_read.close() "
   ]
  },
  {
   "cell_type": "code",
   "execution_count": 4,
   "metadata": {
    "collapsed": false
   },
   "outputs": [
    {
     "name": "stdout",
     "output_type": "stream",
     "text": [
      "TP = 8728\n",
      "FP = 4856\n",
      "TN = 224378\n",
      "FN = 2571\n",
      "precison = 0.64\n",
      "recall = 0.77\n",
      "accuracy = 0.97\n"
     ]
    }
   ],
   "source": []
  },
  {
   "cell_type": "code",
   "execution_count": null,
   "metadata": {
    "collapsed": true
   },
   "outputs": [],
   "source": []
  }
 ],
 "metadata": {
  "kernelspec": {
   "display_name": "Python 2",
   "language": "python",
   "name": "python2"
  },
  "language_info": {
   "codemirror_mode": {
    "name": "ipython",
    "version": 2
   },
   "file_extension": ".py",
   "mimetype": "text/x-python",
   "name": "python",
   "nbconvert_exporter": "python",
   "pygments_lexer": "ipython2",
   "version": "2.7.5"
  }
 },
 "nbformat": 4,
 "nbformat_minor": 0
}
