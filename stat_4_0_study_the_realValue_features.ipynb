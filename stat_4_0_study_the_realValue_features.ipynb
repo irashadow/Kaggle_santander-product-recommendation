{
 "cells": [
  {
   "cell_type": "code",
   "execution_count": 6,
   "metadata": {
    "collapsed": true
   },
   "outputs": [],
   "source": [
    "import os\n",
    "import csv\n",
    "import sys\n",
    "import random\n",
    "import scipy\n",
    "import numpy as np\n",
    "import math\n",
    "\n",
    "\n",
    "workspace_path = '/home/irashadow/python_workspace/Kaggle_Comp/Santander/'"
   ]
  },
  {
   "cell_type": "code",
   "execution_count": 13,
   "metadata": {
    "collapsed": false
   },
   "outputs": [
    {
     "name": "stdout",
     "output_type": "stream",
     "text": [
      "1050614|2015-01|5:0.13 8:0.14\n",
      "1050614|2015-02|5:0.13 8:0.14\n",
      "1050614|2015-03|5:0.13 8:0.14\n",
      "1050614|2015-04|5:0.13 8:0.14\n",
      "1050614|2015-05|5:0.13 8:0.14\n",
      "1050614|2015-06|5:0.13 8:0.14\n",
      "1050614|2015-07|5:0.13 8:0.14\n",
      "1050614|2015-08|5:0.13 8:0.14\n",
      "1050614|2015-09|5:0.13 8:0.14\n",
      "1050614|2015-10|5:0.13 8:0.15\n",
      "1050614|2015-11|5:0.13 8:0.15\n",
      "1050614|2015-12|5:0.13 8:0.16\n",
      "1050614|2016-01|5:0.13 8:0.16\n",
      "1050614|2016-02|5:0.13 8:0.16\n",
      "1050614|2016-03|5:0.13 8:0.17\n",
      "1050614|2016-04|5:0.14 8:0.17\n",
      "1050614|2016-05|5:0.14 8:0.18\n",
      "1050614|2016-06|5:0.14 8:0.18\n",
      "14576924\n"
     ]
    }
   ],
   "source": [
    "feat_read = open(workspace_path + '/feat/3_3_cust_RealNumber.feat', 'r')\n",
    "#feat_read = open(workspace_path + '/feat/3_2_cust_real.feat', 'r')\n",
    "\n",
    "\n",
    "line_count = 0\n",
    "\n",
    "\n",
    "line_count = 0\n",
    "#for i in range(0,1000):\n",
    "    #line = feat_read.readline().strip()\n",
    "for line in feat_read:\n",
    "    line = line.strip()\n",
    "    \n",
    "    line_count += 1\n",
    "\n",
    "\n",
    "    cust_id = int(line.split('|')[0])\n",
    "    item_date = line.split('|')[1]\n",
    "    features = line.split('|')[2]\n",
    "\n",
    "    if cust_id == 1050614:\n",
    "       print line \n",
    "       \n",
    "      \n",
    "            \n",
    "print line_count           \n",
    "feat_read.close()    \n",
    "\n"
   ]
  },
  {
   "cell_type": "code",
   "execution_count": null,
   "metadata": {
    "collapsed": true
   },
   "outputs": [],
   "source": [
    "1050614|2015-01|19:1 1:1 10:1 28:1\n",
    "1050614|2015-02|19:1 1:1 10:1 28:1\n",
    "1050614|2015-03|19:1 1:1 10:1 28:1\n",
    "1050614|2015-04|19:1 1:1 10:1 28:1\n",
    "1050614|2015-05|19:1 1:1 10:1 28:1\n",
    "1050614|2015-06|19:1 1:1 10:1 28:1\n",
    "1050614|2015-07|19:1 1:1 10:1 28:1\n",
    "1050614|2015-08|19:1 1:1 10:1 28:1\n",
    "1050614|2015-09|19:1 1:1 10:1 28:1\n",
    "1050614|2015-10|19:1 1:1 10:1 28:1\n",
    "1050614|2015-11|19:1 1:1 10:1 28:1\n",
    "1050614|2015-12|19:1 2:1 10:1 28:1\n",
    "1050614|2016-01|19:1 2:1 10:1 28:1\n",
    "1050614|2016-02|19:1 2:1 10:1 28:1\n",
    "1050614|2016-03|19:1 2:1 10:1 28:1\n",
    "1050614|2016-04|19:1 2:1 10:1 28:1\n",
    "1050614|2016-05|19:1 2:1 10:1 28:1\n",
    "1050614|2016-06|19:1 2:1 10:1 36:1"
   ]
  }
 ],
 "metadata": {
  "kernelspec": {
   "display_name": "Python 2",
   "language": "python",
   "name": "python2"
  },
  "language_info": {
   "codemirror_mode": {
    "name": "ipython",
    "version": 2
   },
   "file_extension": ".py",
   "mimetype": "text/x-python",
   "name": "python",
   "nbconvert_exporter": "python",
   "pygments_lexer": "ipython2",
   "version": "2.7.5"
  }
 },
 "nbformat": 4,
 "nbformat_minor": 0
}
