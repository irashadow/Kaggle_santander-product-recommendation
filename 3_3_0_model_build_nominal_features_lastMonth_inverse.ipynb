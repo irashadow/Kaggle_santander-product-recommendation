{
 "cells": [
  {
   "cell_type": "code",
   "execution_count": 1,
   "metadata": {
    "collapsed": true
   },
   "outputs": [],
   "source": [
    "import os\n",
    "import csv\n",
    "import sys\n",
    "import random\n",
    "import scipy\n",
    "import numpy as np\n",
    "\n",
    "\n",
    "workspace_path = '/home/irashadow/python_workspace/Kaggle_Comp/Santander/'\n",
    "\n",
    "\n",
    "#print cust_dict_tr\n",
    "\n",
    "base_num = 60\n",
    "\n",
    "#features_count = 16 * (30(pos) + 30(neg))\n",
    "features_count = (16+1) * base_num"
   ]
  },
  {
   "cell_type": "code",
   "execution_count": 2,
   "metadata": {
    "collapsed": false
   },
   "outputs": [
    {
     "name": "stdout",
     "output_type": "stream",
     "text": [
      "895614\n"
     ]
    }
   ],
   "source": [
    "feat_read = open(workspace_path + '/feat/2_cust_product_inv.feat', 'r')\n",
    "\n",
    "cust_2_labels_dict = dict()\n",
    "\n",
    "pos_case_dict = dict()\n",
    "neg_case_dict = dict()\n",
    "\n",
    "for i in range(1,25): pos_case_dict[i] = 0 \n",
    "for i in range(1,25): neg_case_dict[i] = 0     \n",
    "\n",
    "train_write_set = [open(workspace_path + '/train/model_pf03/cust_product_1.train', 'w')]\n",
    "for i in range(2,25):\n",
    "    train_write_set.append(open(workspace_path + '/train/model_pf03/cust_product_'+str(i)+'.train', 'w'))\n",
    "\n",
    "check_line_count = 0\n",
    "\n",
    "\n",
    "for line in feat_read:\n",
    "    line = line.strip()\n",
    "    \n",
    "\n",
    "#for i in range(0,10000):    \n",
    "    #line = feat_read.readline().strip()\n",
    "    \n",
    "    check_line_count += 1\n",
    "    \n",
    "    cust_id = ''\n",
    "    feat_items = ''\n",
    "    \n",
    "    if len(line.split('|')) != 2:\n",
    "       print 'error_line:'+line\n",
    "        \n",
    "    else:\n",
    "    \n",
    "       cust_id = line.split('|')[0]\n",
    "       feat_items = line.split('|')[1]\n",
    "    \n",
    "    get_label = np.zeros(60)\n",
    "    \n",
    "    isPrint = False\n",
    "    \n",
    "    feats_line_save = ''\n",
    "    \n",
    "    if len(feat_items) > 1: \n",
    "        \n",
    "        if len(feat_items.split('$')) != 2:\n",
    "           print line\n",
    "        \n",
    "        \n",
    "        label_tokens_get = feat_items.split('$')[0]\n",
    "        feeat_tokens_get = feat_items.split('$')[1]\n",
    "        \n",
    "        feats_line_save = feeat_tokens_get \n",
    "        \n",
    "        for feat_item in label_tokens_get.split(' '):\n",
    "\n",
    "            prod_id = int(feat_item.split(':')[0])\n",
    "            get_label[prod_id] = 1\n",
    "        \n",
    "        if sum(get_label) > 0:\n",
    "           isPrint = True\n",
    "            \n",
    "           cust_2_labels_dict[cust_id] = get_label \n",
    "            \n",
    "    \n",
    "        \n",
    "        \n",
    "\n",
    "    \n",
    "    #print>>feat_write,prt_line \n",
    "    \n",
    "print check_line_count    "
   ]
  },
  {
   "cell_type": "code",
   "execution_count": 3,
   "metadata": {
    "collapsed": false
   },
   "outputs": [
    {
     "name": "stdout",
     "output_type": "stream",
     "text": [
      "956645\n"
     ]
    }
   ],
   "source": [
    "feat_read = open(workspace_path + '/feat/4_cust_features_nominal.feat', 'r')\n",
    "\n",
    "line_count = 0\n",
    "\n",
    "for line in feat_read:\n",
    "    \n",
    "    line = line.strip()\n",
    "    line_count += 1\n",
    "    \n",
    "    cust_id = line.split('|')[0]\n",
    "    feats_line_save = line.split('|')[1]\n",
    "    \n",
    "    get_label = []\n",
    "    \n",
    "    isPrint = False\n",
    "    \n",
    "    if cust_id in cust_2_labels_dict:\n",
    "         \n",
    "       get_label = cust_2_labels_dict[cust_id]\n",
    "    \n",
    "       isPrint = True   \n",
    "    \n",
    "    if isPrint:\n",
    "        \n",
    "       for j in range(1,25):\n",
    "         \n",
    "           if get_label[j] == 1 and len(feats_line_save) > 0:\n",
    "    \n",
    "              prt_line = '+1' + ' ' + feats_line_save + '\\n'\n",
    "              train_write_set[j-1].write(prt_line) \n",
    "              pos_case_dict[j] += 1 \n",
    "        \n",
    "           elif get_label[j] == 0 and len(feats_line_save) > 0:\n",
    "                \n",
    "                prt_line = '-1' + ' ' + feats_line_save + '\\n' \n",
    "                train_write_set[j-1].write(prt_line)  \n",
    "                neg_case_dict[j] += 1 \n",
    "    \n",
    "   \n",
    "print line_count    \n",
    "feat_read.close() \n",
    "\n",
    "\n"
   ]
  },
  {
   "cell_type": "code",
   "execution_count": 4,
   "metadata": {
    "collapsed": false
   },
   "outputs": [
    {
     "name": "stdout",
     "output_type": "stream",
     "text": [
      "{1: 52, 2: 8, 3: 451173, 4: 177, 5: 21166, 6: 5932, 7: 5397, 8: 68992, 9: 17324, 10: 210, 11: 626, 12: 16317, 13: 34418, 14: 6906, 15: 1714, 16: 3172, 17: 1685, 18: 19584, 19: 19744, 20: 10204, 21: 1736, 22: 26832, 23: 29664, 24: 0}\n",
      "{1: 711839, 2: 711883, 3: 260718, 4: 711714, 5: 690725, 6: 705959, 7: 706494, 8: 642899, 9: 694567, 10: 711681, 11: 711265, 12: 695574, 13: 677473, 14: 704985, 15: 710177, 16: 708719, 17: 710206, 18: 692307, 19: 692147, 20: 701687, 21: 710155, 22: 685059, 23: 682227, 24: 711891}\n"
     ]
    }
   ],
   "source": [
    "print pos_case_dict\n",
    "print neg_case_dict"
   ]
  },
  {
   "cell_type": "code",
   "execution_count": 16,
   "metadata": {
    "collapsed": false
   },
   "outputs": [
    {
     "data": {
      "text/plain": [
       "0.9103812316715543"
      ]
     },
     "execution_count": 16,
     "metadata": {},
     "output_type": "execute_result"
    }
   ],
   "source": [
    "1.0-5348/(5348.0+54327.0)"
   ]
  },
  {
   "cell_type": "code",
   "execution_count": 7,
   "metadata": {
    "collapsed": true
   },
   "outputs": [],
   "source": [
    "feat_temp = np.zeros(60)"
   ]
  },
  {
   "cell_type": "code",
   "execution_count": 26,
   "metadata": {
    "collapsed": false
   },
   "outputs": [
    {
     "name": "stdout",
     "output_type": "stream",
     "text": [
      "60\n"
     ]
    }
   ],
   "source": [
    "print len(feat_temp)\n"
   ]
  },
  {
   "cell_type": "code",
   "execution_count": 56,
   "metadata": {
    "collapsed": false
   },
   "outputs": [],
   "source": [
    "feat_temp[1:10] = 1\n",
    "feat_temp[1:20] = 1\n",
    "temp_inx = list(np.where(feat_temp == 1))"
   ]
  },
  {
   "cell_type": "code",
   "execution_count": 57,
   "metadata": {
    "collapsed": false
   },
   "outputs": [
    {
     "data": {
      "text/plain": [
       "(1, 19)"
      ]
     },
     "execution_count": 57,
     "metadata": {},
     "output_type": "execute_result"
    }
   ],
   "source": [
    "np.shape(temp_inx)"
   ]
  },
  {
   "cell_type": "code",
   "execution_count": 58,
   "metadata": {
    "collapsed": false
   },
   "outputs": [
    {
     "name": "stdout",
     "output_type": "stream",
     "text": [
      "<type 'list'>\n"
     ]
    }
   ],
   "source": [
    "print type(temp_inx)"
   ]
  },
  {
   "cell_type": "code",
   "execution_count": 60,
   "metadata": {
    "collapsed": false
   },
   "outputs": [
    {
     "name": "stdout",
     "output_type": "stream",
     "text": [
      "[array([ 1,  2,  3,  4,  5,  6,  7,  8,  9, 10, 11, 12, 13, 14, 15, 16, 17,\n",
      "       18, 19])]\n"
     ]
    }
   ],
   "source": [
    "print temp_inx"
   ]
  },
  {
   "cell_type": "code",
   "execution_count": 64,
   "metadata": {
    "collapsed": false
   },
   "outputs": [
    {
     "name": "stdout",
     "output_type": "stream",
     "text": [
      "1\n",
      "2\n",
      "3\n",
      "4\n",
      "5\n",
      "6\n",
      "7\n",
      "8\n",
      "9\n",
      "10\n",
      "11\n",
      "12\n",
      "13\n",
      "14\n",
      "15\n",
      "16\n",
      "17\n",
      "18\n",
      "19\n"
     ]
    }
   ],
   "source": [
    "for item in temp_inx[0]:\n",
    "    \n",
    "    print item"
   ]
  },
  {
   "cell_type": "code",
   "execution_count": 2,
   "metadata": {
    "collapsed": false
   },
   "outputs": [
    {
     "data": {
      "text/plain": [
       "1020"
      ]
     },
     "execution_count": 2,
     "metadata": {},
     "output_type": "execute_result"
    }
   ],
   "source": [
    "17*60"
   ]
  },
  {
   "cell_type": "code",
   "execution_count": 6,
   "metadata": {
    "collapsed": false
   },
   "outputs": [
    {
     "name": "stdout",
     "output_type": "stream",
     "text": [
      "{1: 0, 2: 0, 3: 0, 4: 0, 5: 0, 6: 0, 7: 0, 8: 0, 9: 0, 10: 0, 11: 0, 12: 0, 13: 0, 14: 0, 15: 0, 16: 0, 17: 0, 18: 0, 19: 0, 20: 0, 21: 0, 22: 0, 23: 0, 24: 0}\n"
     ]
    }
   ],
   "source": [
    "pos_case_dict = dict()\n",
    "neg_case_dict = dict()\n",
    "\n",
    "\n",
    "\n",
    "    \n",
    "print pos_case_dict\n"
   ]
  },
  {
   "cell_type": "code",
   "execution_count": null,
   "metadata": {
    "collapsed": true
   },
   "outputs": [],
   "source": []
  }
 ],
 "metadata": {
  "kernelspec": {
   "display_name": "Python 2",
   "language": "python",
   "name": "python2"
  },
  "language_info": {
   "codemirror_mode": {
    "name": "ipython",
    "version": 2
   },
   "file_extension": ".py",
   "mimetype": "text/x-python",
   "name": "python",
   "nbconvert_exporter": "python",
   "pygments_lexer": "ipython2",
   "version": "2.7.5"
  }
 },
 "nbformat": 4,
 "nbformat_minor": 0
}
