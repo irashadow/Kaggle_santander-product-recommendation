{
 "cells": [
  {
   "cell_type": "code",
   "execution_count": 1,
   "metadata": {
    "collapsed": false
   },
   "outputs": [
    {
     "name": "stderr",
     "output_type": "stream",
     "text": [
      "/home/irashadow/env_TensorFlow/lib/python2.7/site-packages/ipykernel/__main__.py:7: DeprecationWarning: the sets module is deprecated\n"
     ]
    }
   ],
   "source": [
    "import os\n",
    "import csv\n",
    "import sys\n",
    "import random\n",
    "import scipy\n",
    "import numpy as np\n",
    "from sets import Set\n",
    "\n",
    "\n",
    "workspace_path = '/home/irashadow/python_workspace/Kaggle_Comp/Santander/'\n",
    "\n",
    "\n",
    "#print cust_dict_tr\n",
    "\n",
    "def prod_change(prev_items_str, pres_items_str):\n",
    "    \n",
    "    pres_items = Set(pres_items_str.split(','))\n",
    "    prev_items = Set(prev_items_str.split(','))\n",
    "\n",
    "    #print pres_items\n",
    "    #print pres_items.difference(prev_items)\n",
    "    #print prev_items.difference(pres_items)\n",
    "    \n",
    "    return_line = ''\n",
    "    \n",
    "    if pres_items_str != '':    \n",
    "       for item in pres_items.difference(prev_items):  \n",
    "           if item == '':\n",
    "              print prev_items_str + '|' + pres_items_str \n",
    "        \n",
    "           return_line += '+' + item + ','\n",
    "        \n",
    "    if prev_items_str != '':    \n",
    "       for item in prev_items.difference(pres_items):\n",
    "           return_line += '-' + item + ','   \n",
    "        \n",
    "    if len(return_line) > 0:\n",
    "        \n",
    "       return_line = return_line[:-1] \n",
    "    \n",
    "    return return_line\n",
    "\n",
    "\n",
    "    "
   ]
  },
  {
   "cell_type": "code",
   "execution_count": 2,
   "metadata": {
    "collapsed": false
   },
   "outputs": [],
   "source": [
    "month_dict = dict()\n",
    "month_dict['2015-01'] = 0\n",
    "month_dict['2015-02'] = 1\n",
    "month_dict['2015-03'] = 2\n",
    "month_dict['2015-04'] = 3\n",
    "month_dict['2015-05'] = 4\n",
    "month_dict['2015-06'] = 5\n",
    "month_dict['2015-07'] = 6\n",
    "month_dict['2015-08'] = 7\n",
    "month_dict['2015-09'] = 8\n",
    "month_dict['2015-10'] = 9\n",
    "month_dict['2015-11'] = 10\n",
    "month_dict['2015-12'] = 11\n",
    "month_dict['2016-01'] = 12\n",
    "month_dict['2016-02'] = 13\n",
    "month_dict['2016-03'] = 14\n",
    "month_dict['2016-04'] = 15\n",
    "month_dict['2016-05'] = 16\n",
    "month_dict['2016-06'] = 17    \n",
    "month_dict_inv = dict()\n",
    "month_dict_inv[0] = '2015-01'\n",
    "month_dict_inv[1] = '2015-02'\n",
    "month_dict_inv[2] = '2015-03'\n",
    "month_dict_inv[3] = '2015-04'\n",
    "month_dict_inv[4] = '2015-05'\n",
    "month_dict_inv[5] = '2015-06'\n",
    "month_dict_inv[6] = '2015-07'\n",
    "month_dict_inv[7] = '2015-08'\n",
    "month_dict_inv[8] = '2015-09'\n",
    "month_dict_inv[9] = '2015-10'\n",
    "month_dict_inv[10] = '2015-11'\n",
    "month_dict_inv[11] = '2015-12'\n",
    "month_dict_inv[12] = '2016-01'\n",
    "month_dict_inv[13] = '2016-02'\n",
    "month_dict_inv[14] = '2016-03'\n",
    "month_dict_inv[15] = '2016-04'\n",
    "month_dict_inv[16] = '2016-05'\n",
    "month_dict_inv[17] = '2016-06'"
   ]
  },
  {
   "cell_type": "code",
   "execution_count": 3,
   "metadata": {
    "collapsed": false
   },
   "outputs": [
    {
     "name": "stdout",
     "output_type": "stream",
     "text": [
      "956645\n",
      "13647309\n"
     ]
    }
   ],
   "source": [
    "#loading products item as features\n",
    "dict_read = open(workspace_path + '/dict/cust_product.csv', 'r')\n",
    "\n",
    "cust_date_products_dict = dict()\n",
    "line_count = 0\n",
    "line_items_sum = 0\n",
    "#for i in range(0,100):\n",
    "    #line = dict_read.readline().strip()\n",
    "    \n",
    "\n",
    "for line in dict_read:\n",
    "    line = line.strip()\n",
    "    \n",
    "    line_count += 1\n",
    "    \n",
    "    if len(line.split(':')) != 2: \n",
    "       print line \n",
    "    \n",
    "    cust_id = int(line.split(':')[0])\n",
    "    \n",
    "    cust_items = line.split(':')[1]\n",
    "    \n",
    "    \n",
    "    if cust_id not in cust_date_products_dict:\n",
    "        \n",
    "       cust_date_products_dict[cust_id] = dict() \n",
    "    \n",
    "    line_items_sum += len(cust_items.split(';'))\n",
    "    \n",
    "    for prod_item in cust_items.split(';'):\n",
    "        \n",
    "        if len(prod_item.split('|')) == 2:   \n",
    "        \n",
    "            date_item = prod_item.split('|')[0]\n",
    "            pres_items_get = prod_item.split('|')[1]\n",
    "            cust_date_products_dict[cust_id][date_item] = pres_items_get   \n",
    "            \n",
    "            \n",
    "        else:\n",
    "            \n",
    "            print line\n",
    "            print prod_item\n",
    "            \n",
    "print line_count \n",
    "print line_items_sum\n",
    "dict_read.close()"
   ]
  },
  {
   "cell_type": "code",
   "execution_count": 4,
   "metadata": {
    "collapsed": false
   },
   "outputs": [
    {
     "name": "stdout",
     "output_type": "stream",
     "text": [
      "3,11\n",
      "3,11\n"
     ]
    }
   ],
   "source": [
    "print cust_date_products_dict[21728]['2015-05']\n",
    "print cust_date_products_dict[21728]['2015-06']\n",
    "\n"
   ]
  },
  {
   "cell_type": "code",
   "execution_count": 5,
   "metadata": {
    "collapsed": false
   },
   "outputs": [
    {
     "name": "stdout",
     "output_type": "stream",
     "text": [
      "956645\n"
     ]
    }
   ],
   "source": [
    "dict_read = open(workspace_path + '/dict/cust_date_records.txt', 'r')\n",
    "\n",
    "line_count = 0\n",
    "feat_line_count = 0\n",
    "\n",
    "cust_date_dict = dict()\n",
    "\n",
    "#for i in range(0,100):\n",
    "    #line = dict_read.readline().strip()\n",
    "for line in dict_read:  \n",
    "    line = line.strip()\n",
    "    \n",
    "    \n",
    "    line_count += 1\n",
    "\n",
    "    cust_id = int(line.split('|')[0])\n",
    "    last_date = line.split('|')[1]\n",
    "    date_items = line.split('|')[2]\n",
    "    \n",
    "    \n",
    "    dict_date_items_count =len(cust_date_products_dict[cust_id])\n",
    "    date_items_count = len(date_items.split(','))\n",
    "    \n",
    "    if dict_date_items_count != date_items_count:\n",
    "        \n",
    "       print str(dict_date_items_count) +'|'+ str(date_items_count)\n",
    "    \n",
    "    \n",
    "    cust_date_dict[cust_id] = date_items\n",
    "    \n",
    "print line_count    "
   ]
  },
  {
   "cell_type": "code",
   "execution_count": 6,
   "metadata": {
    "collapsed": false
   },
   "outputs": [
    {
     "name": "stdout",
     "output_type": "stream",
     "text": [
      "956645\n",
      "{'2015-07': '', '2015-08': '', '2015-09': '', '2016-05': '5,18,19,23,24', '2016-04': '5,18,19,23,24', '2016-03': '5,18,19,23,24', '2016-02': '5,19,23,24', '2016-01': '5,19,24', '2015-11': '3', '2015-10': '', '2015-12': '5,19,23'}\n"
     ]
    }
   ],
   "source": [
    "print len(cust_date_dict)\n",
    "print cust_date_products_dict[15984]"
   ]
  },
  {
   "cell_type": "code",
   "execution_count": 38,
   "metadata": {
    "collapsed": false
   },
   "outputs": [
    {
     "name": "stdout",
     "output_type": "stream",
     "text": [
      "956645\n",
      "36673\n",
      "13647309\n"
     ]
    }
   ],
   "source": [
    "import datetime as dt\n",
    "\n",
    "dict_write = open(workspace_path + '/dict/cust_product_added.csv', 'w')\n",
    "line_count = 0  \n",
    "line_count_sp = 0\n",
    "line_items_sum = 0\n",
    "  \n",
    "    \n",
    "for cust_id in sorted(cust_date_dict.keys()):\n",
    "    \n",
    "    line_count += 1\n",
    "    \n",
    "    date_items = cust_date_dict[cust_id].split(',')\n",
    "    \n",
    "    line_items_sum += len(date_items)\n",
    "    \n",
    "    #print cust_id\n",
    "    \n",
    "    #print line\n",
    "    \n",
    "    prt_line = str(cust_id) + ':'\n",
    "    \n",
    "    prt_line_added = ''\n",
    "    \n",
    "    #print date_items\n",
    "    \n",
    "    for i in range(0, len(date_items)):\n",
    "                \n",
    "        date = date_items[i]\n",
    "        date_encode = month_dict[date]\n",
    "        pres_items_get = cust_date_products_dict[cust_id][date]\n",
    "        \n",
    "         \n",
    "        prod_change_get = ''\n",
    "        if i == len(date_items)-1:\n",
    "           prev_items_set = '' \n",
    "           prod_change_get = prod_change(prev_items_set, pres_items_get)\n",
    "        \n",
    "        else:    \n",
    "           last_date = date_items[i+1]\n",
    "           prev_items_set = cust_date_products_dict[cust_id][last_date]\n",
    "           prod_change_get = prod_change(prev_items_set, pres_items_get)\n",
    "            \n",
    "        prt_line_added += date + '|' + prod_change_get + ';'\n",
    "        \n",
    "        if date == '2015-06' and '+' in prod_change_get:  \n",
    "           line_count_sp += 1 \n",
    "             \n",
    "    \n",
    "    if len(prt_line_added) > 0:\n",
    "       dict_write.write(prt_line+prt_line_added[:-1]+'\\n')  \n",
    "    else:    \n",
    "       dict_write.write(prt_line+'\\n')  \n",
    "    \n",
    "    \n",
    "print line_count \n",
    "print line_count_sp\n",
    "print line_items_sum\n",
    "dict_write.close()    "
   ]
  },
  {
   "cell_type": "code",
   "execution_count": 9,
   "metadata": {
    "collapsed": false
   },
   "outputs": [
    {
     "name": "stdout",
     "output_type": "stream",
     "text": [
      "956645\n",
      "36710\n",
      "13647309\n"
     ]
    }
   ],
   "source": [
    "import datetime as dt\n",
    "\n",
    "dict_write = open(workspace_path + '/dict/cust_product_added_lastmonth.csv', 'w')\n",
    "line_count = 0  \n",
    "line_count_sp = 0\n",
    "line_items_sum = 0\n",
    "  \n",
    "    \n",
    "for cust_id in sorted(cust_date_dict.keys()):\n",
    "    \n",
    "    line_count += 1\n",
    "    \n",
    "    date_items = cust_date_dict[cust_id].split(',')\n",
    "    \n",
    "    line_items_sum += len(date_items)\n",
    "    \n",
    "    #print cust_id\n",
    "    \n",
    "    #print line\n",
    "    \n",
    "    prt_line = str(cust_id) + ':'\n",
    "    \n",
    "    prt_line_added = ''\n",
    "    \n",
    "    #print date_items\n",
    "    \n",
    "    for i in range(0, len(date_items)):\n",
    "                \n",
    "        date = date_items[i]\n",
    "        date_encode = month_dict[date]\n",
    "        pres_items_get = cust_date_products_dict[cust_id][date]\n",
    "        \n",
    "         \n",
    "        prod_change_get = ''\n",
    "        if i == len(date_items)-1:\n",
    "           prev_items_set = '' \n",
    "           prod_change_get = prod_change(prev_items_set, pres_items_get)\n",
    "        \n",
    "        else: \n",
    "           last_date_encode = date_encode -1 \n",
    "           last_date = month_dict_inv[last_date_encode]\n",
    "           if last_date in cust_date_products_dict[cust_id]:\n",
    "              prev_items_set = cust_date_products_dict[cust_id][last_date]\n",
    "              prod_change_get = prod_change(prev_items_set, pres_items_get)\n",
    "           else:\n",
    "              prev_items_set = '' \n",
    "              prod_change_get = prod_change(prev_items_set, pres_items_get)\n",
    "            \n",
    "        prt_line_added += date + '|' + prod_change_get + ';'\n",
    "        \n",
    "        if date == '2015-06' and '+' in prod_change_get:  \n",
    "           line_count_sp += 1 \n",
    "             \n",
    "    \n",
    "    if len(prt_line_added) > 0:\n",
    "       dict_write.write(prt_line+prt_line_added[:-1]+'\\n')  \n",
    "    else:    \n",
    "       dict_write.write(prt_line+'\\n')  \n",
    "    \n",
    "    \n",
    "print line_count \n",
    "print line_count_sp\n",
    "print line_items_sum\n",
    "dict_write.close()    "
   ]
  },
  {
   "cell_type": "code",
   "execution_count": 8,
   "metadata": {
    "collapsed": false
   },
   "outputs": [
    {
     "name": "stdout",
     "output_type": "stream",
     "text": [
      "956645\n",
      "36710\n",
      "632110\n",
      "13647309\n",
      "{0: 595400, 1: 29492, 2: 5641, 3: 1412, 4: 156, 5: 9}\n"
     ]
    }
   ],
   "source": [
    "# double check\n",
    "\n",
    "import datetime as dt\n",
    "line_count = 0  \n",
    "line_count_plus = 0\n",
    "line_count_sp = 0\n",
    "line_items_sum = 0\n",
    "added_prod_count = dict()  \n",
    "    \n",
    "for cust_id in sorted(cust_date_dict.keys()):\n",
    "    \n",
    "    line_count += 1\n",
    "    \n",
    "    date_items = cust_date_dict[cust_id].split(',')\n",
    "    \n",
    "    line_items_sum += len(date_items)\n",
    "    \n",
    "    #print cust_id\n",
    "    \n",
    "    #print line\n",
    "    \n",
    "    prt_line = str(cust_id) + ':'\n",
    "    \n",
    "    prt_line_added = ''\n",
    "    \n",
    "    \n",
    "    \n",
    "    #print date_items\n",
    "    \n",
    "    if '2015-06' in date_items:\n",
    "                \n",
    "        line_count_plus += 1   \n",
    "        \n",
    "        pres_items_get = cust_date_products_dict[cust_id]['2015-06']\n",
    "        \n",
    "        prod_change_get = ''\n",
    "        if '2015-05' in date_items:\n",
    "           prev_items_set = cust_date_products_dict[cust_id]['2015-05']\n",
    "           prod_change_get = prod_change(prev_items_set, pres_items_get)\n",
    "\n",
    "        else:   \n",
    "           prev_items_set = ''\n",
    "           prod_change_get = prod_change(prev_items_set, pres_items_get)   \n",
    "            \n",
    "        \n",
    "        if '+' in prod_change_get:  \n",
    "           line_count_sp += 1 \n",
    "        \n",
    "        count_temp = 0\n",
    "        if len(prod_change_get) > 0:\n",
    "           for item in prod_change_get.split(','):\n",
    "               if item[0] == '+':\n",
    "                  count_temp += 1 \n",
    "                \n",
    "\n",
    "        if count_temp not in added_prod_count:\n",
    "           added_prod_count[count_temp] = 1\n",
    "        else:   \n",
    "           added_prod_count[count_temp] += 1\n",
    "             \n",
    "print line_count \n",
    "print line_count_sp\n",
    "print line_count_plus\n",
    "print line_items_sum\n",
    "print added_prod_count\n",
    "dict_write.close()   "
   ]
  },
  {
   "cell_type": "code",
   "execution_count": 20,
   "metadata": {
    "collapsed": false
   },
   "outputs": [
    {
     "name": "stdout",
     "output_type": "stream",
     "text": [
      "3,19|,\n"
     ]
    },
    {
     "data": {
      "text/plain": [
       "'+,-19,-3'"
      ]
     },
     "execution_count": 20,
     "metadata": {},
     "output_type": "execute_result"
    }
   ],
   "source": [
    "items_1 = '3,19'\n",
    "\n",
    "items_2 = ','\n",
    "\n",
    "prod_change(items_1, items_2)"
   ]
  },
  {
   "cell_type": "code",
   "execution_count": 6,
   "metadata": {
    "collapsed": false
   },
   "outputs": [
    {
     "name": "stdout",
     "output_type": "stream",
     "text": [
      "4\n",
      "3\n",
      "2\n",
      "1\n",
      "0\n"
     ]
    }
   ],
   "source": [
    "for item in reversed(range(0,5)):\n",
    "    print item"
   ]
  },
  {
   "cell_type": "code",
   "execution_count": null,
   "metadata": {
    "collapsed": true
   },
   "outputs": [],
   "source": []
  }
 ],
 "metadata": {
  "kernelspec": {
   "display_name": "Python 2",
   "language": "python",
   "name": "python2"
  },
  "language_info": {
   "codemirror_mode": {
    "name": "ipython",
    "version": 2
   },
   "file_extension": ".py",
   "mimetype": "text/x-python",
   "name": "python",
   "nbconvert_exporter": "python",
   "pygments_lexer": "ipython2",
   "version": "2.7.5"
  }
 },
 "nbformat": 4,
 "nbformat_minor": 0
}
