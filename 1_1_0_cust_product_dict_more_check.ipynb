{
 "cells": [
  {
   "cell_type": "code",
   "execution_count": 1,
   "metadata": {
    "collapsed": true
   },
   "outputs": [],
   "source": [
    "import os\n",
    "import csv\n",
    "import sys\n",
    "import random\n",
    "import scipy\n",
    "import numpy as np\n",
    "\n",
    "workspace_path = '/home/irashadow/python_workspace/Kaggle_Comp/Santander/'\n"
   ]
  },
  {
   "cell_type": "code",
   "execution_count": 2,
   "metadata": {
    "collapsed": false
   },
   "outputs": [
    {
     "name": "stdout",
     "output_type": "stream",
     "text": [
      "\"fecha_dato\",\"ncodpers\",\"ind_empleado\",\"pais_residencia\",\"sexo\",\"age\",\"fecha_alta\",\"ind_nuevo\",\"antiguedad\",\"indrel\",\"ult_fec_cli_1t\",\"indrel_1mes\",\"tiprel_1mes\",\"indresi\",\"indext\",\"conyuemp\",\"canal_entrada\",\"indfall\",\"tipodom\",\"cod_prov\",\"nomprov\",\"ind_actividad_cliente\",\"renta\",\"segmento\",\"ind_ahor_fin_ult1\",\"ind_aval_fin_ult1\",\"ind_cco_fin_ult1\",\"ind_cder_fin_ult1\",\"ind_cno_fin_ult1\",\"ind_ctju_fin_ult1\",\"ind_ctma_fin_ult1\",\"ind_ctop_fin_ult1\",\"ind_ctpp_fin_ult1\",\"ind_deco_fin_ult1\",\"ind_deme_fin_ult1\",\"ind_dela_fin_ult1\",\"ind_ecue_fin_ult1\",\"ind_fond_fin_ult1\",\"ind_hip_fin_ult1\",\"ind_plan_fin_ult1\",\"ind_pres_fin_ult1\",\"ind_reca_fin_ult1\",\"ind_tjcr_fin_ult1\",\"ind_valo_fin_ult1\",\"ind_viv_fin_ult1\",\"ind_nomina_ult1\",\"ind_nom_pens_ult1\",\"ind_recibo_ult1\"\n"
     ]
    }
   ],
   "source": [
    "data_train = open(workspace_path + 'input/train_ver2.csv','r')\n",
    "headline = data_train.readline().strip()\n",
    "print headline\n",
    "\n",
    "line_count = 0\n",
    "line_skip = 0\n",
    "\n",
    "line_count_inner = 0   \n",
    "\n",
    "cust_dict_tr = dict()\n",
    "\n",
    "fecha_dato_dict = dict()\n",
    " \n",
    "sub_data_train = open(workspace_path + 'input/train_2015-05to06.csv','w')\n",
    "   \n",
    "#for i in range(0,10):\n",
    "    #line = data_train.readline().strip()    \n",
    "for line in data_train:\n",
    "    line = line.strip()\n",
    "    \n",
    "    line_items = line.split(',')\n",
    "\n",
    "    line_count += 1    \n",
    "     \n",
    "    fecha_dato = line_items[0]\n",
    "    \n",
    "    fecha_dato_dict[fecha_dato] = True \n",
    "    \n",
    "    \n",
    "        \n",
    "    #if fecha_dato[0:4] == '2015' and int(fecha_dato[5:6]) < 7:\n",
    "       #sub_data_train.write(line+'\\n')\n",
    "    if fecha_dato == '2015-05-28' or fecha_dato == '2015-06-28':\n",
    "        \n",
    "       #print fecha_dato[0:4]\n",
    "       #print fecha_dato[5:7]  \n",
    "       \n",
    "       sub_data_train.write(line+'\\n')    \n",
    "        \n",
    "        \n",
    "sub_data_train.close()   \n",
    "        \n"
   ]
  },
  {
   "cell_type": "code",
   "execution_count": 41,
   "metadata": {
    "collapsed": false
   },
   "outputs": [
    {
     "name": "stdout",
     "output_type": "stream",
     "text": [
      "{'2015-05-28': True, '2015-08-28': True, '2015-02-28': True, '2016-01-28': True, '2015-03-28': True, '2015-01-28': True, '2015-04-28': True, '2016-04-28': True, '2015-11-28': True, '2015-09-28': True, '2015-10-28': True, '2016-03-28': True, '2015-12-28': True, '2016-02-28': True, '2015-06-28': True, '2016-05-28': True, '2015-07-28': True}\n"
     ]
    }
   ],
   "source": [
    "print fecha_dato_dict"
   ]
  },
  {
   "cell_type": "code",
   "execution_count": 11,
   "metadata": {
    "collapsed": false
   },
   "outputs": [
    {
     "name": "stdout",
     "output_type": "stream",
     "text": [
      "0\n",
      "635464\n"
     ]
    }
   ],
   "source": [
    "sub_data_train = open(workspace_path + 'input/train_2015-05to06.csv','r')\n",
    "\n",
    "cust_dict_1st = dict()\n",
    "\n",
    "duplicated_line = 0\n",
    "\n",
    "for line in sub_data_train:\n",
    "    \n",
    "    line = line.strip()\n",
    "    \n",
    "    line_items = line.split(',')\n",
    "    \n",
    "    cust_id = int(line_items[1])\n",
    "    fecha_dato = line_items[0][:-3]\n",
    "    \n",
    "    \n",
    "    if cust_id not in cust_dict_1st:\n",
    "       cust_dict_1st[cust_id] = dict() \n",
    "    \n",
    "    #if fecha_dato not in cust_dict_1st[cust_id]:\n",
    "       #cust_dict_1st[cust_id][fecha_dato] = ''\n",
    "    #else:\n",
    "       #duplicated_line += 1 \n",
    "        \n",
    "\n",
    "    if len(line_items) == 48: \n",
    "        \n",
    "       cust_dict_1st[cust_id][fecha_dato] = line_items[24:48] \n",
    "    \n",
    "       \n",
    "    elif len(line_items) == 49: \n",
    "        \n",
    "       cust_dict_1st[cust_id][fecha_dato] = line_items[25:49]\n",
    "       \n",
    "       \n",
    "    \n",
    "    else:\n",
    "       \n",
    "       print line\n",
    "    \n",
    "    \n",
    "print duplicated_line\n",
    "print len(cust_dict_1st)"
   ]
  },
  {
   "cell_type": "code",
   "execution_count": 12,
   "metadata": {
    "collapsed": false
   },
   "outputs": [
    {
     "name": "stdout",
     "output_type": "stream",
     "text": [
      "632110\n"
     ]
    }
   ],
   "source": [
    "cust_dict_2nd = dict()\n",
    "\n",
    "for cust_id in cust_dict_1st:\n",
    "    \n",
    "    if '2015-06' in cust_dict_1st[cust_id]:\n",
    "       cust_dict_2nd[cust_id] = dict() \n",
    "       cust_dict_2nd[cust_id]['2015-06'] = cust_dict_1st[cust_id]['2015-06']\n",
    "        \n",
    "       for i in ['5','4','3','2','1']: \n",
    "           if '2015-0'+i in cust_dict_1st[cust_id]: \n",
    "               cust_dict_2nd[cust_id]['2015-0'+i] = cust_dict_1st[cust_id]['2015-0'+i]\n",
    "               break  \n",
    "        \n",
    "        \n",
    "    \n",
    "print len(cust_dict_2nd)    "
   ]
  },
  {
   "cell_type": "code",
   "execution_count": 8,
   "metadata": {
    "collapsed": false
   },
   "outputs": [
    {
     "name": "stdout",
     "output_type": "stream",
     "text": [
      "632110\n"
     ]
    }
   ],
   "source": [
    "cust_dict_2nd = dict()\n",
    "\n",
    "for cust_id in cust_dict_1st:\n",
    "    \n",
    "    if '2015-06' in cust_dict_1st[cust_id]:\n",
    "       cust_dict_2nd[cust_id] = dict() \n",
    "       cust_dict_2nd[cust_id]['2015-06'] = cust_dict_1st[cust_id]['2015-06']\n",
    "        \n",
    "       if '2015-05' in cust_dict_1st[cust_id]: \n",
    "          cust_dict_2nd[cust_id]['2015-05'] = cust_dict_1st[cust_id]['2015-05']\n",
    "           \n",
    "        \n",
    "        \n",
    "    \n",
    "print len(cust_dict_2nd)  "
   ]
  },
  {
   "cell_type": "code",
   "execution_count": 5,
   "metadata": {
    "collapsed": false
   },
   "outputs": [
    {
     "name": "stdout",
     "output_type": "stream",
     "text": [
      "628603\n"
     ]
    }
   ],
   "source": []
  },
  {
   "cell_type": "code",
   "execution_count": 14,
   "metadata": {
    "collapsed": false
   },
   "outputs": [
    {
     "name": "stdout",
     "output_type": "stream",
     "text": [
      "3507\n"
     ]
    }
   ],
   "source": [
    "count = 0\n",
    "\n",
    "for cust_id in cust_dict_2nd:\n",
    "    \n",
    "    if '2015-06' in cust_dict_2nd[cust_id] and len(cust_dict_2nd[cust_id]) == 1:\n",
    "        \n",
    "        cust_dict_2nd[cust_id]['2015-05'] = ['0']*24\n",
    "        \n",
    "        \n",
    "        #print cust_dict_1st[cust_id]\n",
    "        count += 1\n",
    "        \n",
    "print count        "
   ]
  },
  {
   "cell_type": "code",
   "execution_count": 15,
   "metadata": {
    "collapsed": false
   },
   "outputs": [
    {
     "name": "stdout",
     "output_type": "stream",
     "text": [
      "{'2015-06': ['0', '0', '1', '0', '0', '0', '0', '0', '0', '0', '1', '0', '0', '0', '0', '0', '0', '0', '0', '0', '0', ' 0', ' 0', '0'], '2015-05': ['0', '0', '1', '0', '0', '0', '0', '0', '0', '0', '1', '0', '0', '0', '0', '0', '0', '0', '0', '0', '0', ' 0', ' 0', '0']}\n",
      "36710\n",
      "45679\n",
      "{0: 595400, 1: 29492, 2: 5641, 3: 1412, 4: 156, 5: 9}\n"
     ]
    }
   ],
   "source": [
    "count = 0\n",
    "count_sum = 0\n",
    "\n",
    "added_prod_count = dict()\n",
    "\n",
    "\n",
    "for cust_id in cust_dict_2nd:\n",
    "    if cust_id == 21728:\n",
    "        \n",
    "       print cust_dict_2nd[cust_id] \n",
    "    \n",
    "    if '2015-06' in cust_dict_2nd[cust_id] and '2015-05' in cust_dict_2nd[cust_id]:\n",
    "        \n",
    "       count_temp = 0 \n",
    "       for i in range(0,24):\n",
    "            \n",
    "        \n",
    "           if cust_dict_2nd[cust_id]['2015-06'][i].replace(' ','') == '1' and cust_dict_2nd[cust_id]['2015-05'][i].replace(' ','')  == '0':\n",
    "                 count_temp += 1 \n",
    "                    \n",
    "       if count_temp not in added_prod_count:\n",
    "          added_prod_count[count_temp] = 1\n",
    "       else:   \n",
    "          added_prod_count[count_temp] += 1 \n",
    "            \n",
    "       if count_temp > 0:\n",
    "          count += 1 \n",
    "          count_sum += count_temp  \n",
    "        \n",
    "        \n",
    "        \n",
    "print count  \n",
    "print count_sum\n",
    "print added_prod_count\n"
   ]
  },
  {
   "cell_type": "code",
   "execution_count": 31,
   "metadata": {
    "collapsed": false
   },
   "outputs": [
    {
     "name": "stdout",
     "output_type": "stream",
     "text": [
      "76\n",
      "84\n"
     ]
    }
   ],
   "source": [
    "count = 0\n",
    "count_sum = 0\n",
    "\n",
    "for cust_id in cust_dict_2nd:\n",
    "    \n",
    "    if '2015-06' in cust_dict_2nd[cust_id] and '2015-04' in cust_dict_2nd[cust_id]:\n",
    "        \n",
    "       count_temp = 0 \n",
    "       for i in range(0,24):\n",
    "        \n",
    "           if cust_dict_2nd[cust_id]['2015-06'][i] == '1':\n",
    "              if cust_dict_2nd[cust_id]['2015-04'][i] == '0' or cust_dict_2nd[cust_id]['2015-04'][i] == 'NA':\n",
    "                 count_temp += 1 \n",
    "            \n",
    "       if count_temp > 0:\n",
    "          count += 1 \n",
    "          count_sum += count_temp  \n",
    "        \n",
    "        \n",
    "        \n",
    "print count  \n",
    "print count_sum"
   ]
  },
  {
   "cell_type": "code",
   "execution_count": 32,
   "metadata": {
    "collapsed": false
   },
   "outputs": [
    {
     "name": "stdout",
     "output_type": "stream",
     "text": [
      "60\n",
      "67\n"
     ]
    }
   ],
   "source": [
    "count = 0\n",
    "count_sum = 0\n",
    "\n",
    "for cust_id in cust_dict_2nd:\n",
    "    \n",
    "    if '2015-06' in cust_dict_2nd[cust_id] and '2015-03' in cust_dict_2nd[cust_id]:\n",
    "        \n",
    "       count_temp = 0 \n",
    "       for i in range(0,24):\n",
    "        \n",
    "           if cust_dict_2nd[cust_id]['2015-06'][i] == '1':\n",
    "              if cust_dict_2nd[cust_id]['2015-03'][i] == '0' or cust_dict_2nd[cust_id]['2015-03'][i] == 'NA':\n",
    "                 count_temp += 1 \n",
    "            \n",
    "       if count_temp > 0:\n",
    "          count += 1 \n",
    "          count_sum += count_temp  \n",
    "        \n",
    "        \n",
    "        \n",
    "print count  \n",
    "print count_sum"
   ]
  },
  {
   "cell_type": "code",
   "execution_count": 11,
   "metadata": {
    "collapsed": false
   },
   "outputs": [
    {
     "name": "stdout",
     "output_type": "stream",
     "text": [
      "40\n",
      "47\n"
     ]
    }
   ],
   "source": [
    "count = 0\n",
    "count_sum = 0\n",
    "\n",
    "for cust_id in cust_dict_2nd:\n",
    "    \n",
    "    if '2015-06' in cust_dict_2nd[cust_id] and '2015-02' in cust_dict_2nd[cust_id]:\n",
    "        \n",
    "       count_temp = 0   \n",
    "    \n",
    "       \n",
    "       for i in range(0,24):\n",
    "        \n",
    "           if cust_dict_2nd[cust_id]['2015-06'][i] == '1':\n",
    "              if cust_dict_2nd[cust_id]['2015-02'][i] == '0' or cust_dict_2nd[cust_id]['2015-02'][i] == 'NA':\n",
    "                 count_temp += 1 \n",
    "            \n",
    "       if count_temp > 0:\n",
    "          count += 1 \n",
    "          count_sum += count_temp  \n",
    "        \n",
    "        \n",
    "        \n",
    "print count  \n",
    "print count_sum"
   ]
  },
  {
   "cell_type": "code",
   "execution_count": 20,
   "metadata": {
    "collapsed": false
   },
   "outputs": [
    {
     "name": "stdout",
     "output_type": "stream",
     "text": [
      "0\n",
      "0\n"
     ]
    }
   ],
   "source": [
    "count = 0\n",
    "count_sum = 0\n",
    "\n",
    "for cust_id in cust_dict_2nd:\n",
    "    \n",
    "    if '2015-06' in cust_dict_2nd[cust_id] and '2015-01' in cust_dict_2nd[cust_id]:\n",
    "        \n",
    "       \n",
    "        \n",
    "       count_temp = 0 \n",
    "       for i in range(0,24):\n",
    "        \n",
    "           if cust_dict_2nd[cust_id]['2015-06'][i] == '1':\n",
    "              if cust_dict_2nd[cust_id]['2015-01'][i] == '0' or cust_dict_2nd[cust_id]['2015-01'][i] == 'NA':\n",
    "                 count_temp += 1 \n",
    "            \n",
    "       if count_temp > 0:\n",
    "          print len(cust_dict_2nd[cust_id]['2015-06'])\n",
    "          print len(cust_dict_2nd[cust_id]['2015-01'])\n",
    "          print '-----------------------------------' \n",
    "     \n",
    "          count += 1 \n",
    "          count_sum += count_temp  \n",
    "        \n",
    "        \n",
    "        \n",
    "print count  \n",
    "print count_sum"
   ]
  },
  {
   "cell_type": "code",
   "execution_count": 7,
   "metadata": {
    "collapsed": false
   },
   "outputs": [
    {
     "name": "stdout",
     "output_type": "stream",
     "text": [
      "2015\n",
      "6\n"
     ]
    }
   ],
   "source": [
    "f = '2015-06'\n",
    "print f[0:4]\n",
    "print int(f[5:7]) "
   ]
  },
  {
   "cell_type": "code",
   "execution_count": 55,
   "metadata": {
    "collapsed": false
   },
   "outputs": [
    {
     "name": "stdout",
     "output_type": "stream",
     "text": [
      "['0', '0', '0', '0', '0', '0', '0', '0', '0', '0', '0', '0', '0', '0', '0', '0', '0', '0', '0', '0', '0', '0', '0', '0']\n"
     ]
    }
   ],
   "source": [
    "print ['0']*24"
   ]
  },
  {
   "cell_type": "code",
   "execution_count": null,
   "metadata": {
    "collapsed": true
   },
   "outputs": [],
   "source": []
  }
 ],
 "metadata": {
  "kernelspec": {
   "display_name": "Python 2",
   "language": "python",
   "name": "python2"
  },
  "language_info": {
   "codemirror_mode": {
    "name": "ipython",
    "version": 2
   },
   "file_extension": ".py",
   "mimetype": "text/x-python",
   "name": "python",
   "nbconvert_exporter": "python",
   "pygments_lexer": "ipython2",
   "version": "2.7.5"
  }
 },
 "nbformat": 4,
 "nbformat_minor": 0
}
