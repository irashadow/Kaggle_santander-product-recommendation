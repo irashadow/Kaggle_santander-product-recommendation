{
 "cells": [
  {
   "cell_type": "code",
   "execution_count": 1,
   "metadata": {
    "collapsed": false
   },
   "outputs": [],
   "source": [
    "import os\n",
    "import csv\n",
    "import sys\n",
    "import random\n",
    "import scipy\n",
    "import numpy as np\n",
    "from itertools import izip\n",
    "\n",
    "model_no = 19\n",
    "\n",
    "workspace_path = '/home/irashadow/python_workspace/Kaggle_Comp/Santander/'"
   ]
  },
  {
   "cell_type": "code",
   "execution_count": 2,
   "metadata": {
    "collapsed": true
   },
   "outputs": [],
   "source": [
    "def model_eval(train_data_Path, pred_label_path):\n",
    "\n",
    "\n",
    "    train_read = open(train_data_Path, 'r')\n",
    "    Ein_read = open(pred_label_path, 'r')\n",
    "\n",
    "    TP = 0\n",
    "    FP = 0\n",
    "    TN = 0\n",
    "    FN = 0\n",
    "    \n",
    "    eval_results = dict()\n",
    "\n",
    "    with train_read as train_data, Ein_read as predict_label: \n",
    "        for line1, line2 in izip(train_data, predict_label):\n",
    "            line1 = line1.strip().split(' ')[0]\n",
    "            line2 = line2.strip()\n",
    "\n",
    "            #print line1.split(' ')[0] + '|' + line2\n",
    "\n",
    "            if line1 == '+1' and line2 == '1':           \n",
    "               TP += 1 \n",
    "            elif line1 == '+1' and line2 == '-1':           \n",
    "               FP += 1 \n",
    "            elif line1 == '-1' and line2 == '1':        \n",
    "               FN += 1 \n",
    "            elif line1 == '-1' and line2 == '-1':  \n",
    "               TN += 1 \n",
    "    \n",
    "    eval_results['precision'] = TP/float(TP+FP+1e-20)\n",
    "    eval_results['recall'] = TP/float(TP+FN+1e-20)\n",
    "    eval_results['accuracy'] = (TP+TN)/float(TP+TN+FP+FN+1e-20)\n",
    "    \n",
    "    return eval_results"
   ]
  },
  {
   "cell_type": "code",
   "execution_count": 8,
   "metadata": {
    "collapsed": false
   },
   "outputs": [],
   "source": [
    "model_eval_results = dict()\n",
    "\n",
    "#for model_no in range(1, 25):\n",
    "for model_no in [3,24,19,18,23,22,13,5,7,20,8,9,14,6,15,16,4,17]:    \n",
    "\n",
    "    train_data_path = './train/model_balance/cust_product_'+str(model_no)+'.train'\n",
    "    \n",
    "    Ein_path = '../liblinear-2.1/output/cust_product_'+str(model_no)+'.Ein'\n",
    "\n",
    "    \n",
    "    \n",
    "    model_name_temp = 'eval_' + str(model_no)\n",
    "    \n",
    "    model_eval_results[model_name_temp] = model_eval(train_data_path, Ein_path)\n",
    "    \n",
    " "
   ]
  },
  {
   "cell_type": "code",
   "execution_count": 7,
   "metadata": {
    "collapsed": false
   },
   "outputs": [
    {
     "name": "stdout",
     "output_type": "stream",
     "text": [
      "model 3:{'recall': 0.9227141356655935, 'precision': 0.9477102062400846, 'accuracy': 0.9572129044083952}\n",
      "model24:{'recall': 0.8255153436428881, 'precision': 0.8456903586353558, 'accuracy': 0.9074168270552653}\n",
      "model19:{'recall': 0.8797585568283147, 'precision': 0.7379039217566401, 'accuracy': 0.9396084087457082}\n",
      "model18:{'recall': 0.765600691443388, 'precision': 0.578273926100013, 'accuracy': 0.9006176183768556}\n",
      "model23:{'recall': 0.8901302810711565, 'precision': 0.6868321502313455, 'accuracy': 0.9336957750015694}\n",
      "model22:{'recall': 0.8800390412202651, 'precision': 0.6650143222243187, 'accuracy': 0.9291253123884327}\n",
      "model13:{'recall': 0.9011912640635341, 'precision': 0.6634671603975834, 'accuracy': 0.9320091302025156}\n",
      "model 5:{'recall': 0.8811568220418947, 'precision': 0.6158335531522026, 'accuracy': 0.921893086683791}\n",
      "model 7:{'recall': 0.751412429378531, 'precision': 0.7084745762711865, 'accuracy': 0.9128078521105558}\n",
      "model20:{'recall': 0.8973561430793157, 'precision': 0.4287837503096359, 'accuracy': 0.9705712976130314}\n",
      "model 8:{'recall': 0.9486027944111777, 'precision': 0.6808739255014327, 'accuracy': 0.9830877598938306}\n",
      "model 9:{'recall': 0.9582401193139448, 'precision': 0.7355466514024042, 'accuracy': 0.9859890184198425}\n",
      "model14:{'recall': 0.8678571428571429, 'precision': 0.40455049944506105, 'accuracy': 0.9687565970023222}\n",
      "model 6:{'recall': 0.997907949790795, 'precision': 0.9607250755287009, 'accuracy': 0.9980023387253947}\n",
      "model15:{'recall': 0.9782608695652174, 'precision': 0.9, 'accuracy': 0.9944649446494465}\n",
      "model16:{'recall': 0.9496124031007752, 'precision': 0.4470802919708029, 'accuracy': 0.9724306403768975}\n",
      "model 4:{'recall': 1.0, 'precision': 0.7204301075268817, 'accuracy': 0.9864864864864865}\n",
      "model17:{'recall': 0.9876543209876543, 'precision': 0.8, 'accuracy': 0.9894525364138623}\n"
     ]
    }
   ],
   "source": [
    "\n",
    "#for model_no in range(1, 25):\n",
    "for model_no in [3,24,19,18,23,22,13,5,7,20,8,9,14,6,15,16,4,17]:    \n",
    "    \n",
    "    model_name_temp = 'eval_' + str(model_no)\n",
    "\n",
    "    print 'model%2d:'%(model_no) + str(model_eval_results[model_name_temp])    \n",
    "    \n",
    "       "
   ]
  },
  {
   "cell_type": "code",
   "execution_count": 11,
   "metadata": {
    "collapsed": false
   },
   "outputs": [
    {
     "ename": "TypeError",
     "evalue": "cannot concatenate 'str' and 'dict' objects",
     "output_type": "error",
     "traceback": [
      "\u001b[1;31m---------------------------------------------------------------------------\u001b[0m",
      "\u001b[1;31mTypeError\u001b[0m                                 Traceback (most recent call last)",
      "\u001b[1;32m<ipython-input-11-08f8e00b0bd3>\u001b[0m in \u001b[0;36m<module>\u001b[1;34m()\u001b[0m\n\u001b[0;32m      3\u001b[0m     \u001b[0mmodel_name_temp\u001b[0m \u001b[1;33m=\u001b[0m \u001b[1;34m'eval_'\u001b[0m \u001b[1;33m+\u001b[0m \u001b[0mstr\u001b[0m\u001b[1;33m(\u001b[0m\u001b[0mmodel_no\u001b[0m\u001b[1;33m)\u001b[0m\u001b[1;33m\u001b[0m\u001b[0m\n\u001b[0;32m      4\u001b[0m \u001b[1;33m\u001b[0m\u001b[0m\n\u001b[1;32m----> 5\u001b[1;33m     \u001b[1;32mprint\u001b[0m \u001b[1;34m'model%2d:'\u001b[0m\u001b[1;33m%\u001b[0m\u001b[1;33m(\u001b[0m\u001b[0mmodel_no\u001b[0m\u001b[1;33m)\u001b[0m \u001b[1;33m+\u001b[0m \u001b[0mmodel_eval_results\u001b[0m\u001b[1;33m[\u001b[0m\u001b[0mmodel_name_temp\u001b[0m\u001b[1;33m]\u001b[0m\u001b[1;33m\u001b[0m\u001b[0m\n\u001b[0m\u001b[0;32m      6\u001b[0m \u001b[1;33m\u001b[0m\u001b[0m\n",
      "\u001b[1;31mTypeError\u001b[0m: cannot concatenate 'str' and 'dict' objects"
     ]
    }
   ],
   "source": [
    "for model_no in range(1, 25):\n",
    "    \n",
    "    model_name_temp = 'eval_' + str(model_no)\n",
    "\n",
    "    print 'model%2d:'%(model_no) + str(model_eval_results[model_name_temp])    \n",
    "    "
   ]
  },
  {
   "cell_type": "code",
   "execution_count": 11,
   "metadata": {
    "collapsed": false
   },
   "outputs": [
    {
     "ename": "NameError",
     "evalue": "name 'TP' is not defined",
     "output_type": "error",
     "traceback": [
      "\u001b[1;31m---------------------------------------------------------------------------\u001b[0m",
      "\u001b[1;31mNameError\u001b[0m                                 Traceback (most recent call last)",
      "\u001b[1;32m<ipython-input-11-760dc23e0c58>\u001b[0m in \u001b[0;36m<module>\u001b[1;34m()\u001b[0m\n\u001b[1;32m----> 1\u001b[1;33m \u001b[1;32mprint\u001b[0m \u001b[1;34m'TP = '\u001b[0m \u001b[1;33m+\u001b[0m \u001b[0mstr\u001b[0m\u001b[1;33m(\u001b[0m\u001b[0mTP\u001b[0m\u001b[1;33m)\u001b[0m\u001b[1;33m\u001b[0m\u001b[0m\n\u001b[0m\u001b[0;32m      2\u001b[0m \u001b[1;32mprint\u001b[0m \u001b[1;34m'FP = '\u001b[0m \u001b[1;33m+\u001b[0m \u001b[0mstr\u001b[0m\u001b[1;33m(\u001b[0m\u001b[0mFP\u001b[0m\u001b[1;33m)\u001b[0m\u001b[1;33m\u001b[0m\u001b[0m\n\u001b[0;32m      3\u001b[0m \u001b[1;32mprint\u001b[0m \u001b[1;34m'TN = '\u001b[0m \u001b[1;33m+\u001b[0m \u001b[0mstr\u001b[0m\u001b[1;33m(\u001b[0m\u001b[0mTN\u001b[0m\u001b[1;33m)\u001b[0m\u001b[1;33m\u001b[0m\u001b[0m\n\u001b[0;32m      4\u001b[0m \u001b[1;32mprint\u001b[0m \u001b[1;34m'FN = '\u001b[0m \u001b[1;33m+\u001b[0m \u001b[0mstr\u001b[0m\u001b[1;33m(\u001b[0m\u001b[0mFN\u001b[0m\u001b[1;33m)\u001b[0m\u001b[1;33m\u001b[0m\u001b[0m\n\u001b[0;32m      5\u001b[0m \u001b[1;32mprint\u001b[0m \u001b[1;34m'precison = %.2f'\u001b[0m\u001b[1;33m%\u001b[0m\u001b[1;33m(\u001b[0m\u001b[0mTP\u001b[0m\u001b[1;33m/\u001b[0m\u001b[0mfloat\u001b[0m\u001b[1;33m(\u001b[0m\u001b[0mTP\u001b[0m\u001b[1;33m+\u001b[0m\u001b[0mFP\u001b[0m\u001b[1;33m)\u001b[0m\u001b[1;33m)\u001b[0m\u001b[1;33m\u001b[0m\u001b[0m\n",
      "\u001b[1;31mNameError\u001b[0m: name 'TP' is not defined"
     ]
    }
   ],
   "source": [
    "print 'TP = ' + str(TP)\n",
    "print 'FP = ' + str(FP)\n",
    "print 'TN = ' + str(TN)\n",
    "print 'FN = ' + str(FN)\n",
    "print 'precison = %.2f'%(TP/float(TP+FP))\n",
    "print 'recall = %.2f'%(TP/float(TP+FN))\n",
    "print 'accuracy = %.2f'%((TP+TN)/float(TP+TN+FP+FN))"
   ]
  },
  {
   "cell_type": "code",
   "execution_count": null,
   "metadata": {
    "collapsed": true
   },
   "outputs": [],
   "source": []
  }
 ],
 "metadata": {
  "kernelspec": {
   "display_name": "Python 2",
   "language": "python",
   "name": "python2"
  },
  "language_info": {
   "codemirror_mode": {
    "name": "ipython",
    "version": 2
   },
   "file_extension": ".py",
   "mimetype": "text/x-python",
   "name": "python",
   "nbconvert_exporter": "python",
   "pygments_lexer": "ipython2",
   "version": "2.7.5"
  }
 },
 "nbformat": 4,
 "nbformat_minor": 0
}
