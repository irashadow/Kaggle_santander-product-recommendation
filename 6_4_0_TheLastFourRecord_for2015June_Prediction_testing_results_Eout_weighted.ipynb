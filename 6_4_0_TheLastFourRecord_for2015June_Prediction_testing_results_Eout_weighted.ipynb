{
 "cells": [
  {
   "cell_type": "code",
   "execution_count": 1,
   "metadata": {
    "collapsed": false
   },
   "outputs": [],
   "source": [
    "import os\n",
    "import csv\n",
    "import sys\n",
    "import random\n",
    "import scipy\n",
    "import numpy as np\n",
    "from itertools import izip\n",
    "\n",
    "\n",
    "model_no = 19\n",
    "\n",
    "workspace_path = '/home/irashadow/python_workspace/Kaggle_Comp/Santander/'\n",
    "\n",
    "label_dict = dict()\n",
    "label_dict[1] = 'ind_ahor_fin_ult1'\n",
    "label_dict[2] = 'ind_aval_fin_ult1'\n",
    "label_dict[3] = 'ind_cco_fin_ult1'\n",
    "label_dict[4] = 'ind_cder_fin_ult1'\n",
    "label_dict[5] = 'ind_cno_fin_ult1'\n",
    "label_dict[6] = 'ind_ctju_fin_ult1'\n",
    "label_dict[7] = 'ind_ctma_fin_ult1'\n",
    "label_dict[8] = 'ind_ctop_fin_ult1'\n",
    "label_dict[9] = 'ind_ctpp_fin_ult1'\n",
    "label_dict[10] = 'ind_deco_fin_ult1'\n",
    "label_dict[11] = 'ind_deme_fin_ult1'\n",
    "label_dict[12] = 'ind_dela_fin_ult1'\n",
    "label_dict[13] = 'ind_ecue_fin_ult1'\n",
    "label_dict[14] = 'ind_fond_fin_ult1'\n",
    "label_dict[15] = 'ind_hip_fin_ult1'\n",
    "label_dict[16] = 'ind_plan_fin_ult1'\n",
    "label_dict[17] = 'ind_pres_fin_ult1'\n",
    "label_dict[18] = 'ind_reca_fin_ult1'\n",
    "label_dict[19] = 'ind_tjcr_fin_ult1'\n",
    "label_dict[20] = 'ind_valo_fin_ult1'\n",
    "label_dict[21] = 'ind_viv_fin_ult1'\n",
    "label_dict[22] = 'ind_nomina_ult1'\n",
    "label_dict[23] = 'ind_nom_pens_ult1'\n",
    "label_dict[24] = 'ind_recibo_ult1'\n"
   ]
  },
  {
   "cell_type": "code",
   "execution_count": 3,
   "metadata": {
    "collapsed": true
   },
   "outputs": [],
   "source": [
    "#train_read = open(workspace_path + '/train/model_pf02/cust_product_'+str(model_no)+'.train', 'r')\n",
    "#Ein_read = open(workspace_path + '../liblinear-2.1/output/cust_product_'+str(model_no)+'_inv.Ein', 'r')\n",
    "\n",
    "\n",
    "\n",
    "for model_no in range(1, 25):\n",
    "\n",
    "    if model_no in [18,19]:\n",
    "       test_data_path = './test/5_5_cust_date_prod_L4_expand.test'\n",
    "    else:\n",
    "       test_data_path = './test/5_4_cust_date_prod_L4_standard.test' \n",
    "    model_path = '../liblinear-2.1/model_save/cust_product_'+str(model_no)+'.model'\n",
    "    Eout_path = '../liblinear-2.1/EoutOutput/cust_product_'+str(model_no)+'.Eout'\n",
    "\n",
    "    \n",
    "    predi_command = '../liblinear-2.1/./predict -b 1'\n",
    "    #print os.system(\"pwd\");\n",
    "    os.system(predi_command +' '+ test_data_path +' '+ model_path +' '+ Eout_path);"
   ]
  },
  {
   "cell_type": "code",
   "execution_count": null,
   "metadata": {
    "collapsed": true
   },
   "outputs": [],
   "source": []
  },
  {
   "cell_type": "code",
   "execution_count": 4,
   "metadata": {
    "collapsed": false
   },
   "outputs": [],
   "source": [
    "label_weight = dict() \n",
    "summation = 0.0350207\n",
    "label_weight[1]=0/summation\n",
    "label_weight[2]=0/summation\n",
    "#label_weight[3]=0.0096681/summation\n",
    "label_weight[3]=1\n",
    "label_weight[4]=0.000009/summation\n",
    "label_weight[5]=0.0017839/summation\n",
    "label_weight[6]=0.0000502/summation\n",
    "label_weight[7]=0.0004488/summation\n",
    "label_weight[8]=0.0001949/summation\n",
    "label_weight[9]=0.0001142/summation\n",
    "label_weight[10]=0/summation\n",
    "label_weight[11]=0/summation\n",
    "label_weight[12]=0/summation\n",
    "label_weight[13]=0.0019961/summation\n",
    "label_weight[14]=0.000104/summation\n",
    "label_weight[15]=0.0000161/summation\n",
    "label_weight[16]=0.0000126/summation\n",
    "label_weight[17]=0.0000054/summation\n",
    "label_weight[18]=0.0032092/summation\n",
    "label_weight[19]=0.0041178/summation\n",
    "label_weight[20]=0.000278/summation\n",
    "label_weight[21]=0/summation\n",
    "label_weight[22]=0.0021478/summation\n",
    "label_weight[23]=0.0021801/summation\n",
    "label_weight[24]=0.0086845/summation\n"
   ]
  },
  {
   "cell_type": "code",
   "execution_count": 7,
   "metadata": {
    "collapsed": false
   },
   "outputs": [
    {
     "name": "stdout",
     "output_type": "stream",
     "text": [
      "model:1 in processing..\n",
      "['labels', '0']\n",
      "929615\n",
      "model:2 in processing..\n",
      "['labels', '0']\n",
      "929615\n",
      "model:3 in processing..\n",
      "['labels', '1', '0']\n",
      "929615\n",
      "model:4 in processing..\n",
      "['labels', '0', '1']\n",
      "929615\n",
      "model:5 in processing..\n",
      "['labels', '0', '1']\n",
      "929615\n",
      "model:6 in processing..\n",
      "['labels', '0', '1']\n",
      "929615\n",
      "model:7 in processing..\n",
      "['labels', '0', '1']\n",
      "929615\n",
      "model:8 in processing..\n",
      "['labels', '0', '1']\n",
      "929615\n",
      "model:9 in processing..\n",
      "['labels', '0', '1']\n",
      "929615\n",
      "model:10 in processing..\n",
      "['labels', '0', '1']\n",
      "929615\n",
      "model:11 in processing..\n",
      "['labels', '0', '1']\n",
      "929615\n",
      "model:12 in processing..\n",
      "['labels', '0', '1']\n",
      "929615\n",
      "model:13 in processing..\n",
      "['labels', '0', '1']\n",
      "929615\n",
      "model:14 in processing..\n",
      "['labels', '0', '1']\n",
      "929615\n",
      "model:15 in processing..\n",
      "['labels', '0', '1']\n",
      "929615\n",
      "model:16 in processing..\n",
      "['labels', '0', '1']\n",
      "929615\n",
      "model:17 in processing..\n",
      "['labels', '0', '1']\n",
      "929615\n",
      "model:18 in processing..\n",
      "['labels', '0', '1']\n",
      "929615\n",
      "model:19 in processing..\n",
      "['labels', '0', '1']\n",
      "929615\n",
      "model:20 in processing..\n",
      "['labels', '0', '1']\n",
      "929615\n",
      "model:21 in processing..\n",
      "['labels', '0', '1']\n",
      "929615\n",
      "model:22 in processing..\n",
      "['labels', '0', '1']\n",
      "929615\n",
      "model:23 in processing..\n",
      "['labels', '0', '1']\n",
      "929615\n",
      "model:24 in processing..\n",
      "['labels', '0', '1']\n",
      "929615\n"
     ]
    }
   ],
   "source": [
    "Eout_results_custid_2_prod = dict()\n",
    "Eout_results_prod_2_custid = dict()\n",
    "\n",
    "\n",
    "for model_no in range(1, 25):\n",
    "    \n",
    "    print 'model:' + str(model_no) + ' in processing..'\n",
    "\n",
    "    feat_data_path = workspace_path + '/input/test_ver2.csv'\n",
    "    Eout_path = '../liblinear-2.1/EoutOutput/cust_product_'+str(model_no)+'.Eout'\n",
    "\n",
    "    test_read = open(feat_data_path, 'r')\n",
    "    headline = test_read.readline().strip()\n",
    "    Eout_read = open(Eout_path, 'r')\n",
    "    pred_headline = Eout_read.readline().strip().split(' ')\n",
    "    \n",
    "    print pred_headline\n",
    "    \n",
    "    custid_2_index = dict()\n",
    "    index_2_custid = dict()\n",
    "    \n",
    "    check_line_count = 0\n",
    "    \n",
    "    with test_read as test_data, Eout_read as predict_label: \n",
    "         for line1, line2 in izip(test_data, predict_label):\n",
    "             line1 = line1.strip().split(',')\n",
    "             line2 = line2.strip().split(' ')\n",
    "    \n",
    "             #if check_line_count < 10:\n",
    "                #print line1[1].replace(' ','') + '|' + line2\n",
    "    \n",
    "             #get the cust_id\n",
    "             cust_id = ''   \n",
    "             cust_id = int(line1[1].replace(' ',''))\n",
    "                \n",
    "             custid_2_index[cust_id] = check_line_count\n",
    "             index_2_custid[check_line_count] = cust_id  \n",
    "                \n",
    "             check_line_count += 1\n",
    "                   \n",
    "             if cust_id not in Eout_results_custid_2_prod:\n",
    "                Eout_results_custid_2_prod[cust_id] = []    \n",
    "             if model_no not in Eout_results_prod_2_custid:\n",
    "                Eout_results_prod_2_custid[model_no] = []       \n",
    "               \n",
    "             if pred_headline[1] == '1':\n",
    "                    \n",
    "                prod_score = float(line2[1])\n",
    "                if model_no in [1,2,10,11,12,21]:\n",
    "                   prod_score = 0.0 \n",
    "                \n",
    "                Eout_results_custid_2_prod[cust_id].append(prod_score) \n",
    "                Eout_results_prod_2_custid[model_no].append(prod_score) \n",
    "                \n",
    "             elif pred_headline[1] == '0':   \n",
    "                \n",
    "                prod_score = 1.0-float(line2[1])\n",
    "                if model_no in [1,2,10,11,12,21]:\n",
    "                   prod_score = 0.0 \n",
    "                    \n",
    "                \n",
    "                Eout_results_custid_2_prod[cust_id].append(prod_score)\n",
    "                Eout_results_prod_2_custid[model_no].append(prod_score) \n",
    "                \n",
    "                 \n",
    "    test_read.close()\n",
    "    Eout_read.close()\n",
    "\n",
    "    print check_line_count  "
   ]
  },
  {
   "cell_type": "code",
   "execution_count": 8,
   "metadata": {
    "collapsed": false
   },
   "outputs": [
    {
     "name": "stdout",
     "output_type": "stream",
     "text": [
      "7\n",
      "[15889, 15890, 15892, 15893, 15894, 15895, 15896, 15897, 15898, 15899, 15900, 15901, 15902, 15903, 15906, 15907, 15908, 15910, 15911, 15913, 15914, 15915, 15916, 15917, 15918, 15919, 15920, 15921, 15922, 15923]\n",
      "85187\n"
     ]
    }
   ],
   "source": [
    "print custid_2_index[1170553]\n",
    "print custid_2_index.keys()[0:30]\n",
    "\n",
    "print int(label_weight[18]*929615.0)"
   ]
  },
  {
   "cell_type": "code",
   "execution_count": 9,
   "metadata": {
    "collapsed": false
   },
   "outputs": [
    {
     "name": "stdout",
     "output_type": "stream",
     "text": [
      "model_3 in processing, add 305457 items\n",
      "model_24 in processing, add 230527 items\n",
      "model_19 in processing, add 35837 items\n",
      "model_18 in processing, add 28231 items\n",
      "model_23 in processing, add 40259 items\n",
      "model_22 in processing, add 38260 items\n",
      "model_13 in processing, add 33732 items\n",
      "model_5 in processing, add 33886 items\n",
      "model_7 in processing, add 663 items\n",
      "model_20 in processing, add 7379 items\n",
      "model_8 in processing, add 3928 items\n",
      "model_9 in processing, add 891 items\n",
      "model_14 in processing, add 916 items\n",
      "model_6 in processing, add 988 items\n",
      "model_15 in processing, add 2 items\n",
      "model_16 in processing, add 334 items\n",
      "model_4 in processing, add 42 items\n",
      "model_17 in processing, add 43 items\n"
     ]
    }
   ],
   "source": [
    "#assign the 1st item with the corresponding weight\n",
    "#add_weight_order = [18,19,23,22,13,5,7,20,8,9,14,6,15,16,4,17,3,24]\n",
    "add_weight_order = [3,24,19,18,23,22,13,5,7,20,8,9,14,6,15,16,4,17]\n",
    "Eout_results_id_2_prod_write = dict()\n",
    "\n",
    "for i in add_weight_order:\n",
    "    added_item = 0\n",
    "    \n",
    "    floor_of_the_added_items = int(label_weight[i]*929615.0)\n",
    "    \n",
    "    \n",
    "    for custid_index in np.argsort(Eout_results_prod_2_custid[i])[::-1]:\n",
    "        \n",
    "        custid = index_2_custid[custid_index]\n",
    "        \n",
    "        \n",
    "        if added_item < floor_of_the_added_items:\n",
    "        \n",
    "            if custid not in Eout_results_id_2_prod_write:\n",
    "                \n",
    "               if Eout_results_prod_2_custid[i][custid_index] > 0.5: \n",
    "\n",
    "                  Eout_results_id_2_prod_write[custid] = label_dict[i] + ' ' \n",
    "                  added_item += 1 \n",
    "\n",
    "            else:    \n",
    "\n",
    "                if Eout_results_prod_2_custid[i][custid_index] > 0.5:  \n",
    "                   Eout_results_id_2_prod_write[custid] += label_dict[i] + ' '  \n",
    "                   added_item += 1 \n",
    "                    \n",
    "    print 'model_' + str(i) + ' in processing, add ' + str(added_item) + ' items'\n",
    "                \n",
    "            \n",
    "     "
   ]
  },
  {
   "cell_type": "code",
   "execution_count": 10,
   "metadata": {
    "collapsed": false
   },
   "outputs": [
    {
     "name": "stdout",
     "output_type": "stream",
     "text": [
      "[670691 146417  31872 589549 125555 701824 645934 651048 843060]\n",
      "0.9999448879\n"
     ]
    }
   ],
   "source": [
    "print np.argsort(Eout_results_prod_2_custid[24])[::-1][1:10]\n",
    "\n",
    "print Eout_results_prod_2_custid[24][117342]"
   ]
  },
  {
   "cell_type": "code",
   "execution_count": 11,
   "metadata": {
    "collapsed": true
   },
   "outputs": [],
   "source": [
    "Eout_write = open('./output/TheLastFourRecord_1stProd.eout', 'w')  \n",
    "\n",
    "prt_line = ''    \n",
    "for item in Eout_results_id_2_prod_write:\n",
    "\n",
    "    prt_line = str(item) + ',' + Eout_results_id_2_prod_write[item] + '\\n'\n",
    "    \n",
    "    Eout_write.write(prt_line)\n",
    "   \n",
    "Eout_write.close()"
   ]
  },
  {
   "cell_type": "code",
   "execution_count": 12,
   "metadata": {
    "collapsed": false
   },
   "outputs": [],
   "source": [
    "#K = [4, 5, 1, 6, 2, 5, 2, 10]  \n",
    "#print np.argsort(K)[::-1][:3]    \n",
    "#print np.argsort(Eout_results_id_2_prod['15906'])    \n",
    "\n",
    "for item in Eout_results_custid_2_prod:\n",
    "    \n",
    "    #select the largest 7 product items for output\n",
    "    largest_7_prob_products = np.argsort(Eout_results_custid_2_prod[item])[::-1][:12] \n",
    "    \n",
    "    prt_line = ''\n",
    "    if item in Eout_results_id_2_prod_write:\n",
    "       prt_line = Eout_results_id_2_prod_write[item]\n",
    "    \n",
    "    for product_index in largest_7_prob_products:\n",
    "        \n",
    "        if label_dict[product_index+1] not in prt_line:\n",
    "        \n",
    "           prt_line += label_dict[product_index+1] + ' '\n",
    "        \n",
    "    Eout_results_id_2_prod_write[item] = prt_line[:-1]    \n",
    "        \n",
    "        "
   ]
  },
  {
   "cell_type": "code",
   "execution_count": 13,
   "metadata": {
    "collapsed": false
   },
   "outputs": [
    {
     "name": "stdout",
     "output_type": "stream",
     "text": [
      "ind_tjcr_fin_ult1 ind_ecue_fin_ult1 ind_cco_fin_ult1 ind_reca_fin_ult1 ind_valo_fin_ult1 ind_fond_fin_ult1 ind_nomina_ult1 ind_nom_pens_ult1 ind_cno_fin_ult1 ind_recibo_ult1 ind_plan_fin_ult1 ind_ctju_fin_ult1\n"
     ]
    }
   ],
   "source": [
    "print Eout_results_id_2_prod_write[15906]    "
   ]
  },
  {
   "cell_type": "code",
   "execution_count": 14,
   "metadata": {
    "collapsed": false
   },
   "outputs": [
    {
     "name": "stdout",
     "output_type": "stream",
     "text": [
      "ind_tjcr_fin_ult1 ind_ecue_fin_ult1 ind_cco_fin_ult1 ind_reca_fin_ult1 ind_valo_fin_ult1 ind_fond_fin_ult1 ind_nomina_ult1 ind_nom_pens_ult1 ind_cno_fin_ult1 ind_recibo_ult1 ind_plan_fin_ult1 ind_ctju_fin_ult1\n"
     ]
    }
   ],
   "source": [
    "print Eout_results_id_2_prod_write[15906]    \n",
    "        "
   ]
  },
  {
   "cell_type": "code",
   "execution_count": 15,
   "metadata": {
    "collapsed": false
   },
   "outputs": [],
   "source": [
    "Eout_write = open('./output/TheLastFourRecord_pred_Dec13_w.eout', 'w')  \n",
    "\n",
    "prt_line = ''    \n",
    "for item in Eout_results_id_2_prod_write:\n",
    "\n",
    "    prt_line = str(item) + '|' + Eout_results_id_2_prod_write[item] + '\\n'\n",
    "    \n",
    "    Eout_write.write(prt_line)\n",
    "   \n",
    "Eout_write.close()"
   ]
  },
  {
   "cell_type": "code",
   "execution_count": 16,
   "metadata": {
    "collapsed": false
   },
   "outputs": [
    {
     "name": "stdout",
     "output_type": "stream",
     "text": [
      "956645\n"
     ]
    }
   ],
   "source": [
    "dict_read = open(workspace_path + '/dict/cust_last_prods.txt', 'r')\n",
    "\n",
    "cust_end_products_dict = dict()\n",
    "\n",
    "line_count = 0\n",
    "for line in dict_read:  \n",
    "    line = line.strip()\n",
    "    \n",
    "    line_count += 1\n",
    "    \n",
    "    cust_id = int(line.split('|')[0])\n",
    "    last_prod_date = line.split('|')[1]\n",
    "    label_tokens_get = line.split('|')[2]\n",
    "\n",
    "    \n",
    "    if cust_id not in cust_end_products_dict:\n",
    "       cust_end_products_dict[cust_id] = [] \n",
    "    \n",
    "    if len(label_tokens_get) > 0 and last_prod_date == '2016-05': \n",
    "    \n",
    "        for feat_item in label_tokens_get.split(','):\n",
    "            \n",
    "            prod_id = int(feat_item)\n",
    "            cust_end_products_dict[cust_id].append(label_dict[prod_id])\n",
    "        \n",
    "print line_count \n",
    "dict_read.close()"
   ]
  },
  {
   "cell_type": "code",
   "execution_count": null,
   "metadata": {
    "collapsed": false
   },
   "outputs": [],
   "source": []
  },
  {
   "cell_type": "code",
   "execution_count": 10,
   "metadata": {
    "collapsed": false
   },
   "outputs": [
    {
     "name": "stdout",
     "output_type": "stream",
     "text": [
      "['ind_cco_fin_ult1', 'ind_ctpp_fin_ult1', 'ind_tjcr_fin_ult1', 'ind_valo_fin_ult1']\n"
     ]
    }
   ],
   "source": [
    "print cust_end_products_dict[15889]"
   ]
  },
  {
   "cell_type": "code",
   "execution_count": 17,
   "metadata": {
    "collapsed": false
   },
   "outputs": [
    {
     "name": "stdout",
     "output_type": "stream",
     "text": [
      "929615\n",
      "849170\n"
     ]
    }
   ],
   "source": [
    "Eout_dict_read = open('./output/TheLastFourRecord_pred_Dec13_w.eout', 'r')  \n",
    "id_2_prod_dict = dict()\n",
    "\n",
    "for line in Eout_dict_read:\n",
    "    line = line.strip()\n",
    "    \n",
    "    if len(line.split('|')) != 2:\n",
    "       print 'error_line:'+line\n",
    "    else:\n",
    "       cust_id  = int(line.split('|')[0])\n",
    "       products = line.split('|')[1]\n",
    "        \n",
    "       id_2_prod_dict[cust_id] = products \n",
    "\n",
    "    \n",
    "sample_submission_read = open('./output/sample_submission.csv', 'r')\n",
    "\n",
    "head_line = 'ncodpers,added_products' + '\\n'\n",
    "submission_write = open('./output/submission_Dec13-5_w.csv', 'w')  \n",
    "submission_write.write(head_line)\n",
    "\n",
    "check_line_count = 0\n",
    "\n",
    "duplicated_items_count = 0\n",
    "#for i in range(0,10000):    \n",
    "    #line = sample_submission_read.readline().strip()\n",
    "    \n",
    "for line in sample_submission_read:\n",
    "    line = line.strip()    \n",
    "    \n",
    "    if 'ncodpers' not in line:\n",
    "    \n",
    "        cust_id  = int(line.split(',')[0])\n",
    "\n",
    "        prt_line = str(cust_id) + ','\n",
    "        \n",
    "        pruned_line = False\n",
    "        \n",
    "        added_items_count = 0\n",
    "\n",
    "        if cust_id in id_2_prod_dict:\n",
    "            \n",
    "           \n",
    "           #print cust_end_products_dict[cust_id]\n",
    "           #print 'predict:'+ str(id_2_prod_dict[cust_id])  \n",
    "           \n",
    "           for prod_name_item in id_2_prod_dict[cust_id].split(' '):\n",
    "            \n",
    "               \n",
    "               if cust_id in cust_end_products_dict:\n",
    "                   if prod_name_item not in cust_end_products_dict[cust_id]:\n",
    "                        \n",
    "                         if added_items_count < 7:\n",
    "                            \n",
    "                            prt_line += prod_name_item + ' '\n",
    "                        \n",
    "                            added_items_count += 1\n",
    "\n",
    "                            pruned_line = True\n",
    "\n",
    "                   else: \n",
    "\n",
    "                     #print '->' + prod_name_item    \n",
    "\n",
    "                        duplicated_items_count += 1\n",
    "\n",
    "        check_line_count += 1\n",
    "        \n",
    "        if pruned_line:\n",
    "           submission_write.write(prt_line[:-1]+'\\n')\n",
    "        else:\n",
    "           submission_write.write(prt_line+'\\n')  \n",
    "\n",
    "print check_line_count \n",
    "print duplicated_items_count\n",
    "    \n",
    "submission_write.close() \n",
    "sample_submission_read.close() \n",
    "Eout_dict_read.close() "
   ]
  },
  {
   "cell_type": "code",
   "execution_count": 4,
   "metadata": {
    "collapsed": false
   },
   "outputs": [
    {
     "name": "stdout",
     "output_type": "stream",
     "text": [
      "TP = 8728\n",
      "FP = 4856\n",
      "TN = 224378\n",
      "FN = 2571\n",
      "precison = 0.64\n",
      "recall = 0.77\n",
      "accuracy = 0.97\n"
     ]
    }
   ],
   "source": []
  },
  {
   "cell_type": "code",
   "execution_count": null,
   "metadata": {
    "collapsed": true
   },
   "outputs": [],
   "source": []
  }
 ],
 "metadata": {
  "kernelspec": {
   "display_name": "Python 2",
   "language": "python",
   "name": "python2"
  },
  "language_info": {
   "codemirror_mode": {
    "name": "ipython",
    "version": 2
   },
   "file_extension": ".py",
   "mimetype": "text/x-python",
   "name": "python",
   "nbconvert_exporter": "python",
   "pygments_lexer": "ipython2",
   "version": "2.7.5"
  }
 },
 "nbformat": 4,
 "nbformat_minor": 0
}
