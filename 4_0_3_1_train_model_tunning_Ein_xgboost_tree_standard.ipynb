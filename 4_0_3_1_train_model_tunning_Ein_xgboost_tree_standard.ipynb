{
 "cells": [
  {
   "cell_type": "code",
   "execution_count": 1,
   "metadata": {
    "collapsed": false
   },
   "outputs": [],
   "source": [
    "import os\n",
    "import csv\n",
    "import sys\n",
    "import random\n",
    "import scipy\n",
    "import numpy as np\n",
    "import xgboost as xgb\n",
    "# read in data\n",
    "\n",
    "\n",
    "workspace_path = '/home/irashadow/python_workspace/Kaggle_Comp/Santander/'\n",
    "month_dict_inv = dict()\n",
    "month_dict_inv[0] = '2015-01'\n",
    "month_dict_inv[1] = '2015-02'\n",
    "month_dict_inv[2] = '2015-03'\n",
    "month_dict_inv[3] = '2015-04'\n",
    "month_dict_inv[4] = '2015-05'\n",
    "month_dict_inv[5] = '2015-06'\n",
    "month_dict_inv[6] = '2015-07'\n",
    "month_dict_inv[7] = '2015-08'\n",
    "month_dict_inv[8] = '2015-09'\n",
    "month_dict_inv[9] = '2015-10'\n",
    "month_dict_inv[10] = '2015-11'\n",
    "month_dict_inv[11] = '2015-12'\n",
    "month_dict_inv[12] = '2016-01'\n",
    "month_dict_inv[13] = '2016-02'\n",
    "month_dict_inv[14] = '2016-03'\n",
    "month_dict_inv[15] = '2016-04'\n",
    "month_dict_inv[16] = '2016-05'\n",
    "month_dict_inv[17] = '2016-06'"
   ]
  },
  {
   "cell_type": "code",
   "execution_count": null,
   "metadata": {
    "collapsed": false
   },
   "outputs": [],
   "source": []
  },
  {
   "cell_type": "code",
   "execution_count": null,
   "metadata": {
    "collapsed": false
   },
   "outputs": [],
   "source": []
  },
  {
   "cell_type": "code",
   "execution_count": null,
   "metadata": {
    "collapsed": false
   },
   "outputs": [],
   "source": [
    "train_data_path = './/train/model_max/cust_product_m22_m23_m24.train'\n",
    "\n",
    "dtrain = xgb.DMatrix(train_data_path)\n",
    "dvalid = xgb.DMatrix(train_data_path)\n",
    "\n",
    "# specify parameters via map\n",
    "param ={\"objective\" : \"multi:softprob\",    # multiclass classification \n",
    "              \"num_class\" : 24,    # number of classes \n",
    "              \"eval_metric\" : \"mlogloss\",    # evaluation metric \n",
    "              \"nthread\" : 6,   # number of threads to be used \n",
    "              \"max_depth\" : 14,    # maximum depth of tree \n",
    "              \"eta\" : 0.03,    # step size shrinkage \n",
    "              \"subsample\" : 0.8,    # part of data instances to grow tree \n",
    "              \"colsample_bytree\" : 0.8  # subsample ratio of columns when constructing each tree \n",
    "}\n",
    "num_round = 50\n",
    "bst = xgb.train(param, dtrain, num_round)\n",
    "# make prediction\n",
    "preds = bst.predict(dvalid)\n",
    "\n",
    "print preds.shape"
   ]
  },
  {
   "cell_type": "code",
   "execution_count": 7,
   "metadata": {
    "collapsed": false
   },
   "outputs": [
    {
     "name": "stdout",
     "output_type": "stream",
     "text": [
      "(91195, 24)\n",
      "[[0 2 1 3]\n",
      " [0 3 1 2]\n",
      " [2 1 0 3]\n",
      " ..., \n",
      " [0 3 1 2]\n",
      " [0 3 1 2]\n",
      " [0 3 2 1]]\n",
      "91195\n",
      "4\n"
     ]
    }
   ],
   "source": [
    "preds_sort = np.argsort(preds, axis=1)\n",
    "print preds_sort.shape\n",
    "preds_top7 = np.fliplr(preds_sort)[:,:4]\n",
    "print preds_top7\n",
    "\n",
    "#----------------------------------------------------\n",
    "dtrain_label = dtrain.get_label().astype(int)\n",
    "#print dtrain_label[:10].astype(int)\n",
    "#preds = np.fliplr(preds)[:,:7]\n",
    "\n",
    "print dtrain_label.shape[0]\n",
    "\n",
    "label_train_dict = dict()\n",
    "for i in range(0,dtrain_label.shape[0]):\n",
    "#for i in range(0,100):\n",
    "    \n",
    "    top_product = dtrain_label.astype(int)[i]\n",
    "    #print top_product\n",
    "    \n",
    "    if top_product not in label_train_dict:\n",
    "       label_train_dict[top_product]  = 1\n",
    "    else:\n",
    "       label_train_dict[top_product]  += 1\n",
    "    \n",
    "print len(label_train_dict)    "
   ]
  },
  {
   "cell_type": "code",
   "execution_count": 9,
   "metadata": {
    "collapsed": false
   },
   "outputs": [
    {
     "name": "stdout",
     "output_type": "stream",
     "text": [
      "train distribution\n",
      "label #0 :38.15\n",
      "label #1 :16.12\n",
      "label #2 :22.98\n",
      "label #3 :22.75\n"
     ]
    }
   ],
   "source": [
    "print 'train distribution'\n",
    "\n",
    "for item in label_train_dict:\n",
    "    \n",
    "    print 'label #' + str(item) + ' :%.2f'%(label_train_dict[item]/float(dtrain_label.shape[0])*100.0) \n",
    "    #print 'label #' + str(item)\n"
   ]
  },
  {
   "cell_type": "code",
   "execution_count": 10,
   "metadata": {
    "collapsed": false
   },
   "outputs": [
    {
     "name": "stdout",
     "output_type": "stream",
     "text": [
      "accuracy:0.749\n"
     ]
    }
   ],
   "source": [
    "correct_count = 0\n",
    "\n",
    "for i in range(0,len(dtrain_label)):\n",
    "    \n",
    "    if preds_top7[i,0] == dtrain_label[i]:\n",
    "\n",
    "       correct_count += 1 \n",
    "\n",
    "print 'accuracy:%.3f'%(correct_count/float(len(dtrain_label)))"
   ]
  },
  {
   "cell_type": "code",
   "execution_count": 11,
   "metadata": {
    "collapsed": false
   },
   "outputs": [],
   "source": [
    "#test_data_path = './test/5_4_cust_date_prod_L4_max.test'\n",
    "test_data_path = './test/5_4_cust_date_prod_L4_standard.test'\n",
    "dtest = xgb.DMatrix(test_data_path)\n",
    "preds = bst.predict(dtest)"
   ]
  },
  {
   "cell_type": "code",
   "execution_count": 12,
   "metadata": {
    "collapsed": false
   },
   "outputs": [
    {
     "name": "stdout",
     "output_type": "stream",
     "text": [
      "(929615, 24)\n",
      "[[3 0 1 2]\n",
      " [3 0 2 1]\n",
      " [3 2 0 1]\n",
      " ..., \n",
      " [0 3 1 2]\n",
      " [3 0 1 2]\n",
      " [0 3 2 1]]\n"
     ]
    }
   ],
   "source": [
    "preds_sort = np.argsort(preds, axis=1)\n",
    "print preds_sort.shape\n",
    "preds_top7 = np.fliplr(preds_sort)[:,:4]\n",
    "print preds_top7\n",
    "\n",
    "label_submit_dict = dict()\n",
    "for i in range(0,preds_sort.shape[0]):\n",
    "#for i in range(0,100):\n",
    "    \n",
    "    top_product = preds_top7[i,0]\n",
    "    \n",
    "    if top_product not in label_submit_dict:\n",
    "       label_submit_dict[top_product]  = 1\n",
    "    else:\n",
    "       label_submit_dict[top_product]  += 1\n",
    "    "
   ]
  },
  {
   "cell_type": "code",
   "execution_count": 13,
   "metadata": {
    "collapsed": false
   },
   "outputs": [
    {
     "name": "stdout",
     "output_type": "stream",
     "text": [
      "submission distribution\n",
      "label #0 :59.95\n",
      "label #1 :1.40\n",
      "label #2 :1.99\n",
      "label #3 :36.66\n"
     ]
    }
   ],
   "source": [
    "print 'submission distribution'\n",
    "\n",
    "for item in label_submit_dict:\n",
    "    \n",
    "    print 'label #' + str(item) + ' :%.2f'%(label_submit_dict[item]/float(preds_sort.shape[0])*100.0) \n",
    "    #print 'label #' + str(item)\n"
   ]
  },
  {
   "cell_type": "code",
   "execution_count": 19,
   "metadata": {
    "collapsed": true
   },
   "outputs": [],
   "source": [
    "label_dict = dict()\n",
    "label_dict[1] = 'ind_ahor_fin_ult1'\n",
    "label_dict[2] = 'ind_aval_fin_ult1'\n",
    "label_dict[3] = 'ind_cco_fin_ult1'\n",
    "label_dict[4] = 'ind_cder_fin_ult1'\n",
    "label_dict[5] = 'ind_cno_fin_ult1'\n",
    "label_dict[6] = 'ind_ctju_fin_ult1'\n",
    "label_dict[7] = 'ind_ctma_fin_ult1'\n",
    "label_dict[8] = 'ind_ctop_fin_ult1'\n",
    "label_dict[9] = 'ind_ctpp_fin_ult1'\n",
    "label_dict[10] = 'ind_deco_fin_ult1'\n",
    "label_dict[11] = 'ind_deme_fin_ult1'\n",
    "label_dict[12] = 'ind_dela_fin_ult1'\n",
    "label_dict[13] = 'ind_ecue_fin_ult1'\n",
    "label_dict[14] = 'ind_fond_fin_ult1'\n",
    "label_dict[15] = 'ind_hip_fin_ult1'\n",
    "label_dict[16] = 'ind_plan_fin_ult1'\n",
    "label_dict[17] = 'ind_pres_fin_ult1'\n",
    "label_dict[18] = 'ind_reca_fin_ult1'\n",
    "label_dict[19] = 'ind_tjcr_fin_ult1'\n",
    "label_dict[20] = 'ind_valo_fin_ult1'\n",
    "label_dict[21] = 'ind_viv_fin_ult1'\n",
    "label_dict[22] = 'ind_nomina_ult1'\n",
    "label_dict[23] = 'ind_nom_pens_ult1'\n",
    "label_dict[24] = 'ind_recibo_ult1'"
   ]
  },
  {
   "cell_type": "code",
   "execution_count": 21,
   "metadata": {
    "collapsed": false
   },
   "outputs": [
    {
     "name": "stdout",
     "output_type": "stream",
     "text": [
      "929615\n"
     ]
    }
   ],
   "source": [
    "Eout_write = open('./output/TheLastFourRecord_pred_Dec09_xgb.eout', 'w')  \n",
    "\n",
    "feat_data_path = workspace_path + '/input/test_ver2.csv'\n",
    "\n",
    "test_read = open(feat_data_path, 'r')\n",
    "headline = test_read.readline().strip()\n",
    "\n",
    "line_count = 0\n",
    "for line in test_read:\n",
    "    \n",
    "    line = line.strip().split(',')\n",
    "    cust_id = int(line[1].replace(' ',''))\n",
    "    \n",
    "    prt_line_temp = ''\n",
    "    \n",
    "    for i in range(0,13):\n",
    "        \n",
    "        product_index = preds_top7[line_count,i]\n",
    "        \n",
    "        prt_line_temp += label_dict[product_index+1] + ' '\n",
    "        \n",
    "    prt_line_temp = prt_line_temp[:-1]    \n",
    "    \n",
    "    \n",
    "    prt_line = str(cust_id) + '|' + prt_line_temp + '\\n'\n",
    "    \n",
    "    \n",
    "    line_count += 1\n",
    "    \n",
    "    Eout_write.write(prt_line)\n",
    "   \n",
    "print line_count \n",
    "Eout_write.close()\n",
    "    "
   ]
  },
  {
   "cell_type": "code",
   "execution_count": 22,
   "metadata": {
    "collapsed": false
   },
   "outputs": [
    {
     "name": "stdout",
     "output_type": "stream",
     "text": [
      "956645\n"
     ]
    }
   ],
   "source": [
    "dict_read = open(workspace_path + '/dict/cust_last_prods.txt', 'r')\n",
    "\n",
    "cust_end_products_dict = dict()\n",
    "\n",
    "line_count = 0\n",
    "for line in dict_read:  \n",
    "    line = line.strip()\n",
    "    \n",
    "    line_count += 1\n",
    "    \n",
    "    cust_id = int(line.split('|')[0])\n",
    "    last_prod_date = line.split('|')[1]\n",
    "    label_tokens_get = line.split('|')[2]\n",
    "\n",
    "    \n",
    "    if cust_id not in cust_end_products_dict:\n",
    "       cust_end_products_dict[cust_id] = [] \n",
    "    \n",
    "    if len(label_tokens_get) > 0 and last_prod_date == '2016-05': \n",
    "    \n",
    "        for feat_item in label_tokens_get.split(','):\n",
    "            \n",
    "            prod_id = int(feat_item)\n",
    "            cust_end_products_dict[cust_id].append(label_dict[prod_id])\n",
    "        \n",
    "print line_count \n",
    "dict_read.close()"
   ]
  },
  {
   "cell_type": "code",
   "execution_count": 23,
   "metadata": {
    "collapsed": false
   },
   "outputs": [
    {
     "name": "stdout",
     "output_type": "stream",
     "text": [
      "929615\n",
      "499095\n"
     ]
    }
   ],
   "source": [
    "Eout_dict_read = open('./output/TheLastFourRecord_pred_Dec09_xgb.eout', 'r')  \n",
    "id_2_prod_dict = dict()\n",
    "\n",
    "for line in Eout_dict_read:\n",
    "    line = line.strip()\n",
    "    \n",
    "    if len(line.split('|')) != 2:\n",
    "       print 'error_line:'+line\n",
    "    else:\n",
    "       cust_id  = int(line.split('|')[0])\n",
    "       products = line.split('|')[1]\n",
    "        \n",
    "       id_2_prod_dict[cust_id] = products \n",
    "\n",
    "    \n",
    "sample_submission_read = open('./output/sample_submission.csv', 'r')\n",
    "\n",
    "head_line = 'ncodpers,added_products' + '\\n'\n",
    "submission_write = open('./output/submission_Dec09-2.csv', 'w')  \n",
    "submission_write.write(head_line)\n",
    "\n",
    "check_line_count = 0\n",
    "\n",
    "duplicated_items_count = 0\n",
    "#for i in range(0,10000):    \n",
    "    #line = sample_submission_read.readline().strip()\n",
    "    \n",
    "for line in sample_submission_read:\n",
    "    line = line.strip()    \n",
    "    \n",
    "    if 'ncodpers' not in line:\n",
    "    \n",
    "        cust_id  = int(line.split(',')[0])\n",
    "\n",
    "        prt_line = str(cust_id) + ','\n",
    "        \n",
    "        pruned_line = False\n",
    "        \n",
    "        added_items_count = 0\n",
    "\n",
    "        if cust_id in id_2_prod_dict:\n",
    "            \n",
    "           \n",
    "           #print cust_end_products_dict[cust_id]\n",
    "           #print 'predict:'+ str(id_2_prod_dict[cust_id])  \n",
    "           \n",
    "           for prod_name_item in id_2_prod_dict[cust_id].split(' '):\n",
    "            \n",
    "               \n",
    "               if cust_id in cust_end_products_dict:\n",
    "                   if prod_name_item not in cust_end_products_dict[cust_id]:\n",
    "                        \n",
    "                         if added_items_count < 7:\n",
    "                            \n",
    "                            prt_line += prod_name_item + ' '\n",
    "                        \n",
    "                            added_items_count += 1\n",
    "\n",
    "                            pruned_line = True\n",
    "\n",
    "                   else: \n",
    "\n",
    "                     #print '->' + prod_name_item    \n",
    "\n",
    "                        duplicated_items_count += 1\n",
    "\n",
    "        check_line_count += 1\n",
    "        \n",
    "        if pruned_line:\n",
    "           submission_write.write(prt_line[:-1]+'\\n')\n",
    "        else:\n",
    "           submission_write.write(prt_line+'\\n')  \n",
    "\n",
    "print check_line_count \n",
    "print duplicated_items_count\n",
    "    \n",
    "submission_write.close() \n",
    "sample_submission_read.close() \n",
    "Eout_dict_read.close() "
   ]
  },
  {
   "cell_type": "code",
   "execution_count": null,
   "metadata": {
    "collapsed": true
   },
   "outputs": [],
   "source": []
  }
 ],
 "metadata": {
  "kernelspec": {
   "display_name": "Python 2",
   "language": "python",
   "name": "python2"
  },
  "language_info": {
   "codemirror_mode": {
    "name": "ipython",
    "version": 2
   },
   "file_extension": ".py",
   "mimetype": "text/x-python",
   "name": "python",
   "nbconvert_exporter": "python",
   "pygments_lexer": "ipython2",
   "version": "2.7.5"
  }
 },
 "nbformat": 4,
 "nbformat_minor": 0
}
