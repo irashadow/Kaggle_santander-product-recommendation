{
 "cells": [
  {
   "cell_type": "code",
   "execution_count": 1,
   "metadata": {
    "collapsed": true
   },
   "outputs": [],
   "source": [
    "import os\n",
    "import csv\n",
    "import sys\n",
    "import random\n",
    "import scipy\n",
    "import numpy as np\n",
    "\n",
    "workspace_path = '/home/irashadow/python_workspace/Kaggle_Comp/Santander/'\n"
   ]
  },
  {
   "cell_type": "code",
   "execution_count": 6,
   "metadata": {
    "collapsed": false
   },
   "outputs": [
    {
     "name": "stdout",
     "output_type": "stream",
     "text": [
      "\"fecha_dato\",\"ncodpers\",\"ind_empleado\",\"pais_residencia\",\"sexo\",\"age\",\"fecha_alta\",\"ind_nuevo\",\"antiguedad\",\"indrel\",\"ult_fec_cli_1t\",\"indrel_1mes\",\"tiprel_1mes\",\"indresi\",\"indext\",\"conyuemp\",\"canal_entrada\",\"indfall\",\"tipodom\",\"cod_prov\",\"nomprov\",\"ind_actividad_cliente\",\"renta\",\"segmento\",\"ind_ahor_fin_ult1\",\"ind_aval_fin_ult1\",\"ind_cco_fin_ult1\",\"ind_cder_fin_ult1\",\"ind_cno_fin_ult1\",\"ind_ctju_fin_ult1\",\"ind_ctma_fin_ult1\",\"ind_ctop_fin_ult1\",\"ind_ctpp_fin_ult1\",\"ind_deco_fin_ult1\",\"ind_deme_fin_ult1\",\"ind_dela_fin_ult1\",\"ind_ecue_fin_ult1\",\"ind_fond_fin_ult1\",\"ind_hip_fin_ult1\",\"ind_plan_fin_ult1\",\"ind_pres_fin_ult1\",\"ind_reca_fin_ult1\",\"ind_tjcr_fin_ult1\",\"ind_valo_fin_ult1\",\"ind_viv_fin_ult1\",\"ind_nomina_ult1\",\"ind_nom_pens_ult1\",\"ind_recibo_ult1\"\n",
      "['2016-05-28', '1552848', 'N', 'ES', 'H', ' 38', '2016-05-26', ' 1', '      0', '99', '2016-05-26', '', '', 'S', 'S', '', '', 'N', ' 1', '20', '\"GIPUZKOA\"', ' 0', '', '', '0', '0', '0', '0', '0', '0', '0', '0', '0', '0', '0', '0', '0', '0', '0', '0', '0', '0', '0', '0', '0', ' 0', ' 0', '0']\n",
      "13647309\n",
      "13647309\n",
      "875157\n"
     ]
    }
   ],
   "source": [
    "data_train = open(workspace_path + 'input/train_ver2.csv', 'r')\n",
    "headline = data_train.readline().strip()\n",
    "print headline\n",
    "\n",
    "line_count = 0\n",
    "line_skip = 0\n",
    "\n",
    "line_count_inner = 0   \n",
    "\n",
    "cust_dict_tr = dict()\n",
    "\n",
    "#for i in range(0,1000):\n",
    "    #line = data_train.readline().strip().split(',')\n",
    "\n",
    "\n",
    "#bug line\n",
    "#1552848:2016-05-2\n",
    "#2016-05-2\n",
    "    \n",
    "for line in data_train:\n",
    "    line = line.strip().split(',')\n",
    "\n",
    "    line_count += 1    \n",
    "    \n",
    "    if len(line) == 48:\n",
    "        line_count_inner += 1   \n",
    " \n",
    "\n",
    "        cust_id = int(line[1])\n",
    "        fecha_dato = line[0][:-3]\n",
    "\n",
    "        product_id = ''\n",
    "        \n",
    "        \n",
    "        if cust_id == 1552848:\n",
    "           print line \n",
    "\n",
    "        for j in range(24, 48):\n",
    "\n",
    "            #print line[24]\n",
    "\n",
    "            if line[j].replace(' ','') == '1':\n",
    "\n",
    "               #product_id_inx strat from 1,2,3,4,5,....,24\n",
    "               product_id += str(j-23) + ','\n",
    "\n",
    "                \n",
    "\n",
    "        if cust_id not in cust_dict_tr:\n",
    "\n",
    "           cust_dict_tr[cust_id] = fecha_dato + '|' + product_id[:-1]\n",
    "        \n",
    "        else:\n",
    "            \n",
    "           cust_dict_tr[cust_id] += ';' + fecha_dato + '|' + product_id[:-1]\n",
    "         \n",
    "    elif len(line) == 49:\n",
    "        line_count_inner += 1   \n",
    "        \n",
    "        cust_id = int(line[1])\n",
    "        fecha_dato = line[0][:-3]\n",
    "        \n",
    "        line_skip += 1\n",
    "        \n",
    "        product_id = ''\n",
    "        \n",
    "        for j in range(25, 49):\n",
    "\n",
    "            #print line[24]\n",
    "\n",
    "            if line[j].replace(' ','') == '1':\n",
    "\n",
    "               #product_id_inx strat from 1,2,3,4,5,....,24\n",
    "               product_id += str(j-24) + ','\n",
    "\n",
    "        if cust_id not in cust_dict_tr:\n",
    "\n",
    "           cust_dict_tr[cust_id] = fecha_dato + '|' + product_id[:-1]\n",
    "        \n",
    "        else:\n",
    "            \n",
    "           cust_dict_tr[cust_id] += ';' + fecha_dato + '|' + product_id[:-1]\n",
    "        \n",
    "        \n",
    "    \n",
    "print(line_count) \n",
    "print(line_count_inner)\n",
    "print(line_skip)  \n",
    "                \n",
    "    "
   ]
  },
  {
   "cell_type": "code",
   "execution_count": 6,
   "metadata": {
    "collapsed": false
   },
   "outputs": [
    {
     "name": "stdout",
     "output_type": "stream",
     "text": [
      "2016-05-28|\n"
     ]
    }
   ],
   "source": [
    "print cust_dict_tr[1552848]\n",
    "\n"
   ]
  },
  {
   "cell_type": "code",
   "execution_count": 7,
   "metadata": {
    "collapsed": false
   },
   "outputs": [
    {
     "name": "stdout",
     "output_type": "stream",
     "text": [
      "1552848:2016-05|\n",
      "\n"
     ]
    }
   ],
   "source": [
    "dict_write = open(workspace_path + '/dict/cust_product.csv', 'w')\n",
    "\n",
    "for item in cust_dict_tr:\n",
    "    \n",
    "    print_line = str(item) + ':' + cust_dict_tr[item] + '\\n'\n",
    "    \n",
    "    if item == 1552848:\n",
    "        \n",
    "       print print_line \n",
    "    \n",
    "    \n",
    "    dict_write.write(print_line)\n",
    "   \n",
    "dict_write.close()"
   ]
  },
  {
   "cell_type": "code",
   "execution_count": 8,
   "metadata": {
    "collapsed": false
   },
   "outputs": [
    {
     "name": "stdout",
     "output_type": "stream",
     "text": [
      "['2015-05-28', '  21728', 'N', 'ES', 'V', ' 53', '1995-10-23', ' 0', '    237', ' 1', '', '1.0', 'A', 'S', 'N', '', 'KAT', 'N', ' 1', '35', '\"PALMAS', ' LAS\"', ' 1', '129000.96', '02 - PARTICULARES', '0', '0', '1', '0', '0', '0', '0', '0', '0', '0', '1', '0', '0', '0', '0', '0', '0', '0', '0', '0', '0', ' 0', ' 0', '0']\n",
      "3,11,\n",
      "['2015-06-28', '  21728', 'N', 'ES', 'V', ' 53', '1995-10-23', ' 0', '    237', ' 1', '', '1.0', 'A', 'S', 'N', '', 'KAT', 'N', ' 1', '35', '\"PALMAS', ' LAS\"', ' 1', '129000.96', '02 - PARTICULARES', '0', '0', '1', '0', '0', '0', '0', '0', '0', '0', '1', '0', '0', '0', '0', '0', '0', '0', '0', '0', '0', ' 0', ' 0', '0']\n",
      "3,11,\n"
     ]
    }
   ],
   "source": [
    "data_train = open(workspace_path + 'input/train_2015-05to06.csv', 'r')\n",
    "headline = data_train.readline().strip()\n",
    "#print headline\n",
    "\n",
    "line_count = 0\n",
    "line_skip = 0\n",
    "\n",
    "line_count_inner = 0   \n",
    "\n",
    "cust_dict_tr = dict()\n",
    "\n",
    "    \n",
    "for line in data_train:\n",
    "    line = line.strip().split(',')\n",
    "\n",
    "    line_count += 1    \n",
    "    \n",
    "    if len(line) == 49:\n",
    "        line_count_inner += 1   \n",
    " \n",
    "\n",
    "        cust_id = int(line[1])\n",
    "        fecha_dato = line[0][:-3]\n",
    "\n",
    "        product_id = ''\n",
    "        \n",
    "        \n",
    "        for j in range(25, 49):\n",
    "\n",
    "            #print line[24]\n",
    "\n",
    "            if line[j].replace(' ','') == '1':\n",
    "\n",
    "               #product_id_inx strat from 1,2,3,4,5,....,24\n",
    "               product_id += str(j-24) + ','\n",
    "                \n",
    "        if cust_id == 21728:\n",
    "           print line \n",
    "           print product_id\n",
    "        \n",
    "\n",
    "                "
   ]
  },
  {
   "cell_type": "code",
   "execution_count": null,
   "metadata": {
    "collapsed": true
   },
   "outputs": [],
   "source": []
  }
 ],
 "metadata": {
  "kernelspec": {
   "display_name": "Python 2",
   "language": "python",
   "name": "python2"
  },
  "language_info": {
   "codemirror_mode": {
    "name": "ipython",
    "version": 2
   },
   "file_extension": ".py",
   "mimetype": "text/x-python",
   "name": "python",
   "nbconvert_exporter": "python",
   "pygments_lexer": "ipython2",
   "version": "2.7.5"
  }
 },
 "nbformat": 4,
 "nbformat_minor": 0
}
