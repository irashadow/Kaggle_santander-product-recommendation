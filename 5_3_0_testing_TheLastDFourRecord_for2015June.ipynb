{
 "cells": [
  {
   "cell_type": "code",
   "execution_count": 1,
   "metadata": {
    "collapsed": false
   },
   "outputs": [
    {
     "name": "stderr",
     "output_type": "stream",
     "text": [
      "/home/irashadow/env_TensorFlow/lib/python2.7/site-packages/ipykernel/__main__.py:7: DeprecationWarning: the sets module is deprecated\n"
     ]
    }
   ],
   "source": [
    "import os\n",
    "import csv\n",
    "import sys\n",
    "import random\n",
    "import scipy\n",
    "import numpy as np\n",
    "from sets import Set\n",
    "\n",
    "\n",
    "workspace_path = '/home/irashadow/python_workspace/Kaggle_Comp/Santander/'"
   ]
  },
  {
   "cell_type": "code",
   "execution_count": 2,
   "metadata": {
    "collapsed": false
   },
   "outputs": [],
   "source": [
    "month_dict = dict()\n",
    "month_dict['2015-01'] = 0\n",
    "month_dict['2015-02'] = 1\n",
    "month_dict['2015-03'] = 2\n",
    "month_dict['2015-04'] = 3\n",
    "month_dict['2015-05'] = 4\n",
    "month_dict['2015-06'] = 5\n",
    "month_dict['2015-07'] = 6\n",
    "month_dict['2015-08'] = 7\n",
    "month_dict['2015-09'] = 8\n",
    "month_dict['2015-10'] = 9\n",
    "month_dict['2015-11'] = 10\n",
    "month_dict['2015-12'] = 11\n",
    "month_dict['2016-01'] = 12\n",
    "month_dict['2016-02'] = 13\n",
    "month_dict['2016-03'] = 14\n",
    "month_dict['2016-04'] = 15\n",
    "month_dict['2016-05'] = 16\n",
    "month_dict['2016-06'] = 17\n"
   ]
  },
  {
   "cell_type": "code",
   "execution_count": 3,
   "metadata": {
    "collapsed": false
   },
   "outputs": [
    {
     "ename": "KeyboardInterrupt",
     "evalue": "",
     "output_type": "error",
     "traceback": [
      "\u001b[1;31m---------------------------------------------------------------------------\u001b[0m",
      "\u001b[1;31mKeyboardInterrupt\u001b[0m                         Traceback (most recent call last)",
      "\u001b[1;32m<ipython-input-3-d3843d91a36a>\u001b[0m in \u001b[0;36m<module>\u001b[1;34m()\u001b[0m\n\u001b[0;32m     27\u001b[0m \u001b[1;33m\u001b[0m\u001b[0m\n\u001b[0;32m     28\u001b[0m             \u001b[0mdate_item\u001b[0m \u001b[1;33m=\u001b[0m \u001b[0mprod_item\u001b[0m\u001b[1;33m.\u001b[0m\u001b[0msplit\u001b[0m\u001b[1;33m(\u001b[0m\u001b[1;34m'|'\u001b[0m\u001b[1;33m)\u001b[0m\u001b[1;33m[\u001b[0m\u001b[1;36m0\u001b[0m\u001b[1;33m]\u001b[0m\u001b[1;33m\u001b[0m\u001b[0m\n\u001b[1;32m---> 29\u001b[1;33m             \u001b[0mpres_items_get\u001b[0m \u001b[1;33m=\u001b[0m \u001b[0mprod_item\u001b[0m\u001b[1;33m.\u001b[0m\u001b[0msplit\u001b[0m\u001b[1;33m(\u001b[0m\u001b[1;34m'|'\u001b[0m\u001b[1;33m)\u001b[0m\u001b[1;33m[\u001b[0m\u001b[1;36m1\u001b[0m\u001b[1;33m]\u001b[0m\u001b[1;33m\u001b[0m\u001b[0m\n\u001b[0m\u001b[0;32m     30\u001b[0m             \u001b[0mcust_date_products_dict\u001b[0m\u001b[1;33m[\u001b[0m\u001b[0mcust_id\u001b[0m\u001b[1;33m]\u001b[0m\u001b[1;33m[\u001b[0m\u001b[0mdate_item\u001b[0m\u001b[1;33m]\u001b[0m \u001b[1;33m=\u001b[0m \u001b[0mnp\u001b[0m\u001b[1;33m.\u001b[0m\u001b[0mzeros\u001b[0m\u001b[1;33m(\u001b[0m\u001b[1;36m30\u001b[0m\u001b[1;33m)\u001b[0m\u001b[1;33m\u001b[0m\u001b[0m\n\u001b[0;32m     31\u001b[0m \u001b[1;33m\u001b[0m\u001b[0m\n",
      "\u001b[1;31mKeyboardInterrupt\u001b[0m: "
     ]
    }
   ],
   "source": [
    "#loading products item as features\n",
    "dict_read = open(workspace_path + '/dict/cust_product.csv', 'r')\n",
    "\n",
    "cust_date_products_dict = dict()\n",
    "line_count = 0\n",
    "\n",
    "#for i in range(0,100):\n",
    "    #line = dict_read.readline().strip()\n",
    "    \n",
    "\n",
    "for line in dict_read:\n",
    "    line = line.strip()\n",
    "    \n",
    "    line_count += 1\n",
    "    \n",
    "    cust_id = int(line.split(':')[0])\n",
    "    \n",
    "    cust_items = line.split(':')[1]\n",
    "    \n",
    "    if cust_id not in cust_date_products_dict:\n",
    "        \n",
    "       cust_date_products_dict[cust_id] = dict() \n",
    "    \n",
    "    for prod_item in cust_items.split(';'):\n",
    "        \n",
    "        if len(prod_item.split('|')) == 2:   \n",
    "        \n",
    "            date_item = prod_item.split('|')[0]\n",
    "            pres_items_get = prod_item.split('|')[1]\n",
    "            cust_date_products_dict[cust_id][date_item] = np.zeros(30)   \n",
    "            \n",
    "            for feat_item in pres_items_get.split(','):\n",
    "                \n",
    "                if len(feat_item) > 0:\n",
    "                   feat_inx_temp = int(feat_item.split(':')[0])\n",
    "                   cust_date_products_dict[cust_id][date_item][feat_inx_temp] = 1\n",
    "            \n",
    "        else:\n",
    "            \n",
    "            print line\n",
    "            print prod_item\n",
    "        \n",
    "        \n",
    "    \n",
    "print line_count \n",
    "dict_read.close() "
   ]
  },
  {
   "cell_type": "code",
   "execution_count": 4,
   "metadata": {
    "collapsed": false
   },
   "outputs": [
    {
     "name": "stdout",
     "output_type": "stream",
     "text": [
      "956645\n"
     ]
    }
   ],
   "source": [
    "#loading added-products item as features or labels\n",
    "dict_read = open(workspace_path + '/dict/cust_product_mod.csv', 'r')\n",
    "\n",
    "cust_date_added_products_dict = dict()\n",
    "line_count = 0\n",
    "\n",
    "#for i in range(0,100):\n",
    "    #line = dict_read.readline().strip()\n",
    "    \n",
    "\n",
    "for line in dict_read:\n",
    "    line = line.strip()\n",
    "    \n",
    "    line_count += 1\n",
    "    \n",
    "    cust_id = int(line.split(':')[0])\n",
    "    \n",
    "    cust_items = line.split(':')[1]\n",
    "    \n",
    "    if cust_id not in cust_date_added_products_dict:\n",
    "        \n",
    "       cust_date_added_products_dict[cust_id] = dict() \n",
    "    \n",
    "    \n",
    "    \n",
    "    for prod_item in cust_items.split(';'):\n",
    "        \n",
    "        if len(prod_item.split('|')) == 2:   \n",
    "        \n",
    "            date_item = prod_item.split('|')[0]\n",
    "            pres_items_get = prod_item.split('|')[1]\n",
    "            \n",
    "            if date_item not in cust_date_added_products_dict[cust_id]:\n",
    "               cust_date_added_products_dict[cust_id][date_item] = np.zeros(60)   \n",
    "            \n",
    "            for feat_item in pres_items_get.split(','):\n",
    "                \n",
    "                if len(feat_item) > 0:\n",
    "                   \n",
    "                   if feat_item[0] == '+': \n",
    "                     feat_inx_temp = abs(int(feat_item)) \n",
    "                   elif feat_item[0] == '-': \n",
    "                     feat_inx_temp = abs(int(feat_item)) + 30\n",
    "                           \n",
    "                   \n",
    "                   cust_date_added_products_dict[cust_id][date_item][feat_inx_temp] = 1\n",
    "            \n",
    "        #else:\n",
    "            \n",
    "            #print line\n",
    "            #print prod_item\n",
    "            \n",
    "        \n",
    "        \n",
    "        \n",
    "    \n",
    "print line_count \n",
    "dict_read.close() "
   ]
  },
  {
   "cell_type": "code",
   "execution_count": 4,
   "metadata": {
    "collapsed": false
   },
   "outputs": [
    {
     "name": "stdout",
     "output_type": "stream",
     "text": [
      "13647309\n"
     ]
    }
   ],
   "source": [
    "#print cust_date_products_dict\n",
    "feat_read = open(workspace_path + '/feat/3_1_cust_nominal.feat', 'r')\n",
    "\n",
    "cust_date_nominal_dict = dict()\n",
    "line_count = 0\n",
    "\n",
    "\n",
    "line_count = 0\n",
    "#for i in range(0,1000):\n",
    "    #line = feat_read.readline().strip()\n",
    "for line in feat_read:\n",
    "    line = line.strip()\n",
    "    \n",
    "    line_count += 1\n",
    "\n",
    "\n",
    "    cust_id = int(line.split('|')[0])\n",
    "    item_date = line.split('|')[1]\n",
    "    features = line.split('|')[2]\n",
    "\n",
    "    if cust_id not in cust_date_nominal_dict:\n",
    "       \n",
    "       cust_date_nominal_dict[cust_id] = dict() \n",
    "    \n",
    "    cust_date_nominal_dict[cust_id][item_date] = np.zeros(500)\n",
    "   \n",
    "    for feat_item in features.split(' '):\n",
    "            \n",
    "        feat_inx_temp = int(feat_item.split(':')[0])\n",
    "        cust_date_nominal_dict[cust_id][item_date][feat_inx_temp] = 1\n",
    "            \n",
    "print line_count           \n",
    "feat_read.close()      "
   ]
  },
  {
   "cell_type": "code",
   "execution_count": null,
   "metadata": {
    "collapsed": true
   },
   "outputs": [],
   "source": [
    "#print cust_date_products_dict\n",
    "feat_read = open(workspace_path + '/feat/3_2_cust_real.feat', 'r')\n",
    "\n",
    "cust_date_real_dict = dict()\n",
    "line_count = 0\n",
    "\n",
    "\n",
    "line_count = 0\n",
    "#for i in range(0,1000):\n",
    "    #line = feat_read.readline().strip()\n",
    "for line in feat_read:\n",
    "    line = line.strip()\n",
    "    \n",
    "    line_count += 1\n",
    "\n",
    "\n",
    "    cust_id = int(line.split('|')[0])\n",
    "    item_date = line.split('|')[1]\n",
    "    features = line.split('|')[2]\n",
    "\n",
    "    if cust_id not in cust_date_real_dict:\n",
    "       \n",
    "       cust_date_real_dict[cust_id] = dict() \n",
    "    \n",
    "    cust_date_real_dict[cust_id][item_date] = np.zeros(500)\n",
    "   \n",
    "    for feat_item in features.split(' '):\n",
    "            \n",
    "        feat_inx_temp = int(feat_item.split(':')[0])\n",
    "        cust_date_real_dict[cust_id][item_date][feat_inx_temp] = 1\n",
    "            \n",
    "print line_count           \n",
    "feat_read.close()    "
   ]
  },
  {
   "cell_type": "code",
   "execution_count": 5,
   "metadata": {
    "collapsed": false
   },
   "outputs": [
    {
     "name": "stdout",
     "output_type": "stream",
     "text": [
      "['f2', 'f3', 'f4', 'f20', 'f7', 'f9', 'f21', 'f23', 'f18', 'f19', 'f12', 'f13', 'f10', 'f11', 'f16', 'f17', 'f14', 'f15']\n"
     ]
    }
   ],
   "source": [
    "fitems2index_read = open(workspace_path + '/dict/fitems2index.txt', 'r')\n",
    "\n",
    "\n",
    "fitems_to_index_dict = dict()\n",
    "\n",
    "for line in fitems2index_read:\n",
    "    \n",
    "    line = line.strip()\n",
    "    \n",
    "    features_index = int(line.split('|')[0])\n",
    "    feature_id = line.split('|')[1]\n",
    "    feature_item = line.split('|')[2]\n",
    "    \n",
    "    if feature_id not in fitems_to_index_dict:\n",
    "        \n",
    "       fitems_to_index_dict[feature_id] = dict()\n",
    "    \n",
    "       \n",
    "    fitems_to_index_dict[feature_id][feature_item] = features_index\n",
    "       \n",
    " \n",
    "\n",
    "fitems2index_read.close()\n",
    "\n",
    "\n",
    "print fitems_to_index_dict.keys()"
   ]
  },
  {
   "cell_type": "code",
   "execution_count": 6,
   "metadata": {
    "collapsed": false
   },
   "outputs": [
    {
     "name": "stdout",
     "output_type": "stream",
     "text": [
      "['f8', 'f22', 'f10', 'f5']\n"
     ]
    }
   ],
   "source": [
    "fitems2index_read = open(workspace_path + '/dict/fitems2index_real.txt', 'r')\n",
    "\n",
    "\n",
    "fitems_to_index_dict_real = dict()\n",
    "\n",
    "\n",
    "for line in fitems2index_read:\n",
    "    \n",
    "    line = line.strip()\n",
    "    \n",
    "    features_index = int(line.split('|')[0])\n",
    "    feature_id = line.split('|')[1]\n",
    "    feature_item = line.split('|')[2]\n",
    "    \n",
    "    if feature_id not in fitems_to_index_dict_real:\n",
    "        \n",
    "       fitems_to_index_dict_real[feature_id] = dict()\n",
    "    \n",
    "       \n",
    "    fitems_to_index_dict_real[feature_id][feature_item] = features_index\n",
    "       \n",
    " \n",
    "\n",
    "fitems2index_read.close()\n",
    "\n",
    "\n",
    "print fitems_to_index_dict_real.keys()               "
   ]
  },
  {
   "cell_type": "code",
   "execution_count": 10,
   "metadata": {
    "collapsed": false
   },
   "outputs": [
    {
     "name": "stdout",
     "output_type": "stream",
     "text": [
      "2869935\n"
     ]
    }
   ],
   "source": [
    "cust_last_date = dict()\n",
    "\n",
    "dict_read = open(workspace_path + '/dict/cust_date_records.txt', 'r')\n",
    "\n",
    "line_count = 0\n",
    "for line in dict_read:  \n",
    "    line = line.strip()\n",
    "    \n",
    "    \n",
    "    line_count += 1\n",
    "    \n",
    "    cust_id = line.split('|')[0]\n",
    "    last_date = line.split('|')[1]\n",
    "    \n",
    "    cust_last_date[cust_id] = last_date\n",
    "    \n",
    "    \n",
    "print line_count    \n",
    "dict_read.close()    "
   ]
  },
  {
   "cell_type": "code",
   "execution_count": null,
   "metadata": {
    "collapsed": true
   },
   "outputs": [],
   "source": [
    "print cust_last_date['15889']"
   ]
  },
  {
   "cell_type": "code",
   "execution_count": null,
   "metadata": {
    "collapsed": false
   },
   "outputs": [],
   "source": []
  },
  {
   "cell_type": "code",
   "execution_count": 18,
   "metadata": {
    "collapsed": false
   },
   "outputs": [
    {
     "name": "stdout",
     "output_type": "stream",
     "text": [
      "\"fecha_dato\",\"ncodpers\",\"ind_empleado\",\"pais_residencia\",\"sexo\",\"age\",\"fecha_alta\",\"ind_nuevo\",\"antiguedad\",\"indrel\",\"ult_fec_cli_1t\",\"indrel_1mes\",\"tiprel_1mes\",\"indresi\",\"indext\",\"conyuemp\",\"canal_entrada\",\"indfall\",\"tipodom\",\"cod_prov\",\"nomprov\",\"ind_actividad_cliente\",\"renta\",\"segmento\"\n",
      "929615\n"
     ]
    }
   ],
   "source": [
    "import datetime as dt\n",
    "import math\n",
    "\n",
    "test_read = open(workspace_path + '/input/test_ver2.csv', 'r')\n",
    "\n",
    "headline = test_read.readline().strip()\n",
    "print headline\n",
    "\n",
    "test_write = open(workspace_path + '/test/5_3_cust_date_nominal_prod_L4_2015June.test', 'w')\n",
    "\n",
    "\n",
    "\n",
    "line_count = 0\n",
    "\n",
    "#for i in range(0,100000):\n",
    "    #line = test_read.readline().strip().split(',')\n",
    "for line in test_read:  \n",
    "    line = line.strip().split(',')\n",
    "    \n",
    "    \n",
    "    line_count += 1\n",
    "    \n",
    "    cust_date_nominal_list_pres = np.zeros(500)\n",
    "    cust_date_real_list_pres = np.zeros(500)\n",
    "    \n",
    "    if len(line) == 24:\n",
    "\n",
    "        cust_id = int(line[1].replace(' ',''))\n",
    "\n",
    "        fecha_dato = line[0][:-3]\n",
    "        \n",
    "        #get nominal features----------------------------------------------------\n",
    "        feat_inx_1 = [2,3,4,7,9,10,11,12,13,14,15,16,17,18,19,20,21,23]\n",
    "        for feat_inx in feat_inx_1:\n",
    "            line_item = line[feat_inx].replace(' ','')\n",
    "            \n",
    "            if feat_inx == 10:\n",
    "               line_item = line[feat_inx][:-3] \n",
    "            \n",
    "            if line_item in fitems_to_index_dict['f'+str(feat_inx)]:\n",
    "               feat_inx_get = fitems_to_index_dict['f'+str(feat_inx)][line_item]\n",
    "               cust_date_nominal_list_pres[feat_inx_get] = 1 \n",
    "        \n",
    "        #get real-value features------------------------------------------------\n",
    "        feat_inx_1 = [5,8,10,22]\n",
    "        for feat_inx in feat_inx_1:     \n",
    "            line_item = line[feat_inx].replace(' ','')\n",
    "            \n",
    "            if line_item != '' and line_item != 'NA':\n",
    "            \n",
    "                if feat_inx == 5:\n",
    "                   line_item = int(int(line_item)/6)\n",
    "                if feat_inx == 8:\n",
    "                   line_item = int(int(line_item)/20)\n",
    "                if feat_inx == 10:\n",
    "                   line_item = month_dict[line_item[:-3]]-month_dict[fecha_dato]\n",
    "                if feat_inx == 22:\n",
    "                   line_item = int(math.sqrt(float(line_item))/20)\n",
    "                   \n",
    "            if str(line_item) in fitems_to_index_dict_real['f'+str(feat_inx)]:        \n",
    "               feat_inx_get = fitems_to_index_dict_real['f'+str(feat_inx)][str(line_item)]\n",
    "               cust_date_real_list_pres[feat_inx_get] = 1\n",
    "            \n",
    "            \n",
    "           \n",
    "             \n",
    "         \n",
    "    elif len(line) == 25:\n",
    "        \n",
    "        cust_id = int(line[1].replace(' ',''))\n",
    "\n",
    "        fecha_dato = line[0][:-3]\n",
    "        #get nominal features----------------------------------------------------\n",
    "        feat_inx_2 = [2,3,4,7,9,10,11,12,13,14,15,16,17,18,19,20,22,24]\n",
    "        for feat_inx in feat_inx_2:\n",
    "            line_item = line[feat_inx].replace(' ','')\n",
    "            \n",
    "            if feat_inx == 10:\n",
    "               line_item = line[feat_inx][:-3] \n",
    "            \n",
    "            if feat_inx == 20:\n",
    "                \n",
    "                line_item = line[20] + '_' + line[21]\n",
    "            \n",
    "            if feat_inx < 21: \n",
    "                \n",
    "                  if line_item in fitems_to_index_dict['f'+str(feat_inx)]:\n",
    "                     feat_inx_get = fitems_to_index_dict['f'+str(feat_inx)][line_item]\n",
    "                     cust_date_nominal_list_pres[feat_inx_get] = 1              \n",
    "            else:     \n",
    "                  feat_inx_get = fitems_to_index_dict['f'+str(feat_inx-1)][line_item]\n",
    "                  cust_date_nominal_list_pres[feat_inx_get] = 1 \n",
    "    \n",
    "        #get real value features----------------------------------------------------\n",
    "        feat_inx_2 = [5,8,10,23]\n",
    "        for feat_inx in feat_inx_2:\n",
    "            \n",
    "            line_item = line[feat_inx].replace(' ','')\n",
    "            \n",
    "            #print line\n",
    "            \n",
    "            if line_item != '' and line_item != 'NA':\n",
    "                \n",
    "                #print 'f'+str(feat_inx)+'|'+line_item \n",
    "            \n",
    "                if feat_inx == 5:\n",
    "                   line_item = int(int(line_item)/6)\n",
    "                if feat_inx == 8:\n",
    "                   line_item = int(int(line_item)/20)\n",
    "                if feat_inx == 10:\n",
    "                   line_item = month_dict[line_item[:-3]]-month_dict[fecha_dato]\n",
    "                if feat_inx == 23:\n",
    "                   line_item = int(math.sqrt(float(line_item))/20)\n",
    "                   \n",
    "            if feat_inx < 21: \n",
    "                  if str(line_item) in fitems_to_index_dict_real['f'+str(feat_inx)]:        \n",
    "                     feat_inx_get = fitems_to_index_dict_real['f'+str(feat_inx)][str(line_item)]\n",
    "                     cust_date_real_list_pres[feat_inx_get] = 1 \n",
    "                    \n",
    "            else:     \n",
    "                  if str(line_item) in fitems_to_index_dict_real['f'+str(feat_inx-1)]:        \n",
    "                     feat_inx_get = fitems_to_index_dict_real['f'+str(feat_inx-1)][str(line_item)]\n",
    "                     cust_date_real_list_pres[feat_inx_get] = 1\n",
    "    \n",
    "    else:\n",
    "        \n",
    "        print line\n",
    "    \n",
    "    feature_base_1 = 1000\n",
    "    feature_base_2 = 2000   \n",
    "    feature_base_3 = 5000    \n",
    "    feature_base_4 = 8000\n",
    "    \n",
    "    \n",
    "    \n",
    "    if True:\n",
    "        \n",
    "        date1 = fecha_dato\n",
    "        date1_time = dt.datetime.strptime(date1, '%Y-%m')\n",
    "       \n",
    "        \n",
    "        if date1 == '2016-06':\n",
    "            \n",
    "           #prt_line = str(cust_id) + '|' \n",
    "           #prt_line += date1 + '|'\n",
    "        \n",
    "           prt_line = '+1 '\n",
    "            \n",
    "           # print the added product features ----------------------------------------        \n",
    "           prod_feature_items = ''  \n",
    "           if cust_id in cust_date_added_products_dict:\n",
    "                        \n",
    "              base_mut_inx = 0  \n",
    "              for month_inx in range(2,6):\n",
    "                \n",
    "                  date2 = '2016-0' + str(month_inx)\n",
    "                \n",
    "                  if date2 in cust_date_added_products_dict[cust_id]:   \n",
    "\n",
    "                     for inx_item in list(np.where(cust_date_added_products_dict[cust_id][date2] == 1))[0]:\n",
    "\n",
    "                         prod_feature_items += str(feature_base_1 + base_mut_inx*60 + inx_item) + ':1 '\n",
    "\n",
    "                  base_mut_inx += 1\n",
    "                \n",
    "                \n",
    "              if len(prod_feature_items) > 0:\n",
    "                     prt_line += prod_feature_items\n",
    "                   \n",
    "                    \n",
    "           # print the product features ----------------------------------------    \n",
    "           prod_feature_items = ''    \n",
    "           if cust_id in cust_date_products_dict:\n",
    "              \n",
    "              \n",
    "              base_mut_inx = 0  \n",
    "              for month_inx in range(2,6):\n",
    "                \n",
    "                  date2 = '2016-0' + str(month_inx)\n",
    "                    \n",
    "                  if date2 in cust_date_products_dict[cust_id]:   \n",
    "\n",
    "                     for inx_item in list(np.where(cust_date_products_dict[cust_id][date2] == 1))[0]:\n",
    "\n",
    "                         prod_feature_items += str(feature_base_2 + base_mut_inx*60 + inx_item) + ':1 '\n",
    "                        \n",
    "                  base_mut_inx += 1      \n",
    "\n",
    "              if len(prod_feature_items) > 0:\n",
    "                    prt_line += prod_feature_items\n",
    "              \n",
    "                    \n",
    "              \n",
    "           # print the nominal features ----------------------------------------     \n",
    "           nominal_feature_items = ''                 \n",
    "           if True:\n",
    "                 for inx_item in list(np.where(cust_date_nominal_list_pres == 1))[0]:\n",
    "\n",
    "                     nominal_feature_items += str(feature_base_3+inx_item) + ':1 '\n",
    "                        \n",
    "           if len(nominal_feature_items) > 0:\n",
    "              prt_line += nominal_feature_items  \n",
    "                \n",
    "           # print the realvalue features ----------------------------------------     \n",
    "           realvalue_feature_items = ''                 \n",
    "           if True:\n",
    "                 for inx_item in list(np.where(cust_date_real_list_pres == 1))[0]:\n",
    "\n",
    "                     realvalue_feature_items += str(feature_base_4+inx_item) + ':1 '\n",
    "                        \n",
    "           if len(realvalue_feature_items) > 0:\n",
    "              prt_line += realvalue_feature_items[:-1]        \n",
    "                        \n",
    "           test_write.write(prt_line+'\\n')    \n",
    "    \n",
    "    \n",
    "print line_count    \n",
    "test_read.close()\n",
    "test_write.close()"
   ]
  },
  {
   "cell_type": "code",
   "execution_count": 11,
   "metadata": {
    "collapsed": false
   },
   "outputs": [
    {
     "name": "stdout",
     "output_type": "stream",
     "text": [
      "12690664\n"
     ]
    }
   ],
   "source": []
  },
  {
   "cell_type": "code",
   "execution_count": null,
   "metadata": {
    "collapsed": true
   },
   "outputs": [],
   "source": [
    "print pos_case_dict\n",
    "print neg_case_dict"
   ]
  }
 ],
 "metadata": {
  "kernelspec": {
   "display_name": "Python 2",
   "language": "python",
   "name": "python2"
  },
  "language_info": {
   "codemirror_mode": {
    "name": "ipython",
    "version": 2
   },
   "file_extension": ".py",
   "mimetype": "text/x-python",
   "name": "python",
   "nbconvert_exporter": "python",
   "pygments_lexer": "ipython2",
   "version": "2.7.5"
  }
 },
 "nbformat": 4,
 "nbformat_minor": 0
}
