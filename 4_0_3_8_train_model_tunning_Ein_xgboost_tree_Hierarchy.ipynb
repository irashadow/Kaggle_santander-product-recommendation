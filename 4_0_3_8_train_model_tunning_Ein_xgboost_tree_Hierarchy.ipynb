{
 "cells": [
  {
   "cell_type": "code",
   "execution_count": 2,
   "metadata": {
    "collapsed": false
   },
   "outputs": [],
   "source": [
    "import os\n",
    "import csv\n",
    "import sys\n",
    "import random\n",
    "import scipy\n",
    "import numpy as np\n",
    "import xgboost as xgb\n",
    "# read in data\n",
    "\n",
    "\n",
    "workspace_path = '/home/irashadow/python_workspace/Kaggle_Comp/Santander/'\n",
    "month_dict_inv = dict()\n",
    "month_dict_inv[0] = '2015-01'\n",
    "month_dict_inv[1] = '2015-02'\n",
    "month_dict_inv[2] = '2015-03'\n",
    "month_dict_inv[3] = '2015-04'\n",
    "month_dict_inv[4] = '2015-05'\n",
    "month_dict_inv[5] = '2015-06'\n",
    "month_dict_inv[6] = '2015-07'\n",
    "month_dict_inv[7] = '2015-08'\n",
    "month_dict_inv[8] = '2015-09'\n",
    "month_dict_inv[9] = '2015-10'\n",
    "month_dict_inv[10] = '2015-11'\n",
    "month_dict_inv[11] = '2015-12'\n",
    "month_dict_inv[12] = '2016-01'\n",
    "month_dict_inv[13] = '2016-02'\n",
    "month_dict_inv[14] = '2016-03'\n",
    "month_dict_inv[15] = '2016-04'\n",
    "month_dict_inv[16] = '2016-05'\n",
    "month_dict_inv[17] = '2016-06'\n",
    "label_dict = dict()\n",
    "label_dict[1] = 'ind_ahor_fin_ult1'\n",
    "label_dict[2] = 'ind_aval_fin_ult1'\n",
    "label_dict[3] = 'ind_cco_fin_ult1'\n",
    "label_dict[4] = 'ind_cder_fin_ult1'\n",
    "label_dict[5] = 'ind_cno_fin_ult1'\n",
    "label_dict[6] = 'ind_ctju_fin_ult1'\n",
    "label_dict[7] = 'ind_ctma_fin_ult1'\n",
    "label_dict[8] = 'ind_ctop_fin_ult1'\n",
    "label_dict[9] = 'ind_ctpp_fin_ult1'\n",
    "label_dict[10] = 'ind_deco_fin_ult1'\n",
    "label_dict[11] = 'ind_deme_fin_ult1'\n",
    "label_dict[12] = 'ind_dela_fin_ult1'\n",
    "label_dict[13] = 'ind_ecue_fin_ult1'\n",
    "label_dict[14] = 'ind_fond_fin_ult1'\n",
    "label_dict[15] = 'ind_hip_fin_ult1'\n",
    "label_dict[16] = 'ind_plan_fin_ult1'\n",
    "label_dict[17] = 'ind_pres_fin_ult1'\n",
    "label_dict[18] = 'ind_reca_fin_ult1'\n",
    "label_dict[19] = 'ind_tjcr_fin_ult1'\n",
    "label_dict[20] = 'ind_valo_fin_ult1'\n",
    "label_dict[21] = 'ind_viv_fin_ult1'\n",
    "label_dict[22] = 'ind_nomina_ult1'\n",
    "label_dict[23] = 'ind_nom_pens_ult1'\n",
    "label_dict[24] = 'ind_recibo_ult1'"
   ]
  },
  {
   "cell_type": "code",
   "execution_count": 3,
   "metadata": {
    "collapsed": false
   },
   "outputs": [],
   "source": [
    "test_data_path = './test/5_4_cust_date_prod_L4_standard.test'\n",
    "#test_data_path = './test/5_5_cust_date_prod_L4_expand.test'\n",
    "\n",
    "dtest = xgb.DMatrix(test_data_path)"
   ]
  },
  {
   "cell_type": "code",
   "execution_count": 30,
   "metadata": {
    "collapsed": false
   },
   "outputs": [
    {
     "name": "stdout",
     "output_type": "stream",
     "text": [
      "model#1 positive rate:0.11\n",
      "model#2 positive rate:0.11\n",
      "model#3 positive rate:0.31\n",
      "model#4 positive rate:0.11\n",
      "model#5 positive rate:0.20\n",
      "model#6 positive rate:0.11\n",
      "model#7 positive rate:0.11\n",
      "model#8 positive rate:0.12\n",
      "model#9 positive rate:0.11\n",
      "model#10 positive rate:0.11\n",
      "model#11 positive rate:0.11\n",
      "model#12 positive rate:0.14\n",
      "model#13 positive rate:0.27\n",
      "model#14 positive rate:0.11\n",
      "model#15 positive rate:0.11\n",
      "model#16 positive rate:0.11\n",
      "model#17 positive rate:0.11\n",
      "model#18 positive rate:0.29\n",
      "model#19 positive rate:0.17\n",
      "model#20 positive rate:0.15\n",
      "model#21 positive rate:0.11\n",
      "model#22 positive rate:0.19\n",
      "model#23 positive rate:0.19\n",
      "model#24 positive rate:0.38\n"
     ]
    }
   ],
   "source": [
    "cust_2_labels_dict = dict()\n",
    "\n",
    "pos_case_dict = dict()\n",
    "neg_case_dict = dict()\n",
    "\n",
    "check_line_count = 0   \n",
    "#data 5[2016June] for model #18\n",
    "#data 16[2016May] for model #13\n",
    "#data 12[2016Jan] for model #20\n",
    "#data 11[2015Dec] for model #3\n",
    "#data 9[2015Oct] for model #3\n",
    "#----------------------------------\n",
    "#try data 12[2016Jan] for model #5\n",
    "#----------------------------------\n",
    "\n",
    "preds = np.zeros((929615,1))\n",
    "#for model_index_major in [3,5,13]:\n",
    "for model_index_major in range(1,25):\n",
    "    \n",
    "    train_data_path = './train/model_hierarchy/cust_product_'+str(model_index_major)+'.train'\n",
    "\n",
    "    dtrain = xgb.DMatrix(train_data_path)\n",
    "\n",
    "    # specify parameters via map\n",
    "    param ={\"objective\" : \"multi:softprob\",    # multiclass classification \n",
    "                  \"num_class\" : 2,    # number of classes \n",
    "                  \"eval_metric\" : \"mlogloss\",    # evaluation metric \n",
    "                  \"nthread\" : 6,   # number of threads to be used \n",
    "                  \"max_depth\" : 14,    # maximum depth of tree \n",
    "                  \"eta\" : 0.03,    # step size shrinkage \n",
    "                  \"subsample\" : 0.7,    # part of data instances to grow tree \n",
    "                  \"colsample_bytree\" : 0.7  # subsample ratio of columns when constructing each tree \n",
    "           }\n",
    "\n",
    "    num_round = 50\n",
    "    bst = xgb.train(param, dtrain, num_round)\n",
    "    # make prediction\n",
    "    \n",
    "    preds_temp = bst.predict(dtest)\n",
    "    \n",
    "    preds = np.c_[preds,preds_temp[:,1]]\n",
    "    \n",
    "    print 'model#' +str(model_index_major)+\" positive rate:%.2f\"%(np.mean(preds_temp[:,1]))\n",
    "\n",
    "    \n",
    "    "
   ]
  },
  {
   "cell_type": "code",
   "execution_count": 31,
   "metadata": {
    "collapsed": false
   },
   "outputs": [
    {
     "name": "stdout",
     "output_type": "stream",
     "text": [
      "(929615, 25)\n"
     ]
    }
   ],
   "source": [
    "print preds.shape"
   ]
  },
  {
   "cell_type": "code",
   "execution_count": 36,
   "metadata": {
    "collapsed": false
   },
   "outputs": [],
   "source": [
    "#hierarchy assign the labels for #3 and #24\n",
    "\n",
    "for i in [3,24]:\n",
    "    \n",
    "    for j in range(0,preds.shape[0]):\n",
    "       \n",
    "        \n",
    "       if i == 3: \n",
    "          if preds[j,i] > 0.49:\n",
    "             preds[j,i] = 2.0 \n",
    "       if i == 24:\n",
    "          if preds[j,i] > 0.49:\n",
    "             preds[j,i] = 1.5 \n",
    "        \n",
    "            \n",
    "            \n",
    "    "
   ]
  },
  {
   "cell_type": "code",
   "execution_count": null,
   "metadata": {
    "collapsed": true
   },
   "outputs": [],
   "source": []
  },
  {
   "cell_type": "code",
   "execution_count": 37,
   "metadata": {
    "collapsed": false
   },
   "outputs": [
    {
     "name": "stdout",
     "output_type": "stream",
     "text": [
      "(929615, 25)\n",
      "(929615, 15)\n"
     ]
    }
   ],
   "source": [
    "preds_sort = np.argsort(preds, axis=1)\n",
    "print preds_sort.shape\n",
    "preds_top7 = np.fliplr(preds_sort)[:,:15]\n",
    "print preds_top7.shape\n",
    "\n",
    "label_submit_dict = dict()\n",
    "for i in range(0,preds_sort.shape[0]):\n",
    "#for i in range(0,100):\n",
    "    \n",
    "    top_product = preds_top7[i,0]\n",
    "    \n",
    "    if top_product not in label_submit_dict:\n",
    "       label_submit_dict[top_product]  = 1\n",
    "    else:\n",
    "       label_submit_dict[top_product]  += 1\n",
    "\n",
    "    "
   ]
  },
  {
   "cell_type": "code",
   "execution_count": 38,
   "metadata": {
    "collapsed": false
   },
   "outputs": [
    {
     "name": "stdout",
     "output_type": "stream",
     "text": [
      "submission distribution\n",
      "label #3 :32.85\n",
      "label #4 :0.00\n",
      "label #5 :1.30\n",
      "label #6 :0.72\n",
      "label #7 :0.03\n",
      "label #8 :0.08\n",
      "label #9 :0.02\n",
      "label #10 :0.00\n",
      "label #12 :0.14\n",
      "label #13 :5.80\n",
      "label #14 :0.01\n",
      "label #16 :0.00\n",
      "label #17 :0.00\n",
      "label #18 :9.30\n",
      "label #19 :2.94\n",
      "label #20 :0.44\n",
      "label #21 :0.00\n",
      "label #22 :1.43\n",
      "label #23 :2.76\n",
      "label #24 :42.17\n"
     ]
    }
   ],
   "source": [
    "print 'submission distribution'\n",
    "\n",
    "for item in label_submit_dict:\n",
    "    \n",
    "    print 'label #' + str(item) + ' :%.2f'%(label_submit_dict[item]/float(preds_sort.shape[0])*100.0) \n",
    "    #print 'label #' + str(item)\n"
   ]
  },
  {
   "cell_type": "code",
   "execution_count": 39,
   "metadata": {
    "collapsed": false
   },
   "outputs": [
    {
     "name": "stdout",
     "output_type": "stream",
     "text": [
      "929615\n"
     ]
    }
   ],
   "source": [
    "Eout_write = open('./output/TheLastFourRecord_pred_Dec16_xgb.eout', 'w')  \n",
    "\n",
    "feat_data_path = workspace_path + '/input/test_ver2.csv'\n",
    "\n",
    "test_read = open(feat_data_path, 'r')\n",
    "headline = test_read.readline().strip()\n",
    "\n",
    "line_count = 0\n",
    "for line in test_read:\n",
    "    \n",
    "    line = line.strip().split(',')\n",
    "    cust_id = int(line[1].replace(' ',''))\n",
    "    \n",
    "    prt_line_temp = ''\n",
    "    \n",
    "    for i in range(0,13):\n",
    "        \n",
    "        product_index = preds_top7[line_count,i]\n",
    "        \n",
    "        prt_line_temp += label_dict[product_index] + ' '\n",
    "        \n",
    "    prt_line_temp = prt_line_temp[:-1]    \n",
    "    \n",
    "    \n",
    "    prt_line = str(cust_id) + '|' + prt_line_temp + '\\n'\n",
    "    \n",
    "    \n",
    "    line_count += 1\n",
    "    \n",
    "    Eout_write.write(prt_line)\n",
    "   \n",
    "print line_count \n",
    "Eout_write.close()\n",
    "    "
   ]
  },
  {
   "cell_type": "code",
   "execution_count": 12,
   "metadata": {
    "collapsed": false
   },
   "outputs": [
    {
     "name": "stdout",
     "output_type": "stream",
     "text": [
      "929615\n"
     ]
    }
   ],
   "source": [
    "if False:   \n",
    "    Eout_write = open('./output/TheLastFourRecord_pred_xgb_Dec15_m18.eout', 'w')  \n",
    "\n",
    "    feat_data_path = workspace_path + '/input/test_ver2.csv'\n",
    "\n",
    "    test_read = open(feat_data_path, 'r')\n",
    "    headline = test_read.readline().strip()\n",
    "\n",
    "    line_count = 0\n",
    "    for line in test_read:\n",
    "\n",
    "        line = line.strip().split(',')\n",
    "        cust_id = int(line[1].replace(' ',''))\n",
    "\n",
    "        prt_line_temp = ''\n",
    "\n",
    "        for i in range(0,1):\n",
    "\n",
    "            product_index = preds_top7[line_count,i]\n",
    "\n",
    "            #test #3 and #24 aauracy..\n",
    "\n",
    "            if product_index == 18:\n",
    "\n",
    "               prt_line_temp += label_dict[product_index] + ' '\n",
    "\n",
    "        if len(prt_line_temp) > 0:\n",
    "           prt_line_temp = prt_line_temp[:-1]    \n",
    "\n",
    "\n",
    "        prt_line = str(cust_id) + '|' + prt_line_temp + '\\n'\n",
    "\n",
    "\n",
    "        line_count += 1\n",
    "\n",
    "        Eout_write.write(prt_line)\n",
    "\n",
    "    print line_count \n",
    "    Eout_write.close()\n",
    "        "
   ]
  },
  {
   "cell_type": "code",
   "execution_count": 28,
   "metadata": {
    "collapsed": false
   },
   "outputs": [
    {
     "name": "stdout",
     "output_type": "stream",
     "text": [
      "956645\n"
     ]
    }
   ],
   "source": [
    "dict_read = open(workspace_path + '/dict/cust_last_prods.txt', 'r')\n",
    "\n",
    "cust_end_products_dict = dict()\n",
    "\n",
    "line_count = 0\n",
    "for line in dict_read:  \n",
    "    line = line.strip()\n",
    "    \n",
    "    line_count += 1\n",
    "    \n",
    "    cust_id = int(line.split('|')[0])\n",
    "    last_prod_date = line.split('|')[1]\n",
    "    label_tokens_get = line.split('|')[2]\n",
    "\n",
    "    \n",
    "    if cust_id not in cust_end_products_dict:\n",
    "       cust_end_products_dict[cust_id] = [] \n",
    "    \n",
    "    if len(label_tokens_get) > 0 and last_prod_date == '2016-05': \n",
    "    \n",
    "        for feat_item in label_tokens_get.split(','):\n",
    "            \n",
    "            prod_id = int(feat_item)\n",
    "            cust_end_products_dict[cust_id].append(label_dict[prod_id])\n",
    "        \n",
    "print line_count \n",
    "dict_read.close()"
   ]
  },
  {
   "cell_type": "code",
   "execution_count": 40,
   "metadata": {
    "collapsed": false
   },
   "outputs": [
    {
     "name": "stdout",
     "output_type": "stream",
     "text": [
      "929615\n",
      "411295\n"
     ]
    }
   ],
   "source": [
    "Eout_dict_read = open('./output/TheLastFourRecord_pred_Dec16_xgb.eout', 'r')\n",
    "#Eout_dict_read = open('./output/TheLastFourRecord_pred_xgb_Dec15_m18.eout', 'r')\n",
    "\n",
    "id_2_prod_dict = dict()\n",
    "\n",
    "for line in Eout_dict_read:\n",
    "    line = line.strip()\n",
    "    \n",
    "    if len(line.split('|')) != 2:\n",
    "       print 'error_line:'+line\n",
    "    else:\n",
    "       cust_id  = int(line.split('|')[0])\n",
    "       products = line.split('|')[1]\n",
    "        \n",
    "       id_2_prod_dict[cust_id] = products \n",
    "\n",
    "    \n",
    "sample_submission_read = open('./output/sample_submission.csv', 'r')\n",
    "\n",
    "head_line = 'ncodpers,added_products' + '\\n'\n",
    "submission_write = open('./output/submission_Dec16-2.csv', 'w')  \n",
    "submission_write.write(head_line)\n",
    "\n",
    "check_line_count = 0\n",
    "\n",
    "duplicated_items_count = 0\n",
    "#for i in range(0,10000):    \n",
    "    #line = sample_submission_read.readline().strip()\n",
    "    \n",
    "for line in sample_submission_read:\n",
    "    line = line.strip()    \n",
    "    \n",
    "    if 'ncodpers' not in line:\n",
    "    \n",
    "        cust_id  = int(line.split(',')[0])\n",
    "\n",
    "        prt_line = str(cust_id) + ','\n",
    "        \n",
    "        pruned_line = False\n",
    "        \n",
    "        added_items_count = 0\n",
    "\n",
    "        if cust_id in id_2_prod_dict:\n",
    "            \n",
    "           \n",
    "           #print cust_end_products_dict[cust_id]\n",
    "           #print 'predict:'+ str(id_2_prod_dict[cust_id])  \n",
    "           \n",
    "           for prod_name_item in id_2_prod_dict[cust_id].split(' '):\n",
    "            \n",
    "               \n",
    "               if cust_id in cust_end_products_dict:\n",
    "                   if prod_name_item not in cust_end_products_dict[cust_id]:\n",
    "                        \n",
    "                         if added_items_count < 7:\n",
    "                            \n",
    "                            prt_line += prod_name_item + ' '\n",
    "                        \n",
    "                            added_items_count += 1\n",
    "\n",
    "                            pruned_line = True\n",
    "\n",
    "                   else: \n",
    "\n",
    "                     #print '->' + prod_name_item    \n",
    "\n",
    "                        duplicated_items_count += 1\n",
    "\n",
    "        check_line_count += 1\n",
    "        \n",
    "        if pruned_line:\n",
    "           submission_write.write(prt_line[:-1]+'\\n')\n",
    "        else:\n",
    "           submission_write.write(prt_line+'\\n')  \n",
    "\n",
    "print check_line_count \n",
    "print duplicated_items_count\n",
    "    \n",
    "submission_write.close() \n",
    "sample_submission_read.close() \n",
    "Eout_dict_read.close() "
   ]
  },
  {
   "cell_type": "code",
   "execution_count": null,
   "metadata": {
    "collapsed": true
   },
   "outputs": [],
   "source": []
  }
 ],
 "metadata": {
  "kernelspec": {
   "display_name": "Python 2",
   "language": "python",
   "name": "python2"
  },
  "language_info": {
   "codemirror_mode": {
    "name": "ipython",
    "version": 2
   },
   "file_extension": ".py",
   "mimetype": "text/x-python",
   "name": "python",
   "nbconvert_exporter": "python",
   "pygments_lexer": "ipython2",
   "version": "2.7.5"
  }
 },
 "nbformat": 4,
 "nbformat_minor": 0
}
