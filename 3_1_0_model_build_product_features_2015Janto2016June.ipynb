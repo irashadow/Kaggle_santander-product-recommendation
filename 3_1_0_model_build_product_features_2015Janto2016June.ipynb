{
 "cells": [
  {
   "cell_type": "code",
   "execution_count": 7,
   "metadata": {
    "collapsed": true
   },
   "outputs": [],
   "source": [
    "import os\n",
    "import csv\n",
    "import sys\n",
    "import random\n",
    "import scipy\n",
    "import numpy as np\n",
    "\n",
    "\n",
    "workspace_path = '/home/irashadow/python_workspace/Kaggle_Comp/Santander/'\n",
    "\n",
    "\n",
    "#print cust_dict_tr\n",
    "\n",
    "base_num = 60\n",
    "\n",
    "#features_count = 16 * (30(pos) + 30(neg))\n",
    "features_count = (16+1) * base_num"
   ]
  },
  {
   "cell_type": "code",
   "execution_count": 10,
   "metadata": {
    "collapsed": false
   },
   "outputs": [
    {
     "name": "stdout",
     "output_type": "stream",
     "text": [
      "895614\n"
     ]
    }
   ],
   "source": [
    "feat_read = open(workspace_path + '/feat/1_cust_product.feat', 'r')\n",
    "\n",
    "pos_case_dict = dict()\n",
    "neg_case_dict = dict()\n",
    "\n",
    "for i in range(1,25): pos_case_dict[i] = 0 \n",
    "for i in range(1,25): neg_case_dict[i] = 0     \n",
    "\n",
    "train_write_set = [open(workspace_path + '/train/model_pf01/cust_product_1.train', 'w')]\n",
    "for i in range(2,25):\n",
    "    train_write_set.append(open(workspace_path + '/train/model_pf01/cust_product_'+str(i)+'.train', 'w'))\n",
    "\n",
    "check_line_count = 0\n",
    "\n",
    "\n",
    "for line in feat_read:\n",
    "    line = line.strip()\n",
    "    \n",
    "\n",
    "#for i in range(0,100000):\n",
    "    \n",
    "    #line = feat_read.readline().strip()\n",
    "    \n",
    "    check_line_count += 1\n",
    "    \n",
    "    cust_id = line.split('|')[0]\n",
    "    feat_items = line.split('|')[1]\n",
    "    \n",
    "    get_label = np.zeros(60)\n",
    "    \n",
    "    isPrint = False\n",
    "    \n",
    "    feats_line_save = ''\n",
    "    \n",
    "    if len(feat_items) > 0: \n",
    "    \n",
    "        for feat_item in feat_items.split(' '):\n",
    "\n",
    "            \n",
    "            feat_inx = int(feat_item.split(':')[0])\n",
    "            \n",
    "            if feat_inx < 960:\n",
    "                \n",
    "               feats_line_save += feat_item + ' ' \n",
    "\n",
    "            else:\n",
    "                \n",
    "               #feats_line_save += feat_item + ' '  \n",
    "\n",
    "               isPrint = True\n",
    "\n",
    "               prod_id = feat_inx - 960\n",
    "                \n",
    "               #print prod_id \n",
    "\n",
    "               get_label[prod_id] = 1\n",
    "            \n",
    "    if isPrint:\n",
    "        \n",
    "       for j in range(1,25):\n",
    "         \n",
    "           if get_label[j] == 1 and len(feats_line_save[:-1]) > 0:\n",
    "    \n",
    "              print>>train_write_set[j-1], '+1' + ' ' + feats_line_save[:-1]\n",
    "              pos_case_dict[j] += 1 \n",
    "        \n",
    "           elif get_label[j] == 0 and len(feats_line_save[:-1]) > 0:\n",
    "                \n",
    "              print>>train_write_set[j-1], '-1' + ' ' + feats_line_save[:-1]  \n",
    "              neg_case_dict[j] += 1 \n",
    "        \n",
    "        \n",
    "\n",
    "    \n",
    "    #print>>feat_write,prt_line \n",
    "    \n",
    "print check_line_count    "
   ]
  },
  {
   "cell_type": "code",
   "execution_count": 12,
   "metadata": {
    "collapsed": false
   },
   "outputs": [
    {
     "name": "stdout",
     "output_type": "stream",
     "text": [
      "{1: 3, 2: 0, 3: 12928, 4: 17, 5: 5142, 6: 303, 7: 563, 8: 2716, 9: 1148, 10: 10, 11: 25, 12: 965, 13: 4975, 14: 516, 15: 168, 16: 227, 17: 106, 18: 1978, 19: 5348, 20: 897, 21: 105, 22: 7114, 23: 7302, 24: 0}\n",
      "{1: 59672, 2: 59675, 3: 46747, 4: 59658, 5: 54533, 6: 59372, 7: 59112, 8: 56959, 9: 58527, 10: 59665, 11: 59650, 12: 58710, 13: 54700, 14: 59159, 15: 59507, 16: 59448, 17: 59569, 18: 57697, 19: 54327, 20: 58778, 21: 59570, 22: 52561, 23: 52373, 24: 59675}\n"
     ]
    }
   ],
   "source": [
    "print pos_case_dict\n",
    "print neg_case_dict"
   ]
  },
  {
   "cell_type": "code",
   "execution_count": 16,
   "metadata": {
    "collapsed": false
   },
   "outputs": [
    {
     "data": {
      "text/plain": [
       "0.9103812316715543"
      ]
     },
     "execution_count": 16,
     "metadata": {},
     "output_type": "execute_result"
    }
   ],
   "source": [
    "1.0-5348/(5348.0+54327.0)"
   ]
  },
  {
   "cell_type": "code",
   "execution_count": 7,
   "metadata": {
    "collapsed": true
   },
   "outputs": [],
   "source": [
    "feat_temp = np.zeros(60)"
   ]
  },
  {
   "cell_type": "code",
   "execution_count": 26,
   "metadata": {
    "collapsed": false
   },
   "outputs": [
    {
     "name": "stdout",
     "output_type": "stream",
     "text": [
      "60\n"
     ]
    }
   ],
   "source": [
    "print len(feat_temp)\n"
   ]
  },
  {
   "cell_type": "code",
   "execution_count": 56,
   "metadata": {
    "collapsed": false
   },
   "outputs": [],
   "source": [
    "feat_temp[1:10] = 1\n",
    "feat_temp[1:20] = 1\n",
    "temp_inx = list(np.where(feat_temp == 1))"
   ]
  },
  {
   "cell_type": "code",
   "execution_count": 57,
   "metadata": {
    "collapsed": false
   },
   "outputs": [
    {
     "data": {
      "text/plain": [
       "(1, 19)"
      ]
     },
     "execution_count": 57,
     "metadata": {},
     "output_type": "execute_result"
    }
   ],
   "source": [
    "np.shape(temp_inx)"
   ]
  },
  {
   "cell_type": "code",
   "execution_count": 58,
   "metadata": {
    "collapsed": false
   },
   "outputs": [
    {
     "name": "stdout",
     "output_type": "stream",
     "text": [
      "<type 'list'>\n"
     ]
    }
   ],
   "source": [
    "print type(temp_inx)"
   ]
  },
  {
   "cell_type": "code",
   "execution_count": 60,
   "metadata": {
    "collapsed": false
   },
   "outputs": [
    {
     "name": "stdout",
     "output_type": "stream",
     "text": [
      "[array([ 1,  2,  3,  4,  5,  6,  7,  8,  9, 10, 11, 12, 13, 14, 15, 16, 17,\n",
      "       18, 19])]\n"
     ]
    }
   ],
   "source": [
    "print temp_inx"
   ]
  },
  {
   "cell_type": "code",
   "execution_count": 64,
   "metadata": {
    "collapsed": false
   },
   "outputs": [
    {
     "name": "stdout",
     "output_type": "stream",
     "text": [
      "1\n",
      "2\n",
      "3\n",
      "4\n",
      "5\n",
      "6\n",
      "7\n",
      "8\n",
      "9\n",
      "10\n",
      "11\n",
      "12\n",
      "13\n",
      "14\n",
      "15\n",
      "16\n",
      "17\n",
      "18\n",
      "19\n"
     ]
    }
   ],
   "source": [
    "for item in temp_inx[0]:\n",
    "    \n",
    "    print item"
   ]
  },
  {
   "cell_type": "code",
   "execution_count": 1,
   "metadata": {
    "collapsed": false
   },
   "outputs": [
    {
     "data": {
      "text/plain": [
       "1020"
      ]
     },
     "execution_count": 1,
     "metadata": {},
     "output_type": "execute_result"
    }
   ],
   "source": [
    "17*60"
   ]
  },
  {
   "cell_type": "code",
   "execution_count": 6,
   "metadata": {
    "collapsed": false
   },
   "outputs": [
    {
     "name": "stdout",
     "output_type": "stream",
     "text": [
      "{1: 0, 2: 0, 3: 0, 4: 0, 5: 0, 6: 0, 7: 0, 8: 0, 9: 0, 10: 0, 11: 0, 12: 0, 13: 0, 14: 0, 15: 0, 16: 0, 17: 0, 18: 0, 19: 0, 20: 0, 21: 0, 22: 0, 23: 0, 24: 0}\n"
     ]
    }
   ],
   "source": [
    "pos_case_dict = dict()\n",
    "neg_case_dict = dict()\n",
    "\n",
    "\n",
    "\n",
    "    \n",
    "print pos_case_dict\n"
   ]
  },
  {
   "cell_type": "code",
   "execution_count": null,
   "metadata": {
    "collapsed": true
   },
   "outputs": [],
   "source": []
  }
 ],
 "metadata": {
  "kernelspec": {
   "display_name": "Python 2",
   "language": "python",
   "name": "python2"
  },
  "language_info": {
   "codemirror_mode": {
    "name": "ipython",
    "version": 2
   },
   "file_extension": ".py",
   "mimetype": "text/x-python",
   "name": "python",
   "nbconvert_exporter": "python",
   "pygments_lexer": "ipython2",
   "version": "2.7.5"
  }
 },
 "nbformat": 4,
 "nbformat_minor": 0
}
