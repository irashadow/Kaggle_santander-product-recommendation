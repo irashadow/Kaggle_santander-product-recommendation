{
 "cells": [
  {
   "cell_type": "code",
   "execution_count": 1,
   "metadata": {
    "collapsed": false
   },
   "outputs": [
    {
     "name": "stderr",
     "output_type": "stream",
     "text": [
      "/home/irashadow/env_TensorFlow/lib/python2.7/site-packages/ipykernel/__main__.py:7: DeprecationWarning: the sets module is deprecated\n"
     ]
    }
   ],
   "source": [
    "import os\n",
    "import csv\n",
    "import sys\n",
    "import random\n",
    "import scipy\n",
    "import numpy as np\n",
    "from sets import Set\n",
    "\n",
    "\n",
    "workspace_path = '/home/irashadow/python_workspace/Kaggle_Comp/Santander/'"
   ]
  },
  {
   "cell_type": "code",
   "execution_count": 2,
   "metadata": {
    "collapsed": false
   },
   "outputs": [],
   "source": [
    "month_dict = dict()\n",
    "month_dict['2015-01'] = 0\n",
    "month_dict['2015-02'] = 1\n",
    "month_dict['2015-03'] = 2\n",
    "month_dict['2015-04'] = 3\n",
    "month_dict['2015-05'] = 4\n",
    "month_dict['2015-06'] = 5\n",
    "month_dict['2015-07'] = 6\n",
    "month_dict['2015-08'] = 7\n",
    "month_dict['2015-09'] = 8\n",
    "month_dict['2015-10'] = 9\n",
    "month_dict['2015-11'] = 10\n",
    "month_dict['2015-12'] = 11\n",
    "month_dict['2016-01'] = 12\n",
    "month_dict['2016-02'] = 13\n",
    "month_dict['2016-03'] = 14\n",
    "month_dict['2016-04'] = 15\n",
    "month_dict['2016-05'] = 16\n",
    "month_dict_inv = dict()\n",
    "month_dict_inv[0] = '2015-01'\n",
    "month_dict_inv[1] = '2015-02'\n",
    "month_dict_inv[2] = '2015-03'\n",
    "month_dict_inv[3] = '2015-04'\n",
    "month_dict_inv[4] = '2015-05'\n",
    "month_dict_inv[5] = '2015-06'\n",
    "month_dict_inv[6] = '2015-07'\n",
    "month_dict_inv[7] = '2015-08'\n",
    "month_dict_inv[8] = '2015-09'\n",
    "month_dict_inv[9] = '2015-10'\n",
    "month_dict_inv[10] = '2015-11'\n",
    "month_dict_inv[11] = '2015-12'\n",
    "month_dict_inv[12] = '2016-01'\n",
    "month_dict_inv[13] = '2016-02'\n",
    "month_dict_inv[14] = '2016-03'\n",
    "month_dict_inv[15] = '2016-04'\n",
    "month_dict_inv[16] = '2016-05'\n"
   ]
  },
  {
   "cell_type": "code",
   "execution_count": 3,
   "metadata": {
    "collapsed": false
   },
   "outputs": [
    {
     "name": "stdout",
     "output_type": "stream",
     "text": [
      "895614\n"
     ]
    }
   ],
   "source": [
    "# loading products item as features and labels\n",
    "\n",
    "dict_read = open(workspace_path + '/dict/cust_product.csv', 'r')\n",
    "\n",
    "cust_date_products_dict = dict()\n",
    "line_count = 0\n",
    "\n",
    "#for i in range(0,100):\n",
    "    #line = dict_read.readline().strip()\n",
    "    \n",
    "\n",
    "for line in dict_read:\n",
    "    line = line.strip()\n",
    "    \n",
    "    line_count += 1\n",
    "    \n",
    "    cust_id = line.split(':')[0]\n",
    "    \n",
    "    cust_items = line.split(':')[1]\n",
    "    \n",
    "    if cust_id not in cust_date_products_dict:\n",
    "        \n",
    "       cust_date_products_dict[cust_id] = dict() \n",
    "    \n",
    "    for prod_item in cust_items.split(';'):\n",
    "        \n",
    "        if len(prod_item.split('|')) == 2:   \n",
    "        \n",
    "            date_item = prod_item.split('|')[0][:-3]\n",
    "            pres_items_get = prod_item.split('|')[1]\n",
    "            cust_date_products_dict[cust_id][date_item] = np.zeros(30)   \n",
    "            \n",
    "            for feat_item in pres_items_get.split(','):\n",
    "                \n",
    "                if len(feat_item) > 0:\n",
    "                   feat_inx_temp = int(feat_item.split(':')[0])\n",
    "                   cust_date_products_dict[cust_id][date_item][feat_inx_temp] = 1\n",
    "            \n",
    "        else:\n",
    "            \n",
    "            print line\n",
    "            print prod_item\n",
    "        \n",
    "        \n",
    "    \n",
    "print line_count \n",
    "dict_read.close() "
   ]
  },
  {
   "cell_type": "code",
   "execution_count": 4,
   "metadata": {
    "collapsed": false
   },
   "outputs": [
    {
     "name": "stdout",
     "output_type": "stream",
     "text": [
      "13647309\n"
     ]
    }
   ],
   "source": [
    "#print cust_date_products_dict\n",
    "feat_read = open(workspace_path + '/feat/3_cust_nominal.feat', 'r')\n",
    "\n",
    "cust_date_nominal_dict = dict()\n",
    "line_count = 0\n",
    "\n",
    "\n",
    "line_count = 0\n",
    "#for i in range(0,1000):\n",
    "    #line = feat_read.readline().strip()\n",
    "for line in feat_read:\n",
    "    line = line.strip()\n",
    "    \n",
    "    line_count += 1\n",
    "\n",
    "\n",
    "    cust_id = line.split('|')[0]\n",
    "    item_date = line.split('|')[1]\n",
    "    features = line.split('|')[2]\n",
    "\n",
    "    if cust_id not in cust_date_nominal_dict:\n",
    "       \n",
    "       cust_date_nominal_dict[cust_id] = dict() \n",
    "    \n",
    "    cust_date_nominal_dict[cust_id][item_date] = np.zeros(500)\n",
    "   \n",
    "    for feat_item in features.split(' '):\n",
    "            \n",
    "        feat_inx_temp = int(feat_item.split(':')[0])\n",
    "        cust_date_nominal_dict[cust_id][item_date][feat_inx_temp] = 1\n",
    "            \n",
    "print line_count           \n",
    "feat_read.close()    "
   ]
  },
  {
   "cell_type": "code",
   "execution_count": null,
   "metadata": {
    "collapsed": true
   },
   "outputs": [],
   "source": [
    "#print cust_date_nominal_dict"
   ]
  },
  {
   "cell_type": "code",
   "execution_count": 5,
   "metadata": {
    "collapsed": false
   },
   "outputs": [
    {
     "name": "stdout",
     "output_type": "stream",
     "text": [
      "['f2', 'f3', 'f4', 'f20', 'f7', 'f9', 'f21', 'f23', 'f18', 'f19', 'f12', 'f13', 'f10', 'f11', 'f16', 'f17', 'f14', 'f15']\n"
     ]
    }
   ],
   "source": [
    "fitems2index_read = open(workspace_path + '/dict/fitems2index.txt', 'r')\n",
    "\n",
    "\n",
    "fitems_to_index_dict = dict()\n",
    "\n",
    "\n",
    "for line in fitems2index_read:\n",
    "    \n",
    "    line = line.strip()\n",
    "    \n",
    "    features_index = int(line.split('|')[0])\n",
    "    feature_id = line.split('|')[1]\n",
    "    feature_item = line.split('|')[2]\n",
    "    \n",
    "    if feature_id not in fitems_to_index_dict:\n",
    "        \n",
    "       fitems_to_index_dict[feature_id] = dict()\n",
    "    \n",
    "       \n",
    "    fitems_to_index_dict[feature_id][feature_item] = features_index\n",
    "       \n",
    " \n",
    "\n",
    "fitems2index_read.close()\n",
    "\n",
    "\n",
    "print fitems_to_index_dict.keys()"
   ]
  },
  {
   "cell_type": "code",
   "execution_count": null,
   "metadata": {
    "collapsed": true
   },
   "outputs": [],
   "source": [
    "#feat_inx_get = fitems_to_index_dict['f'+str(feat_inx)][line_item]\n",
    "               "
   ]
  },
  {
   "cell_type": "code",
   "execution_count": 6,
   "metadata": {
    "collapsed": false
   },
   "outputs": [
    {
     "name": "stdout",
     "output_type": "stream",
     "text": [
      "14603954\n"
     ]
    }
   ],
   "source": [
    "cust_last_date = dict()\n",
    "\n",
    "dict_read = open(workspace_path + '/dict/fnome_date_records.txt', 'r')\n",
    "\n",
    "for line in dict_read:  \n",
    "    line = line.strip()\n",
    "    \n",
    "    \n",
    "    line_count += 1\n",
    "    \n",
    "    cust_id = line.split('|')[0]\n",
    "    last_date = line.split('|')[1]\n",
    "    \n",
    "    cust_last_date[cust_id] = last_date\n",
    "    \n",
    "    \n",
    "print line_count    \n",
    "dict_read.close()    "
   ]
  },
  {
   "cell_type": "code",
   "execution_count": 7,
   "metadata": {
    "collapsed": false
   },
   "outputs": [
    {
     "name": "stdout",
     "output_type": "stream",
     "text": [
      "2016-05\n"
     ]
    }
   ],
   "source": [
    "print cust_last_date['15889']"
   ]
  },
  {
   "cell_type": "code",
   "execution_count": 10,
   "metadata": {
    "collapsed": false
   },
   "outputs": [
    {
     "name": "stdout",
     "output_type": "stream",
     "text": [
      "\"fecha_dato\",\"ncodpers\",\"ind_empleado\",\"pais_residencia\",\"sexo\",\"age\",\"fecha_alta\",\"ind_nuevo\",\"antiguedad\",\"indrel\",\"ult_fec_cli_1t\",\"indrel_1mes\",\"tiprel_1mes\",\"indresi\",\"indext\",\"conyuemp\",\"canal_entrada\",\"indfall\",\"tipodom\",\"cod_prov\",\"nomprov\",\"ind_actividad_cliente\",\"renta\",\"segmento\"\n",
      "929615\n"
     ]
    }
   ],
   "source": [
    "import datetime as dt\n",
    "\n",
    "\n",
    "test_read = open(workspace_path + '/input/test_ver2.csv', 'r')\n",
    "\n",
    "headline = test_read.readline().strip()\n",
    "print headline\n",
    "\n",
    "test_write = open(workspace_path + '/test/5_2_cust_date_nominal_prod_L1.test', 'w')\n",
    "\n",
    "feat_inx_1 = [2,3,4,7,9,10,11,12,13,14,15,16,17,18,19,20,21,23]\n",
    "feat_inx_2 = [2,3,4,7,9,10,11,12,13,14,15,16,17,18,19,20,22,24]\n",
    "\n",
    "line_count = 0\n",
    "\n",
    "#for i in range(0,100000):\n",
    "    #line = test_read.readline().strip().split(',')\n",
    "for line in test_read:  \n",
    "    line = line.strip().split(',')\n",
    "    \n",
    "    \n",
    "    line_count += 1\n",
    "    \n",
    "    cust_date_nominal_list_pres = np.zeros(500)\n",
    "    \n",
    "    if len(line) == 24:\n",
    "\n",
    "        cust_id = line[1].replace(' ','')\n",
    "\n",
    "        fecha_dato = line[0][:-3]\n",
    "        \n",
    "\n",
    "        for feat_inx in feat_inx_1:\n",
    "            \n",
    "            line_item = line[feat_inx].replace(' ','')\n",
    "            \n",
    "            if feat_inx == 10:\n",
    "               line_item = line[feat_inx][:-3] \n",
    "            \n",
    "            if line_item in fitems_to_index_dict['f'+str(feat_inx)]:\n",
    "               feat_inx_get = fitems_to_index_dict['f'+str(feat_inx)][line_item]\n",
    "               cust_date_nominal_list_pres[feat_inx_get] = 1 \n",
    "            #else:\n",
    "               #print 'f'+str(feat_inx)+'|'+line_item \n",
    "            \n",
    "             \n",
    "         \n",
    "    elif len(line) == 25:\n",
    "        \n",
    "        cust_id = line[1].replace(' ','')\n",
    "\n",
    "        fecha_dato = line[0][:-3]\n",
    "        \n",
    "        for feat_inx in feat_inx_2:\n",
    "            \n",
    "            line_item = line[feat_inx].replace(' ','')\n",
    "            \n",
    "            if feat_inx == 10:\n",
    "               line_item = line[feat_inx][:-3] \n",
    "            \n",
    "            if feat_inx == 20:\n",
    "                \n",
    "                line_item = line[20] + '_' + line[21]\n",
    "            \n",
    "            if feat_inx < 21: \n",
    "                \n",
    "                  if line_item in fitems_to_index_dict['f'+str(feat_inx)]:\n",
    "                     feat_inx_get = fitems_to_index_dict['f'+str(feat_inx)][line_item]\n",
    "                     cust_date_nominal_list_pres[feat_inx_get] = 1 \n",
    "                  #else:\n",
    "                     #print 'f'+str(feat_inx)+'|'+line_item \n",
    "                  \n",
    "                    \n",
    "            else:     \n",
    "                  \n",
    "                  feat_inx_get = fitems_to_index_dict['f'+str(feat_inx-1)][line_item]\n",
    "                  cust_date_nominal_list_pres[feat_inx_get] = 1 \n",
    "    \n",
    "    \n",
    "    else:\n",
    "        \n",
    "        print line\n",
    "    \n",
    "    feature_base_1 = 100\n",
    "    feature_base_2 = 1000\n",
    "    feature_base_3 = 2000\n",
    "    \n",
    "    \n",
    "    \n",
    "    if True:\n",
    "        \n",
    "        date1 = fecha_dato\n",
    "        date2 = cust_last_date[cust_id]\n",
    "        \n",
    "        date1_time = dt.datetime.strptime(date1, '%Y-%m')\n",
    "        date2_time = dt.datetime.strptime(date2, '%Y-%m')\n",
    "\n",
    "        \n",
    "        if date1_time > date2_time:\n",
    "            \n",
    "           #prt_line = cust_id + '|'\n",
    "             \n",
    "           #prt_line += date2 + '->' + date1 + '|'\n",
    "        \n",
    "           prt_line = '+1 '\n",
    "        \n",
    "           if cust_id in cust_date_products_dict:\n",
    "                                              \n",
    "              # print the product features ----------------------------------------        \n",
    "              prod_feature_items = ''      \n",
    "              if date2 in cust_date_products_dict[cust_id]:   \n",
    "\n",
    "                 for inx_item in list(np.where(cust_date_products_dict[cust_id][date2] == 1))[0]:\n",
    "\n",
    "                     prod_feature_items += str(feature_base_1+inx_item) + ':1 '\n",
    "                        \n",
    "              if len(prod_feature_items) > 0:\n",
    "                    prt_line += prod_feature_items\n",
    "             \n",
    "             \n",
    "              \n",
    "           # print the nominal features ----------------------------------------     \n",
    "           nominal_feature_items = ''                 \n",
    "           if True:\n",
    "            \n",
    "              if True:   \n",
    "\n",
    "                 for inx_item in list(np.where(cust_date_nominal_list_pres == 1))[0]:\n",
    "\n",
    "                     nominal_feature_items += str(feature_base_2+inx_item) + ':1 '\n",
    "                        \n",
    "              if len(nominal_feature_items) > 0:\n",
    "                    prt_line += nominal_feature_items\n",
    "              \n",
    "                    \n",
    "           nominal_feature_items = ''                 \n",
    "           if cust_id in cust_date_nominal_dict:\n",
    "            \n",
    "              if date2 in cust_date_nominal_dict[cust_id]:   \n",
    "\n",
    "                 for inx_item in list(np.where(cust_date_nominal_dict[cust_id][date2] == 1))[0]:\n",
    "\n",
    "                     nominal_feature_items += str(feature_base_3+inx_item) + ':1 '\n",
    "                        \n",
    "              if len(nominal_feature_items) > 0:\n",
    "                    prt_line += nominal_feature_items[:-1]   \n",
    "                 \n",
    "\n",
    "        \n",
    "           test_write.write(prt_line+'\\n')    \n",
    "    \n",
    "    \n",
    "print line_count    \n",
    "test_read.close()\n",
    "test_write.close()"
   ]
  },
  {
   "cell_type": "code",
   "execution_count": 11,
   "metadata": {
    "collapsed": false
   },
   "outputs": [
    {
     "name": "stdout",
     "output_type": "stream",
     "text": [
      "12690664\n"
     ]
    }
   ],
   "source": []
  },
  {
   "cell_type": "code",
   "execution_count": null,
   "metadata": {
    "collapsed": true
   },
   "outputs": [],
   "source": [
    "print pos_case_dict\n",
    "print neg_case_dict"
   ]
  }
 ],
 "metadata": {
  "kernelspec": {
   "display_name": "Python 2",
   "language": "python",
   "name": "python2"
  },
  "language_info": {
   "codemirror_mode": {
    "name": "ipython",
    "version": 2
   },
   "file_extension": ".py",
   "mimetype": "text/x-python",
   "name": "python",
   "nbconvert_exporter": "python",
   "pygments_lexer": "ipython2",
   "version": "2.7.5"
  }
 },
 "nbformat": 4,
 "nbformat_minor": 0
}
