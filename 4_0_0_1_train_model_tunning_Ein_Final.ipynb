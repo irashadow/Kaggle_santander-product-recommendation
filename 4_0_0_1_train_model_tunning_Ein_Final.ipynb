{
 "cells": [
  {
   "cell_type": "code",
   "execution_count": 14,
   "metadata": {
    "collapsed": true
   },
   "outputs": [],
   "source": [
    "import os\n",
    "import csv\n",
    "import sys\n",
    "import random\n",
    "import scipy\n",
    "import numpy as np\n",
    "\n",
    "\n",
    "\n",
    "workspace_path = '/home/irashadow/python_workspace/Kaggle_Comp/Santander/'"
   ]
  },
  {
   "cell_type": "code",
   "execution_count": 15,
   "metadata": {
    "collapsed": true
   },
   "outputs": [],
   "source": [
    "month_dict_inv = dict()\n",
    "month_dict_inv[0] = '2015-01'\n",
    "month_dict_inv[1] = '2015-02'\n",
    "month_dict_inv[2] = '2015-03'\n",
    "month_dict_inv[3] = '2015-04'\n",
    "month_dict_inv[4] = '2015-05'\n",
    "month_dict_inv[5] = '2015-06'\n",
    "month_dict_inv[6] = '2015-07'\n",
    "month_dict_inv[7] = '2015-08'\n",
    "month_dict_inv[8] = '2015-09'\n",
    "month_dict_inv[9] = '2015-10'\n",
    "month_dict_inv[10] = '2015-11'\n",
    "month_dict_inv[11] = '2015-12'\n",
    "month_dict_inv[12] = '2016-01'\n",
    "month_dict_inv[13] = '2016-02'\n",
    "month_dict_inv[14] = '2016-03'\n",
    "month_dict_inv[15] = '2016-04'\n",
    "month_dict_inv[16] = '2016-05'\n",
    "month_dict_inv[17] = '2016-06'"
   ]
  },
  {
   "cell_type": "code",
   "execution_count": 9,
   "metadata": {
    "collapsed": true
   },
   "outputs": [],
   "source": [
    "model_tunning_order = dict()\n",
    "model_tunning_order[0] = [3]\n",
    "model_tunning_order[1] = [24]\n",
    "model_tunning_order[2] = [18]\n",
    "model_tunning_order[3] = [20]\n",
    "model_tunning_order[4] = [13]\n",
    "\n",
    "model_tunning_negative = dict()\n",
    "model_tunning_negative[0] = [24,19,18,23,22,13,5,7,20,8,9,14,6,15,16,4,17]\n",
    "model_tunning_negative[1] = [19,18,23,22,13,5,7,20,8,9,14,6,15,16,4,17]\n",
    "model_tunning_negative[2] = [19,23,22,13,5,7,20,8,9,14,6,15,16,4,17]\n",
    "model_tunning_negative[3] = [19,18,23,22,13,5,7,8,9,14,6,15,16,4,17]\n",
    "model_tunning_negative[4] = [19,18,23,22,5,7,20,8,9,14,6,15,16,4,17]\n",
    "\n",
    "train_data_included = dict()\n",
    "train_data_included[0] = [5,11]\n",
    "train_data_included[1] = [5,11]\n",
    "train_data_included[2] = [5]\n",
    "train_data_included[3] = [12]\n",
    "train_data_included[4] = [16]"
   ]
  },
  {
   "cell_type": "code",
   "execution_count": 19,
   "metadata": {
    "collapsed": false
   },
   "outputs": [
    {
     "name": "stdout",
     "output_type": "stream",
     "text": [
      "73818\n",
      "73818\n",
      "36710\n",
      "30331\n",
      "29717\n"
     ]
    }
   ],
   "source": [
    "for model_tunning_index in range(0,5):    \n",
    "    \n",
    "    train_write_set = dict()\n",
    "    for i in model_tunning_order[model_tunning_index]:\n",
    "        train_write_set[i] = open(workspace_path + '/train/model_hierarchy/cust_product_'+str(i)+'.train', 'w')\n",
    "\n",
    "    check_line_count = 0\n",
    "\n",
    "\n",
    "    feat_data = []\n",
    "    for date_index_major in train_data_included[model_tunning_index]:\n",
    "        feat_data.append(open(workspace_path + '/L4_feat_standard/4_7_cust_date_nominal_prod_L4_'+str(month_dict_inv[date_index_major])+'_Model.feat', 'r'))\n",
    "\n",
    "\n",
    "    for feat_file in feat_data:\n",
    "        for line in feat_file:\n",
    "\n",
    "            line = line.strip()\n",
    "            check_line_count += 1\n",
    "\n",
    "            if len(line.split('|')) < 6:\n",
    "\n",
    "               print line \n",
    "\n",
    "            cust_id = line.split('|')[0]\n",
    "            date_note = line.split('|')[1]\n",
    "            label_tokens = line.split('|')[2]\n",
    "            added_product_features = line.split('|')[3]\n",
    "            product_features = line.split('|')[4]\n",
    "            nominal_features_pres = line.split('|')[5]\n",
    "            real_features_pres = line.split('|')[6]\n",
    "\n",
    "            get_label = np.zeros(30)\n",
    "\n",
    "            for label_item in label_tokens.split(','):\n",
    "\n",
    "                if len(label_item) > 0:\n",
    "\n",
    "                    prod_id = int(label_item)\n",
    "                    get_label[prod_id] = 1\n",
    "\n",
    "\n",
    "            for j1 in model_tunning_order[model_tunning_index]:\n",
    "                if get_label[j1] == 1:\n",
    "\n",
    "                    prt_line = '1' + ' '\n",
    "                    for fi in range(3,10):\n",
    "                        if len(line.split('|')[fi]) > 0:\n",
    "                           prt_line += line.split('|')[fi] + ' ' \n",
    "\n",
    "                    train_write_set[j1].write(prt_line[:-1]+'\\n') \n",
    "                    \n",
    "                else:    \n",
    "                    \n",
    "                    isNegative = False\n",
    "                    for j2 in model_tunning_negative[model_tunning_index]:        \n",
    "                        if get_label[j2] == 1:\n",
    "                           isNegative = True \n",
    "\n",
    "                    if isNegative:        \n",
    "                        prt_line = '0' + ' ' \n",
    "                        for fi in range(3,10):\n",
    "                            if len(line.split('|')[fi]) > 0:\n",
    "                               prt_line += line.split('|')[fi] + ' ' \n",
    "\n",
    "                        train_write_set[j1].write(prt_line[:-1]+'\\n')  \n",
    "\n",
    "        feat_file.close()\n",
    "\n",
    "    for i in model_tunning_order[model_tunning_index]:\n",
    "        train_write_set[i].close()\n",
    "\n",
    "    print check_line_count    \n",
    "    #feat_read.close() "
   ]
  },
  {
   "cell_type": "code",
   "execution_count": 18,
   "metadata": {
    "collapsed": false
   },
   "outputs": [
    {
     "name": "stdout",
     "output_type": "stream",
     "text": [
      "36710\n",
      "73818\n"
     ]
    }
   ],
   "source": [
    "other_model_order = [19,18,23,22,13,5,7,20,8,9,14,6,15,16,4,17,1,2,4,10,11,12,21]\n",
    "completed_model = [18,20,13]\n",
    "\n",
    "\n",
    "train_write_set = dict()\n",
    "for i in other_model_order:    \n",
    "    train_write_set[i] = open(workspace_path + '/train/model_hierarchy/cust_product_'+str(i)+'.train', 'w')\n",
    "    \n",
    "    \n",
    "check_line_count = 0\n",
    "feat_data = []\n",
    "for date_index_major in [5,11]:\n",
    "    feat_data.append(open(workspace_path + '/L4_feat_standard/4_7_cust_date_nominal_prod_L4_'+str(month_dict_inv[date_index_major])+'_Model.feat', 'r'))\n",
    "\n",
    "\n",
    "for feat_file in feat_data:\n",
    "    for line in feat_file:\n",
    "\n",
    "        line = line.strip()\n",
    "        check_line_count += 1\n",
    "\n",
    "        #if len(line.split('|')) < 6:\n",
    "           #print line \n",
    "\n",
    "        cust_id = line.split('|')[0]\n",
    "        date_note = line.split('|')[1]\n",
    "        label_tokens = line.split('|')[2]\n",
    "        added_product_features = line.split('|')[3]\n",
    "        product_features = line.split('|')[4]\n",
    "        nominal_features_pres = line.split('|')[5]\n",
    "        real_features_pres = line.split('|')[6]\n",
    "\n",
    "        get_label = np.zeros(30)\n",
    "\n",
    "        for label_item in label_tokens.split(','):\n",
    "\n",
    "            if len(label_item) > 0:\n",
    "\n",
    "                prod_id = int(label_item)\n",
    "                get_label[prod_id] = 1\n",
    "\n",
    "\n",
    "        for i in other_model_order:\n",
    "            if get_label[i] == 1:\n",
    "\n",
    "                prt_line = '1' + ' '\n",
    "                for fi in range(3,10):\n",
    "                    if len(line.split('|')[fi]) > 0:\n",
    "                       prt_line += line.split('|')[fi] + ' ' \n",
    "\n",
    "                if i not in completed_model:    \n",
    "                   train_write_set[i].write(prt_line[:-1]+'\\n') \n",
    "\n",
    "                \n",
    "            elif get_label[i] == 0:\n",
    "\n",
    "                prt_line = '0' + ' ' \n",
    "                for fi in range(3,10):\n",
    "                    if len(line.split('|')[fi]) > 0:\n",
    "                       prt_line += line.split('|')[fi] + ' ' \n",
    "                \n",
    "                if i not in completed_model: \n",
    "                   train_write_set[i].write(prt_line[:-1]+'\\n')  \n",
    "\n",
    "    feat_file.close()\n",
    "    print check_line_count\n",
    "\n",
    "for i in other_model_order:\n",
    "    train_write_set[i].close()\n",
    "\n",
    "  \n",
    "\n"
   ]
  },
  {
   "cell_type": "code",
   "execution_count": null,
   "metadata": {
    "collapsed": false
   },
   "outputs": [],
   "source": []
  },
  {
   "cell_type": "code",
   "execution_count": 7,
   "metadata": {
    "collapsed": false
   },
   "outputs": [],
   "source": [
    "#train_read = open(workspace_path + '/train/model_pf02/cust_product_'+str(model_no)+'.train', 'r')\n",
    "#Ein_read = open(workspace_path + '../liblinear-2.1/output/cust_product_'+str(model_no)+'_inv.Ein', 'r')\n",
    "\n",
    "model_no = 19\n",
    "#if True:\n",
    "for model_no in range(1, 25):\n",
    "\n",
    "    train_data_path = './train/model_max/cust_product_'+str(model_no)+'.train'\n",
    "    #train_data_path = './train/model_exp/cust_product_'+str(model_no)+'.train'\n",
    "    model_path = '../liblinear-2.1/model_save/cust_product_'+str(model_no)+'.model'\n",
    "    Ein_path = '../liblinear-2.1/output/cust_product_'+str(model_no)+'.Ein'\n",
    "\n",
    "    train_command = '../liblinear-2.1/./train -s 6 -c 2'\n",
    "    predi_command = '../liblinear-2.1/./predict'\n",
    "\n",
    "\n",
    "    #print os.system(\"pwd\");\n",
    "    os.system(train_command +' '+ train_data_path +' '+ model_path);\n",
    "    os.system(predi_command +' '+ train_data_path +' '+ model_path +' '+ Ein_path);\n",
    "\n"
   ]
  },
  {
   "cell_type": "code",
   "execution_count": null,
   "metadata": {
    "collapsed": true
   },
   "outputs": [],
   "source": []
  }
 ],
 "metadata": {
  "kernelspec": {
   "display_name": "Python 2",
   "language": "python",
   "name": "python2"
  },
  "language_info": {
   "codemirror_mode": {
    "name": "ipython",
    "version": 2
   },
   "file_extension": ".py",
   "mimetype": "text/x-python",
   "name": "python",
   "nbconvert_exporter": "python",
   "pygments_lexer": "ipython2",
   "version": "2.7.5"
  }
 },
 "nbformat": 4,
 "nbformat_minor": 0
}
