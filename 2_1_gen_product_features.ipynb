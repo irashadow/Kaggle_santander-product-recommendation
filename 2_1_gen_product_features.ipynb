{
 "cells": [
  {
   "cell_type": "code",
   "execution_count": 1,
   "metadata": {
    "collapsed": true
   },
   "outputs": [],
   "source": [
    "import os\n",
    "import csv\n",
    "import sys\n",
    "import random\n",
    "import scipy\n",
    "import numpy as np\n",
    "\n",
    "\n",
    "workspace_path = '/home/irashadow/python_workspace/Kaggle_Comp/Santander/'\n",
    "\n",
    "month_dict = dict()\n",
    "\n",
    "month_dict['2015-01'] = 0\n",
    "month_dict['2015-02'] = 1\n",
    "month_dict['2015-03'] = 2\n",
    "month_dict['2015-04'] = 3\n",
    "month_dict['2015-05'] = 4\n",
    "month_dict['2015-06'] = 5\n",
    "month_dict['2015-07'] = 6\n",
    "month_dict['2015-08'] = 7\n",
    "month_dict['2015-09'] = 8\n",
    "month_dict['2015-10'] = 9\n",
    "month_dict['2015-11'] = 10\n",
    "month_dict['2015-12'] = 11\n",
    "month_dict['2016-01'] = 12\n",
    "month_dict['2016-02'] = 13\n",
    "month_dict['2016-03'] = 14\n",
    "month_dict['2016-04'] = 15\n",
    "month_dict['2016-05'] = 16\n",
    "#month_dict['2016-06'] = 17\n",
    "\n",
    "#print cust_dict_tr\n",
    "\n",
    "base_num = 60\n",
    "\n",
    "#features_count = 16 * (30(pos) + 30(neg))\n",
    "features_count = (16+1) * base_num"
   ]
  },
  {
   "cell_type": "code",
   "execution_count": 3,
   "metadata": {
    "collapsed": false
   },
   "outputs": [
    {
     "name": "stdout",
     "output_type": "stream",
     "text": [
      "956645\n"
     ]
    }
   ],
   "source": [
    "dict_read = open(workspace_path + '/dict/cust_product_mod.csv', 'r')\n",
    "\n",
    "feat_write = open(workspace_path + '/feat/1_cust_product.feat', 'w')\n",
    "\n",
    "check_line_count = 0\n",
    "\n",
    "#for i in range(0,10):\n",
    "    #line = dict_read.readline().strip()\n",
    "\n",
    "for line in dict_read:\n",
    "    line = line.strip()\n",
    "    \n",
    "    check_line_count += 1\n",
    "    \n",
    "    cust_id = line.split(':')[0]\n",
    "    \n",
    "    cust_items = line.split(':')[1]\n",
    "    \n",
    "    #print 'id:' + str(cust_id)\n",
    "    \n",
    "    #print line\n",
    "    \n",
    "    prt_line = cust_id + ':'\n",
    "    \n",
    "    if len(cust_items) > 0: \n",
    "    \n",
    "        feat_vector = np.zeros(features_count)\n",
    "        for prod_item in cust_items.split(';'):\n",
    "\n",
    "            date_item = prod_item.split('|')[0]\n",
    "            pres_items_get = prod_item.split('|')[1]\n",
    "\n",
    "            #print date_item\n",
    "            #print pres_items_get\n",
    "\n",
    "\n",
    "            feat_base = month_dict[date_item] * base_num\n",
    "\n",
    "            feat_vector_sub = np.zeros(60)\n",
    "\n",
    "            if len(pres_items_get) > 1:\n",
    "\n",
    "               for items_sub in pres_items_get.split(','):\n",
    "\n",
    "                   if items_sub[0] == '+': \n",
    "                      index_correct = abs(int(items_sub)) \n",
    "                   elif items_sub[0] == '-': \n",
    "                      index_correct = abs(int(items_sub)) + 30\n",
    "\n",
    "                   feat_vector_sub[index_correct] = 1\n",
    "\n",
    "            feat_express_sub = '' \n",
    "            if sum(feat_vector_sub) > 0:\n",
    "\n",
    "               for inx_item in list(np.where(feat_vector_sub == 1))[0]:\n",
    "\n",
    "                   #feat_express_sub += str(feat_base+inx_item) + ':1 '\n",
    "\n",
    "                   feat_vector[feat_base+inx_item] = 1\n",
    "\n",
    "\n",
    "\n",
    "            #print feat_express_sub\n",
    "\n",
    "        feat_express = ''    \n",
    "        if sum(feat_vector) > 0:\n",
    "\n",
    "               for inx_item in list(np.where(feat_vector == 1))[0]:\n",
    "\n",
    "                   feat_express += str(inx_item) + ':1 '\n",
    "\n",
    "\n",
    "        prt_line = str(cust_id)+'|'+feat_express[:-1]+'\\n' \n",
    "    \n",
    "    feat_write.write(prt_line) \n",
    "    \n",
    "print check_line_count    "
   ]
  },
  {
   "cell_type": "code",
   "execution_count": 7,
   "metadata": {
    "collapsed": true
   },
   "outputs": [],
   "source": [
    "feat_temp = np.zeros(60)"
   ]
  },
  {
   "cell_type": "code",
   "execution_count": 26,
   "metadata": {
    "collapsed": false
   },
   "outputs": [
    {
     "name": "stdout",
     "output_type": "stream",
     "text": [
      "60\n"
     ]
    }
   ],
   "source": [
    "print len(feat_temp)\n"
   ]
  },
  {
   "cell_type": "code",
   "execution_count": 56,
   "metadata": {
    "collapsed": false
   },
   "outputs": [],
   "source": [
    "feat_temp[1:10] = 1\n",
    "feat_temp[1:20] = 1\n",
    "temp_inx = list(np.where(feat_temp == 1))"
   ]
  },
  {
   "cell_type": "code",
   "execution_count": 57,
   "metadata": {
    "collapsed": false
   },
   "outputs": [
    {
     "data": {
      "text/plain": [
       "(1, 19)"
      ]
     },
     "execution_count": 57,
     "metadata": {},
     "output_type": "execute_result"
    }
   ],
   "source": [
    "np.shape(temp_inx)"
   ]
  },
  {
   "cell_type": "code",
   "execution_count": 58,
   "metadata": {
    "collapsed": false
   },
   "outputs": [
    {
     "name": "stdout",
     "output_type": "stream",
     "text": [
      "<type 'list'>\n"
     ]
    }
   ],
   "source": [
    "print type(temp_inx)"
   ]
  },
  {
   "cell_type": "code",
   "execution_count": 60,
   "metadata": {
    "collapsed": false
   },
   "outputs": [
    {
     "name": "stdout",
     "output_type": "stream",
     "text": [
      "[array([ 1,  2,  3,  4,  5,  6,  7,  8,  9, 10, 11, 12, 13, 14, 15, 16, 17,\n",
      "       18, 19])]\n"
     ]
    }
   ],
   "source": [
    "print temp_inx"
   ]
  },
  {
   "cell_type": "code",
   "execution_count": 64,
   "metadata": {
    "collapsed": false
   },
   "outputs": [
    {
     "name": "stdout",
     "output_type": "stream",
     "text": [
      "1\n",
      "2\n",
      "3\n",
      "4\n",
      "5\n",
      "6\n",
      "7\n",
      "8\n",
      "9\n",
      "10\n",
      "11\n",
      "12\n",
      "13\n",
      "14\n",
      "15\n",
      "16\n",
      "17\n",
      "18\n",
      "19\n"
     ]
    }
   ],
   "source": [
    "for item in temp_inx[0]:\n",
    "    \n",
    "    print item"
   ]
  },
  {
   "cell_type": "code",
   "execution_count": 4,
   "metadata": {
    "collapsed": false
   },
   "outputs": [
    {
     "data": {
      "text/plain": [
       "960"
      ]
     },
     "execution_count": 4,
     "metadata": {},
     "output_type": "execute_result"
    }
   ],
   "source": [
    "16*60"
   ]
  },
  {
   "cell_type": "code",
   "execution_count": null,
   "metadata": {
    "collapsed": true
   },
   "outputs": [],
   "source": []
  }
 ],
 "metadata": {
  "kernelspec": {
   "display_name": "Python 2",
   "language": "python",
   "name": "python2"
  },
  "language_info": {
   "codemirror_mode": {
    "name": "ipython",
    "version": 2
   },
   "file_extension": ".py",
   "mimetype": "text/x-python",
   "name": "python",
   "nbconvert_exporter": "python",
   "pygments_lexer": "ipython2",
   "version": "2.7.5"
  }
 },
 "nbformat": 4,
 "nbformat_minor": 0
}
