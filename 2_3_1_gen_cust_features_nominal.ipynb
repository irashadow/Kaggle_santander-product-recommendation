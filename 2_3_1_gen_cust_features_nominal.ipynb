{
 "cells": [
  {
   "cell_type": "code",
   "execution_count": null,
   "metadata": {
    "collapsed": true
   },
   "outputs": [],
   "source": [
    "import os\n",
    "import csv\n",
    "import sys\n",
    "import random\n",
    "import scipy\n",
    "import numpy as np\n",
    "from sets import Set\n",
    "\n",
    "\n",
    "workspace_path = '/home/irashadow/python_workspace/Kaggle_Comp/Santander/'"
   ]
  },
  {
   "cell_type": "code",
   "execution_count": 10,
   "metadata": {
    "collapsed": false
   },
   "outputs": [],
   "source": [
    "month_dict_inv = dict()\n",
    "month_dict_inv[0] = '2015-01'\n",
    "month_dict_inv[1] = '2015-02'\n",
    "month_dict_inv[2] = '2015-03'\n",
    "month_dict_inv[3] = '2015-04'\n",
    "month_dict_inv[4] = '2015-05'\n",
    "month_dict_inv[5] = '2015-06'\n",
    "month_dict_inv[6] = '2015-07'\n",
    "month_dict_inv[7] = '2015-08'\n",
    "month_dict_inv[8] = '2015-09'\n",
    "month_dict_inv[9] = '2015-10'\n",
    "month_dict_inv[10] = '2015-11'\n",
    "month_dict_inv[11] = '2015-12'\n",
    "month_dict_inv[12] = '2016-01'\n",
    "month_dict_inv[13] = '2016-02'\n",
    "month_dict_inv[14] = '2016-03'\n",
    "month_dict_inv[15] = '2016-04'\n",
    "month_dict_inv[16] = '2016-05'\n",
    "month_dict_inv[17] = '2016-06'"
   ]
  },
  {
   "cell_type": "code",
   "execution_count": 2,
   "metadata": {
    "collapsed": false
   },
   "outputs": [
    {
     "name": "stdout",
     "output_type": "stream",
     "text": [
      "['f2', 'f3', 'f4', 'f20', 'f7', 'f9', 'f21', 'f23', 'f18', 'f19', 'f12', 'f13', 'f11', 'f16', 'f17', 'f14', 'f15']\n"
     ]
    }
   ],
   "source": [
    "fitems2index_read = open(workspace_path + '/dict/fitems2index.txt', 'r')\n",
    "\n",
    "\n",
    "fitems_to_index_dict = dict()\n",
    "\n",
    "\n",
    "for line in fitems2index_read:\n",
    "    \n",
    "    line = line.strip()\n",
    "    \n",
    "    features_index = int(line.split('|')[0])\n",
    "    feature_id = line.split('|')[1]\n",
    "    feature_item = line.split('|')[2]\n",
    "    \n",
    "    if feature_id not in fitems_to_index_dict:\n",
    "        \n",
    "       fitems_to_index_dict[feature_id] = dict()\n",
    "    \n",
    "       \n",
    "    fitems_to_index_dict[feature_id][feature_item] = features_index\n",
    "       \n",
    " \n",
    "\n",
    "fitems2index_read.close()\n",
    "\n",
    "\n",
    "print fitems_to_index_dict.keys()"
   ]
  },
  {
   "cell_type": "code",
   "execution_count": 6,
   "metadata": {
    "collapsed": false
   },
   "outputs": [
    {
     "name": "stdout",
     "output_type": "stream",
     "text": [
      "14576924\n",
      "0\n"
     ]
    }
   ],
   "source": [
    "data_train = open(workspace_path + 'input/train_ver2.csv')\n",
    "test_train = open(workspace_path + 'input/test_ver2.csv')\n",
    "\n",
    "input_data = [data_train]\n",
    "input_data.append(test_train)\n",
    "\n",
    "\n",
    "feat_write = open(workspace_path + '/feat/3_1_cust_nominal.feat', 'w')\n",
    "\n",
    "line_count = 0\n",
    "line_skip = 0\n",
    "\n",
    "cust_feat_dict_tr = dict()\n",
    "\n",
    "#holdon for featurs:f5, f8, f22(f23 in feat_inx_2)\n",
    "feat_inx_1 = [2,3,4,7,9,11,12,13,14,15,16,17,18,19,20,21,23]\n",
    "\n",
    "feat_inx_2 = [2,3,4,7,9,11,12,13,14,15,16,17,18,19,20,22,24]\n",
    "\n",
    "#for i in range(0,100000):\n",
    "    #line = data_train.readline().strip().split(',')\n",
    "for data_file in input_data:\n",
    "    \n",
    "    headline = data_file.readline().strip()\n",
    "    \n",
    "    for line in data_file:\n",
    "        line = line.strip().split(',')\n",
    "\n",
    "        line_count += 1    \n",
    "\n",
    "        prt_line = ''\n",
    "\n",
    "        if len(line) == 48 or len(line) == 24:\n",
    "\n",
    "            cust_id = int(line[1])\n",
    "\n",
    "            fecha_dato = line[0][:-3]\n",
    "\n",
    "            prt_line = str(cust_id) + '|' + fecha_dato + '|'\n",
    "\n",
    "            for feat_inx in feat_inx_1:\n",
    "\n",
    "                line_item = line[feat_inx].replace(' ','')\n",
    "\n",
    "                if feat_inx == 10:\n",
    "                   line_item = line[feat_inx][:-3] \n",
    "\n",
    "                if line_item in fitems_to_index_dict['f'+str(feat_inx)]:\n",
    "                   feat_inx_get = fitems_to_index_dict['f'+str(feat_inx)][line_item]\n",
    "                   prt_line += str(feat_inx_get) + ':1 '\n",
    "\n",
    "\n",
    "        elif len(line) == 49 or len(line) == 25:\n",
    "\n",
    "            cust_id = int(line[1])\n",
    "\n",
    "            fecha_dato = line[0][:-3]\n",
    "\n",
    "            prt_line = str(cust_id) + '|' + fecha_dato + '|'\n",
    "\n",
    "            for feat_inx in feat_inx_2:\n",
    "\n",
    "                line_item = line[feat_inx].replace(' ','')\n",
    "\n",
    "                if feat_inx == 10:\n",
    "                   line_item = line[feat_inx][:-3] \n",
    "\n",
    "                if feat_inx == 20:\n",
    "\n",
    "                    line_item = line[20] + '_' + line[21]\n",
    "\n",
    "                if feat_inx < 21: \n",
    "                      if line_item in fitems_to_index_dict['f'+str(feat_inx)]:\n",
    "                         feat_inx_get = fitems_to_index_dict['f'+str(feat_inx)][line_item]\n",
    "                         prt_line += str(feat_inx_get) + ':1 '  \n",
    "\n",
    "                else:     \n",
    "                      if line_item in fitems_to_index_dict['f'+str(feat_inx-1)]:\n",
    "                         feat_inx_get = fitems_to_index_dict['f'+str(feat_inx-1)][line_item]\n",
    "                         prt_line += str(feat_inx_get) + ':1 '\n",
    "\n",
    "        feat_write.write(prt_line[:-1] +'\\n')           \n",
    "\n",
    "feat_write.close()\n",
    "\n",
    "\n",
    "\n",
    "print(line_count)  \n",
    "print(line_skip)  \n"
   ]
  },
  {
   "cell_type": "code",
   "execution_count": 7,
   "metadata": {
    "collapsed": false
   },
   "outputs": [
    {
     "name": "stdout",
     "output_type": "stream",
     "text": [
      "14576924\n"
     ]
    }
   ],
   "source": [
    "#print cust_date_products_dict\n",
    "feat_read = open(workspace_path + '/feat/3_1_cust_nominal.feat', 'r')\n",
    "\n",
    "cust_date_nominal_dict = dict()\n",
    "\n",
    "line_count = 0\n",
    "#for i in range(0,1000):\n",
    "    #line = feat_read.readline().strip()\n",
    "for line in feat_read:\n",
    "    line = line.strip()\n",
    "    \n",
    "    line_count += 1\n",
    "\n",
    "\n",
    "    cust_id = int(line.split('|')[0])\n",
    "    item_date = line.split('|')[1]\n",
    "    features = line.split('|')[2]\n",
    "\n",
    "    if cust_id not in cust_date_nominal_dict:\n",
    "       \n",
    "       cust_date_nominal_dict[cust_id] = dict() \n",
    "    \n",
    "    cust_date_nominal_dict[cust_id][item_date] = np.zeros(500)\n",
    "   \n",
    "    for feat_item in features.split(' '):\n",
    "            \n",
    "        feat_inx_temp = int(feat_item.split(':')[0])\n",
    "        cust_date_nominal_dict[cust_id][item_date][feat_inx_temp] = 1\n",
    "            \n",
    "print line_count           \n",
    "feat_read.close()    "
   ]
  },
  {
   "cell_type": "code",
   "execution_count": 17,
   "metadata": {
    "collapsed": false
   },
   "outputs": [
    {
     "name": "stdout",
     "output_type": "stream",
     "text": [
      "436493\n"
     ]
    }
   ],
   "source": [
    "cust_2_labels_dict = dict()\n",
    "\n",
    "check_line_count = 0\n",
    "\n",
    "\n",
    "feat_data = []\n",
    "for date_index_major in range(5,17):\n",
    "    feat_data_read = open(workspace_path + '/L4_feat_standard/4_7_cust_date_nominal_prod_L4_'+str(month_dict_inv[date_index_major])+'_Model.feat', 'r')\n",
    "    feat_data_write = open(workspace_path + '/L4_feat_max/4_7_cust_date_nominal_prod_L4_'+str(month_dict_inv[date_index_major])+'_Model.feat', 'w')\n",
    "      \n",
    "\n",
    "    for line in feat_data_read:\n",
    "\n",
    "        line = line.strip()\n",
    "        check_line_count += 1\n",
    "\n",
    "        if len(line.split('|')) < 10:\n",
    "\n",
    "           print line \n",
    "\n",
    "        cust_id = int(line.split('|')[0])\n",
    "        date_note = line.split('|')[1]\n",
    "        label_tokens = line.split('|')[2]\n",
    "        added_lastmonth_product_features = line.split('|')[3]\n",
    "        added_lastexist_product_features = line.split('|')[4]\n",
    "        product_features = line.split('|')[5]\n",
    "        nominal_features_pres = line.split('|')[6]\n",
    "        real_features_pres = line.split('|')[7]\n",
    "        realvalue_features_pres = line.split('|')[8]\n",
    "        \n",
    "        nominal_feature_items = ''\n",
    "        if cust_id in cust_date_nominal_dict:\n",
    "           if date_note in cust_date_nominal_dict[cust_id]:   \n",
    "              for inx_item in list(np.where(cust_date_nominal_dict[cust_id][date_note] == 1))[0]:\n",
    "                  nominal_feature_items += str(5000+inx_item) + ':1 '\n",
    "            \n",
    "        prt_line = ''    \n",
    "        for i in range(0,6):    \n",
    "            prt_line += line.split('|')[i] + '|'\n",
    "        prt_line += nominal_feature_items + '|'    \n",
    "        for i in range(7,9):    \n",
    "            prt_line += line.split('|')[i] + '|' \n",
    "        feat_data_write.write(prt_line+'\\n')    \n",
    "            \n",
    "            \n",
    "    feat_data_read.close()\n",
    "    feat_data_write.close()\n",
    "            \n",
    "         \n",
    "    \n",
    "\n",
    "#for i in range(0,23):\n",
    "    #feat_data[i].close()    \n",
    "    \n",
    "#feat_file.close()   \n",
    "print check_line_count    \n",
    "#feat_read.close() "
   ]
  },
  {
   "cell_type": "code",
   "execution_count": 7,
   "metadata": {
    "collapsed": false
   },
   "outputs": [
    {
     "name": "stdout",
     "output_type": "stream",
     "text": [
      "956645\n"
     ]
    }
   ],
   "source": []
  },
  {
   "cell_type": "code",
   "execution_count": 9,
   "metadata": {
    "collapsed": false
   },
   "outputs": [],
   "source": []
  },
  {
   "cell_type": "code",
   "execution_count": 10,
   "metadata": {
    "collapsed": false
   },
   "outputs": [
    {
     "name": "stdout",
     "output_type": "stream",
     "text": [
      "956645\n"
     ]
    }
   ],
   "source": []
  },
  {
   "cell_type": "code",
   "execution_count": null,
   "metadata": {
    "collapsed": true
   },
   "outputs": [],
   "source": []
  }
 ],
 "metadata": {
  "kernelspec": {
   "display_name": "Python 2",
   "language": "python",
   "name": "python2"
  },
  "language_info": {
   "codemirror_mode": {
    "name": "ipython",
    "version": 2
   },
   "file_extension": ".py",
   "mimetype": "text/x-python",
   "name": "python",
   "nbconvert_exporter": "python",
   "pygments_lexer": "ipython2",
   "version": "2.7.5"
  }
 },
 "nbformat": 4,
 "nbformat_minor": 0
}
