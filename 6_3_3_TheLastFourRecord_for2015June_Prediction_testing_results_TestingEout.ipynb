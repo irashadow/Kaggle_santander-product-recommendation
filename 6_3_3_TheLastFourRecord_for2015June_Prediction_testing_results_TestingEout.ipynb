{
 "cells": [
  {
   "cell_type": "code",
   "execution_count": 1,
   "metadata": {
    "collapsed": false
   },
   "outputs": [],
   "source": [
    "import os\n",
    "import csv\n",
    "import sys\n",
    "import random\n",
    "import scipy\n",
    "import numpy as np\n",
    "from itertools import izip\n",
    "\n",
    "\n",
    "workspace_path = '/home/irashadow/python_workspace/Kaggle_Comp/Santander/'\n",
    "\n",
    "label_dict = dict()\n",
    "label_dict[1] = 'ind_ahor_fin_ult1'\n",
    "label_dict[2] = 'ind_aval_fin_ult1'\n",
    "label_dict[3] = 'ind_cco_fin_ult1'\n",
    "label_dict[4] = 'ind_cder_fin_ult1'\n",
    "label_dict[5] = 'ind_cno_fin_ult1'\n",
    "label_dict[6] = 'ind_ctju_fin_ult1'\n",
    "label_dict[7] = 'ind_ctma_fin_ult1'\n",
    "label_dict[8] = 'ind_ctop_fin_ult1'\n",
    "label_dict[9] = 'ind_ctpp_fin_ult1'\n",
    "label_dict[10] = 'ind_deco_fin_ult1'\n",
    "label_dict[11] = 'ind_deme_fin_ult1'\n",
    "label_dict[12] = 'ind_dela_fin_ult1'\n",
    "label_dict[13] = 'ind_ecue_fin_ult1'\n",
    "label_dict[14] = 'ind_fond_fin_ult1'\n",
    "label_dict[15] = 'ind_hip_fin_ult1'\n",
    "label_dict[16] = 'ind_plan_fin_ult1'\n",
    "label_dict[17] = 'ind_pres_fin_ult1'\n",
    "label_dict[18] = 'ind_reca_fin_ult1'\n",
    "label_dict[19] = 'ind_tjcr_fin_ult1'\n",
    "label_dict[20] = 'ind_valo_fin_ult1'\n",
    "label_dict[21] = 'ind_viv_fin_ult1'\n",
    "label_dict[22] = 'ind_nomina_ult1'\n",
    "label_dict[23] = 'ind_nom_pens_ult1'\n",
    "label_dict[24] = 'ind_recibo_ult1'\n"
   ]
  },
  {
   "cell_type": "code",
   "execution_count": 2,
   "metadata": {
    "collapsed": false
   },
   "outputs": [],
   "source": [
    "#train_read = open(workspace_path + '/train/model_pf02/cust_product_'+str(model_no)+'.train', 'r')\n",
    "#Ein_read = open(workspace_path + '../liblinear-2.1/output/cust_product_'+str(model_no)+'_inv.Ein', 'r')\n",
    "\n",
    "\n",
    "for model_no in range(19, 20):\n",
    "#for model_no in range(1, 25):\n",
    "\n",
    "    test_data_path = './test/5_4_cust_date_prod_L4_max.test'\n",
    "    #test_data_path = './test/5_4_cust_date_prod_L4_expand.test'\n",
    "    model_path = '../liblinear-2.1/model_save/cust_product_'+str(model_no)+'.model'\n",
    "    Eout_path = '../liblinear-2.1/EoutOutput/cust_product_'+str(model_no)+'.Eout'\n",
    "\n",
    "    \n",
    "    predi_command = '../liblinear-2.1/./predict -b 1'\n",
    "    #print os.system(\"pwd\");\n",
    "    os.system(predi_command +' '+ test_data_path +' '+ model_path +' '+ Eout_path);\n",
    "\n"
   ]
  },
  {
   "cell_type": "code",
   "execution_count": 10,
   "metadata": {
    "collapsed": false
   },
   "outputs": [
    {
     "name": "stdout",
     "output_type": "stream",
     "text": [
      "model:1 in processing..\n",
      "['labels', '0']\n",
      "929615\n",
      "model:2 in processing..\n",
      "['labels', '0']\n",
      "929615\n",
      "model:3 in processing..\n",
      "['labels', '1', '0']\n",
      "929615\n",
      "model:4 in processing..\n",
      "['labels', '0', '1']\n",
      "929615\n",
      "model:5 in processing..\n",
      "['labels', '0', '1']\n",
      "929615\n",
      "model:6 in processing..\n",
      "['labels', '0', '1']\n",
      "929615\n",
      "model:7 in processing..\n",
      "['labels', '0', '1']\n",
      "929615\n",
      "model:8 in processing..\n",
      "['labels', '0', '1']\n",
      "929615\n",
      "model:9 in processing..\n",
      "['labels', '0', '1']\n",
      "929615\n",
      "model:10 in processing..\n",
      "['labels', '0', '1']\n",
      "929615\n",
      "model:11 in processing..\n",
      "['labels', '0', '1']\n",
      "929615\n",
      "model:12 in processing..\n",
      "['labels', '0', '1']\n",
      "929615\n",
      "model:13 in processing..\n",
      "['labels', '0', '1']\n",
      "929615\n",
      "model:14 in processing..\n",
      "['labels', '0', '1']\n",
      "929615\n",
      "model:15 in processing..\n",
      "['labels', '0', '1']\n",
      "929615\n",
      "model:16 in processing..\n",
      "['labels', '0', '1']\n",
      "929615\n",
      "model:17 in processing..\n",
      "['labels', '0', '1']\n",
      "929615\n",
      "model:18 in processing..\n",
      "['labels', '0', '1']\n",
      "929615\n",
      "model:19 in processing..\n",
      "['labels', '0', '1']\n",
      "929615\n",
      "model:20 in processing..\n",
      "['labels', '0', '1']\n",
      "929615\n",
      "model:21 in processing..\n",
      "['labels', '0', '1']\n",
      "929615\n",
      "model:22 in processing..\n",
      "['labels', '0', '1']\n",
      "929615\n",
      "model:23 in processing..\n",
      "['labels', '0', '1']\n",
      "929615\n",
      "model:24 in processing..\n",
      "['labels', '0', '1']\n",
      "929615\n"
     ]
    }
   ],
   "source": [
    "Eout_results_id_2_prod = dict()\n",
    "\n",
    "for model_no in range(1, 25):\n",
    "    \n",
    "    print 'model:' + str(model_no) + ' in processing..'\n",
    "\n",
    "    feat_data_path = workspace_path + '/input/test_ver2.csv'\n",
    "    Eout_path = '../liblinear-2.1/EoutOutput/cust_product_'+str(model_no)+'.Eout'\n",
    "\n",
    "    test_read = open(feat_data_path, 'r')\n",
    "    headline = test_read.readline().strip()\n",
    "    Eout_read = open(Eout_path, 'r')\n",
    "    pred_headline = Eout_read.readline().strip().split(' ')\n",
    "    \n",
    "    print pred_headline\n",
    "    \n",
    "    \n",
    "    \n",
    "    check_line_count = 0\n",
    "    \n",
    "    with test_read as test_data, Eout_read as predict_label: \n",
    "         for line1, line2 in izip(test_data, predict_label):\n",
    "             line1 = line1.strip().split(',')\n",
    "             line2 = line2.strip().split(' ')\n",
    "    \n",
    "             check_line_count += 1\n",
    "        \n",
    "             #if check_line_count < 10:\n",
    "                #print line1[1].replace(' ','') + '|' + line2\n",
    "    \n",
    "             #get the cust_id\n",
    "             cust_id = ''   \n",
    "             cust_id = int(line1[1].replace(' ',''))\n",
    "                \n",
    "             if cust_id not in Eout_results_id_2_prod:\n",
    "                Eout_results_id_2_prod[cust_id] = []    \n",
    "               \n",
    "             if pred_headline[1] == '1':\n",
    "                \n",
    "                prod_score = float(line2[1])\n",
    "                if model_no in [1,2,10,11,12,21]:\n",
    "                   prod_score = 0.0 \n",
    "                Eout_results_id_2_prod[cust_id].append(prod_score) \n",
    "             elif pred_headline[1] == '0':   \n",
    "                \n",
    "                prod_score = 1.0-float(line2[1])\n",
    "                if model_no in [1,2,10,11,12,21]:\n",
    "                   prod_score = 0.0 \n",
    "                Eout_results_id_2_prod[cust_id].append(prod_score)\n",
    "                \n",
    "                 \n",
    "    test_read.close()\n",
    "    Eout_read.close()\n",
    "\n",
    "    print check_line_count  "
   ]
  },
  {
   "cell_type": "code",
   "execution_count": 4,
   "metadata": {
    "collapsed": false
   },
   "outputs": [
    {
     "name": "stdout",
     "output_type": "stream",
     "text": [
      "[0.0, 0.0, 0.149665, 0.0, 0.00011099999999997223, 3.2000000000032e-05, 1.0000000000287557e-06, 5.000000000032756e-06, 2.5000000000052758e-05, 0.0, 0.0, 0.0, 0.507404, 0.04861899999999997, 1.999999999946489e-06, 4.599999999999049e-05, 2.9999999999752447e-06, 0.32601, 0.945336, 0.08959300000000003, 0.0, 0.0028319999999999457, 0.009824000000000055, 3.500000000000725e-05]\n"
     ]
    }
   ],
   "source": [
    "print Eout_results_id_2_prod[15906]"
   ]
  },
  {
   "cell_type": "code",
   "execution_count": 11,
   "metadata": {
    "collapsed": false
   },
   "outputs": [
    {
     "name": "stdout",
     "output_type": "stream",
     "text": [
      "submission ratio:0.13\n"
     ]
    }
   ],
   "source": [
    "#K = [4, 5, 1, 6, 2, 5, 2, 10]  \n",
    "#print np.argsort(K)[::-1][:3]    \n",
    "#print np.argsort(Eout_results_id_2_prod['15906'])    \n",
    "\n",
    "count=0\n",
    "\n",
    "Eout_results_id_2_prod_write = dict()\n",
    "for item in Eout_results_id_2_prod:\n",
    "    \n",
    "    #select the largest 7 product items for output\n",
    "    largest_7_prob_products = np.argsort(Eout_results_id_2_prod[item])[::-1][:15] \n",
    "    \n",
    "    prt_line = ''\n",
    "    \n",
    "    product_index = largest_7_prob_products[0]\n",
    "        \n",
    "    if product_index == 17:\n",
    "        \n",
    "        prt_line += label_dict[product_index+1] + ' '\n",
    "        count+=1\n",
    "    \n",
    "    if len(prt_line) > 0:\n",
    "       Eout_results_id_2_prod_write[item] = prt_line[:-1]    \n",
    "    else:\n",
    "       Eout_results_id_2_prod_write[item] = '' \n",
    "        \n",
    "print 'submission ratio:%.2f'%((count)/float(929615))        "
   ]
  },
  {
   "cell_type": "code",
   "execution_count": 36,
   "metadata": {
    "collapsed": false
   },
   "outputs": [
    {
     "name": "stdout",
     "output_type": "stream",
     "text": [
      "submission ratio:0.03\n"
     ]
    }
   ],
   "source": [
    "#K = [4, 5, 1, 6, 2, 5, 2, 10]  \n",
    "#print np.argsort(K)[::-1][:3]    \n",
    "#print np.argsort(Eout_results_id_2_prod['15906'])    \n",
    "\n",
    "count=0\n",
    "\n",
    "Eout_results_id_2_prod_write = dict()\n",
    "for item in Eout_results_id_2_prod:\n",
    "    \n",
    "    #select the largest 7 product items for output\n",
    "    largest_7_prob_products = np.argsort(Eout_results_id_2_prod[item])[::-1][:15] \n",
    "    \n",
    "    prt_line = ''\n",
    "    \n",
    "    product_index = largest_7_prob_products[0:2]\n",
    "        \n",
    "    if product_index[0] == 21 and product_index[1] != 22:\n",
    "        prt_line += label_dict[22] + ' '\n",
    "        count+=1\n",
    "    elif product_index[0] == 22 and product_index[1] != 21:\n",
    "        prt_line += label_dict[23] + ' ' \n",
    "        count+=1  \n",
    "    elif product_index[0] == 21 and product_index[1] == 22:\n",
    "        prt_line += label_dict[22] + ' ' + label_dict[23] + ' '\n",
    "        count+=1\n",
    "    elif product_index[0] == 22 and product_index[1] == 21:\n",
    "        prt_line += label_dict[23] + ' ' + label_dict[22] + ' '\n",
    "        count+=1 \n",
    "     \n",
    "        \n",
    "    \n",
    "    if len(prt_line) > 0:\n",
    "       Eout_results_id_2_prod_write[item] = prt_line[:-1]    \n",
    "    else:\n",
    "       Eout_results_id_2_prod_write[item] = '' \n",
    "        \n",
    "print 'submission ratio:%.2f'%((count)/float(929615))   "
   ]
  },
  {
   "cell_type": "code",
   "execution_count": 37,
   "metadata": {
    "collapsed": false
   },
   "outputs": [
    {
     "name": "stdout",
     "output_type": "stream",
     "text": [
      "\n"
     ]
    }
   ],
   "source": [
    "print Eout_results_id_2_prod_write[15906]    \n",
    "        "
   ]
  },
  {
   "cell_type": "code",
   "execution_count": 12,
   "metadata": {
    "collapsed": false
   },
   "outputs": [],
   "source": [
    "Eout_write = open('./output/TheLastFourRecord_pred_Dec12.eout', 'w')  \n",
    "\n",
    "prt_line = ''    \n",
    "for item in Eout_results_id_2_prod_write:\n",
    "\n",
    "    prt_line = str(item) + '|' + Eout_results_id_2_prod_write[item] + '\\n'\n",
    "    \n",
    "    Eout_write.write(prt_line)\n",
    "   \n",
    "Eout_write.close()"
   ]
  },
  {
   "cell_type": "code",
   "execution_count": 13,
   "metadata": {
    "collapsed": false
   },
   "outputs": [
    {
     "name": "stdout",
     "output_type": "stream",
     "text": [
      "956645\n"
     ]
    }
   ],
   "source": [
    "dict_read = open(workspace_path + '/dict/cust_last_prods.txt', 'r')\n",
    "\n",
    "cust_end_products_dict = dict()\n",
    "\n",
    "line_count = 0\n",
    "for line in dict_read:  \n",
    "    line = line.strip()\n",
    "    \n",
    "    line_count += 1\n",
    "    \n",
    "    cust_id = int(line.split('|')[0])\n",
    "    last_prod_date = line.split('|')[1]\n",
    "    label_tokens_get = line.split('|')[2]\n",
    "\n",
    "    \n",
    "    if cust_id not in cust_end_products_dict:\n",
    "       cust_end_products_dict[cust_id] = [] \n",
    "    \n",
    "    if len(label_tokens_get) > 0 and last_prod_date == '2016-05': \n",
    "    \n",
    "        for feat_item in label_tokens_get.split(','):\n",
    "            \n",
    "            prod_id = int(feat_item)\n",
    "            cust_end_products_dict[cust_id].append(label_dict[prod_id])\n",
    "        \n",
    "print line_count \n",
    "dict_read.close()"
   ]
  },
  {
   "cell_type": "code",
   "execution_count": null,
   "metadata": {
    "collapsed": false
   },
   "outputs": [],
   "source": []
  },
  {
   "cell_type": "code",
   "execution_count": 40,
   "metadata": {
    "collapsed": false
   },
   "outputs": [
    {
     "name": "stdout",
     "output_type": "stream",
     "text": [
      "['ind_cco_fin_ult1', 'ind_ctpp_fin_ult1', 'ind_tjcr_fin_ult1', 'ind_valo_fin_ult1']\n"
     ]
    }
   ],
   "source": [
    "print cust_end_products_dict[15889]"
   ]
  },
  {
   "cell_type": "code",
   "execution_count": 15,
   "metadata": {
    "collapsed": false
   },
   "outputs": [
    {
     "name": "stdout",
     "output_type": "stream",
     "text": [
      "929615\n",
      "189\n"
     ]
    }
   ],
   "source": [
    "Eout_dict_read = open('./output/TheLastFourRecord_pred_Dec12.eout', 'r')  \n",
    "id_2_prod_dict = dict()\n",
    "\n",
    "for line in Eout_dict_read:\n",
    "    line = line.strip()\n",
    "    \n",
    "    if len(line.split('|')) != 2:\n",
    "       print 'error_line:'+line\n",
    "    else:\n",
    "       cust_id  = int(line.split('|')[0])\n",
    "       products = line.split('|')[1]\n",
    "        \n",
    "       id_2_prod_dict[cust_id] = products \n",
    "\n",
    "    \n",
    "sample_submission_read = open('./output/sample_submission.csv', 'r')\n",
    "\n",
    "head_line = 'ncodpers,added_products' + '\\n'\n",
    "submission_write = open('./output/submission_Dec12-5_m18.csv', 'w')  \n",
    "submission_write.write(head_line)\n",
    "\n",
    "check_line_count = 0\n",
    "\n",
    "duplicated_items_count = 0\n",
    "#for i in range(0,10000):    \n",
    "    #line = sample_submission_read.readline().strip()\n",
    "    \n",
    "for line in sample_submission_read:\n",
    "    line = line.strip()    \n",
    "    \n",
    "    if 'ncodpers' not in line:\n",
    "    \n",
    "        cust_id  = int(line.split(',')[0])\n",
    "\n",
    "        prt_line = str(cust_id) + ','\n",
    "        \n",
    "        pruned_line = False\n",
    "        \n",
    "        added_items_count = 0\n",
    "\n",
    "        if cust_id in id_2_prod_dict:\n",
    "            \n",
    "           \n",
    "           #print cust_end_products_dict[cust_id]\n",
    "           #print 'predict:'+ str(id_2_prod_dict[cust_id])  \n",
    "           \n",
    "           for prod_name_item in id_2_prod_dict[cust_id].split(' '):\n",
    "            \n",
    "               \n",
    "               if cust_id in cust_end_products_dict:\n",
    "                   if prod_name_item not in cust_end_products_dict[cust_id]:\n",
    "                        \n",
    "                         if added_items_count < 7:\n",
    "                            \n",
    "                            prt_line += prod_name_item + ' '\n",
    "                        \n",
    "                            added_items_count += 1\n",
    "\n",
    "                            pruned_line = True\n",
    "\n",
    "                   else: \n",
    "\n",
    "                     #print '->' + prod_name_item    \n",
    "\n",
    "                        duplicated_items_count += 1\n",
    "\n",
    "        check_line_count += 1\n",
    "        \n",
    "        if pruned_line:\n",
    "           submission_write.write(prt_line[:-1]+'\\n')\n",
    "        else:\n",
    "           submission_write.write(prt_line+'\\n')  \n",
    "\n",
    "print check_line_count \n",
    "print duplicated_items_count\n",
    "    \n",
    "submission_write.close() \n",
    "sample_submission_read.close() \n",
    "Eout_dict_read.close() "
   ]
  },
  {
   "cell_type": "code",
   "execution_count": 4,
   "metadata": {
    "collapsed": false
   },
   "outputs": [
    {
     "name": "stdout",
     "output_type": "stream",
     "text": [
      "TP = 8728\n",
      "FP = 4856\n",
      "TN = 224378\n",
      "FN = 2571\n",
      "precison = 0.64\n",
      "recall = 0.77\n",
      "accuracy = 0.97\n"
     ]
    }
   ],
   "source": []
  },
  {
   "cell_type": "code",
   "execution_count": null,
   "metadata": {
    "collapsed": true
   },
   "outputs": [],
   "source": []
  }
 ],
 "metadata": {
  "kernelspec": {
   "display_name": "Python 2",
   "language": "python",
   "name": "python2"
  },
  "language_info": {
   "codemirror_mode": {
    "name": "ipython",
    "version": 2
   },
   "file_extension": ".py",
   "mimetype": "text/x-python",
   "name": "python",
   "nbconvert_exporter": "python",
   "pygments_lexer": "ipython2",
   "version": "2.7.5"
  }
 },
 "nbformat": 4,
 "nbformat_minor": 0
}
