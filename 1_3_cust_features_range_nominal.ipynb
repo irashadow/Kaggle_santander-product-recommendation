{
 "cells": [
  {
   "cell_type": "code",
   "execution_count": 1,
   "metadata": {
    "collapsed": false
   },
   "outputs": [
    {
     "name": "stderr",
     "output_type": "stream",
     "text": [
      "/home/irashadow/env_TensorFlow/lib/python2.7/site-packages/ipykernel/__main__.py:7: DeprecationWarning: the sets module is deprecated\n"
     ]
    }
   ],
   "source": [
    "import os\n",
    "import csv\n",
    "import sys\n",
    "import random\n",
    "import scipy\n",
    "import numpy as np\n",
    "from sets import Set\n",
    "\n",
    "\n",
    "workspace_path = '/home/irashadow/python_workspace/Kaggle_Comp/Santander/'\n"
   ]
  },
  {
   "cell_type": "code",
   "execution_count": 6,
   "metadata": {
    "collapsed": false
   },
   "outputs": [
    {
     "name": "stdout",
     "output_type": "stream",
     "text": [
      "\"fecha_dato\",\"ncodpers\",\"ind_empleado\",\"pais_residencia\",\"sexo\",\"age\",\"fecha_alta\",\"ind_nuevo\",\"antiguedad\",\"indrel\",\"ult_fec_cli_1t\",\"indrel_1mes\",\"tiprel_1mes\",\"indresi\",\"indext\",\"conyuemp\",\"canal_entrada\",\"indfall\",\"tipodom\",\"cod_prov\",\"nomprov\",\"ind_actividad_cliente\",\"renta\",\"segmento\",\"ind_ahor_fin_ult1\",\"ind_aval_fin_ult1\",\"ind_cco_fin_ult1\",\"ind_cder_fin_ult1\",\"ind_cno_fin_ult1\",\"ind_ctju_fin_ult1\",\"ind_ctma_fin_ult1\",\"ind_ctop_fin_ult1\",\"ind_ctpp_fin_ult1\",\"ind_deco_fin_ult1\",\"ind_deme_fin_ult1\",\"ind_dela_fin_ult1\",\"ind_ecue_fin_ult1\",\"ind_fond_fin_ult1\",\"ind_hip_fin_ult1\",\"ind_plan_fin_ult1\",\"ind_pres_fin_ult1\",\"ind_reca_fin_ult1\",\"ind_tjcr_fin_ult1\",\"ind_valo_fin_ult1\",\"ind_viv_fin_ult1\",\"ind_nomina_ult1\",\"ind_nom_pens_ult1\",\"ind_recibo_ult1\"\n",
      "13647309\n",
      "0\n"
     ]
    }
   ],
   "source": [
    "data_train = open(workspace_path + 'input/train_ver2.csv')\n",
    "headline = data_train.readline().strip()\n",
    "print headline\n",
    "\n",
    "line_count = 0\n",
    "line_skip = 0\n",
    "\n",
    "cust_feat_dict_tr = dict()\n",
    "\n",
    "#holdon for featurs:f5, f8, f22(f23 in feat_inx_2)\n",
    "feat_inx_1 = [2,3,4,7,9,11,12,13,14,15,16,17,18,19,20,21,23]\n",
    "\n",
    "feat_inx_2 = [2,3,4,7,9,11,12,13,14,15,16,17,18,19,20,22,24]\n",
    "\n",
    "#for i in range(0,100000):\n",
    "    #line = data_train.readline().strip().split(',')\n",
    "\n",
    "for line in data_train:\n",
    "    line = line.strip().split(',')\n",
    "\n",
    "    line_count += 1    \n",
    "    \n",
    "    if len(line) == 48:\n",
    "\n",
    "        cust_id = int(line[1])\n",
    "\n",
    "        fecha_dato = line[0]\n",
    "\n",
    "        for feat_inx in feat_inx_1:\n",
    "            \n",
    "            line_item = line[feat_inx].replace(' ','')\n",
    "            \n",
    "            if feat_inx == 11:\n",
    "               line_item = line[feat_inx].replace('.0','')\n",
    "            \n",
    "            \n",
    "            if feat_inx not in cust_feat_dict_tr:\n",
    "                \n",
    "               cust_feat_dict_tr[feat_inx] = Set([line_item])\n",
    "            \n",
    "            else:\n",
    "            \n",
    "               cust_feat_dict_tr[feat_inx].add(line_item) \n",
    "                \n",
    "               #if feat_inx == 21 and line_item == 'NA':    \n",
    "                  #print 'f'+str(feat_inx) + '|' + line_item\n",
    "           \n",
    "                   \n",
    "         \n",
    "    else:\n",
    "        \n",
    "        cust_id = int(line[1])\n",
    "\n",
    "        fecha_dato = line[0]\n",
    "\n",
    "        for feat_inx in feat_inx_2:\n",
    "            \n",
    "            line_item = line[feat_inx].replace(' ','')\n",
    "            \n",
    "            if feat_inx == 11:\n",
    "               line_item = line[feat_inx].replace('.0','')\n",
    "            \n",
    "            if feat_inx == 20:\n",
    "                \n",
    "                line_item = line[20] + '_' + line[21]\n",
    "            \n",
    "            if feat_inx < 21: \n",
    "               cust_feat_dict_tr[feat_inx].add(line_item) \n",
    "            elif feat_inx > 21:  \n",
    "               cust_feat_dict_tr[feat_inx-1].add(line_item) \n",
    "\n",
    "\n",
    "        \n",
    "    \n",
    "print(line_count)  \n",
    "print(line_skip)  \n",
    "                "
   ]
  },
  {
   "cell_type": "code",
   "execution_count": 7,
   "metadata": {
    "collapsed": false
   },
   "outputs": [
    {
     "name": "stdout",
     "output_type": "stream",
     "text": [
      "Set(['1', '0', 'NA'])\n"
     ]
    }
   ],
   "source": [
    "print cust_feat_dict_tr[21]\n",
    "\n"
   ]
  },
  {
   "cell_type": "code",
   "execution_count": 8,
   "metadata": {
    "collapsed": true
   },
   "outputs": [],
   "source": [
    "#print cust_feat_dict_tr\n",
    "dict_write = open(workspace_path + '/dict/cust_feat_range.csv', 'w')\n",
    "\n",
    "for item in cust_feat_dict_tr:\n",
    "    \n",
    "    print_line = 'f'+str(item) + ':' \n",
    "    \n",
    "    for item_sub in cust_feat_dict_tr[item]:\n",
    "        \n",
    "        print_line += item_sub + ','\n",
    "    \n",
    "    #print>>dict_write, print_line[:-1]\n",
    "    \n",
    "    dict_write.write(print_line[:-1] + '\\n')\n",
    " \n",
    "dict_write.close()"
   ]
  },
  {
   "cell_type": "code",
   "execution_count": 9,
   "metadata": {
    "collapsed": true
   },
   "outputs": [],
   "source": [
    "dict_read = open(workspace_path + '/dict/cust_feat_range.csv', 'r')\n",
    "\n",
    "fitems2index_write = open(workspace_path + '/dict/fitems2index.txt', 'w')\n",
    "\n",
    "features_index = 1\n",
    "\n",
    "fitems_to_index_dict = dict()\n",
    "\n",
    "index_to_fitems_dict = dict()\n",
    "\n",
    "for line in dict_read:\n",
    "    \n",
    "    line = line.strip()\n",
    "    \n",
    "    feature_id = line.split(':')[0]\n",
    "    feature_items = line.split(':')[1]\n",
    "    \n",
    "    if feature_id not in fitems_to_index_dict:\n",
    "        \n",
    "       fitems_to_index_dict[feature_id] = dict()\n",
    "    \n",
    "    for item in feature_items.split(','):\n",
    "        \n",
    "        fitems_to_index_dict[feature_id][item] = features_index\n",
    "        index_to_fitems_dict[features_index] = feature_id + '|' + item\n",
    "        \n",
    "        prt_line = str(features_index) + '|' + feature_id + '|' + item + '\\n'\n",
    "        fitems2index_write.write(prt_line)\n",
    "        \n",
    "        \n",
    "        features_index += 1\n",
    "    \n",
    "    \n",
    " \n",
    "dict_read.close()\n",
    "fitems2index_write.close()"
   ]
  },
  {
   "cell_type": "code",
   "execution_count": 10,
   "metadata": {
    "collapsed": false
   },
   "outputs": [
    {
     "name": "stdout",
     "output_type": "stream",
     "text": [
      "437\n",
      "{1: 'f2|', 2: 'f2|A', 3: 'f2|B', 4: 'f2|F', 5: 'f2|N', 6: 'f2|S', 7: 'f3|', 8: 'f3|BE', 9: 'f3|BG', 10: 'f3|BA', 11: 'f3|BM', 12: 'f3|BO', 13: 'f3|JP', 14: 'f3|JM', 15: 'f3|BR', 16: 'f3|BY', 17: 'f3|BZ', 18: 'f3|RU', 19: 'f3|RS', 20: 'f3|RO', 21: 'f3|GW', 22: 'f3|GT', 23: 'f3|GR', 24: 'f3|GQ', 25: 'f3|GE', 26: 'f3|GB', 27: 'f3|GA', 28: 'f3|GN', 29: 'f3|GM', 30: 'f3|GI', 31: 'f3|GH', 32: 'f3|OM', 33: 'f3|HR', 34: 'f3|HU', 35: 'f3|HK', 36: 'f3|HN', 37: 'f3|AD', 38: 'f3|PR', 39: 'f3|PT', 40: 'f3|PY', 41: 'f3|PA', 42: 'f3|PE', 43: 'f3|PK', 44: 'f3|PH', 45: 'f3|PL', 46: 'f3|EE', 47: 'f3|EG', 48: 'f3|ZA', 49: 'f3|EC', 50: 'f3|AL', 51: 'f3|VN', 52: 'f3|ET', 53: 'f3|ZW', 54: 'f3|ES', 55: 'f3|MD', 56: 'f3|UY', 57: 'f3|MM', 58: 'f3|ML', 59: 'f3|US', 60: 'f3|MT', 61: 'f3|MR', 62: 'f3|UA', 63: 'f3|MX', 64: 'f3|IL', 65: 'f3|FR', 66: 'f3|MA', 67: 'f3|FI', 68: 'f3|NI', 69: 'f3|NL', 70: 'f3|NO', 71: 'f3|NG', 72: 'f3|NZ', 73: 'f3|CI', 74: 'f3|CH', 75: 'f3|CO', 76: 'f3|CN', 77: 'f3|CM', 78: 'f3|CL', 79: 'f3|CA', 80: 'f3|CG', 81: 'f3|CF', 82: 'f3|CD', 83: 'f3|CZ', 84: 'f3|CR', 85: 'f3|CU', 86: 'f3|KE', 87: 'f3|KH', 88: 'f3|SV', 89: 'f3|SK', 90: 'f3|KR', 91: 'f3|KW', 92: 'f3|SN', 93: 'f3|SL', 94: 'f3|KZ', 95: 'f3|SA', 96: 'f3|SG', 97: 'f3|SE', 98: 'f3|DO', 99: 'f3|DJ', 100: 'f3|DK', 101: 'f3|DE', 102: 'f3|DZ', 103: 'f3|MK', 104: 'f3|LV', 105: 'f3|LB', 106: 'f3|TW', 107: 'f3|TR', 108: 'f3|TN', 109: 'f3|LT', 110: 'f3|LU', 111: 'f3|TH', 112: 'f3|TG', 113: 'f3|LY', 114: 'f3|AE', 115: 'f3|VE', 116: 'f3|IS', 117: 'f3|IT', 118: 'f3|AO', 119: 'f3|AR', 120: 'f3|AU', 121: 'f3|AT', 122: 'f3|IN', 123: 'f3|IE', 124: 'f3|QA', 125: 'f3|MZ', 126: 'f4|', 127: 'f4|H', 128: 'f4|V', 129: 'f7|1', 130: 'f7|0', 131: 'f7|NA', 132: 'f9|1', 133: 'f9|NA', 134: 'f9|99', 135: 'f11|', 136: 'f11|1', 137: 'f11|P', 138: 'f11|3', 139: 'f11|2', 140: 'f11|4', 141: 'f12|A', 142: 'f12|', 143: 'f12|I', 144: 'f12|N', 145: 'f12|P', 146: 'f12|R', 147: 'f13|', 148: 'f13|S', 149: 'f13|N', 150: 'f14|', 151: 'f14|S', 152: 'f14|N', 153: 'f15|', 154: 'f15|S', 155: 'f15|N', 156: 'f16|', 157: 'f16|013', 158: 'f16|KHP', 159: 'f16|KHQ', 160: 'f16|KHR', 161: 'f16|KHS', 162: 'f16|KHK', 163: 'f16|KHL', 164: 'f16|KHM', 165: 'f16|KHN', 166: 'f16|KHO', 167: 'f16|KHA', 168: 'f16|KHC', 169: 'f16|KHD', 170: 'f16|KHE', 171: 'f16|KHF', 172: 'f16|025', 173: 'f16|KAC', 174: 'f16|KAB', 175: 'f16|KAA', 176: 'f16|KAG', 177: 'f16|KAF', 178: 'f16|KAE', 179: 'f16|KAD', 180: 'f16|KAK', 181: 'f16|KAJ', 182: 'f16|KAI', 183: 'f16|KAH', 184: 'f16|KAO', 185: 'f16|KAN', 186: 'f16|KAM', 187: 'f16|KAL', 188: 'f16|KAS', 189: 'f16|KAR', 190: 'f16|KAQ', 191: 'f16|KAP', 192: 'f16|KAW', 193: 'f16|KAV', 194: 'f16|KAU', 195: 'f16|KAT', 196: 'f16|KAZ', 197: 'f16|KAY', 198: 'f16|KBJ', 199: 'f16|KBH', 200: 'f16|KBN', 201: 'f16|KBO', 202: 'f16|KBL', 203: 'f16|KBM', 204: 'f16|KBB', 205: 'f16|KBF', 206: 'f16|KBG', 207: 'f16|KBD', 208: 'f16|KBE', 209: 'f16|KBZ', 210: 'f16|KBX', 211: 'f16|KBY', 212: 'f16|KBR', 213: 'f16|KBS', 214: 'f16|KBP', 215: 'f16|KBQ', 216: 'f16|KBV', 217: 'f16|KBW', 218: 'f16|KBU', 219: 'f16|KCE', 220: 'f16|KCD', 221: 'f16|KCG', 222: 'f16|KCF', 223: 'f16|KCA', 224: 'f16|KCC', 225: 'f16|KCB', 226: 'f16|KCM', 227: 'f16|KCL', 228: 'f16|KCO', 229: 'f16|KCN', 230: 'f16|KCI', 231: 'f16|KCH', 232: 'f16|KCK', 233: 'f16|KCJ', 234: 'f16|KCU', 235: 'f16|KCT', 236: 'f16|KCV', 237: 'f16|KCQ', 238: 'f16|KCP', 239: 'f16|KCS', 240: 'f16|KCR', 241: 'f16|KCX', 242: 'f16|RED', 243: 'f16|KDL', 244: 'f16|KDM', 245: 'f16|KDN', 246: 'f16|KDO', 247: 'f16|KDH', 248: 'f16|KDI', 249: 'f16|KDD', 250: 'f16|KDE', 251: 'f16|KDF', 252: 'f16|KDG', 253: 'f16|KDA', 254: 'f16|KDB', 255: 'f16|KDC', 256: 'f16|KDX', 257: 'f16|KDY', 258: 'f16|KDZ', 259: 'f16|KDT', 260: 'f16|KDU', 261: 'f16|KDV', 262: 'f16|KDW', 263: 'f16|KDP', 264: 'f16|KDQ', 265: 'f16|KDR', 266: 'f16|KDS', 267: 'f16|K00', 268: 'f16|KEO', 269: 'f16|KEN', 270: 'f16|KEM', 271: 'f16|KEL', 272: 'f16|KEK', 273: 'f16|KEJ', 274: 'f16|KEI', 275: 'f16|KEH', 276: 'f16|KEG', 277: 'f16|KEF', 278: 'f16|KEE', 279: 'f16|KED', 280: 'f16|KEC', 281: 'f16|KEB', 282: 'f16|KEA', 283: 'f16|KEZ', 284: 'f16|KEY', 285: 'f16|KEW', 286: 'f16|KEV', 287: 'f16|KEU', 288: 'f16|KES', 289: 'f16|KEQ', 290: 'f16|KFV', 291: 'f16|KFT', 292: 'f16|KFU', 293: 'f16|KFR', 294: 'f16|KFS', 295: 'f16|KFP', 296: 'f16|KFF', 297: 'f16|KFG', 298: 'f16|KFD', 299: 'f16|KFE', 300: 'f16|KFB', 301: 'f16|KFC', 302: 'f16|KFA', 303: 'f16|KFN', 304: 'f16|KFL', 305: 'f16|KFM', 306: 'f16|KFJ', 307: 'f16|KFK', 308: 'f16|KFH', 309: 'f16|KFI', 310: 'f16|007', 311: 'f16|004', 312: 'f16|KGU', 313: 'f16|KGW', 314: 'f16|KGV', 315: 'f16|KGY', 316: 'f16|KGX', 317: 'f16|KGC', 318: 'f16|KGN', 319: 'f17|', 320: 'f17|S', 321: 'f17|N', 322: 'f18|1', 323: 'f18|NA', 324: 'f19|30', 325: 'f19|42', 326: 'f19|36', 327: 'f19|52', 328: 'f19|24', 329: 'f19|25', 330: 'f19|26', 331: 'f19|27', 332: 'f19|20', 333: 'f19|21', 334: 'f19|22', 335: 'f19|49', 336: 'f19|46', 337: 'f19|47', 338: 'f19|44', 339: 'f19|45', 340: 'f19|28', 341: 'f19|29', 342: 'f19|40', 343: 'f19|41', 344: 'f19|1', 345: 'f19|3', 346: 'f19|2', 347: 'f19|5', 348: 'f19|4', 349: 'f19|7', 350: 'f19|6', 351: 'f19|9', 352: 'f19|8', 353: 'f19|18', 354: 'f19|51', 355: 'f19|43', 356: 'f19|39', 357: 'f19|38', 358: 'f19|14', 359: 'f19|11', 360: 'f19|10', 361: 'f19|13', 362: 'f19|12', 363: 'f19|15', 364: 'f19|48', 365: 'f19|17', 366: 'f19|16', 367: 'f19|19', 368: 'f19|32', 369: 'f19|31', 370: 'f19|23', 371: 'f19|37', 372: 'f19|50', 373: 'f19|35', 374: 'f19|34', 375: 'f19|33', 376: 'f19|NA', 377: 'f20|\"PONTEVEDRA\"', 378: 'f20|\"MALAGA\"', 379: 'f20|\"CORDOBA\"', 380: 'f20|\"TARRAGONA\"', 381: 'f20|\"SEGOVIA\"', 382: 'f20|\"CUENCA\"', 383: 'f20|\"ASTURIAS\"', 384: 'f20|\"SEVILLA\"', 385: 'f20|\"GIRONA\"', 386: 'f20|\"MURCIA\"', 387: 'f20|\"BARCELONA\"', 388: 'f20|\"JAEN\"', 389: 'f20|\"BIZKAIA\"', 390: 'f20|\"PALENCIA\"', 391: 'f20|\"OURENSE\"', 392: 'f20|\"VALLADOLID\"', 393: 'f20|\"TERUEL\"', 394: 'f20|\"MELILLA\"', 395: 'f20|\"CACERES\"', 396: 'f20|\"AVILA\"', 397: 'f20|\"HUELVA\"', 398: 'f20|\"LERIDA\"', 399: 'f20|\"ALBACETE\"', 400: 'f20|\"SANTACRUZDETENERIFE\"', 401: 'f20|\"BALEARS_ ILLES\"', 402: 'f20|\"GRANADA\"', 403: 'f20|\"NAVARRA\"', 404: 'f20|\"SORIA\"', 405: 'f20|\"VALENCIA\"', 406: 'f20|\"\"', 407: 'f20|\"RIOJA_ LA\"', 408: 'f20|\"HUESCA\"', 409: 'f20|\"BADAJOZ\"', 410: 'f20|\"SALAMANCA\"', 411: 'f20|\"TOLEDO\"', 412: 'f20|\"ZAMORA\"', 413: 'f20|\"ZARAGOZA\"', 414: 'f20|\"CORU\\xc3\\x91A_ A\"', 415: 'f20|\"GUADALAJARA\"', 416: 'f20|\"ALICANTE\"', 417: 'f20|\"MADRID\"', 418: 'f20|\"CEUTA\"', 419: 'f20|\"ALAVA\"', 420: 'f20|\"CASTELLON\"', 421: 'f20|\"ALMERIA\"', 422: 'f20|\"CIUDADREAL\"', 423: 'f20|\"CANTABRIA\"', 424: 'f20|\"GIPUZKOA\"', 425: 'f20|\"PALMAS_ LAS\"', 426: 'f20|\"LUGO\"', 427: 'f20|\"LEON\"', 428: 'f20|\"CADIZ\"', 429: 'f20|\"BURGOS\"', 430: 'f21|1', 431: 'f21|0', 432: 'f21|NA', 433: 'f23|', 434: 'f23|01-TOP', 435: 'f23|02-PARTICULARES', 436: 'f23|03-UNIVERSITARIO'}\n"
     ]
    }
   ],
   "source": [
    "print features_index\n",
    "\n",
    "print index_to_fitems_dict\n"
   ]
  },
  {
   "cell_type": "code",
   "execution_count": null,
   "metadata": {
    "collapsed": true
   },
   "outputs": [],
   "source": [
    "data_train = open(workspace_path + 'input/train_ver2.csv')\n",
    "headline = data_train.readline().strip()\n",
    "print headline\n",
    "\n",
    "line_count = 0\n",
    "line_skip = 0\n",
    "\n",
    "cust_feat_dict_tr = dict()\n",
    "\n",
    "#holdon for featurs:f5, f8, f22(f23 in feat_inx_2)\n",
    "feat_inx_1 = [5,8,10,22]\n",
    "\n",
    "feat_inx_2 = [5,8,10,23]\n",
    "\n",
    "#for i in range(0,100000):\n",
    "    #line = data_train.readline().strip().split(',')\n",
    "\n",
    "for line in data_train:\n",
    "    line = line.strip().split(',')\n",
    "\n",
    "    line_count += 1    \n",
    "    \n",
    "    if len(line) == 48:\n",
    "\n",
    "        cust_id = int(line[1])\n",
    "\n",
    "        fecha_dato = line[0]\n",
    "\n",
    "        for feat_inx in feat_inx_1:\n",
    "            \n",
    "            line_item = line[feat_inx].replace(' ','')\n",
    "            \n",
    "            if feat_inx == 10:\n",
    "               line_item = line[feat_inx][:-3] \n",
    "            \n",
    "            \n",
    "            if feat_inx not in cust_feat_dict_tr:\n",
    "                \n",
    "               cust_feat_dict_tr[feat_inx] = [line_item]\n",
    "            \n",
    "            else:\n",
    "            \n",
    "               cust_feat_dict_tr[feat_inx].append(line_item) \n",
    "                \n",
    "               #if feat_inx == 21 and line_item == 'NA':    \n",
    "                  #print 'f'+str(feat_inx) + '|' + line_item\n",
    "           \n",
    "                   \n",
    "         \n",
    "    else:\n",
    "        \n",
    "        cust_id = int(line[1])\n",
    "\n",
    "        fecha_dato = line[0]\n",
    "\n",
    "        for feat_inx in feat_inx_2:\n",
    "            \n",
    "            line_item = line[feat_inx].replace(' ','')\n",
    "            \n",
    "            if feat_inx == 10:\n",
    "               line_item = line[feat_inx][:-3] \n",
    "            \n",
    "            if feat_inx == 20:\n",
    "                \n",
    "                line_item = line[20] + '_' + line[21]\n",
    "            \n",
    "            if feat_inx < 21: \n",
    "               cust_feat_dict_tr[feat_inx].append(line_item) \n",
    "            elif feat_inx > 21:  \n",
    "               cust_feat_dict_tr[feat_inx-1].append(line_item) \n",
    "\n",
    "\n",
    "        \n",
    "    \n",
    "print(line_count)  \n",
    "print(line_skip) \n"
   ]
  }
 ],
 "metadata": {
  "kernelspec": {
   "display_name": "Python 2",
   "language": "python",
   "name": "python2"
  },
  "language_info": {
   "codemirror_mode": {
    "name": "ipython",
    "version": 2
   },
   "file_extension": ".py",
   "mimetype": "text/x-python",
   "name": "python",
   "nbconvert_exporter": "python",
   "pygments_lexer": "ipython2",
   "version": "2.7.5"
  }
 },
 "nbformat": 4,
 "nbformat_minor": 0
}
