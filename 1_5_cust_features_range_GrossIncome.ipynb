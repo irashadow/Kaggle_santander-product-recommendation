{
 "cells": [
  {
   "cell_type": "code",
   "execution_count": 1,
   "metadata": {
    "collapsed": false
   },
   "outputs": [
    {
     "name": "stderr",
     "output_type": "stream",
     "text": [
      "/home/irashadow/env_TensorFlow/lib/python2.7/site-packages/ipykernel/__main__.py:7: DeprecationWarning: the sets module is deprecated\n"
     ]
    }
   ],
   "source": [
    "import os\n",
    "import csv\n",
    "import sys\n",
    "import random\n",
    "import scipy\n",
    "import numpy as np\n",
    "from sets import Set\n",
    "import math\n",
    "\n",
    "workspace_path = '/home/irashadow/python_workspace/Kaggle_Comp/Santander/'"
   ]
  },
  {
   "cell_type": "code",
   "execution_count": 2,
   "metadata": {
    "collapsed": false
   },
   "outputs": [],
   "source": [
    "def isfloat(value):\n",
    "  try:\n",
    "    float(value)\n",
    "    return True\n",
    "  except ValueError:\n",
    "    return False"
   ]
  },
  {
   "cell_type": "code",
   "execution_count": 3,
   "metadata": {
    "collapsed": false
   },
   "outputs": [
    {
     "name": "stdout",
     "output_type": "stream",
     "text": [
      "14576924\n",
      "0\n"
     ]
    }
   ],
   "source": [
    "data_train = open(workspace_path + 'input/train_ver2.csv')\n",
    "test_train = open(workspace_path + 'input/test_ver2.csv')\n",
    "\n",
    "input_data = [data_train]\n",
    "input_data.append(test_train)\n",
    "\n",
    "\n",
    "#print headline\n",
    "\n",
    "line_count = 0\n",
    "line_skip = 0\n",
    "\n",
    "cust_grossincome_dict = dict()\n",
    "cust_grossincome_encode_dict = dict()\n",
    "\n",
    "#holdon for featurs:f5, f8, f22(f23 in feat_inx_2)\n",
    "feat_inx_1 = [22]\n",
    "\n",
    "feat_inx_2 = [23]\n",
    "\n",
    "#for i in range(0,100000):\n",
    "    #line = data_train.readline().strip().split(',')\n",
    "for data_file in input_data:\n",
    "    \n",
    "    headline = data_file.readline().strip()\n",
    "    \n",
    "    for line in data_file:\n",
    "        line = line.strip().split(',')\n",
    "\n",
    "        line_count += 1    \n",
    "\n",
    "        if len(line) == 48:\n",
    "\n",
    "            cust_id = int(line[1])\n",
    "\n",
    "            if cust_id not in cust_grossincome_dict:\n",
    "               cust_grossincome_dict[cust_id] = dict() \n",
    "               cust_grossincome_encode_dict[cust_id] = dict() \n",
    "\n",
    "            fecha_dato = line[0][:-3]\n",
    "\n",
    "            for feat_inx in feat_inx_1:\n",
    "\n",
    "                line_item = line[feat_inx].replace(' ','')\n",
    "\n",
    "                if isfloat(line_item):\n",
    "\n",
    "                    if feat_inx == 22:\n",
    "                       item_encode = int(math.log(float(line_item),10))\n",
    "                       cust_grossincome_dict[cust_id][fecha_dato] = float(line_item) \n",
    "                       cust_grossincome_encode_dict[cust_id][fecha_dato] = item_encode                     \n",
    "        else:\n",
    "\n",
    "            cust_id = int(line[1])\n",
    "            if cust_id not in cust_grossincome_dict:\n",
    "               cust_grossincome_dict[cust_id] = dict() \n",
    "               cust_grossincome_encode_dict[cust_id] = dict() \n",
    "            \n",
    "            fecha_dato = line[0][:-3]\n",
    "            for feat_inx in feat_inx_2:\n",
    "\n",
    "                line_item = line[feat_inx].replace(' ','')\n",
    "\n",
    "                if isfloat(line_item):\n",
    "\n",
    "                    if feat_inx == 23:\n",
    "                       item_encode = int(math.log(float(line_item),10))\n",
    "                       cust_grossincome_dict[cust_id][fecha_dato] = float(line_item) \n",
    "                       cust_grossincome_encode_dict[cust_id][fecha_dato] = item_encode \n",
    "\n",
    "\n",
    "print(line_count)  \n",
    "print(line_skip) "
   ]
  },
  {
   "cell_type": "code",
   "execution_count": 5,
   "metadata": {
    "collapsed": false
   },
   "outputs": [],
   "source": [
    "\n",
    "for cust_id in cust_grossincome_dict.keys():\n",
    "    \n",
    "    income_items_get = []\n",
    "    \n",
    "    #print cust_id\n",
    "    \n",
    "    for date_item in cust_grossincome_dict[cust_id]:\n",
    "    \n",
    "        income_items_get.append(cust_grossincome_dict[cust_id][date_item])\n",
    "        \n",
    "    #if len(income_items_get) > 0:    \n",
    "        \n",
    "       #if max(income_items_get) != min(income_items_get):\n",
    "        \n",
    "          #print cust_grossincome_dict[cust_id] \n"
   ]
  },
  {
   "cell_type": "code",
   "execution_count": 63,
   "metadata": {
    "collapsed": false
   },
   "outputs": [],
   "source": [
    "#print cust_feat_dict_tr\n",
    "dict_write = open(workspace_path + '/dict/cust_feat_range_real.csv', 'w')\n",
    "\n",
    "for item in cust_feat_dict_tr:\n",
    "    \n",
    "    print_line = 'f'+str(item) + ':' \n",
    "    \n",
    "    for item_sub in cust_feat_dict_tr[item]:\n",
    "        \n",
    "        print_line += str(item_sub) + ','\n",
    "    \n",
    "    #print>>dict_write, print_line[:-1]\n",
    "    \n",
    "    dict_write.write(print_line[:-1] + '\\n')\n",
    " \n",
    "dict_write.close()\n"
   ]
  },
  {
   "cell_type": "code",
   "execution_count": 65,
   "metadata": {
    "collapsed": false
   },
   "outputs": [],
   "source": [
    "dict_read = open(workspace_path + '/dict/cust_feat_range_real.csv', 'r')\n",
    "\n",
    "fitems2index_write = open(workspace_path + '/dict/fitems2index_real.txt', 'w')\n",
    "\n",
    "features_index = 1\n",
    "\n",
    "fitems_to_index_dict = dict()\n",
    "\n",
    "index_to_fitems_dict = dict()\n",
    "\n",
    "for line in dict_read:\n",
    "    \n",
    "    line = line.strip()\n",
    "    \n",
    "    feature_id = line.split(':')[0]\n",
    "    feature_items = line.split(':')[1]\n",
    "    \n",
    "    if feature_id not in fitems_to_index_dict:\n",
    "        \n",
    "       fitems_to_index_dict[feature_id] = dict()\n",
    "    \n",
    "    for item in feature_items.split(','):\n",
    "        \n",
    "        fitems_to_index_dict[feature_id][item] = features_index\n",
    "        index_to_fitems_dict[features_index] = feature_id + '|' + item\n",
    "        \n",
    "        prt_line = str(features_index) + '|' + feature_id + '|' + item + '\\n'\n",
    "        fitems2index_write.write(prt_line)\n",
    "        \n",
    "        \n",
    "        features_index += 1\n",
    "    \n",
    "    \n",
    " \n",
    "dict_read.close()\n",
    "fitems2index_write.close()"
   ]
  },
  {
   "cell_type": "code",
   "execution_count": 27,
   "metadata": {
    "collapsed": false
   },
   "outputs": [
    {
     "data": {
      "text/plain": [
       "29"
      ]
     },
     "execution_count": 27,
     "metadata": {},
     "output_type": "execute_result"
    }
   ],
   "source": [
    "import math\n",
    "\n",
    "int(math.sqrt(87218.1)/2)"
   ]
  },
  {
   "cell_type": "code",
   "execution_count": 28,
   "metadata": {
    "collapsed": false
   },
   "outputs": [
    {
     "name": "stdout",
     "output_type": "stream",
     "text": [
      "['6', '35', '35', '35', '35', '35', '35', '35', '35', '35', '35', '35', '35', '35', '35', '35', '35', '35', '35', '35', '35', '35', '35', '35', '35', '35', '35', '35', '35', '35', '35', '35', '35', '35', '35', '35', '35', '35', '35', '35', '35', '35', '35', '35', '35', '35', '35', '35', '35', '35', '35', '35', '35', '35', '35', '35', '35', '35', '35', '35', '35', '35', '35', '35', '35', '35', '35', '35', '35', '35', '35', '35', '35', '35', '35', '35', '35', '35', '35', '35', '35', '35', '35', '35', '35', '35', '35', '35', '35', '35', '35', '35', '35', '35', '35', '35', '35', '35', '35', '35']\n"
     ]
    }
   ],
   "source": [
    "print cust_feat_dict_tr[8][:100]"
   ]
  },
  {
   "cell_type": "code",
   "execution_count": 29,
   "metadata": {
    "collapsed": false
   },
   "outputs": [
    {
     "name": "stdout",
     "output_type": "stream",
     "text": [
      "['', '', '', '', '', '', '', '', '', '', '', '', '', '', '', '', '', '', '', '', '', '', '', '', '', '', '', '', '', '', '', '', '', '', '', '', '', '', '', '', '', '', '', '', '', '', '', '', '', '', '', '', '', '', '', '', '', '', '', '', '', '', '', '', '', '', '', '', '', '', '', '', '', '', '', '', '', '', '', '', '', '', '', '', '', '', '', '', '', '', '', '', '', '', '', '', '', '', '', '']\n"
     ]
    }
   ],
   "source": [
    "print cust_feat_dict_tr[10][:100]"
   ]
  },
  {
   "cell_type": "code",
   "execution_count": null,
   "metadata": {
    "collapsed": true
   },
   "outputs": [],
   "source": []
  }
 ],
 "metadata": {
  "kernelspec": {
   "display_name": "Python 2",
   "language": "python",
   "name": "python2"
  },
  "language_info": {
   "codemirror_mode": {
    "name": "ipython",
    "version": 2
   },
   "file_extension": ".py",
   "mimetype": "text/x-python",
   "name": "python",
   "nbconvert_exporter": "python",
   "pygments_lexer": "ipython2",
   "version": "2.7.5"
  }
 },
 "nbformat": 4,
 "nbformat_minor": 0
}
